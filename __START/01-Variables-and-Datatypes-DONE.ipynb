{
 "cells": [
  {
   "cell_type": "markdown",
   "metadata": {
    "id": "q6rvPpBw_Qb-"
   },
   "source": [
    "# **Variable**:\n",
    "a named holder of a *value*\n",
    "### **Datatype**:\n",
    "variables come in different datatypes:\n",
    "- str: string is text in quotes\n",
    "- int: integer (whole number, pos or neg)\n",
    "- float: number with decimal point\n",
    "- bool: boolean (True of False)\n",
    "- list: multiple values in one variable  \n",
    "\n",
    "**Markdown** is for explaining what the code does!"
   ]
  },
  {
   "cell_type": "markdown",
   "metadata": {},
   "source": [
    "## **Hello World**"
   ]
  },
  {
   "cell_type": "code",
   "execution_count": 216,
   "metadata": {},
   "outputs": [
    {
     "name": "stdout",
     "output_type": "stream",
     "text": [
      "Hello World\n"
     ]
    }
   ],
   "source": [
    "# print the standard first msg:\n",
    "print(\"Hello World\")"
   ]
  },
  {
   "cell_type": "markdown",
   "metadata": {
    "id": "vwL9XfUGOoF5"
   },
   "source": [
    "## **String (str)**"
   ]
  },
  {
   "cell_type": "code",
   "execution_count": 217,
   "metadata": {
    "executionInfo": {
     "elapsed": 69,
     "status": "ok",
     "timestamp": 1741714118238,
     "user": {
      "displayName": "Brian McClain",
      "userId": "08063899147261234403"
     },
     "user_tz": 240
    },
    "id": "tLgaCui-BMGf"
   },
   "outputs": [
    {
     "name": "stdout",
     "output_type": "stream",
     "text": [
      "Brian McClain  - Python Instructor\n"
     ]
    }
   ],
   "source": [
    "# comments are written with code but are not run as code\n",
    "# comments are preceded by a hash tag / pound sign\n",
    "\n",
    "# 1. Declare a few string variables and assign values w =\n",
    "# string values go in quotes\n",
    "first_name = \"Brian\"\n",
    "lastName = 'McClain' # camel case (is more a JS thing)\n",
    "last_name = 'McClain'\n",
    "print(first_name, lastName, \" - Python Instructor\")\n",
    "\n",
    "# = is the Assignment Operator\n",
    "# value at right is assigned to variable at left\n",
    "# var_name = some_value\n"
   ]
  },
  {
   "cell_type": "markdown",
   "metadata": {
    "id": "UK3co-DSisCH"
   },
   "source": [
    "### **variable naming rules vs. conventions**\n",
    "**rules** must be followed or your code breaks\n",
    "- no spaces in var names\n",
    "- no special chars or punc (only letters, digits and underscore)\n",
    "- cannot start with a number (**1day** is bad; **day1** or **_1day** are good)\n",
    "- cannot use reserved words as var names (no print, str, len, input, type, etc.)\n",
    "  - if you mess up by using a reserved word, such as input, as a variable name, you must re-start the session; choose **Runtime > Restart session and run all**.\n",
    "  \n",
    "\n",
    "**conventions** are best practices, but do NOT break your code when violated\n",
    "\n",
    "- use \"snake case\" (first_name) instead of \"camel case\" (firstName)\n",
    "- keep names short, yet meaningful (t is too short, employee_telephone_number is too long; tel or emp_tel is better)\n",
    "- all lowercase (first_name not First_name)\n",
    "- constants are all uppercase (NYC_SALES_TAX), meaning value is not to be changed"
   ]
  },
  {
   "cell_type": "markdown",
   "metadata": {
    "id": "ad-vln0WCyDk"
   },
   "source": [
    "### **print(input)**\n",
    "built-in function that prints its input"
   ]
  },
  {
   "cell_type": "code",
   "execution_count": 218,
   "metadata": {
    "executionInfo": {
     "elapsed": 1,
     "status": "ok",
     "timestamp": 1741714118330,
     "user": {
      "displayName": "Brian McClain",
      "userId": "08063899147261234403"
     },
     "user_tz": 240
    },
    "id": "78olbay7DGpz"
   },
   "outputs": [
    {
     "name": "stdout",
     "output_type": "stream",
     "text": [
      "Brian McClain\n"
     ]
    }
   ],
   "source": [
    "# 2. Print the names:\n",
    "print(first_name, lastName)"
   ]
  },
  {
   "cell_type": "markdown",
   "metadata": {
    "id": "hM90TAnUDxvT"
   },
   "source": [
    "### **concatenation with + operator**\n",
    "combining 2+ strings into one bigger string"
   ]
  },
  {
   "cell_type": "code",
   "execution_count": 219,
   "metadata": {
    "executionInfo": {
     "elapsed": 0,
     "status": "ok",
     "timestamp": 1741714118331,
     "user": {
      "displayName": "Brian McClain",
      "userId": "08063899147261234403"
     },
     "user_tz": 240
    },
    "id": "OmiPWiqAEAAo"
   },
   "outputs": [
    {
     "name": "stdout",
     "output_type": "stream",
     "text": [
      "Brian McClain\n"
     ]
    }
   ],
   "source": [
    "# 3. Make a var w concatenated value:\n",
    "full_name = first_name + \" \" + last_name\n",
    "print(full_name)"
   ]
  },
  {
   "cell_type": "code",
   "execution_count": 220,
   "metadata": {
    "executionInfo": {
     "elapsed": 0,
     "status": "ok",
     "timestamp": 1741714118332,
     "user": {
      "displayName": "Brian McClain",
      "userId": "08063899147261234403"
     },
     "user_tz": 240
    },
    "id": "1KNUD1PwEn57"
   },
   "outputs": [
    {
     "name": "stdout",
     "output_type": "stream",
     "text": [
      "Hello! My name is Brian McClain!\n"
     ]
    }
   ],
   "source": [
    "# 4. Challenge: declare a var called name_tag\n",
    "# when printed , it should introduce yourself:\n",
    "# Hello! My name is Brian McClain\n",
    "# Hint: Use + to concatenate the name tag string from existing variables\n",
    "# mixed with sub-strings, such as: \"Hello! My name is \"\n",
    "name_tag = \"Hello! My name is \" + first_name + \" \" + last_name + \"!\"\n",
    "print(name_tag)"
   ]
  },
  {
   "cell_type": "markdown",
   "metadata": {
    "id": "RjNoNXinGLQV"
   },
   "source": [
    "- **type(var)** returns the datatype of the **var**\n",
    "- **function(argument)** the input of a function is the **argument**\n",
    "- the \"answer\" is known as the **return value**\n",
    "\n",
    "- **len(str)** returns the number of chars in a string\n",
    "- **len(list)** returns the number of items in a list"
   ]
  },
  {
   "cell_type": "code",
   "execution_count": 221,
   "metadata": {
    "colab": {
     "base_uri": "https://localhost:8080/"
    },
    "executionInfo": {
     "elapsed": 2,
     "status": "ok",
     "timestamp": 1741714118335,
     "user": {
      "displayName": "Brian McClain",
      "userId": "08063899147261234403"
     },
     "user_tz": 240
    },
    "id": "LCJMBQOzGTJf",
    "outputId": "c4beb57e-3dba-4b1a-80f1-43f42b6e8c11"
   },
   "outputs": [
    {
     "name": "stdout",
     "output_type": "stream",
     "text": [
      "<class 'str'>\n",
      "<class 'int'>\n",
      "<class 'float'>\n",
      "<class 'bool'>\n",
      "<class 'list'>\n",
      "False\n",
      "3\n",
      "5\n",
      "True\n",
      "True\n",
      "False\n",
      "True\n",
      "False\n"
     ]
    }
   ],
   "source": [
    "# 5. Print the datatype of name_tag\n",
    "# 'apple','banana','cherry'\n",
    "print(type('apple')) # str\n",
    "print(type(86)) # int\n",
    "print(type(3.14)) # float\n",
    "print(type(5 > 9)) # bool\n",
    "print(type(['apple','banana','cherry'])) # list\n",
    "print(len('apple') > len('banana')) # False\n",
    "# len(list), len(str) returns num items in list or str\n",
    "print(len(['apple','banana','cherry'])) # 3\n",
    "print(len('apple')) # 5\n",
    "print(len('cherry') > len('apple')) # True\n",
    "print('cherry' > 'apple') # True\n",
    "# strings lowest to greatest value: '0123456789ABCDEF..XYZabcdef..xyz'\n",
    "print('Cherry' > 'apple') # True\n",
    "print(1001 > 25) # True\n",
    "print('1001' > '25') # False (stringy numbers)"
   ]
  },
  {
   "cell_type": "code",
   "execution_count": 222,
   "metadata": {
    "executionInfo": {
     "elapsed": 2,
     "status": "ok",
     "timestamp": 1741714118338,
     "user": {
      "displayName": "Brian McClain",
      "userId": "08063899147261234403"
     },
     "user_tz": 240
    },
    "id": "1l-bt9XmG6g7"
   },
   "outputs": [
    {
     "name": "stdout",
     "output_type": "stream",
     "text": [
      "Number of chars in name tag: 32\n",
      "More than 30 chars? True\n",
      "More than 35 chars? False\n"
     ]
    }
   ],
   "source": [
    "# 6. Challenge: Print the the number of chars in name_tag\n",
    "#    and print a check to see if that number is greater than 30 \n",
    "#    (True or False)\n",
    "name_len = len(name_tag)\n",
    "print(\"Number of chars in name tag:\", name_len)\n",
    "print(\"More than 30 chars?\", name_len > 30)\n",
    "print(\"More than 35 chars?\", name_len > 35)"
   ]
  },
  {
   "cell_type": "markdown",
   "metadata": {
    "id": "rboEkArRMQB6"
   },
   "source": [
    "#### resolving nested string quote conflicts"
   ]
  },
  {
   "cell_type": "code",
   "execution_count": 223,
   "metadata": {
    "colab": {
     "base_uri": "https://localhost:8080/"
    },
    "executionInfo": {
     "elapsed": 3,
     "status": "ok",
     "timestamp": 1741714118342,
     "user": {
      "displayName": "Brian McClain",
      "userId": "08063899147261234403"
     },
     "user_tz": 240
    },
    "id": "rMRipb8wMZgU",
    "outputId": "4e9c941d-1268-42d5-dd2b-ea014ad55ad9"
   },
   "outputs": [
    {
     "name": "stdout",
     "output_type": "stream",
     "text": [
      "Jane O'Brien\n",
      "Jane O'Brien\n",
      "He said: \"Give me my money!\"\n",
      "He said: \"Give me my money!\"\n",
      "O'Neal said: \"Give me my money!\"\n",
      "'O'Neal said: \"Give me my money!\"\n",
      "\n",
      "    O'Neal said: \"Give me my money!\", \n",
      "    O'Malley said: \"Nothin' doin'!\n",
      "\n",
      "Hello World\n"
     ]
    }
   ],
   "source": [
    "# 7. Declare a string that contains an apostrophe:\n",
    "# to avoid nested quote conflict error\n",
    "# client_name = 'Jane O'Brien'\n",
    "# print(client_name)\n",
    "\n",
    "# A.) mix-and-match quotes:\n",
    "client_name = \"Jane O'Brien\"\n",
    "print(client_name)\n",
    "\n",
    "# B.) escape nested quote w backslash \\\n",
    "client_name = 'Jane O\\'Brien'\n",
    "print(client_name)\n",
    "\n",
    "# reverse version: string in double quotes:\n",
    "# mix and match -- keep the double quotes for \n",
    "# the actual spoken dialogue\n",
    "statement = 'He said: \"Give me my money!\"'\n",
    "print(statement)\n",
    "# escape \n",
    "statement = \"He said: \\\"Give me my money!\\\"\"\n",
    "print(statement)\n",
    "\n",
    "# if you have BOTH single and double quotes in the string, just escape on the conflicting one\n",
    "statement = 'O\\'Neal said: \"Give me my money!\"'\n",
    "print(statement)\n",
    "statement = \"'O'Neal said: \\\"Give me my money!\\\"\"\n",
    "print(statement)\n",
    "\n",
    "# Triple-Doubles \"\"\" ESCAPE EVERYTHING:\n",
    "# AND allows tabs and line breaks, which regular\n",
    "# string quotes do NOT allow:\n",
    "dialogue = \"\"\"\n",
    "    O'Neal said: \"Give me my money!\", \n",
    "    O'Malley said: \"Nothin' doin'!\n",
    "\"\"\"\n",
    "print(dialogue)\n",
    "# save triple-doubles for complex strings with lots of interior conflicting quotes; else it is overkill:\n",
    "print(\"\"\"Hello World\"\"\") "
   ]
  },
  {
   "cell_type": "markdown",
   "metadata": {
    "id": "-in_z_BeipgK"
   },
   "source": [
    "**str[index]** gets the char at numeric position\n",
    "- **str[0]** is the first char of a string\n",
    "- **str[-1]** is the last char of a string\n",
    "\n",
    "**list[index]** gets the item at numeric position\n",
    "- **list[0]** is the first item of a list\n",
    "- **list[-1]** is the last item of a list"
   ]
  },
  {
   "cell_type": "code",
   "execution_count": 224,
   "metadata": {
    "colab": {
     "base_uri": "https://localhost:8080/"
    },
    "executionInfo": {
     "elapsed": 8,
     "status": "ok",
     "timestamp": 1741714118350,
     "user": {
      "displayName": "Brian McClain",
      "userId": "08063899147261234403"
     },
     "user_tz": 240
    },
    "id": "BjitYbWGi5_g",
    "outputId": "3a392d03-641c-4e7a-e229-51bb6714381d"
   },
   "outputs": [
    {
     "name": "stdout",
     "output_type": "stream",
     "text": [
      "3\n",
      "apple\n",
      "cherry\n",
      "cherry\n",
      "5\n",
      "b\n",
      "u\n",
      "y\n",
      "mid_pt: 8.5\n",
      "mid_pt: 8\n",
      "mid char: t\n"
     ]
    }
   ],
   "source": [
    "fruits = ['apple','banana','cherry']\n",
    "print(len(fruits)) # 3\n",
    "# get first item in fruits\n",
    "print(fruits[0]) # apple\n",
    "# get last item in fruits\n",
    "print(fruits[2]) # cherry\n",
    "print(fruits[-1]) # cherry\n",
    "\n",
    "pet = \"bunny\"\n",
    "# challenge: get the \"b\" and \"y\" in \"bunny\"..\n",
    "print(len(pet))\n",
    "print(pet[0]) # b\n",
    "print(pet[1]) # u\n",
    "print(pet[-1]) # y\n",
    "\n",
    "# get the middle letter of any str:\n",
    "phrase = \"cherryonthesundae\"\n",
    "mid_pt = len(phrase) / 2\n",
    "print(\"mid_pt:\",mid_pt) # 14.5\n",
    "mid_pt = int(len(phrase) / 2) # int(float) and rounds it down\n",
    "print(\"mid_pt:\",mid_pt) # 14\n",
    "print(\"mid char:\",phrase[mid_pt]) # r"
   ]
  },
  {
   "cell_type": "markdown",
   "metadata": {
    "id": "tPrezWN7OwwF"
   },
   "source": [
    "## **Integer (int) and Decimal (float)**"
   ]
  },
  {
   "cell_type": "code",
   "execution_count": 225,
   "metadata": {
    "colab": {
     "base_uri": "https://localhost:8080/"
    },
    "executionInfo": {
     "elapsed": 1,
     "status": "ok",
     "timestamp": 1741714118352,
     "user": {
      "displayName": "Brian McClain",
      "userId": "08063899147261234403"
     },
     "user_tz": 240
    },
    "id": "lPi1NvoaOzbI",
    "outputId": "2b401925-f7ca-4d5d-c5d7-484d50af8b05"
   },
   "outputs": [
    {
     "name": "stdout",
     "output_type": "stream",
     "text": [
      "65 <class 'int'>\n",
      "0.0875 <class 'float'>\n",
      " 57  <class 'str'>\n",
      "4\n",
      "57 <class 'int'>\n",
      "565 <class 'int'>\n",
      "49 <class 'int'>\n",
      "50 <class 'int'>\n"
     ]
    }
   ],
   "source": [
    "# 8. Declare an integer (whole number) variable:\n",
    "food_tot = 65\n",
    "print(food_tot, type(food_tot)) # int\n",
    "SALES_TAX = 0.0875 # 8.875 %\n",
    "print(SALES_TAX, type(SALES_TAX)) # float\n",
    "# uppercase constants (not to be changed)\n",
    "food_amt = \" 57 \" # numbers in quotes are strings, call 'em digits\n",
    "print(food_amt, type(food_amt)) # str \n",
    "print(len(food_amt)) # 2\n",
    "# convert stringy num to actual num:\n",
    "food_amt_int = int(food_amt)\n",
    "print(food_amt_int, type(food_amt_int)) # str \n",
    "# int can only convert stringy digits or floats to int:\n",
    "x = int(\"565\")\n",
    "print(x, type(x))\n",
    "price = int(49.95) # int() throws away / truncates decimal\n",
    "print(price, type(price))\n",
    "# round(float) rounds off properly:\n",
    "price = round(49.95) \n",
    "print(price, type(price))"
   ]
  },
  {
   "cell_type": "markdown",
   "metadata": {
    "id": "TPp_Dd1jPOPk"
   },
   "source": [
    "### **Math Operators**\n",
    "### +  -   *  /  **  % //\n",
    "- ** is for exponents (x ** 3 = 125)\n",
    "- % is modulus operator: n1 % n2 returns remainder of n1 / n2\n",
    "- // rounds down, so is like int()"
   ]
  },
  {
   "cell_type": "code",
   "execution_count": 226,
   "metadata": {
    "colab": {
     "base_uri": "https://localhost:8080/"
    },
    "executionInfo": {
     "elapsed": 3,
     "status": "ok",
     "timestamp": 1741714118355,
     "user": {
      "displayName": "Brian McClain",
      "userId": "08063899147261234403"
     },
     "user_tz": 240
    },
    "id": "THv7m8OPPBav",
    "outputId": "22c39170-f254-4442-c5b9-56dbbb4cd8c0"
   },
   "outputs": [
    {
     "name": "stdout",
     "output_type": "stream",
     "text": [
      "x: 5\n",
      "y: 8\n",
      "y: 3\n",
      "y: 35\n",
      "y: 2.5\n",
      "y: 25\n",
      "1\n"
     ]
    }
   ],
   "source": [
    "# 9. Take the math operators for a spin:\n",
    "x = 5\n",
    "print('x:', x)\n",
    "\n",
    "# expression: setting a var's value in terms of another var\n",
    "y = x + 3\n",
    "print('y:', y) # 8\n",
    "\n",
    "y = x - 2\n",
    "print('y:', y) # 3\n",
    "\n",
    "y = x * 7\n",
    "print('y:', y) # 35\n",
    "\n",
    "y = x / 2\n",
    "print('y:', y) # 2.5 <class 'float'>\n",
    "\n",
    "y = x ** 2 # x squared\n",
    "print('y:', y) # 25\n",
    "\n",
    "# returns remainder of x divided by 2\n",
    "y = x % 2 # 'mod 2' provides a way to check odd vs even\n",
    "print(y) # 1 "
   ]
  },
  {
   "cell_type": "markdown",
   "metadata": {
    "id": "hgUIjwZdQ-Yj"
   },
   "source": [
    "### stringy numbers: digits of string datatype"
   ]
  },
  {
   "cell_type": "code",
   "execution_count": 227,
   "metadata": {
    "colab": {
     "base_uri": "https://localhost:8080/"
    },
    "executionInfo": {
     "elapsed": 8,
     "status": "ok",
     "timestamp": 1741714118362,
     "user": {
      "displayName": "Brian McClain",
      "userId": "08063899147261234403"
     },
     "user_tz": 240
    },
    "id": "9J1Md_NRRIIo",
    "outputId": "13d7f7ee-2a23-4625-9c3f-83c1638ee6f4"
   },
   "outputs": [
    {
     "name": "stdout",
     "output_type": "stream",
     "text": [
      "91\n",
      "91\n",
      "Your test score: 91\n"
     ]
    }
   ],
   "source": [
    "# 10. Declare a \"stringy number\" and an actual number\n",
    "#     and try to add them together:\n",
    "# int or str ??\n",
    "test_score = 88\n",
    "bonus_pts = 3\n",
    "revised_score = test_score + bonus_pts\n",
    "print(revised_score)\n",
    "\n",
    "# test_score = test_score + bonus\n",
    "test_score = 88\n",
    "bonus_pts = \"3\" # \"stringy number\"\n",
    "bonus_pts = int(bonus_pts)\n",
    "revised_score = test_score + bonus_pts\n",
    "print(revised_score)\n",
    "\n",
    "# can only do math with actual numbers (NO stringy numbers)\n",
    "# conversely, can only do concatenation with strings:\n",
    "# score_report = \"Your test score: \" + revised_score\n",
    "# print(score_report)\n",
    "# to concatenate with number, convert num to string with str()\n",
    "score_report = \"Your test score: \" + str(revised_score)\n",
    "print(score_report)"
   ]
  },
  {
   "cell_type": "markdown",
   "metadata": {
    "id": "XRt_cmMzSArV"
   },
   "source": [
    "- **int(stringy_number)** converts stringy number to integer\n",
    "- **float(stringy_number)** converts stringy number to float\n",
    "- **str(number)** converts number to stringy number for concatenation"
   ]
  },
  {
   "cell_type": "code",
   "execution_count": 228,
   "metadata": {
    "colab": {
     "base_uri": "https://localhost:8080/"
    },
    "executionInfo": {
     "elapsed": 8,
     "status": "ok",
     "timestamp": 1741714118370,
     "user": {
      "displayName": "Brian McClain",
      "userId": "08063899147261234403"
     },
     "user_tz": 240
    },
    "id": "XxD8ZU0XSWEq",
    "outputId": "8f7fc27e-1f57-442a-ad87-499c7e7f779c"
   },
   "outputs": [
    {
     "name": "stdout",
     "output_type": "stream",
     "text": [
      "\n"
     ]
    }
   ],
   "source": [
    "# 11. Add score and bonus again, but convert score to int:\n",
    "\n",
    "print() # int or str ??\n",
    "\n",
    "# 98\n",
    "\n",
    "# 101.0\n",
    "\n",
    "# stringify all to get 953\n",
    "# 953"
   ]
  },
  {
   "cell_type": "code",
   "execution_count": 229,
   "metadata": {
    "colab": {
     "base_uri": "https://localhost:8080/"
    },
    "executionInfo": {
     "elapsed": 3,
     "status": "ok",
     "timestamp": 1741714118373,
     "user": {
      "displayName": "Brian McClain",
      "userId": "08063899147261234403"
     },
     "user_tz": 240
    },
    "id": "Bgp2SnKBTuxo",
    "outputId": "9e79b9a3-273b-4092-89f6-34bd3bd8666f"
   },
   "outputs": [],
   "source": [
    "# 12. Do other math ops with stringy num: they fail too:\n",
    "\n",
    "# reduce test_score by 10; expected result: 85\n",
    "\n",
    "# increase by 10%\n"
   ]
  },
  {
   "cell_type": "markdown",
   "metadata": {
    "id": "LbmT1Cf_VatT"
   },
   "source": [
    "- **str(number)** converts number to stringy number (for concatenation)"
   ]
  },
  {
   "cell_type": "code",
   "execution_count": 230,
   "metadata": {
    "colab": {
     "base_uri": "https://localhost:8080/"
    },
    "executionInfo": {
     "elapsed": 3,
     "status": "ok",
     "timestamp": 1741714118428,
     "user": {
      "displayName": "Brian McClain",
      "userId": "08063899147261234403"
     },
     "user_tz": 240
    },
    "id": "k1HRFN7NUqFO",
    "outputId": "6340ff19-f5af-4a82-9a6c-547f53609707"
   },
   "outputs": [
    {
     "name": "stdout",
     "output_type": "stream",
     "text": [
      "Your SAT scores: \n",
      "Math:\t700\n",
      "Verbal:\t650\n"
     ]
    }
   ],
   "source": [
    "# 13. Likewise, you cannot mix nums and str in concatenation:\n",
    "#.    So, convert nums into strings with str()\n",
    "sat_math = 700\n",
    "sat_verb = 650\n",
    "sat_score_report = \"Your SAT scores: \\nMath:\\t\" + str(sat_math) + \"\\nVerbal:\\t\" + str(sat_verb)\n",
    "print(sat_score_report)"
   ]
  },
  {
   "cell_type": "markdown",
   "metadata": {
    "id": "udxYeffhWXFp"
   },
   "source": [
    "## **input(\"Score:\")**\n",
    "- input() gives a text box to type in\n",
    "- pass input() the text box label\n",
    "- set input() equal to variable to save the input"
   ]
  },
  {
   "cell_type": "code",
   "execution_count": 231,
   "metadata": {
    "executionInfo": {
     "elapsed": 5,
     "status": "ok",
     "timestamp": 1741714118433,
     "user": {
      "displayName": "Brian McClain",
      "userId": "08063899147261234403"
     },
     "user_tz": 240
    },
    "id": "w83TruL_Wm5R"
   },
   "outputs": [],
   "source": [
    "# 14. Set an input() text box equal to a variable\n",
    "sat_math_score = int(input(\"SAT Math Score: \"))\n",
    "sat_verb_score = int(input(\"SAT Verbal Score: \"))"
   ]
  },
  {
   "cell_type": "code",
   "execution_count": 232,
   "metadata": {
    "colab": {
     "base_uri": "https://localhost:8080/"
    },
    "executionInfo": {
     "elapsed": 2,
     "status": "ok",
     "timestamp": 1741714118436,
     "user": {
      "displayName": "Brian McClain",
      "userId": "08063899147261234403"
     },
     "user_tz": 240
    },
    "id": "PRoZpuN5XKE8",
    "outputId": "3142c304-be7c-4c3c-a132-642baf0322f5"
   },
   "outputs": [
    {
     "name": "stdout",
     "output_type": "stream",
     "text": [
      "670 <class 'int'>\n",
      "650 <class 'int'>\n"
     ]
    }
   ],
   "source": [
    "# 15. Print the value of the variable and the datatype\n",
    "print(sat_math_score, type(sat_math_score))\n",
    "print(sat_verb_score, type(sat_verb_score))"
   ]
  },
  {
   "cell_type": "code",
   "execution_count": 233,
   "metadata": {},
   "outputs": [
    {
     "name": "stdout",
     "output_type": "stream",
     "text": [
      "combined_sat_score: 1320\n"
     ]
    }
   ],
   "source": [
    "# get combined SAT score\n",
    "combined_sat_score = sat_math_score + sat_verb_score\n",
    "print(\"combined_sat_score:\", combined_sat_score)"
   ]
  },
  {
   "cell_type": "code",
   "execution_count": 234,
   "metadata": {
    "colab": {
     "base_uri": "https://localhost:8080/"
    },
    "executionInfo": {
     "elapsed": 55,
     "status": "ok",
     "timestamp": 1741714118540,
     "user": {
      "displayName": "Brian McClain",
      "userId": "08063899147261234403"
     },
     "user_tz": 240
    },
    "id": "lg_VYh94utki",
    "outputId": "88675e46-c9ce-4efa-a77e-d17dd702b0cd"
   },
   "outputs": [
    {
     "name": "stdout",
     "output_type": "stream",
     "text": [
      "hrs: 2\n",
      "mins: 19\n",
      "imdb_time: 2h 19m\n"
     ]
    }
   ],
   "source": [
    "# given total movie minutes\n",
    "movie_runtime = 139 # minutes => 2h 17m\n",
    "# calculate IMDB style run time: 2h 19m\n",
    "# how to get the 2 and the 19 ??\n",
    "# first the 2:\n",
    "hrs = int(movie_runtime / 60)\n",
    "print('hrs:', hrs)\n",
    "mins = movie_runtime % 60\n",
    "print('mins:', mins)\n",
    "imdb_time = str(hrs) + \"h \" + str(mins) + \"m\"\n",
    "print('imdb_time:', imdb_time)\n"
   ]
  },
  {
   "cell_type": "markdown",
   "metadata": {
    "id": "7iZ-tD1Pfgfl"
   },
   "source": [
    "### **round(float, num_decimal_places)**"
   ]
  },
  {
   "cell_type": "code",
   "execution_count": 235,
   "metadata": {},
   "outputs": [],
   "source": [
    "# import the Math module so we can have PI\n",
    "import math"
   ]
  },
  {
   "cell_type": "code",
   "execution_count": 236,
   "metadata": {},
   "outputs": [
    {
     "name": "stdout",
     "output_type": "stream",
     "text": [
      "PI: 3.141592653589793\n"
     ]
    }
   ],
   "source": [
    "PI = math.pi\n",
    "print('PI:', PI) # 3.141592653589793"
   ]
  },
  {
   "cell_type": "code",
   "execution_count": 237,
   "metadata": {
    "colab": {
     "base_uri": "https://localhost:8080/"
    },
    "executionInfo": {
     "elapsed": 8,
     "status": "ok",
     "timestamp": 1741714118549,
     "user": {
      "displayName": "Brian McClain",
      "userId": "08063899147261234403"
     },
     "user_tz": 240
    },
    "id": "UmpDTDJdlylH",
    "outputId": "19528369-3b34-4fc7-9483-a44f9caac32e"
   },
   "outputs": [
    {
     "name": "stdout",
     "output_type": "stream",
     "text": [
      "3.14\n"
     ]
    }
   ],
   "source": [
    "# 16B. Round off a number and an input:\n",
    "pi = round(PI,2)\n",
    "print(pi)"
   ]
  },
  {
   "cell_type": "markdown",
   "metadata": {
    "id": "OLR3UbwQYW0a"
   },
   "source": [
    "## **Cafe Bill Calcuator**"
   ]
  },
  {
   "cell_type": "code",
   "execution_count": 238,
   "metadata": {
    "colab": {
     "base_uri": "https://localhost:8080/"
    },
    "executionInfo": {
     "elapsed": 29,
     "status": "ok",
     "timestamp": 1741714118581,
     "user": {
      "displayName": "Brian McClain",
      "userId": "08063899147261234403"
     },
     "user_tz": 240
    },
    "id": "qmBBXN5UYdJD",
    "outputId": "c81d4856-d6a3-446f-9d65-87309a455123"
   },
   "outputs": [
    {
     "name": "stdout",
     "output_type": "stream",
     "text": [
      "Food:  $67.60\n",
      "Bev:  $78.65\n",
      "Tip:  22.00%\n",
      "Tax:  8.875%\n",
      "Sub-tot:  $146.25\n",
      "Please Pay $191.40\n"
     ]
    }
   ],
   "source": [
    "# 17. CHALLENGE: Make 3 inputs to capture food, bev and tip\n",
    "food_tot = float(input(\"Food $ \"))\n",
    "bev_tot = float(input(\"Beverage $ \"))\n",
    "tip_pct = float(input(\"Tip $ \")) # 15\n",
    "tax_pct = NYC_SALES_TAX = 8.875 # 0.0875\n",
    "\n",
    "sub_tot = food_tot + bev_tot\n",
    "tax_tot = sub_tot * NYC_SALES_TAX / 100\n",
    "tip_tot = sub_tot * tip_pct / 100\n",
    "total_cost = sub_tot + tax_tot + tip_tot\n",
    "\n",
    "print(\"Food: \", '${:,.2f}'.format(food_tot))\n",
    "print(\"Bev: \", '${:,.2f}'.format(bev_tot))\n",
    "print(\"Tip: \", '{:,.2f}'.format(tip_pct)+'%')\n",
    "print(\"Tax: \", str(tax_pct) + '%')\n",
    "print(\"Sub-tot: \", '${:,.2f}'.format(sub_tot))\n",
    "print(\"Please Pay\", '${:,.2f}'.format(round(total_cost,2)))\n",
    "# expected output: Total: $123.88\n",
    "# bonus: itemized bill: print all vars\n",
    "# Python Cafe Guest Check\n",
    "# Food: $65\n",
    "# Bev: $35\n",
    "# 2Sub-tot: $100\n",
    "# TAX % : 8.875\n",
    "# Tax: $8.88\n",
    "# Tip % : 15\n",
    "# Tip: $15\n",
    "# Please Pay: $123.88"
   ]
  },
  {
   "cell_type": "markdown",
   "metadata": {
    "id": "bUo97S_y1uuU"
   },
   "source": [
    "### **'{:,.2f}'.format(x)** vs **round(x,2)**"
   ]
  },
  {
   "cell_type": "code",
   "execution_count": 239,
   "metadata": {
    "colab": {
     "base_uri": "https://localhost:8080/"
    },
    "executionInfo": {
     "elapsed": 72,
     "status": "ok",
     "timestamp": 1741714118663,
     "user": {
      "displayName": "Brian McClain",
      "userId": "08063899147261234403"
     },
     "user_tz": 240
    },
    "id": "lCzBCpdB1LmH",
    "outputId": "d30f7f87-98da-4b1d-a20d-30310e9cf107"
   },
   "outputs": [
    {
     "name": "stdout",
     "output_type": "stream",
     "text": [
      "\n",
      "\n"
     ]
    }
   ],
   "source": [
    "# rounding to 2 decimal places may result in just one decimal place\n",
    "x = 8.50001\n",
    "\n",
    "print()\n",
    "# to ensure that you always get 2 decimal places, for, say, currency\n",
    "# dollars and cents, use this special formatting BUT be aware this\n",
    "# stringifies the value, so you must do all your math first\n",
    "# '{:,.2f}'\n",
    "print()"
   ]
  },
  {
   "cell_type": "code",
   "execution_count": 240,
   "metadata": {
    "colab": {
     "base_uri": "https://localhost:8080/"
    },
    "executionInfo": {
     "elapsed": 37,
     "status": "ok",
     "timestamp": 1741714118701,
     "user": {
      "displayName": "Brian McClain",
      "userId": "08063899147261234403"
     },
     "user_tz": 240
    },
    "id": "vG5C8LAIZoe7",
    "outputId": "a512e0de-329d-4f11-df95-4ffa0c1363f9"
   },
   "outputs": [
    {
     "name": "stdout",
     "output_type": "stream",
     "text": [
      "Python Cafe Guest Check\n",
      "Food Tot: $\n",
      "Beverage Tot: $\n",
      "Tip Pct: %\n",
      "Sub-tot: $\n",
      "Tip Tot: $\n",
      "Tax Tot: $\n",
      "Please Pay: \n"
     ]
    }
   ],
   "source": [
    "# 18. CHALLENGE: Calcualate the cafe bill from user input\n",
    "#     and print the itemized bill;\n",
    "\n",
    "print(\"Python Cafe Guest Check\")\n",
    "\n",
    "# to resemble dollars and cents, use special formatting:\n",
    "# '${:,.2f}'.format(8.35487534) ==> $8.35\n",
    "# \"Food: $ \"\n",
    "print(\"Food Tot: $\")\n",
    "\n",
    "# \"Beverage: $ \"\n",
    "print(\"Beverage Tot: $\")\n",
    "\n",
    "# \"Tip: % \"\n",
    "print(\"Tip Pct: %\")\n",
    "\n",
    "print(\"Sub-tot: $\")\n",
    "\n",
    "print(\"Tip Tot: $\")\n",
    "\n",
    "NYC_SALES_TAX = 8.875\n",
    "\n",
    "print(\"Tax Tot: $\")\n",
    "\n",
    "print(\"Please Pay: \")"
   ]
  },
  {
   "cell_type": "code",
   "execution_count": 241,
   "metadata": {
    "executionInfo": {
     "elapsed": 48,
     "status": "ok",
     "timestamp": 1741714118786,
     "user": {
      "displayName": "Brian McClain",
      "userId": "08063899147261234403"
     },
     "user_tz": 240
    },
    "id": "0T7QFXx1e8HN"
   },
   "outputs": [],
   "source": [
    "# Example output:\n",
    "#.    Python Cafe Guest Check\n",
    "#.    Food: $50\n",
    "#.    Bev:  $50\n",
    "#.    Tip %  20\n",
    "#.    Tip:   $20\n",
    "#.    Tax %  8.875\n",
    "#.    Tax:   $8.88\n",
    "#.    Please Pay: 128.88"
   ]
  },
  {
   "cell_type": "markdown",
   "metadata": {
    "id": "llMf_tfagtno"
   },
   "source": [
    "## **Boolean**\n",
    "- variable value can only be **True** or **False**\n",
    "- var name should suggest that it's a boolean"
   ]
  },
  {
   "cell_type": "code",
   "execution_count": 242,
   "metadata": {
    "colab": {
     "base_uri": "https://localhost:8080/"
    },
    "executionInfo": {
     "elapsed": 16,
     "status": "ok",
     "timestamp": 1741714118802,
     "user": {
      "displayName": "Brian McClain",
      "userId": "08063899147261234403"
     },
     "user_tz": 240
    },
    "id": "luHv525_hIyn",
    "outputId": "c5a8e725-5430-49d3-9ae8-7955c2d98b02"
   },
   "outputs": [
    {
     "name": "stdout",
     "output_type": "stream",
     "text": [
      "False\n",
      "True\n",
      "is_online: True\n",
      "logged_in: False\n",
      "is_online: False\n",
      "logged_in: True\n",
      "logged_in: True\n"
     ]
    }
   ],
   "source": [
    "# 19. Declare two booleans, one of each value:\n",
    "print(2 > 3) # False\n",
    "print(3 > 2) # True\n",
    "is_online = True\n",
    "print(\"is_online:\", is_online)\n",
    "logged_in = False\n",
    "print(\"logged_in:\", logged_in)\n",
    "is_online = False\n",
    "print(\"is_online:\",is_online)\n",
    "logged_in = True\n",
    "print(\"logged_in:\", logged_in)\n",
    "logged_in = True\n",
    "print(\"logged_in:\", logged_in)\n"
   ]
  },
  {
   "cell_type": "markdown",
   "metadata": {
    "id": "p3Uhd9lUh4yV"
   },
   "source": [
    "#### **not** operator flips boolean"
   ]
  },
  {
   "cell_type": "code",
   "execution_count": 243,
   "metadata": {
    "colab": {
     "base_uri": "https://localhost:8080/"
    },
    "executionInfo": {
     "elapsed": 67,
     "status": "ok",
     "timestamp": 1741714118884,
     "user": {
      "displayName": "Brian McClain",
      "userId": "08063899147261234403"
     },
     "user_tz": 240
    },
    "id": "7nLtYdmFhcnL",
    "outputId": "96b6210a-bf06-4766-9d98-6cdf46027296"
   },
   "outputs": [
    {
     "name": "stdout",
     "output_type": "stream",
     "text": [
      "is_online: False\n",
      "is_online: True\n",
      "logged_in: True\n",
      "logged_in: False\n",
      "logged_in: True\n",
      "logged_in: False\n",
      "logged_in: True\n",
      "logged_in: False\n"
     ]
    }
   ],
   "source": [
    "# 20. To flip / toggle a boolean use not operator\n",
    "# why is this not so great ?\n",
    "# 21. Flip the booleans using not operator:\n",
    "print(\"is_online:\",is_online)\n",
    "is_online = not is_online\n",
    "print(\"is_online:\",is_online)\n",
    "\n",
    "print(\"logged_in:\",logged_in)\n",
    "logged_in = not logged_in\n",
    "print(\"logged_in:\",logged_in)\n",
    "# explicitly setting boolean value requires you to know current value\n",
    "logged_in = not logged_in\n",
    "print(\"logged_in:\",logged_in)\n",
    "logged_in = not logged_in\n",
    "print(\"logged_in:\",logged_in)\n",
    "logged_in = not logged_in\n",
    "print(\"logged_in:\",logged_in)\n",
    "logged_in = not logged_in\n",
    "print(\"logged_in:\",logged_in)"
   ]
  },
  {
   "cell_type": "markdown",
   "metadata": {
    "id": "1ZLL3U1u6OxM"
   },
   "source": [
    "### **boolean operators** compare 2 values and return **True** or **False**\n",
    "### boolean operators include: **<, >, <=, >=, ==, !=**"
   ]
  },
  {
   "cell_type": "code",
   "execution_count": 244,
   "metadata": {
    "colab": {
     "base_uri": "https://localhost:8080/"
    },
    "executionInfo": {
     "elapsed": 4,
     "status": "ok",
     "timestamp": 1741714118888,
     "user": {
      "displayName": "Brian McClain",
      "userId": "08063899147261234403"
     },
     "user_tz": 240
    },
    "id": "xlpRITK95vrC",
    "outputId": "044f4ad0-ec66-4714-866d-7bde07a85253"
   },
   "outputs": [
    {
     "name": "stdout",
     "output_type": "stream",
     "text": [
      "True\n",
      "False\n",
      "True\n",
      "True\n",
      "True\n",
      "False\n"
     ]
    }
   ],
   "source": [
    "# boolean operators compare 2 values and return a boolean\n",
    "# operators include , > <= >= == !=\n",
    "# comparison operators return a boolean\n",
    "print(3 < 5) # True\n",
    "print(3 > 5) # False\n",
    "print(3 <= 3) # True\n",
    "print(3 >= 2) # True\n",
    "print(25 == 5**2) # True\n",
    "print(25 != 5**2) # False"
   ]
  },
  {
   "cell_type": "markdown",
   "metadata": {
    "id": "JcKZyCQBjn8y"
   },
   "source": [
    "## **List** stores more than one value in same var name\n",
    "- list items go in [ ] square brackets\n",
    "- list items are comma-separated\n",
    "- list items are stored by numeric order (index)\n",
    "- 1st item in a list is at index 0\n",
    "- last item is at index -1\n",
    "- a list is a **vector**, that is, a 1D structure, like a line"
   ]
  },
  {
   "cell_type": "code",
   "execution_count": 245,
   "metadata": {
    "colab": {
     "base_uri": "https://localhost:8080/"
    },
    "executionInfo": {
     "elapsed": 2,
     "status": "ok",
     "timestamp": 1741714118890,
     "user": {
      "displayName": "Brian McClain",
      "userId": "08063899147261234403"
     },
     "user_tz": 240
    },
    "id": "Zxdx_-pHj-g7",
    "outputId": "e46e5ff6-c847-4ac7-a8bc-13b29169384c"
   },
   "outputs": [
    {
     "name": "stdout",
     "output_type": "stream",
     "text": [
      "['bunny', 'cat', 'dog', 'gerbil', 'hamster', 'iguana']\n"
     ]
    }
   ],
   "source": [
    "# 22. Declare a list of strings\n",
    "pets = ['bunny', 'cat', 'dog', 'gerbil', 'hamster', 'iguana']\n",
    "print(pets)"
   ]
  },
  {
   "cell_type": "markdown",
   "metadata": {
    "id": "C4L4ILZfkqPN"
   },
   "source": [
    "**len(list)** returns the number of items in a list\n",
    "\n"
   ]
  },
  {
   "cell_type": "code",
   "execution_count": 246,
   "metadata": {
    "executionInfo": {
     "elapsed": 7,
     "status": "ok",
     "timestamp": 1741714118897,
     "user": {
      "displayName": "Brian McClain",
      "userId": "08063899147261234403"
     },
     "user_tz": 240
    },
    "id": "Hd2K2Cmckts9"
   },
   "outputs": [
    {
     "name": "stdout",
     "output_type": "stream",
     "text": [
      "6\n"
     ]
    }
   ],
   "source": [
    "print(len(pets))"
   ]
  },
  {
   "cell_type": "markdown",
   "metadata": {
    "id": "hiNJCjUiCcuG"
   },
   "source": [
    "**list[index]** gets the item at numeric position\n",
    "- **list[0]** is the first item of a list\n",
    "- **list[-1]** is the last item of a list"
   ]
  },
  {
   "cell_type": "code",
   "execution_count": 247,
   "metadata": {
    "colab": {
     "base_uri": "https://localhost:8080/"
    },
    "executionInfo": {
     "elapsed": 25,
     "status": "ok",
     "timestamp": 1741714118927,
     "user": {
      "displayName": "Brian McClain",
      "userId": "08063899147261234403"
     },
     "user_tz": 240
    },
    "id": "vv4vnP67k5Cg",
    "outputId": "abd19ec9-f3d1-4572-b48e-3e1bd85040a6"
   },
   "outputs": [
    {
     "name": "stdout",
     "output_type": "stream",
     "text": [
      "bunny\n",
      "iguana\n",
      "dog\n",
      "hamster\n"
     ]
    }
   ],
   "source": [
    "# challenge: get the indicated items from pets list\n",
    "pets = ['bunny', 'cat', 'dog', 'gerbil', 'hamster', 'iguana']\n",
    "# use negative indexing for items near the end:\n",
    "print(pets[0]) # bunny\n",
    "print(pets[-1]) # iguana\n",
    "print(pets[2]) # dog\n",
    "print(pets[-2]) # hamster"
   ]
  },
  {
   "cell_type": "markdown",
   "metadata": {
    "id": "CxRhJqOeCzeF"
   },
   "source": [
    "**list[start_index:end_index_excl]** gets the items from start to end indices\n",
    "- **list[index:]** gets all items from index to end of list\n",
    "- **list[0:index]** , **list[:index]** gets all items from start of list to index exclusive"
   ]
  },
  {
   "cell_type": "code",
   "execution_count": 248,
   "metadata": {
    "colab": {
     "base_uri": "https://localhost:8080/"
    },
    "executionInfo": {
     "elapsed": 1,
     "status": "ok",
     "timestamp": 1741714118929,
     "user": {
      "displayName": "Brian McClain",
      "userId": "08063899147261234403"
     },
     "user_tz": 240
    },
    "id": "54eeT31oC6xv",
    "outputId": "ec9ccfd5-2362-4198-8065-300117cb75e9"
   },
   "outputs": [
    {
     "name": "stdout",
     "output_type": "stream",
     "text": [
      "['bunny', 'cat', 'dog']\n",
      "['dog', 'gerbil', 'hamster']\n",
      "['gerbil', 'hamster', 'iguana']\n",
      "['cat', 'dog', 'gerbil', 'hamster']\n",
      "['bunny', 'cat', 'dog', 'gerbil', 'hamster', 'iguana']\n",
      "['bunny', 'cat', 'dog', 'gerbil', 'hamster', 'iguana']\n",
      "['bunny', 'dog', 'hamster']\n",
      "['cat', 'gerbil', 'iguana']\n",
      "['iguana', 'hamster', 'gerbil', 'dog', 'cat', 'bunny']\n",
      "['iguana', 'gerbil', 'cat']\n"
     ]
    }
   ],
   "source": [
    "# CHALLENGE: on your own:\n",
    "pets = ['bunny', 'cat', 'dog', 'gerbil', 'hamster', 'iguana']\n",
    "print(pets[:3]) # first 3 items: ['bunny', 'cat', 'dog']\n",
    "print(pets[2:-1]) # ['dog', 'gerbil', 'hamster']\n",
    "print(pets[-3:]) # last 3 items: ['gerbil', 'hamster', 'iguana']\n",
    "# get all but first and last items: ['canary', 'dog', 'gerbil', 'hamster']\n",
    "print(pets[1:-1])\n",
    "\n",
    "# [::] is ALL\n",
    "print(pets)\n",
    "print(pets[::])\n",
    "# [::2] is EVERY OTHER ITEM\n",
    "# start from beginning, go to end, every other one\n",
    "print(pets[::2]) # 2 is the STEP\n",
    "# start from 2nd item, go to end, every other one\n",
    "print(pets[1::2]) # 2 is the STEP\n",
    "# [::-1] start at end, go to beginning (go in reverse)\n",
    "print(pets[::-1]) # -1 is the BACKWARD STEP\n",
    "# [::-1] start at end, go to beginning (go in reverse)\n",
    "print(pets[::-2]) # -2 is the BACKWARD SKIPPING STEP "
   ]
  },
  {
   "cell_type": "markdown",
   "metadata": {
    "id": "F5agORZMy7J-"
   },
   "source": [
    "### **methods** are functions that are called on objects\n",
    "- a method is preceded by a dot: **variable.method()**\n",
    "- methods may or may not **return** a value\n",
    "- list methods include **append(), pop(), sort()**, among others\n",
    "  - **list.append(item)** adds item to end of list\n",
    "  - **list.pop()** removes last item from list and returns it\n",
    "  - **list.pop(index)** removes and returns item at specified index\n",
    "  - **list.sort()** alphabetizes list of strings; puts numbers in ascending order\n",
    "  - **list.extend(list)** adds a list to another list\n",
    "  - **list.reverse()** reverses the order of items in a list\n",
    "  - **list.remove(item)** removes the item from list, wherever it may be\n",
    "  - **list.index(item)** returns the index of the item\n",
    "  - **list.insert(index,item)** adds item to list at index\n",
    "  - **list.copy()** returns an independent copy of list"
   ]
  },
  {
   "cell_type": "code",
   "execution_count": 249,
   "metadata": {
    "colab": {
     "base_uri": "https://localhost:8080/"
    },
    "executionInfo": {
     "elapsed": 6,
     "status": "ok",
     "timestamp": 1741714118937,
     "user": {
      "displayName": "Brian McClain",
      "userId": "08063899147261234403"
     },
     "user_tz": 240
    },
    "id": "hjVnUxD9GHqt",
    "outputId": "fad2ad45-2877-4e85-eace-2a93d8927d45"
   },
   "outputs": [
    {
     "name": "stdout",
     "output_type": "stream",
     "text": [
      "\n"
     ]
    }
   ],
   "source": [
    "pets = ['bunny', 'cat', 'dog', 'gerbil', 'hamster', 'iguana']\n",
    "print()"
   ]
  },
  {
   "cell_type": "code",
   "execution_count": 250,
   "metadata": {
    "executionInfo": {
     "elapsed": 3,
     "status": "ok",
     "timestamp": 1741714118962,
     "user": {
      "displayName": "Brian McClain",
      "userId": "08063899147261234403"
     },
     "user_tz": 240
    },
    "id": "ZFWSyM40z3J9"
   },
   "outputs": [
    {
     "name": "stdout",
     "output_type": "stream",
     "text": [
      "['bunny', 'cat', 'dog', 'gerbil', 'hamster', 'iguana', 'chameleon']\n"
     ]
    }
   ],
   "source": [
    "# 23. Use append() to add a pet to the end of the list:\n",
    "pets.append('chameleon')\n",
    "print(pets)"
   ]
  },
  {
   "cell_type": "code",
   "execution_count": 251,
   "metadata": {
    "colab": {
     "base_uri": "https://localhost:8080/"
    },
    "executionInfo": {
     "elapsed": 4,
     "status": "ok",
     "timestamp": 1741714118973,
     "user": {
      "displayName": "Brian McClain",
      "userId": "08063899147261234403"
     },
     "user_tz": 240
    },
    "id": "eWmt-RJw0-ui",
    "outputId": "cb5dec3a-0ac0-406a-8867-17706ed8654d"
   },
   "outputs": [
    {
     "name": "stdout",
     "output_type": "stream",
     "text": [
      "['bunny', 'cat', 'dog', 'gerbil', 'hamster', 'iguana', 'chameleon', 'gold fish']\n"
     ]
    }
   ],
   "source": [
    "# add gold fish to end of list\n",
    "pets.append('gold fish')\n",
    "print(pets)"
   ]
  },
  {
   "cell_type": "code",
   "execution_count": 252,
   "metadata": {
    "executionInfo": {
     "elapsed": 1,
     "status": "ok",
     "timestamp": 1741714119002,
     "user": {
      "displayName": "Brian McClain",
      "userId": "08063899147261234403"
     },
     "user_tz": 240
    },
    "id": "4qMvjxBL1PWO"
   },
   "outputs": [
    {
     "name": "stdout",
     "output_type": "stream",
     "text": [
      "['bunny', 'cat', 'dog', 'gerbil', 'hamster', 'iguana', 'chameleon', 'gold fish']\n"
     ]
    }
   ],
   "source": [
    "# pets.append('canary','python','tarantula')\n",
    "print(pets)\n",
    "# ERROR: list.append() takes exactly one argument (3 given)"
   ]
  },
  {
   "cell_type": "code",
   "execution_count": 253,
   "metadata": {
    "colab": {
     "base_uri": "https://localhost:8080/"
    },
    "executionInfo": {
     "elapsed": 2,
     "status": "ok",
     "timestamp": 1741714119004,
     "user": {
      "displayName": "Brian McClain",
      "userId": "08063899147261234403"
     },
     "user_tz": 240
    },
    "id": "XDj6vVx51dT8",
    "outputId": "9310572f-9ffc-4061-e799-85dc7c09c9d4"
   },
   "outputs": [
    {
     "name": "stdout",
     "output_type": "stream",
     "text": [
      "['bunny', 'cat', 'dog', 'gerbil', 'hamster', 'iguana', 'chameleon', 'gold fish', ['canary', 'python', 'tarantula']]\n"
     ]
    }
   ],
   "source": [
    "# add them as a list which is just one item:\n",
    "pets.append(['canary','python','tarantula'])\n",
    "print(pets)"
   ]
  },
  {
   "cell_type": "code",
   "execution_count": 254,
   "metadata": {
    "executionInfo": {
     "elapsed": 9,
     "status": "ok",
     "timestamp": 1741714119013,
     "user": {
      "displayName": "Brian McClain",
      "userId": "08063899147261234403"
     },
     "user_tz": 240
    },
    "id": "82KDw2Oh1nrx"
   },
   "outputs": [
    {
     "name": "stdout",
     "output_type": "stream",
     "text": [
      "['bunny', 'cat', 'dog', 'gerbil', 'hamster', 'iguana', 'chameleon', 'gold fish']\n"
     ]
    }
   ],
   "source": [
    "# 24. Remove the unwanted nested list:\n",
    "pets.pop()\n",
    "print(pets)"
   ]
  },
  {
   "cell_type": "code",
   "execution_count": 255,
   "metadata": {
    "executionInfo": {
     "elapsed": 1,
     "status": "ok",
     "timestamp": 1741714119046,
     "user": {
      "displayName": "Brian McClain",
      "userId": "08063899147261234403"
     },
     "user_tz": 240
    },
    "id": "_-26pW-s2Qx3"
   },
   "outputs": [
    {
     "name": "stdout",
     "output_type": "stream",
     "text": [
      "['bunny', 'cat', 'dog', 'gerbil', 'hamster', 'iguana', 'chameleon', 'gold fish', 'canary', 'python', 'tarantula']\n"
     ]
    }
   ],
   "source": [
    "# 25. To add a list to another, keeping it flat, use extend:\n",
    "pets.extend(['canary','python','tarantula'])\n",
    "print(pets)"
   ]
  },
  {
   "cell_type": "code",
   "execution_count": 256,
   "metadata": {
    "colab": {
     "base_uri": "https://localhost:8080/"
    },
    "executionInfo": {
     "elapsed": 1,
     "status": "ok",
     "timestamp": 1741714119088,
     "user": {
      "displayName": "Brian McClain",
      "userId": "08063899147261234403"
     },
     "user_tz": 240
    },
    "id": "k0fjSV062ppr",
    "outputId": "bcccbf09-451f-4ed6-f5ad-5aea4c9e3102"
   },
   "outputs": [
    {
     "name": "stdout",
     "output_type": "stream",
     "text": [
      "['bunny', 'canary', 'cat', 'chameleon', 'dog', 'gerbil', 'gold fish', 'hamster', 'iguana', 'python', 'tarantula']\n"
     ]
    }
   ],
   "source": [
    "# 26. Alphabetize the list:\n",
    "pets.sort()\n",
    "print(pets)"
   ]
  },
  {
   "cell_type": "code",
   "execution_count": 257,
   "metadata": {
    "colab": {
     "base_uri": "https://localhost:8080/"
    },
    "executionInfo": {
     "elapsed": 1,
     "status": "ok",
     "timestamp": 1741714119089,
     "user": {
      "displayName": "Brian McClain",
      "userId": "08063899147261234403"
     },
     "user_tz": 240
    },
    "id": "0kszNnXlIMRA",
    "outputId": "77a2b54a-f68f-499e-eff4-25ae82c5524d"
   },
   "outputs": [
    {
     "name": "stdout",
     "output_type": "stream",
     "text": [
      "['tarantula', 'python', 'iguana', 'hamster', 'gold fish', 'gerbil', 'dog', 'chameleon', 'cat', 'canary', 'bunny']\n"
     ]
    }
   ],
   "source": [
    "# 27. Reverse the list:\n",
    "pets.reverse()\n",
    "print(pets)"
   ]
  },
  {
   "cell_type": "code",
   "execution_count": 258,
   "metadata": {
    "executionInfo": {
     "elapsed": 0,
     "status": "ok",
     "timestamp": 1741714119090,
     "user": {
      "displayName": "Brian McClain",
      "userId": "08063899147261234403"
     },
     "user_tz": 240
    },
    "id": "DXi2Tv78VA87"
   },
   "outputs": [
    {
     "name": "stdout",
     "output_type": "stream",
     "text": [
      "['tarantula', 'python', 'iguana', 'gold fish', 'gerbil', 'dog', 'chameleon', 'cat', 'canary', 'bunny']\n"
     ]
    }
   ],
   "source": [
    "# 28+ Remove the hamster by name\n",
    "pets.remove('hamster')\n",
    "print(pets)"
   ]
  },
  {
   "cell_type": "code",
   "execution_count": 259,
   "metadata": {
    "executionInfo": {
     "elapsed": 1,
     "status": "ok",
     "timestamp": 1741714119120,
     "user": {
      "displayName": "Brian McClain",
      "userId": "08063899147261234403"
     },
     "user_tz": 240
    },
    "id": "6la2AnRWVUyy"
   },
   "outputs": [
    {
     "name": "stdout",
     "output_type": "stream",
     "text": [
      "iguandex: 2\n",
      "['tarantula', 'python', 'gold fish', 'gerbil', 'dog', 'chameleon', 'cat', 'canary', 'bunny']\n"
     ]
    }
   ],
   "source": [
    "# 29. Pop iguana by index\n",
    "# get index of iguana\n",
    "iguandex = pets.index(\"iguana\")\n",
    "print('iguandex:',iguandex)\n",
    "pets.pop(iguandex)\n",
    "print(pets)\n"
   ]
  },
  {
   "cell_type": "code",
   "execution_count": 260,
   "metadata": {
    "colab": {
     "base_uri": "https://localhost:8080/"
    },
    "executionInfo": {
     "elapsed": 4,
     "status": "ok",
     "timestamp": 1741714119124,
     "user": {
      "displayName": "Brian McClain",
      "userId": "08063899147261234403"
     },
     "user_tz": 240
    },
    "id": "OshWYQwjV0Hd",
    "outputId": "26073047-624d-495a-a5ba-81a73a0bfa68"
   },
   "outputs": [
    {
     "name": "stdout",
     "output_type": "stream",
     "text": [
      "pythondex: 1\n",
      "popped_pet: gold fish\n",
      "['tarantula', 'python', 'gerbil', 'dog', 'chameleon', 'cat', 'canary', 'bunny']\n"
     ]
    }
   ],
   "source": [
    "# CHALLENGE: Pop whatever is right after the 'python' (should be the 'gold fish')\n",
    "# first get the index of the python\n",
    "# 'python'\n",
    "pythondex = pets.index('python')\n",
    "print('pythondex:',pythondex)\n",
    "# then just pop the item at pythondex + 1\n",
    "popped_pet = pets.pop(pythondex+1)\n",
    "print('popped_pet:',popped_pet)\n",
    "print(pets)"
   ]
  },
  {
   "cell_type": "code",
   "execution_count": 261,
   "metadata": {
    "colab": {
     "base_uri": "https://localhost:8080/"
    },
    "executionInfo": {
     "elapsed": 1,
     "status": "ok",
     "timestamp": 1741714119125,
     "user": {
      "displayName": "Brian McClain",
      "userId": "08063899147261234403"
     },
     "user_tz": 240
    },
    "id": "qLjKO6cwWtWM",
    "outputId": "3f94718e-de4e-4dcd-9496-0b78babcf117"
   },
   "outputs": [
    {
     "name": "stdout",
     "output_type": "stream",
     "text": [
      "['tarantula', 'python', 'gerbil', 'dog', 'chameleon', 'parrot', 'cat', 'canary', 'bunny']\n"
     ]
    }
   ],
   "source": [
    "# 30. Insert item at index\n",
    "# add a parrot at index 5\n",
    "pets.insert(5,\"parrot\")\n",
    "print(pets)"
   ]
  },
  {
   "cell_type": "code",
   "execution_count": 262,
   "metadata": {},
   "outputs": [
    {
     "name": "stdout",
     "output_type": "stream",
     "text": [
      "catdex: 6\n"
     ]
    }
   ],
   "source": [
    "# challenge: insert a new pet \"turtle\" right after the \"cat\" to keep the cat away from the canary:\n",
    "# a.) get index of 'cat'\n",
    "catdex = pets.index('cat')\n",
    "print('catdex:',catdex)\n",
    "# b.) insert 'turtle' at index of cat +1\n",
    "pets.insert(catdex+1,\"turtle\")\n"
   ]
  },
  {
   "cell_type": "code",
   "execution_count": 263,
   "metadata": {},
   "outputs": [
    {
     "name": "stdout",
     "output_type": "stream",
     "text": [
      "['tarantula', 'python', 'gerbil', 'dog', 'chameleon', 'parrot', 'cat', 'turtle', 'canary', 'bunny']\n"
     ]
    }
   ],
   "source": [
    "print(pets)"
   ]
  },
  {
   "cell_type": "code",
   "execution_count": 264,
   "metadata": {
    "colab": {
     "base_uri": "https://localhost:8080/"
    },
    "executionInfo": {
     "elapsed": 2,
     "status": "ok",
     "timestamp": 1741714119132,
     "user": {
      "displayName": "Brian McClain",
      "userId": "08063899147261234403"
     },
     "user_tz": 240
    },
    "id": "aFBcT1rKWaKs",
    "outputId": "6d5c6307-ae94-445f-e589-4a40be7c3267"
   },
   "outputs": [
    {
     "name": "stdout",
     "output_type": "stream",
     "text": [
      "6 36\n",
      "apple pear\n",
      "fruits1: ['apple', 'banana', 'cherry', 'mango']\n",
      "fruits2: ['apple', 'banana', 'cherry', 'mango']\n",
      "fruits1: ['apple', 'banana', 'cherry', 'mango', 'kiwi']\n",
      "fruits2: ['apple', 'banana', 'cherry', 'mango', 'kiwi']\n"
     ]
    }
   ],
   "source": [
    "# 31. list_copy = list.copy()\n",
    "# a str, int, float can be copied directly from one var to another\n",
    "# the new var is its own independent entity\n",
    "x = 6\n",
    "y = x\n",
    "y = y**2 # 36\n",
    "print(x,y)\n",
    "\n",
    "fruit1 = \"apple\"\n",
    "fruit2 = fruit1\n",
    "fruit2 = \"pear\"\n",
    "print(fruit1,fruit2)\n",
    "\n",
    "# but a copy of a list is just a reference to the original;\n",
    "# change the copy and the original changes too.\n",
    "fruits1 = ['apple','banana','cherry']\n",
    "fruits2 = fruits1\n",
    "fruits2.append('mango')\n",
    "print('fruits1:',fruits1)\n",
    "print('fruits2:',fruits2)\n",
    "fruits1.append('kiwi')\n",
    "print('fruits1:',fruits1)\n",
    "print('fruits2:',fruits2)"
   ]
  },
  {
   "cell_type": "code",
   "execution_count": 265,
   "metadata": {},
   "outputs": [
    {
     "name": "stdout",
     "output_type": "stream",
     "text": [
      "fruits1: ['apple', 'banana', 'cherry', 'mango', 'kiwi']\n",
      "fruits_copy: ['apple', 'banana', 'cherry', 'mango', 'kiwi']\n"
     ]
    }
   ],
   "source": [
    "# list2 = list1.copy()\n",
    "fruits_copy = fruits1.copy()\n",
    "print('fruits1:',fruits1)\n",
    "print('fruits_copy:',fruits_copy)"
   ]
  },
  {
   "cell_type": "code",
   "execution_count": 266,
   "metadata": {},
   "outputs": [
    {
     "name": "stdout",
     "output_type": "stream",
     "text": [
      "fruits1: ['apple', 'banana', 'cherry', 'mango', 'kiwi']\n",
      "fruits_copy: ['apple', 'banana', 'cherry', 'mango', 'kiwi', 'papaya']\n"
     ]
    }
   ],
   "source": [
    "# add 'papaya' to fruits_copy\n",
    "fruits_copy.append('papaya')\n",
    "print('fruits1:',fruits1)\n",
    "print('fruits_copy:',fruits_copy)"
   ]
  },
  {
   "cell_type": "markdown",
   "metadata": {
    "id": "3PXLbxsB3H9x"
   },
   "source": [
    "### **Set** (a list-like structure but having only unique values)\n",
    "- items in a set are all unique\n",
    "- items in a set are wrapped in { }\n",
    "- items in a set are not stored by index\n",
    "- items in a set are printed randomly\n",
    "- **set(list)** takes a list as its input and returns a set\n",
    "- **list(set(list))** returns a new list of unique items"
   ]
  },
  {
   "cell_type": "code",
   "execution_count": 267,
   "metadata": {
    "colab": {
     "base_uri": "https://localhost:8080/"
    },
    "executionInfo": {
     "elapsed": 6,
     "status": "ok",
     "timestamp": 1741714119199,
     "user": {
      "displayName": "Brian McClain",
      "userId": "08063899147261234403"
     },
     "user_tz": 240
    },
    "id": "IodCuBe1K_yF",
    "outputId": "90795682-20eb-4f63-c0b5-6698fe9fdaff"
   },
   "outputs": [],
   "source": [
    "# 32. Add some duplicate pets \n",
    "iguana_infested_pets = ['tarantula', 'iguana', 'python', 'iguana', 'iguana', 'gerbil', 'dog', 'iguana', 'chameleon', 'iguana', 'cat', 'canary', 'iguana', 'bunny', 'iguana']"
   ]
  },
  {
   "cell_type": "markdown",
   "metadata": {
    "id": "6Sh0vyjpMar4"
   },
   "source": [
    "- **my_set = set(my_list)** returns a set from list argument\n",
    "- **my_no_dups_list = list(set(my_list))** returns a list w no duplicates from a set argument"
   ]
  },
  {
   "cell_type": "code",
   "execution_count": 279,
   "metadata": {
    "colab": {
     "base_uri": "https://localhost:8080/"
    },
    "executionInfo": {
     "elapsed": 30,
     "status": "ok",
     "timestamp": 1741714119229,
     "user": {
      "displayName": "Brian McClain",
      "userId": "08063899147261234403"
     },
     "user_tz": 240
    },
    "id": "_43-vtru24Aa",
    "outputId": "98b14ec1-9b2f-4235-8d9f-961d0ff24c84"
   },
   "outputs": [
    {
     "name": "stdout",
     "output_type": "stream",
     "text": [
      "pets_set: {'chameleon', 'iguana', 'dog', 'python', 'gerbil', 'tarantula', 'cat', 'canary', 'bunny'}\n",
      "unique_pets_list: ['bunny', 'canary', 'cat', 'chameleon', 'dog', 'gerbil', 'iguana', 'python', 'tarantula']\n"
     ]
    }
   ],
   "source": [
    "# 33. Get a set of unique pets by making a set from the list and then listifying that\n",
    "pets_set = set(iguana_infested_pets)\n",
    "print('pets_set:', pets_set)\n",
    "# back to list from set:\n",
    "unique_pets_list = list(pets_set)\n",
    "unique_pets_list.sort()\n",
    "print('unique_pets_list:',unique_pets_list)"
   ]
  },
  {
   "cell_type": "code",
   "execution_count": 280,
   "metadata": {
    "colab": {
     "base_uri": "https://localhost:8080/"
    },
    "executionInfo": {
     "elapsed": 1,
     "status": "ok",
     "timestamp": 1741714119237,
     "user": {
      "displayName": "Brian McClain",
      "userId": "08063899147261234403"
     },
     "user_tz": 240
    },
    "id": "QaODM21f41Hx",
    "outputId": "714c6138-873a-40b1-cf05-56e029cb61ef"
   },
   "outputs": [
    {
     "name": "stdout",
     "output_type": "stream",
     "text": [
      "[-3, -1, 4, 5, 18, 21, 22, 62, 78]\n"
     ]
    }
   ],
   "source": [
    "# 34. Sorting numbers is just like sorting strings\n",
    "nums = [4,5,62,-3,21,22,18,78,-1]\n",
    "nums.sort()\n",
    "print(nums)\n"
   ]
  },
  {
   "cell_type": "code",
   "execution_count": 281,
   "metadata": {
    "colab": {
     "base_uri": "https://localhost:8080/"
    },
    "executionInfo": {
     "elapsed": 1,
     "status": "ok",
     "timestamp": 1741714119238,
     "user": {
      "displayName": "Brian McClain",
      "userId": "08063899147261234403"
     },
     "user_tz": 240
    },
    "id": "9h17yJyV5OQ3",
    "outputId": "e2ef5bbb-7597-447b-e3f4-5c1b98dd6abb"
   },
   "outputs": [
    {
     "name": "stdout",
     "output_type": "stream",
     "text": [
      "[-3, -1, 4, 18, 21, 22, 62, 78]\n"
     ]
    }
   ],
   "source": [
    "# CHALLENGE A: Pop by index: get rid of the item right before the 18\n",
    "_18dex = nums.index(18)\n",
    "nums.pop(_18dex-1)\n",
    "print(nums)\n"
   ]
  },
  {
   "cell_type": "code",
   "execution_count": 282,
   "metadata": {
    "colab": {
     "base_uri": "https://localhost:8080/"
    },
    "executionInfo": {
     "elapsed": 25,
     "status": "ok",
     "timestamp": 1741714119264,
     "user": {
      "displayName": "Brian McClain",
      "userId": "08063899147261234403"
     },
     "user_tz": 240
    },
    "id": "Aq3ir6oPPQKY",
    "outputId": "fb10c832-6a2b-45cb-d242-b3eba327b5c9"
   },
   "outputs": [
    {
     "name": "stdout",
     "output_type": "stream",
     "text": [
      "['ferret', 'bunny', 'canary', 'cat', 'chameleon', 'dog', 'gerbil', 'iguana', 'python', 'tarantula']\n"
     ]
    }
   ],
   "source": [
    "# CHALLENGE B: Insert ferret as first item in unique_pets_list: ['bunny', 'canary', 'cat', 'chameleon', 'dog', 'gerbil', 'iguana', 'python', 'tarantula']\n",
    "unique_pets_list.insert(0,'ferret')\n",
    "print(unique_pets_list)\n"
   ]
  },
  {
   "cell_type": "code",
   "execution_count": 283,
   "metadata": {
    "colab": {
     "base_uri": "https://localhost:8080/"
    },
    "executionInfo": {
     "elapsed": 1,
     "status": "ok",
     "timestamp": 1741714119266,
     "user": {
      "displayName": "Brian McClain",
      "userId": "08063899147261234403"
     },
     "user_tz": 240
    },
    "id": "7g8f8Bf4b44V",
    "outputId": "20911f8a-0baf-4d20-fd72-786f481cf1ad"
   },
   "outputs": [
    {
     "name": "stdout",
     "output_type": "stream",
     "text": [
      "[-3, -1, 0, 4, 18, 21, 22, 62, 78]\n"
     ]
    }
   ],
   "source": [
    "# CHALLENGE C: Insert 0 into nums list at its correct position in ascending order at index 2\n",
    "# [-3, -1, 4, 5, 18, 21, 22, 62, 78]\n",
    "nums.insert(2,0)\n",
    "print(nums)\n"
   ]
  },
  {
   "cell_type": "markdown",
   "metadata": {
    "id": "D1nb6VU4ctSv"
   },
   "source": [
    "- **sum(list_of_nums)** returns the sum of all the nums in the list\n",
    "- **min(list_of_nums)** returns the min value of the nums in the list\n",
    "- **max(list_of_nums)** returns the max value of the nums in the list"
   ]
  },
  {
   "cell_type": "code",
   "execution_count": 284,
   "metadata": {
    "colab": {
     "base_uri": "https://localhost:8080/"
    },
    "executionInfo": {
     "elapsed": 0,
     "status": "ok",
     "timestamp": 1741714119267,
     "user": {
      "displayName": "Brian McClain",
      "userId": "08063899147261234403"
     },
     "user_tz": 240
    },
    "id": "jF40eohqcQLc",
    "outputId": "7ef5207d-7be1-48da-cb01-3ac7b6d49e67"
   },
   "outputs": [
    {
     "name": "stdout",
     "output_type": "stream",
     "text": [
      "nums_sum: 201\n"
     ]
    }
   ],
   "source": [
    "# 35. Get the sum of all the numbers in nums\n",
    "nums_sum = sum(nums)\n",
    "print('nums_sum:',nums_sum)\n"
   ]
  },
  {
   "cell_type": "code",
   "execution_count": 285,
   "metadata": {
    "colab": {
     "base_uri": "https://localhost:8080/"
    },
    "executionInfo": {
     "elapsed": 11,
     "status": "ok",
     "timestamp": 1741714119279,
     "user": {
      "displayName": "Brian McClain",
      "userId": "08063899147261234403"
     },
     "user_tz": 240
    },
    "id": "AQSW2TaEccek",
    "outputId": "e7b4f167-0e54-4741-b927-bea2d5fcdb89"
   },
   "outputs": [
    {
     "name": "stdout",
     "output_type": "stream",
     "text": [
      "min_num: -3 \n",
      "max_num: 78\n"
     ]
    }
   ],
   "source": [
    "# 36. Get the min and max values in nums list\n",
    "min_num = min(nums)\n",
    "max_num = max(nums)\n",
    "print('min_num:',min_num,'\\nmax_num:',max_num)"
   ]
  },
  {
   "cell_type": "markdown",
   "metadata": {
    "id": "iUP8-LS96OyH"
   },
   "source": [
    "###**Vector Operation** : doing math across lists (which are vectors)"
   ]
  },
  {
   "cell_type": "code",
   "execution_count": 287,
   "metadata": {
    "colab": {
     "base_uri": "https://localhost:8080/"
    },
    "executionInfo": {
     "elapsed": 16,
     "status": "ok",
     "timestamp": 1741714119304,
     "user": {
      "displayName": "Brian McClain",
      "userId": "08063899147261234403"
     },
     "user_tz": 240
    },
    "id": "XIS4uu_55y8j",
    "outputId": "d10623a5-31c8-4578-d778-1ec2851b4d93"
   },
   "outputs": [
    {
     "name": "stdout",
     "output_type": "stream",
     "text": [
      "24 all_pets: ['tarantula', 'python', 'gerbil', 'dog', 'chameleon', 'parrot', 'cat', 'turtle', 'canary', 'bunny', 'ferret', 'bunny', 'canary', 'cat', 'chameleon', 'dog', 'gerbil', 'iguana', 'python', 'tarantula', 'turtle', 'spider monkey', 'gold fish', 'mink']\n"
     ]
    }
   ],
   "source": [
    "# 37. You can add two lists together with +\n",
    "more_pets = ['turtle', 'spider monkey', 'gold fish', 'mink']\n",
    "all_pets = pets + unique_pets_list + more_pets\n",
    "print(len(all_pets), 'all_pets:',all_pets)"
   ]
  },
  {
   "cell_type": "code",
   "execution_count": 288,
   "metadata": {},
   "outputs": [
    {
     "name": "stdout",
     "output_type": "stream",
     "text": [
      "15 all_unique_pets: ['bunny', 'canary', 'cat', 'chameleon', 'dog', 'ferret', 'gerbil', 'gold fish', 'iguana', 'mink', 'parrot', 'python', 'spider monkey', 'tarantula', 'turtle']\n"
     ]
    }
   ],
   "source": [
    "# all_pets has 24 items, but not all unique\n",
    "# get rid of duplicates but keep list format\n",
    "all_unique_pets = list(set(all_pets))\n",
    "all_unique_pets.sort()\n",
    "print(len(all_unique_pets), 'all_unique_pets:',all_unique_pets)"
   ]
  },
  {
   "cell_type": "code",
   "execution_count": 290,
   "metadata": {
    "colab": {
     "base_uri": "https://localhost:8080/"
    },
    "executionInfo": {
     "elapsed": 17,
     "status": "ok",
     "timestamp": 1741714119321,
     "user": {
      "displayName": "Brian McClain",
      "userId": "08063899147261234403"
     },
     "user_tz": 240
    },
    "id": "lkVHdVlI7kZj",
    "outputId": "2f02134d-022e-43de-a9ea-b811e24e9129"
   },
   "outputs": [
    {
     "name": "stdout",
     "output_type": "stream",
     "text": [
      "['apple', 'banana', 'cherry']\n",
      "['apple', 'banana', 'cherry', 'apple', 'banana', 'cherry', 'apple', 'banana', 'cherry']\n"
     ]
    }
   ],
   "source": [
    "# 38. Vector operations can also be with *\n",
    "print(fruits)\n",
    "triple_fruits = fruits * 3\n",
    "print(triple_fruits)"
   ]
  }
 ],
 "metadata": {
  "colab": {
   "authorship_tag": "ABX9TyOmcb/1eyOdvXEz1VYr2YHg",
   "provenance": []
  },
  "kernelspec": {
   "display_name": "base",
   "language": "python",
   "name": "python3"
  },
  "language_info": {
   "codemirror_mode": {
    "name": "ipython",
    "version": 3
   },
   "file_extension": ".py",
   "mimetype": "text/x-python",
   "name": "python",
   "nbconvert_exporter": "python",
   "pygments_lexer": "ipython3",
   "version": "3.10.9"
  }
 },
 "nbformat": 4,
 "nbformat_minor": 0
}
