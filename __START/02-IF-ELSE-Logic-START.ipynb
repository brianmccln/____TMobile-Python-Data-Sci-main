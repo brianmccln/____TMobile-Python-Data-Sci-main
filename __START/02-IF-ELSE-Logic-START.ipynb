{
 "cells": [
  {
   "cell_type": "markdown",
   "metadata": {
    "id": "VQqtSJgf9gHJ"
   },
   "source": [
    "**if else** logic is for running code based on condition being True of False\n",
    "\n",
    "- **comparison operators** evaluate a **condition** by comparing two values\n",
    "- the comparison returns a **boolean** (True or False)\n",
    "- comparison operators:\n",
    "  - a == b returns True if a and b are equal\n",
    "  - a < b returns True if a is less than b\n",
    "  - a > b returns True if a is greater than b\n",
    "  - a <= b returns True if a is less than or equal to b\n",
    "  - a >= b returns True if a is greater than or equal to b\n",
    "  - a != b returns True if a and b are not equal"
   ]
  },
  {
   "cell_type": "code",
   "execution_count": 20,
   "metadata": {
    "colab": {
     "base_uri": "https://localhost:8080/"
    },
    "executionInfo": {
     "elapsed": 177,
     "status": "ok",
     "timestamp": 1741714088293,
     "user": {
      "displayName": "Brian McClain",
      "userId": "08063899147261234403"
     },
     "user_tz": 240
    },
    "id": "P4mwsTxC9K3J",
    "outputId": "45714d10-bc36-476b-ff60-f057a4421c1c"
   },
   "outputs": [
    {
     "name": "stdout",
     "output_type": "stream",
     "text": [
      "False\n",
      "True\n",
      "True\n",
      "True\n",
      "cat\n",
      "True\n",
      "False\n"
     ]
    }
   ],
   "source": [
    " # = Assignment Operator\n",
    "print(len('cat') == 4) # Comparison Operator -- False\n",
    "print(len('cat') < 5) # True\n",
    "print('cat' > 'bunny') # True\n",
    "print(len('cat') <= 5) # True\n",
    "print('cat') # True\n",
    "print('cat'[0] == 'c') # True\n",
    "print('cat'[-1] != 't') # False"
   ]
  },
  {
   "cell_type": "markdown",
   "metadata": {
    "id": "VfKSFNT2AF8o"
   },
   "source": [
    "### if comparisons:\n",
    "- the keyword **if** followed by a boolean comparison\n",
    "- if pet == \"cat\":\n",
    "- if x > 3:\n",
    "- if len(pet) != 5:\n",
    "\n",
    "- end the if boolean with a colon:\n",
    "- the next line of code will auto-indent\n",
    "- the code inside the if block runs only IF the condition is True\n",
    "- if pet == \"cat\":\n",
    "  - print('Meow!')"
   ]
  },
  {
   "cell_type": "code",
   "execution_count": 26,
   "metadata": {
    "colab": {
     "base_uri": "https://localhost:8080/"
    },
    "executionInfo": {
     "elapsed": 4,
     "status": "ok",
     "timestamp": 1741714088299,
     "user": {
      "displayName": "Brian McClain",
      "userId": "08063899147261234403"
     },
     "user_tz": 240
    },
    "id": "87B4nUqfA7S0",
    "outputId": "fa6ffe77-8393-4f5c-a89f-3b5aa1eab0e9"
   },
   "outputs": [
    {
     "name": "stdout",
     "output_type": "stream",
     "text": [
      "Pet is not a bunny. It's a dog.\n"
     ]
    }
   ],
   "source": [
    "# code inside an if block runs if AND ONLY IF condition is True\n",
    "# condition is False\n",
    "pet = 'dog'\n",
    "\n",
    "if pet == \"bunny\":\n",
    "    print('Pet is a bunny..!!')\n",
    "else:\n",
    "    print('Pet is not a bunny. It\\'s a ' + pet + \".\")"
   ]
  },
  {
   "cell_type": "markdown",
   "metadata": {
    "id": "RV8ulW8RD4Fa"
   },
   "source": [
    "### **else** runs if condition is False"
   ]
  },
  {
   "cell_type": "markdown",
   "metadata": {
    "id": "tDgOA2_gEgEW"
   },
   "source": [
    "### **elif** evaluates a second condition"
   ]
  },
  {
   "cell_type": "code",
   "execution_count": 29,
   "metadata": {
    "colab": {
     "base_uri": "https://localhost:8080/"
    },
    "executionInfo": {
     "elapsed": 4,
     "status": "ok",
     "timestamp": 1741714088696,
     "user": {
      "displayName": "Brian McClain",
      "userId": "08063899147261234403"
     },
     "user_tz": 240
    },
    "id": "x9LUWLX9EoY7",
    "outputId": "7fe5aea4-47f9-4bf3-f9e0-fe796e8e8267"
   },
   "outputs": [
    {
     "name": "stdout",
     "output_type": "stream",
     "text": [
      "Pet is neither a cat nor a dog. It's a canary.\n"
     ]
    }
   ],
   "source": [
    "# condition is False\n",
    "pet = \"canary\"\n",
    "\n",
    "if pet == 'cat':\n",
    "    print('Meow! It\\'s a cat!') # doesn't run condition is False\n",
    "elif pet == 'dog':\n",
    "    print('Woof! It\\'s a dog!') # doesn't run\n",
    "else:\n",
    "    print('Pet is neither a cat nor a dog. It\\'s a ' + pet + '.')"
   ]
  },
  {
   "cell_type": "code",
   "execution_count": 35,
   "metadata": {
    "colab": {
     "base_uri": "https://localhost:8080/"
    },
    "executionInfo": {
     "elapsed": 2,
     "status": "ok",
     "timestamp": 1741714088699,
     "user": {
      "displayName": "Brian McClain",
      "userId": "08063899147261234403"
     },
     "user_tz": 240
    },
    "id": "ewIy0KLEFNVG",
    "outputId": "32de2240-fa40-4e9a-c889-6d1e0aa98043"
   },
   "outputs": [
    {
     "name": "stdout",
     "output_type": "stream",
     "text": [
      "33.0  -- price is Expensive\n"
     ]
    }
   ],
   "source": [
    "# CHALLENGE:\n",
    "# make an input(\"Price: \")\n",
    "# save the inputted price to a variable\n",
    "# convert price to number\n",
    "price = float(input(\"Price: \"))\n",
    "\n",
    "# use if - elif - elif - else to check the price\n",
    "# if price is 0, print \"Free\"\n",
    "# else if price is less than 10, print \"Cheap\"\n",
    "# else if price is less than 20, print \"Reasonable\"\n",
    "# else print \"Expensive\"\n",
    "# 'Price: '\n",
    "if price <= 0:\n",
    "    print(price, \" -- price is Free\")\n",
    "# price is in 0.01 - 9.99 range\n",
    "elif price <= 9.99:\n",
    "    print(price, ' -- price is Cheap')\n",
    "# price is in 10.00 - 19.99 range\n",
    "elif price <= 19.99:\n",
    "    print(price, ' -- price is Reasonable')\n",
    "else:\n",
    "# price is 20.00+\n",
    "    print(price, ' -- price is Expensive')"
   ]
  },
  {
   "cell_type": "markdown",
   "metadata": {
    "id": "lexPcPZJKalJ"
   },
   "source": [
    "### multiple conditions with and or\n",
    "- **and** 2 conditions must both be true\n",
    "    - **condition1 and condition2**\n",
    "- **or** 1 of 2 conditions must be true\n",
    "    - **condition1 or condition2**"
   ]
  },
  {
   "cell_type": "code",
   "execution_count": 38,
   "metadata": {
    "colab": {
     "base_uri": "https://localhost:8080/"
    },
    "executionInfo": {
     "elapsed": 97,
     "status": "ok",
     "timestamp": 1741714088890,
     "user": {
      "displayName": "Brian McClain",
      "userId": "08063899147261234403"
     },
     "user_tz": 240
    },
    "id": "SzV0xVibqk55",
    "outputId": "d4560374-97a4-4bab-cc8d-c8e8c412dcdf"
   },
   "outputs": [
    {
     "name": "stdout",
     "output_type": "stream",
     "text": [
      "The price is reasonable, and I have enough money! I'll take it!\n"
     ]
    }
   ],
   "source": [
    "# AND:\n",
    "# consider two conditions: price and how much money I have\n",
    "# idea being you must have enough money -- reasonable price not enough\n",
    "# if price is reasonable (or better), we want to buy it\n",
    "# BUT if my_money is less than 100 -- oops! I CANNOT BUY IT\n",
    "\n",
    "# reasonable we will buy it if we have enough money\n",
    "price = float(input(\"Price\"))\n",
    "my_money = 15\n",
    "\n",
    "# check BOTH conditions with \"and\" -- BOTH MUST be True for if part to run\n",
    "if price < 20 and my_money >= price:\n",
    "    print(\"The price is reasonable, and I have enough money! I'll take it!\")\n",
    "else:\n",
    "    # runs if EITHER condition is False\n",
    "    print(\"Can't buy it!\")"
   ]
  },
  {
   "cell_type": "code",
   "execution_count": null,
   "metadata": {},
   "outputs": [
    {
     "name": "stdout",
     "output_type": "stream",
     "text": [
      "I'm happy so price is no objecdt--I'm gonna buy this thing!\n"
     ]
    }
   ],
   "source": [
    "# OR:\n",
    "# consider two conditions: price OR my mood (happy or not)\n",
    "# idea being that in order to buy ONE condition must be true:\n",
    "# either price expensive BUT I am in such a good mood that price is no object\n",
    "# OR: \n",
    "# either price is cheap SO even if I am in a lousy mood, I'll buy it anyway\n",
    "# in order to buy: price must be less than 50 OR I must be happy\n",
    "price = float(input(\"Price\"))\n",
    "my_mood = \"pensive\"\n",
    "\n",
    "if price < 20 or my_mood == \"happy\":\n",
    "    print(\"Either I am happy or price is reasonable, so I'm gonna buy this thing!\")\n",
    "else:\n",
    "    print(\"The price is not reasonable AND I am not in a good mood, so I am not gonna buy it!\")\n"
   ]
  },
  {
   "cell_type": "code",
   "execution_count": 8,
   "metadata": {},
   "outputs": [],
   "source": [
    "fruits = ['apple', 'banana', 'cherry', 'grape', 'kiwi', 'lime']"
   ]
  },
  {
   "cell_type": "code",
   "execution_count": 9,
   "metadata": {
    "colab": {
     "base_uri": "https://localhost:8080/"
    },
    "executionInfo": {
     "elapsed": 5,
     "status": "ok",
     "timestamp": 1741714089228,
     "user": {
      "displayName": "Brian McClain",
      "userId": "08063899147261234403"
     },
     "user_tz": 240
    },
    "id": "s3SwPGq2KzRe",
    "outputId": "6f614f46-691c-4e26-e6ad-c4f2b9cc0090"
   },
   "outputs": [
    {
     "name": "stdout",
     "output_type": "stream",
     "text": [
      "['apple', 'banana', 'cherry', 'grape', 'kiwi', 'lime']\n"
     ]
    }
   ],
   "source": [
    "# challenge: if there are EXACTLY SIX (6) fruits, add \"lemon\" to the end of the list\n",
    "# and print the updated list\n",
    "# 'lemon'\n",
    "\n",
    "    \n",
    "print(fruits)"
   ]
  },
  {
   "cell_type": "code",
   "execution_count": 10,
   "metadata": {
    "colab": {
     "base_uri": "https://localhost:8080/"
    },
    "executionInfo": {
     "elapsed": 7,
     "status": "ok",
     "timestamp": 1741714089237,
     "user": {
      "displayName": "Brian McClain",
      "userId": "08063899147261234403"
     },
     "user_tz": 240
    },
    "id": "ChBnFSQcryCG",
    "outputId": "f43708fc-2d0a-4e78-f570-eef66e3e864c"
   },
   "outputs": [
    {
     "name": "stdout",
     "output_type": "stream",
     "text": [
      "['apple', 'banana', 'cherry', 'grape', 'kiwi', 'lime']\n"
     ]
    }
   ],
   "source": [
    "# challenge: if the first fruit is apple and the last fruit is lemon\n",
    "# add orange and peach to the end:\n",
    "# and print the updated list\n",
    "# 'apple' 'lemon'\n",
    "# 'orange', 'peach'\n",
    "\n",
    "    \n",
    "print(fruits)"
   ]
  },
  {
   "cell_type": "code",
   "execution_count": 11,
   "metadata": {
    "colab": {
     "base_uri": "https://localhost:8080/"
    },
    "executionInfo": {
     "elapsed": 3,
     "status": "ok",
     "timestamp": 1741714089241,
     "user": {
      "displayName": "Brian McClain",
      "userId": "08063899147261234403"
     },
     "user_tz": 240
    },
    "id": "vC7GAsLlscbC",
    "outputId": "425a014b-9a59-4450-e355-ee79fbc178c5"
   },
   "outputs": [
    {
     "name": "stdout",
     "output_type": "stream",
     "text": [
      "['apple', 'banana', 'cherry', 'grape', 'kiwi', 'lime']\n"
     ]
    }
   ],
   "source": [
    "# or operator requires just one of multiple conditions to be true\n",
    "# if first fruit is 'blueberry' OR there are at less than 12 fruits,\n",
    "# add 'apricot' to the beginning as the new first item, without losing apple\n",
    "# and print the updated list\n",
    "# 'blueberry'\n",
    "# 'apricot'\n",
    "\n",
    "    \n",
    "print(fruits)"
   ]
  },
  {
   "cell_type": "markdown",
   "metadata": {},
   "source": [
    "- **str.startswith(\"bl\")** checks is string starts with \"bl\" and returns boolean (True or False)\n",
    "- **str.endswith(\"ly\")** checks is string ends with \"ly\" and returns boolean (True or False)\n",
    "- this is an alternative to checking at indexr:\n",
    "- **str[:2] == \"bl\"** checks is string starts with \"bl\" and returns boolean\n",
    "- **str[-2:] == \"ly\"** checks is string ends with \"ly\" and returns boolean\n",
    "- startswith / endswith provides more flexibility than checking at index, since it aceepts more than on char"
   ]
  },
  {
   "cell_type": "code",
   "execution_count": 12,
   "metadata": {
    "colab": {
     "base_uri": "https://localhost:8080/"
    },
    "executionInfo": {
     "elapsed": 3,
     "status": "ok",
     "timestamp": 1741714089244,
     "user": {
      "displayName": "Brian McClain",
      "userId": "08063899147261234403"
     },
     "user_tz": 240
    },
    "id": "ddNgP3ywan3Z",
    "outputId": "3d38b2ff-315c-4644-bbac-6e908d317a78"
   },
   "outputs": [
    {
     "name": "stdout",
     "output_type": "stream",
     "text": [
      "['apricot', 'apple', 'banana', 'cherry', 'grape', 'kiwi', 'lime', 'lemon', 'orange', 'peach']\n"
     ]
    }
   ],
   "source": [
    "fruit = ['apricot', 'apple', 'banana', 'cherry', 'grape', 'kiwi', 'lime', 'lemon', 'orange', 'peach']\n",
    "\n",
    "# CHALLENGE: combine \"and\" with \"or\":\n",
    "# (if the first fruit is \"blueberry\" OR there are less\n",
    "# than 12 fruits) AND last fruit starts with \"p\"\n",
    "# if all THAT is True, add 'kumquat' right after 'kiwi'\n",
    "\n",
    "# if (condition1 or condition2) and condition3:\n",
    "  # do stuff\n",
    "\n",
    "# if (fruit[0] == \"blueberry\" or len(fruit) < 12) and fruit[-1][0] == \"p\":\n",
    "\n",
    "\n",
    "print(fruit)"
   ]
  },
  {
   "cell_type": "markdown",
   "metadata": {},
   "source": [
    "- **nested conditional logic:** an if inside an if"
   ]
  },
  {
   "cell_type": "code",
   "execution_count": 13,
   "metadata": {
    "colab": {
     "base_uri": "https://localhost:8080/"
    },
    "executionInfo": {
     "elapsed": 47,
     "status": "ok",
     "timestamp": 1741714089291,
     "user": {
      "displayName": "Brian McClain",
      "userId": "08063899147261234403"
     },
     "user_tz": 240
    },
    "id": "3g57mJNwbIcE",
    "outputId": "4da365eb-4b47-4d20-db8a-7f01b94c66fa"
   },
   "outputs": [
    {
     "name": "stdout",
     "output_type": "stream",
     "text": [
      "['apricot', 'apple', 'banana', 'cherry', 'grape', 'kiwi', 'kumquat', 'lime', 'lemon', 'orange', 'peach']\n"
     ]
    }
   ],
   "source": [
    "# nested if instead of and:\n",
    "fruit = ['apricot', 'apple', 'banana', 'cherry', 'grape', 'kiwi', 'kumquat', 'lime', 'lemon', 'orange', 'peach']\n",
    "\n",
    "# maybe do stuff here before checking next condition\n",
    "\n",
    "\n",
    "print(fruit)"
   ]
  }
 ],
 "metadata": {
  "colab": {
   "authorship_tag": "ABX9TyNgxyOXQrZ5MANpukugwapv",
   "provenance": []
  },
  "kernelspec": {
   "display_name": "base",
   "language": "python",
   "name": "python3"
  },
  "language_info": {
   "codemirror_mode": {
    "name": "ipython",
    "version": 3
   },
   "file_extension": ".py",
   "mimetype": "text/x-python",
   "name": "python",
   "nbconvert_exporter": "python",
   "pygments_lexer": "ipython3",
   "version": "3.10.9"
  }
 },
 "nbformat": 4,
 "nbformat_minor": 0
}
