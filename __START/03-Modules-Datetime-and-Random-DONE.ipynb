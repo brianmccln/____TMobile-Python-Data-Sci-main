{
 "cells": [
  {
   "cell_type": "markdown",
   "metadata": {
    "id": "erS3Jar6QUgq"
   },
   "source": [
    "## **Module**\n",
    "- a module is a library of code that you import\n",
    "- modules have their own methods and properties\n",
    "- modules go beyond core python in capabilities"
   ]
  },
  {
   "cell_type": "code",
   "execution_count": 4,
   "metadata": {},
   "outputs": [
    {
     "name": "stdout",
     "output_type": "stream",
     "text": [
      "Requirement already satisfied: pytz in /Users/brianmcclain/anaconda3/lib/python3.10/site-packages (2022.7)\n",
      "\n",
      "\u001b[1m[\u001b[0m\u001b[34;49mnotice\u001b[0m\u001b[1;39;49m]\u001b[0m\u001b[39;49m A new release of pip is available: \u001b[0m\u001b[31;49m25.1.1\u001b[0m\u001b[39;49m -> \u001b[0m\u001b[32;49m25.2\u001b[0m\n",
      "\u001b[1m[\u001b[0m\u001b[34;49mnotice\u001b[0m\u001b[1;39;49m]\u001b[0m\u001b[39;49m To update, run: \u001b[0m\u001b[32;49mpip install --upgrade pip\u001b[0m\n",
      "Note: you may need to restart the kernel to use updated packages.\n"
     ]
    }
   ],
   "source": [
    "#  %pip magic command ensures the install happens in the same environment your notebook kernel is using.\n",
    "# %pip install pytz\n",
    "%pip install pytz"
   ]
  },
  {
   "cell_type": "code",
   "execution_count": 5,
   "metadata": {
    "executionInfo": {
     "elapsed": 2,
     "status": "ok",
     "timestamp": 1741714008686,
     "user": {
      "displayName": "Brian McClain",
      "userId": "08063899147261234403"
     },
     "user_tz": 240
    },
    "id": "GF9MiZlRQLHN"
   },
   "outputs": [],
   "source": [
    "# Import datetime and random modules\n",
    "import datetime\n",
    "import random\n",
    "import pytz\n",
    "import pprint as pp\n",
    "from IPython.display import Image\n",
    "import os"
   ]
  },
  {
   "cell_type": "code",
   "execution_count": 6,
   "metadata": {},
   "outputs": [],
   "source": [
    "# set the timezone\n",
    "tz = pytz.timezone('Asia/Shanghai')"
   ]
  },
  {
   "cell_type": "code",
   "execution_count": 7,
   "metadata": {
    "colab": {
     "base_uri": "https://localhost:8080/"
    },
    "executionInfo": {
     "elapsed": 18,
     "status": "ok",
     "timestamp": 1741714008754,
     "user": {
      "displayName": "Brian McClain",
      "userId": "08063899147261234403"
     },
     "user_tz": 240
    },
    "id": "uM64LExyQza9",
    "outputId": "dd9a4309-49ed-4eac-e861-1c80dfb7349c"
   },
   "outputs": [
    {
     "name": "stdout",
     "output_type": "stream",
     "text": [
      "2025-10-08 04:00:53.093699+08:00\n"
     ]
    }
   ],
   "source": [
    "# instantiate the current datetime and local timezone\n",
    "# 'US/Eastern'\n",
    "dt = datetime.datetime.now(tz)\n",
    "print(dt) # 2025-10-07 13:01:51.203107"
   ]
  },
  {
   "cell_type": "code",
   "execution_count": 8,
   "metadata": {},
   "outputs": [
    {
     "name": "stdout",
     "output_type": "stream",
     "text": [
      "\n",
      "\n"
     ]
    }
   ],
   "source": [
    "# 'US/Eastern'\n",
    "\n",
    "# tz = pytz.timezone('US/Pacific')\n",
    "# tz = pytz.timezone('GB')\n",
    "# tz = pytz.timezone('US/Arizona')\n",
    "# tz = pytz.timezone('Asia/Shanghai')\n",
    "# 2024-12-09 21:12:06.499933\n",
    "\n",
    "# adjust our dt to Japan time\n",
    "\n",
    "print()\n",
    "print()"
   ]
  },
  {
   "cell_type": "code",
   "execution_count": 9,
   "metadata": {
    "colab": {
     "base_uri": "https://localhost:8080/"
    },
    "executionInfo": {
     "elapsed": 17,
     "status": "ok",
     "timestamp": 1741714008755,
     "user": {
      "displayName": "Brian McClain",
      "userId": "08063899147261234403"
     },
     "user_tz": 240
    },
    "id": "gmKoHSJXgOAY",
    "outputId": "0ea57750-1a36-4838-bc3f-e08280cf1484"
   },
   "outputs": [
    {
     "name": "stdout",
     "output_type": "stream",
     "text": [
      "596\n",
      "['Africa/Abidjan',\n",
      " 'Africa/Timbuktu',\n",
      " 'America/Cuiaba',\n",
      " 'America/Maceio',\n",
      " 'America/Scoresbysund',\n",
      " 'Asia/Bishkek',\n",
      " 'Asia/Pontianak',\n",
      " 'Australia/Canberra',\n",
      " 'Etc/GMT+5',\n",
      " 'Europe/Kyiv',\n",
      " 'Indian/Antananarivo',\n",
      " 'Pacific/Marquesas']\n"
     ]
    }
   ],
   "source": [
    "# print out selection of timezone codes:\n",
    "tz_list = pytz.all_timezones\n",
    "# pp.pprint(tz_list)\n",
    "print(len(tz_list)) # 596\n",
    "# challenge: print every 50th timezone\n",
    "pp.pprint(tz_list[::50])\n"
   ]
  },
  {
   "cell_type": "code",
   "execution_count": 10,
   "metadata": {
    "colab": {
     "base_uri": "https://localhost:8080/"
    },
    "executionInfo": {
     "elapsed": 34,
     "status": "ok",
     "timestamp": 1741714008787,
     "user": {
      "displayName": "Brian McClain",
      "userId": "08063899147261234403"
     },
     "user_tz": 240
    },
    "id": "aKK6J-58VAB4",
    "outputId": "7dc9515d-80cf-4f43-f91b-6b50da482ece"
   },
   "outputs": [
    {
     "name": "stdout",
     "output_type": "stream",
     "text": [
      "2025\n"
     ]
    }
   ],
   "source": [
    "# get some indivual date / time values; get the year\n",
    "yr = dt.year\n",
    "print(yr)"
   ]
  },
  {
   "cell_type": "code",
   "execution_count": 11,
   "metadata": {
    "colab": {
     "base_uri": "https://localhost:8080/"
    },
    "executionInfo": {
     "elapsed": 19,
     "status": "ok",
     "timestamp": 1741714008788,
     "user": {
      "displayName": "Brian McClain",
      "userId": "08063899147261234403"
     },
     "user_tz": 240
    },
    "id": "pCEZc8BQVSAX",
    "outputId": "24541c44-70bf-47c7-f9db-800579883c12"
   },
   "outputs": [
    {
     "name": "stdout",
     "output_type": "stream",
     "text": [
      "10\n"
     ]
    }
   ],
   "source": [
    "# get month as int\n",
    "mo = dt.month\n",
    "print(mo)"
   ]
  },
  {
   "cell_type": "markdown",
   "metadata": {
    "id": "zuIBHrbWheO4"
   },
   "source": [
    "### **datetime.strftime(symbol)** returns dates (Month, Day of Week, Date Int)\n",
    "- **'%Y'** for 4-digit year (2025)\n",
    "- **'%y'** for 2-digit year (25)\n",
    "- **'\\'%y'** for 2-dig yr w apostrophe ('25)\n",
    "- **'%B'** for long month (January)\n",
    "- **'%b'** for short month (Jan)\n",
    "- **'%A'** for long day (Tuesday)\n",
    "- **'%a'** for short day (Tue)\n",
    "- **'%D'** for today's date as mo/date/yr\n",
    "- **'%d'** for date number as string\n",
    "- **'%H'** for hour (0-23) as string w leading 0\n",
    "- **'%M'** for minute (0-59) as string w leading 0\n",
    "- **'%S'** for second (0-59) as string w leading 0\n",
    "- **'%H:%M'** hr:min in mil time (14:05)\n",
    "- **'%H:%M:%S'** hr:min:sec (14:05:08)\n",
    "- **'%I:%M %p'** hr:min non-mil (01:23 PM)\n",
    "- **'%A, %B %d, %Y'** Tuesday, May 7, 2025\n",
    "- **'%a, %b %d, '%Y'** Tue, Oct 7, 2025"
   ]
  },
  {
   "cell_type": "code",
   "execution_count": 12,
   "metadata": {
    "colab": {
     "base_uri": "https://localhost:8080/"
    },
    "executionInfo": {
     "elapsed": 17,
     "status": "ok",
     "timestamp": 1741714008788,
     "user": {
      "displayName": "Brian McClain",
      "userId": "08063899147261234403"
     },
     "user_tz": 240
    },
    "id": "qzXoNCb_VSZ1",
    "outputId": "9d2c2117-f985-4d2b-a271-be3e1000db43"
   },
   "outputs": [
    {
     "name": "stdout",
     "output_type": "stream",
     "text": [
      "October\n"
     ]
    }
   ],
   "source": [
    "# get full month string\n",
    "month_string = dt.strftime('%B')\n",
    "print(month_string)"
   ]
  },
  {
   "cell_type": "code",
   "execution_count": 13,
   "metadata": {
    "colab": {
     "base_uri": "https://localhost:8080/"
    },
    "executionInfo": {
     "elapsed": 10,
     "status": "ok",
     "timestamp": 1741714008790,
     "user": {
      "displayName": "Brian McClain",
      "userId": "08063899147261234403"
     },
     "user_tz": 240
    },
    "id": "TMbRrCQxVSkV",
    "outputId": "99c191c3-65da-4a7e-9826-70c7789303ad"
   },
   "outputs": [
    {
     "name": "stdout",
     "output_type": "stream",
     "text": [
      "Oct\n"
     ]
    }
   ],
   "source": [
    "# get abbrev month string\n",
    "mo_str = dt.strftime('%b')\n",
    "print(mo_str)"
   ]
  },
  {
   "cell_type": "code",
   "execution_count": 14,
   "metadata": {
    "colab": {
     "base_uri": "https://localhost:8080/"
    },
    "executionInfo": {
     "elapsed": 9,
     "status": "ok",
     "timestamp": 1741714008799,
     "user": {
      "displayName": "Brian McClain",
      "userId": "08063899147261234403"
     },
     "user_tz": 240
    },
    "id": "HAaFd12SiOrk",
    "outputId": "15de796e-3650-4d0d-d33e-413c7544404f"
   },
   "outputs": [
    {
     "name": "stdout",
     "output_type": "stream",
     "text": [
      "Wednesday\n"
     ]
    }
   ],
   "source": [
    "# get full day string\n",
    "day_string = dt.strftime('%A')\n",
    "print(day_string)"
   ]
  },
  {
   "cell_type": "code",
   "execution_count": 15,
   "metadata": {
    "colab": {
     "base_uri": "https://localhost:8080/"
    },
    "executionInfo": {
     "elapsed": 30,
     "status": "ok",
     "timestamp": 1741714008830,
     "user": {
      "displayName": "Brian McClain",
      "userId": "08063899147261234403"
     },
     "user_tz": 240
    },
    "id": "9soJ5HrDiYgM",
    "outputId": "71603a8f-036f-4927-8f6e-025bf047d778"
   },
   "outputs": [
    {
     "name": "stdout",
     "output_type": "stream",
     "text": [
      "Wed\n"
     ]
    }
   ],
   "source": [
    "# get abbrev day string\n",
    "day_str = dt.strftime('%a')\n",
    "print(day_str)"
   ]
  },
  {
   "cell_type": "code",
   "execution_count": 16,
   "metadata": {
    "colab": {
     "base_uri": "https://localhost:8080/"
    },
    "executionInfo": {
     "elapsed": 20,
     "status": "ok",
     "timestamp": 1741714008831,
     "user": {
      "displayName": "Brian McClain",
      "userId": "08063899147261234403"
     },
     "user_tz": 240
    },
    "id": "otcTxqXEilS6",
    "outputId": "eed015cd-300f-4981-87b8-cc0143e5fdbb"
   },
   "outputs": [
    {
     "name": "stdout",
     "output_type": "stream",
     "text": [
      "10/08/25\n"
     ]
    }
   ],
   "source": [
    "# get today's date as month / date / year\n",
    "todays_full_date = dt.strftime('%D')\n",
    "print(todays_full_date)"
   ]
  },
  {
   "cell_type": "code",
   "execution_count": 17,
   "metadata": {
    "colab": {
     "base_uri": "https://localhost:8080/"
    },
    "executionInfo": {
     "elapsed": 18,
     "status": "ok",
     "timestamp": 1741714008831,
     "user": {
      "displayName": "Brian McClain",
      "userId": "08063899147261234403"
     },
     "user_tz": 240
    },
    "id": "bBFXzybNjJ_0",
    "outputId": "1348c550-c701-4600-cef9-b34c75086546"
   },
   "outputs": [
    {
     "name": "stdout",
     "output_type": "stream",
     "text": [
      "08\n",
      "<class 'str'>\n",
      "8\n",
      "<class 'int'>\n"
     ]
    }
   ],
   "source": [
    "# get just the date as int (28) -- strftime returns strings only, \n",
    "# so pass result to int()\n",
    "todays_date_str = dt.strftime('%d')\n",
    "print(todays_date_str)\n",
    "print(type(todays_date_str))\n",
    "todays_date_num = int(todays_date_str)\n",
    "print(todays_date_num)\n",
    "print(type(todays_date_num))"
   ]
  },
  {
   "cell_type": "code",
   "execution_count": 18,
   "metadata": {
    "colab": {
     "base_uri": "https://localhost:8080/"
    },
    "executionInfo": {
     "elapsed": 18,
     "status": "ok",
     "timestamp": 1741714008841,
     "user": {
      "displayName": "Brian McClain",
      "userId": "08063899147261234403"
     },
     "user_tz": 240
    },
    "id": "bLVQ8cBfVSsW",
    "outputId": "01a1fd22-0182-4331-f25c-53311e704362"
   },
   "outputs": [
    {
     "name": "stdout",
     "output_type": "stream",
     "text": [
      "4 <class 'int'>\n",
      "04 <class 'str'>\n"
     ]
    }
   ],
   "source": [
    "# get current hour as int (no leading 0)\n",
    "hr_int = dt.hour\n",
    "print(hr_int, type(hr_int)) # 0-23\n",
    "# get hour as str (leading 0 as needed)\n",
    "hr_str = dt.strftime('%H')\n",
    "print(hr_str, type(hr_str)) # 0-23"
   ]
  },
  {
   "cell_type": "code",
   "execution_count": 19,
   "metadata": {
    "colab": {
     "base_uri": "https://localhost:8080/"
    },
    "executionInfo": {
     "elapsed": 6,
     "status": "ok",
     "timestamp": 1741714008847,
     "user": {
      "displayName": "Brian McClain",
      "userId": "08063899147261234403"
     },
     "user_tz": 240
    },
    "id": "A5xxajQaVS0_",
    "outputId": "930bd230-d214-4d3f-ae17-e0dfb1a8ace1"
   },
   "outputs": [
    {
     "name": "stdout",
     "output_type": "stream",
     "text": [
      "0 <class 'int'>\n",
      "00 <class 'str'>\n"
     ]
    }
   ],
   "source": [
    "# get current minute as int (no leading 0)\n",
    "min_int = dt.minute\n",
    "print(min_int, type(min_int)) # 0-59\n",
    "# get minutes as str (leading 0 as needed)\n",
    "min_str = dt.strftime('%M')\n",
    "print(min_str, type(min_str)) # 0-59"
   ]
  },
  {
   "cell_type": "code",
   "execution_count": 20,
   "metadata": {
    "colab": {
     "base_uri": "https://localhost:8080/"
    },
    "executionInfo": {
     "elapsed": 14,
     "status": "ok",
     "timestamp": 1741714008864,
     "user": {
      "displayName": "Brian McClain",
      "userId": "08063899147261234403"
     },
     "user_tz": 240
    },
    "id": "_tyEDMlrkXZd",
    "outputId": "62c02bdd-191b-4375-fd77-19c8222cf707"
   },
   "outputs": [
    {
     "name": "stdout",
     "output_type": "stream",
     "text": [
      "53\n",
      "53\n"
     ]
    }
   ],
   "source": [
    "# get current second\n",
    "sec = dt.second\n",
    "print(sec)\n",
    "sec_str = dt.strftime('%S')\n",
    "print(sec_str) # leading 0"
   ]
  },
  {
   "cell_type": "code",
   "execution_count": 21,
   "metadata": {
    "colab": {
     "base_uri": "https://localhost:8080/"
    },
    "executionInfo": {
     "elapsed": 18,
     "status": "ok",
     "timestamp": 1741714008883,
     "user": {
      "displayName": "Brian McClain",
      "userId": "08063899147261234403"
     },
     "user_tz": 240
    },
    "id": "_eCcvu0xWHH-",
    "outputId": "86def1c8-528e-445c-aff2-676a0f58e031"
   },
   "outputs": [
    {
     "name": "stdout",
     "output_type": "stream",
     "text": [
      "04:00\n",
      "04:00\n"
     ]
    }
   ],
   "source": [
    "# get full time in mil format\n",
    "mil_time = dt.strftime('%H:%M')\n",
    "print(mil_time)\n",
    "# easier than concatenating the time:\n",
    "mil_time = dt.strftime('%H') + \":\" + dt.strftime('%M')\n",
    "print(mil_time)"
   ]
  },
  {
   "cell_type": "code",
   "execution_count": 22,
   "metadata": {},
   "outputs": [
    {
     "name": "stdout",
     "output_type": "stream",
     "text": [
      "04:00:53\n"
     ]
    }
   ],
   "source": [
    "# same as above but with seconds\n",
    "mil_time_hms = dt.strftime('%H:%M:%S')\n",
    "print(mil_time_hms)"
   ]
  },
  {
   "cell_type": "code",
   "execution_count": 23,
   "metadata": {
    "colab": {
     "base_uri": "https://localhost:8080/"
    },
    "executionInfo": {
     "elapsed": 1,
     "status": "ok",
     "timestamp": 1741714008899,
     "user": {
      "displayName": "Brian McClain",
      "userId": "08063899147261234403"
     },
     "user_tz": 240
    },
    "id": "fBMk8OJQWHim",
    "outputId": "dfdbfb21-1218-4b3d-df33-57654230531e"
   },
   "outputs": [
    {
     "name": "stdout",
     "output_type": "stream",
     "text": [
      "04:00 AM\n"
     ]
    }
   ],
   "source": [
    "# get AM-PM time\n",
    "am_pm_time = dt.strftime('%I:%M %p')\n",
    "print(am_pm_time) # 11:59 PM"
   ]
  },
  {
   "cell_type": "code",
   "execution_count": 24,
   "metadata": {
    "colab": {
     "base_uri": "https://localhost:8080/"
    },
    "executionInfo": {
     "elapsed": 50,
     "status": "ok",
     "timestamp": 1741714008963,
     "user": {
      "displayName": "Brian McClain",
      "userId": "08063899147261234403"
     },
     "user_tz": 240
    },
    "id": "XcsmqdXeW0GB",
    "outputId": "4f0984c9-41ed-4663-f921-f36deaa1f546"
   },
   "outputs": [
    {
     "name": "stdout",
     "output_type": "stream",
     "text": [
      "Wednesday, October 08, 2025\n"
     ]
    }
   ],
   "source": [
    "# get todays full date: \n",
    "# Tuesday, October 7, 2025\n",
    "long_full_date = dt.strftime('%A, %B %d, %Y')\n",
    "print(long_full_date)"
   ]
  },
  {
   "cell_type": "code",
   "execution_count": 25,
   "metadata": {
    "colab": {
     "base_uri": "https://localhost:8080/"
    },
    "executionInfo": {
     "elapsed": 3,
     "status": "ok",
     "timestamp": 1741714008966,
     "user": {
      "displayName": "Brian McClain",
      "userId": "08063899147261234403"
     },
     "user_tz": 240
    },
    "id": "nUWbSXWeXOA_",
    "outputId": "37c3f4d6-188a-4573-84d1-0f3e32dafb3c"
   },
   "outputs": [
    {
     "name": "stdout",
     "output_type": "stream",
     "text": [
      "Wed, Oct 08, 2025\n"
     ]
    }
   ],
   "source": [
    "# get todays abbrev date\n",
    "short_full_date = dt.strftime(\"%a, %b %d, %Y\")\n",
    "print(short_full_date)"
   ]
  },
  {
   "cell_type": "code",
   "execution_count": 26,
   "metadata": {
    "colab": {
     "base_uri": "https://localhost:8080/"
    },
    "executionInfo": {
     "elapsed": 48,
     "status": "ok",
     "timestamp": 1741714009015,
     "user": {
      "displayName": "Brian McClain",
      "userId": "08063899147261234403"
     },
     "user_tz": 240
    },
    "id": "W738xJVnYFgj",
    "outputId": "7d9fde03-843a-46e8-9f94-29a6779910f9"
   },
   "outputs": [
    {
     "name": "stdout",
     "output_type": "stream",
     "text": [
      "../images/good-morning-coffee-cup.jpg\n",
      "Good Morning\n"
     ]
    },
    {
     "data": {
      "image/jpeg": "[encoded data removed]",
      "text/plain": [
       "<IPython.core.display.Image object>"
      ]
     },
     "execution_count": 26,
     "metadata": {
      "image/jpeg": {
       "width": 175
      }
     },
     "output_type": "execute_result"
    }
   ],
   "source": [
    "# CHALLENGE A: \"Timely Greeting\"\n",
    "# # if-elif-else with datetime module\n",
    "# make a \"Timely Greeting\" based on current hour\n",
    "# don't just print the greeting -- save it to a variable\n",
    "# then print the greeting variable\n",
    "# hard code hr for testing\n",
    "# hr = 18\n",
    "hr = dt.hour\n",
    "# hr = 22\n",
    "# start w empty string\n",
    "# greeting = \"\"\n",
    "# cup_img_path = \"../images/\"\n",
    "\n",
    "if hr < 12:\n",
    "    greeting = \"Good Morning\"\n",
    "    # cup_img_path += \"good-morning-coffee-cup.jpg\"\n",
    "# check 12-18 range\n",
    "elif hr < 18:\n",
    "    greeting = \"Good Afternoon\"\n",
    "    # cup_img_path += \"good-afternoon-coffee-cup.jpg\"\n",
    "else:\n",
    "    greeting = \"Good Evening\"\n",
    "    # cup_img_path += \"good-evening-coffee-cup.jpg\"\n",
    "# hr is 18-23\n",
    "# \"Good Evening\"\n",
    "# 0-23\n",
    "# str = str.replace(find,replace)\n",
    "cup_img = \"../images/\" + greeting.replace(\" \",\"-\").lower() + \"-coffee-cup.jpg\"\n",
    "print(cup_img)\n",
    "print(greeting)\n",
    "Image(cup_img, width=175)"
   ]
  },
  {
   "cell_type": "code",
   "execution_count": 27,
   "metadata": {},
   "outputs": [],
   "source": [
    "# Image(\"../images/good-morning-coffee-cup.jpg\",width=150)"
   ]
  },
  {
   "cell_type": "code",
   "execution_count": 83,
   "metadata": {},
   "outputs": [
    {
     "name": "stdout",
     "output_type": "stream",
     "text": [
      "True\n",
      "False\n",
      "True\n"
     ]
    }
   ],
   "source": [
    "print(\"6\".isdigit())\n",
    "print(\"(917) 555-1212\".isdigit())\n",
    "print(not \"(917) 555-1212\".isdigit())"
   ]
  },
  {
   "cell_type": "code",
   "execution_count": 85,
   "metadata": {},
   "outputs": [
    {
     "name": "stdout",
     "output_type": "stream",
     "text": [
      "Invalid Input! Score must be number from 0-100\n"
     ]
    }
   ],
   "source": [
    "# CHALLENGE B: LESSON 2 REVIEW\n",
    "# validate number range in if-elif-else\n",
    "# scenario: user enters a test score from 0-100\n",
    "# code prints letter grade from A-F\n",
    "# assume digit input BUT do not assume 0-100\n",
    "# reject neg nums and nums greater than 100:\n",
    "# \"Invalid Input! Score must be 0-100\"\n",
    "# any float should be rounded off to nearest int\n",
    "\n",
    "score = input(\"Enter Test Score (0-100): \")\n",
    "\n",
    "# check if the input is a digit between 0-100, reject non-digits and out of bounds numbers\n",
    "if not score.isdigit() or score < 0 or score > 100:\n",
    "    print(\"Invalid Input! Score must be number from 0-100\")\n",
    "else: # we have valid digits so get grade and output report card\n",
    "    score = round(float(score))\n",
    "    if score >= 90:\n",
    "        grade = \"A\"\n",
    "    elif score >= 80:\n",
    "        grade = \"B\"\n",
    "    elif score >= 70:\n",
    "        grade = \"C\"\n",
    "    elif score >= 60:\n",
    "        grade = \"D\"\n",
    "    else:\n",
    "        grade = \"F\"\n",
    "    report_card = \"Score: \" + str(score) + \" : Grade: \" + grade\n",
    "    print(report_card)\n",
    "\n",
    "# sample output:\n",
    "# Score: 97 - Grade: A\n",
    "# Score: 87 - Grade: B\n",
    "# Score: 77 - Grade: C\n",
    "# Score: 67 - Grade: D\n",
    "# Score: 57 - Grade: F\n"
   ]
  },
  {
   "cell_type": "code",
   "execution_count": 51,
   "metadata": {
    "colab": {
     "base_uri": "https://localhost:8080/"
    },
    "executionInfo": {
     "elapsed": 33,
     "status": "ok",
     "timestamp": 1741714009049,
     "user": {
      "displayName": "Brian McClain",
      "userId": "08063899147261234403"
     },
     "user_tz": 240
    },
    "id": "cBtaH_hWZY1V",
    "outputId": "aebcffe0-f05c-4973-b014-68f195341ff3"
   },
   "outputs": [
    {
     "name": "stdout",
     "output_type": "stream",
     "text": [
      "0.39948976595156493\n",
      "399.48976595156495\n",
      "399\n",
      "243\n"
     ]
    }
   ],
   "source": [
    "# generate a random number\n",
    "# random.random() generates 16-digit float from 0-1\n",
    "r = random.random()\n",
    "print(r) # 0.5789948590199665\n",
    "\n",
    "# multiply r by 1000 and round it off\n",
    "r = r * 1000\n",
    "print(r)\n",
    "\n",
    "r = round(r)\n",
    "print(r)\n"
   ]
  },
  {
   "cell_type": "markdown",
   "metadata": {
    "id": "wIwh1fxnaSo2"
   },
   "source": [
    "### **random.randint(min,max_incl)**\n",
    "- returns a random integer in the min-max range\n",
    "- max value is inclusive"
   ]
  },
  {
   "cell_type": "code",
   "execution_count": 64,
   "metadata": {
    "colab": {
     "base_uri": "https://localhost:8080/"
    },
    "executionInfo": {
     "elapsed": 2,
     "status": "ok",
     "timestamp": 1741714009051,
     "user": {
      "displayName": "Brian McClain",
      "userId": "08063899147261234403"
     },
     "user_tz": 240
    },
    "id": "9j57hauCZpkz",
    "outputId": "4ec46013-b7ec-4648-f153-9199cf85d779"
   },
   "outputs": [
    {
     "name": "stdout",
     "output_type": "stream",
     "text": [
      "4\n"
     ]
    }
   ],
   "source": [
    "r = random.randint(1,5)\n",
    "print(r) # getting a 5 proves that the end value is INCLUSIVE"
   ]
  },
  {
   "cell_type": "code",
   "execution_count": 72,
   "metadata": {
    "colab": {
     "base_uri": "https://localhost:8080/"
    },
    "executionInfo": {
     "elapsed": 2,
     "status": "ok",
     "timestamp": 1741714009053,
     "user": {
      "displayName": "Brian McClain",
      "userId": "08063899147261234403"
     },
     "user_tz": 240
    },
    "id": "wv3gGLBNaI_u",
    "outputId": "6647021e-dd62-4cb4-f076-bb590f2ea267"
   },
   "outputs": [
    {
     "name": "stdout",
     "output_type": "stream",
     "text": [
      "Your SAT Score Report:\n",
      "Math: 490 | Eng: 520\n"
     ]
    }
   ],
   "source": [
    "# generate 2 random SAT scores, one Math, one Eng\n",
    "# SAT scores are in 200-800 range (make the minimum 400)\n",
    "# and print a message\n",
    "# BONUS: Make the scores end in ZERO\n",
    "# HINT: a number in the 40-80 range is a good start..\n",
    "math_sat = random.randint(40,80) * 10\n",
    "verb_sat = random.randint(40,80) * 10\n",
    "score_report = \"Your SAT Score Report:\\nMath: \" + str(math_sat) + \" | Eng: \" + str(verb_sat)\n",
    "\n",
    "print(score_report)"
   ]
  },
  {
   "cell_type": "markdown",
   "metadata": {
    "id": "KVyGHlHnc1N6"
   },
   "source": [
    "### **random.randrange(min,max,step)**\n",
    "- returns a random integer in the min-max range, with values in the step increment"
   ]
  },
  {
   "cell_type": "code",
   "execution_count": 76,
   "metadata": {
    "colab": {
     "base_uri": "https://localhost:8080/"
    },
    "executionInfo": {
     "elapsed": 6,
     "status": "ok",
     "timestamp": 1741714009059,
     "user": {
      "displayName": "Brian McClain",
      "userId": "08063899147261234403"
     },
     "user_tz": 240
    },
    "id": "sONtbHP2ca2u",
    "outputId": "87bbf376-f3e0-436e-8619-5e8df69fed30"
   },
   "outputs": [
    {
     "name": "stdout",
     "output_type": "stream",
     "text": [
      "Your SAT Score Report:\n",
      "Math: 590 | Eng: 680\n"
     ]
    }
   ],
   "source": [
    "# OR: have score end in 10 by adding STEP of 10\n",
    "math_sat = random.randrange(400,800,10)\n",
    "verb_sat = random.randrange(400,800,10)\n",
    "score_report = \"Your SAT Score Report:\\nMath: \" + str(math_sat) + \" | Eng: \" + str(verb_sat)\n",
    "\n",
    "print(score_report)"
   ]
  },
  {
   "cell_type": "markdown",
   "metadata": {},
   "source": [
    "### - **in** and **not in** check if value and returns a boolean\n",
    "### - **if item in list** or **if item not in list**\n",
    "### - **if score.isdigit()** or **if not score.isdigit()**"
   ]
  },
  {
   "cell_type": "markdown",
   "metadata": {},
   "source": [
    "### **input() validation** reject non-digits\n",
    "- **score.isdigit()** returns True if score is digits (which can be converted to actual number)\n",
    "- **not score.isdigit()** returns True if score is NOT digits (which CANNOT be converted to actual number)\n",
    "\n",
    "```python\n",
    "score = input(\"Score: \")\n",
    "if not score.isdigit() or int(score) < 0 or int(score) > 100:\n",
    "    print(\"Invalid input! Please enter a Score from 0-100\")\n",
    "```"
   ]
  },
  {
   "cell_type": "markdown",
   "metadata": {},
   "source": [
    "- ### **input() validation** reject empty strings, digits, or even presence of digits\n",
    "```python\n",
    "if not new_pet or new_pet.isdigit() or any(char.isdigit() for char in new_pet):\n",
    "```\n",
    "- **if new_pet** returns True if new_pet exists (empty strings return False)\n",
    "- **if not new_pet** returns True if new_pet is empty string\n",
    "- **new_pet.isdigit()** returns True if new_pet consists of all stringy digits, such as **\"893\"**\n",
    "- **any(char.isdigit() for char in new_pet)** returns True if any chars in new_pet is a digit, such as **\"cat99\"**"
   ]
  },
  {
   "cell_type": "code",
   "execution_count": 102,
   "metadata": {},
   "outputs": [],
   "source": [
    "eligible_pets = [\"dog\", \"cat\", \"bunny\", \"hamster\", \"guinea pig\", \"goldfish\", \"parakeet\", \"canary\", \"cockatiel\", \"parrot\", \"ferret\", \"turtle\", \"lizard\", \"snake\", \"gecko\", \"chinchilla\", \"hedgehog\", \"mouse\", \"rat\", \"frog\", \"zebra fish\", \"newt\", \"salamander\", \"tarantula\", \"hermit crab\", \"bearded dragon\", \"tortoise\", \"mini pig\", \"gerbil\", \"alpaca\", \"goat\", \"chicken\", \"duck\", \"turkey\", \"sheep\", \"horse\", \"pony\", \"macaw\", \"chameleon\", \"iguana\"]\n",
    "\n",
    "pet_shop = [] # new empty list to hold new pets"
   ]
  },
  {
   "cell_type": "code",
   "execution_count": 107,
   "metadata": {},
   "outputs": [
    {
     "name": "stdout",
     "output_type": "stream",
     "text": [
      "Oops! \"Candy\" is not an eligible pet!\n"
     ]
    }
   ],
   "source": [
    "new_pet = input(\"Add a Pet to Pet Shop..\")\n",
    "# validation: reject if any of these 3 things are True:\n",
    "# 1. new_pet is an empty string (not new_pet is true for \"\")\n",
    "if not new_pet: # hit enter without typing anything\n",
    "    print(\"Oops! You didn't type anything.!\")\n",
    "# 2. new_pet is a digit or has a digit in it\n",
    "elif new_pet.isdigit():\n",
    "    print(\"Oops! Enter a pet name--not a number!\")\n",
    "# 3 pet is already in the pet shop\n",
    "elif new_pet in pet_shop:\n",
    "    print(\"Oops! Pet shop already has a \" + new_pet + \"!\")\n",
    "# if we made it this far, we have a new eligible pet to add:\n",
    "elif new_pet not in eligible_pets:\n",
    "    print(\"Oops! \\\"\" + new_pet.capitalize() + \"\\\" is not an eligible pet!\")\n",
    "else:\n",
    "    pet_shop.append(new_pet)\n",
    "    print(pet_shop)"
   ]
  },
  {
   "cell_type": "code",
   "execution_count": 174,
   "metadata": {},
   "outputs": [],
   "source": [
    "# CHALLENGE: Given this list of eligible vegetables\n",
    "eligible_vegetables = [\"carrot\", \"broccoli\", \"cauliflower\", \"spinach\", \"kale\", \"lettuce\", \"cabbage\", \"celery\", \"cucumber\", \"zucchini\", \"eggplant\", \"bell pepper\", \"chili pepper\", \"tomato\", \"potato\", \"sweet potato\", \"onion\", \"garlic\", \"leek\", \"shallot\", \"radish\", \"turnip\", \"beet\", \"parsnip\", \"artichoke\", \"asparagus\", \"brussels sprouts\", \"bok choy\", \"collard greens\", \"mustard greens\", \"swiss chard\", \"green bean\", \"snap pea\", \"snow pea\", \"okra\", \"peas\", \"butternut squash\", \"acorn squash\", \"pumpkin\", \"yam\"]\n",
    "\n",
    "# add vegetables to the garden\n",
    "garden = []\n"
   ]
  },
  {
   "cell_type": "code",
   "execution_count": 176,
   "metadata": {},
   "outputs": [
    {
     "name": "stdout",
     "output_type": "stream",
     "text": [
      "That's NOT an eligible vegetable!\n",
      "['carrot']\n"
     ]
    }
   ],
   "source": [
    "\n",
    "# make an input\n",
    "# save result as veg\n",
    "veg = input(\"Add a vegeble to the garden..\")\n",
    "\n",
    "# reject invalid input: empty string, digits\n",
    "if not veg: # hit enter without typing anything\n",
    "    print(\"Oops! You didn't type anything.!\")\n",
    "elif veg.isdigit():\n",
    "    print(\"Oops! Don't enter a number!\")\n",
    "# if aleady have 10 veggies, \"Garden is FULL\"\n",
    "elif len(garden) == 10:\n",
    "    print(\"Sorry! Garden has 10 veggies--it is FULL!\")\n",
    "elif veg == \"random\" or veg == \"rand\" or veg == \"r\":\n",
    "    rand_veg = random.choice(eligible_vegetables)\n",
    "    # if rand_veg not in garden:\n",
    "    garden.append(rand_veg)\n",
    "    # remove rand_veg from eligible_vegetables so cannot be reused\n",
    "    eligible_vegetables.remove(rand_veg)\n",
    "    print(\"Random Vegetable added to garden!\")\n",
    "    # else:\n",
    "    #     print(\"Random vegetable already in garden!\")\n",
    "# if veg is not eligible, reject\n",
    "elif veg not in eligible_vegetables:\n",
    "    # check if it ends in \"s\" and alert user\n",
    "    if veg[-1] == \"s\":\n",
    "        print(\"That's NOT an eligible vegetable, but it ends in 's'. Is it a plural form? The veggies must be singular!\")\n",
    "    else:\n",
    "        print(\"That's NOT an eligible vegetable!\")\n",
    "# # if eligible but already in garden, reject\n",
    "# elif veg in garden:\n",
    "#     print(\"Vegetable is already in the garden!\")\n",
    "else: # add the veg to the garden\n",
    "    garden.append(veg)\n",
    "    eligible_vegetables.remove(veg)\n",
    "print(garden)\n",
    "\n",
    "# SUPER-BONUS: let the user enter \"random\" to get a random veg added to garden\n",
    "# random might result in \"sorry! This veg is already in the garden! Try again\"\n",
    "# SUPER-UBER-BONUS: remove each item from eligible list so that it can never be chosen again\n"
   ]
  },
  {
   "cell_type": "code",
   "execution_count": 189,
   "metadata": {
    "colab": {
     "base_uri": "https://localhost:8080/"
    },
    "executionInfo": {
     "elapsed": 12,
     "status": "ok",
     "timestamp": 1741714009071,
     "user": {
      "displayName": "Brian McClain",
      "userId": "08063899147261234403"
     },
     "user_tz": 240
    },
    "id": "4bNaXSbac8u1",
    "outputId": "4e703950-c678-47db-e7c8-49f44a0654f8"
   },
   "outputs": [
    {
     "name": "stdout",
     "output_type": "stream",
     "text": [
      "No Olympics held in 1916\n"
     ]
    }
   ],
   "source": [
    "# challenge: generate and print ONE Olympic year (Summer Olympics)\n",
    "# min: 1896, max: 2024 (1896, 1900, 1904, 1908, 1912, 1929, 1924 ... 2012, 2016, 2020, 2024)\n",
    "# bonus: handle no-Olympics war years with conditional logic (1916,1940,1944)\n",
    "# if you get a war year, add or subtract some value to get a valid year\n",
    "\n",
    "# no olympics held during these war years:\n",
    "war_years = [1916, 1940, 1944]\n",
    " \n",
    "# generate a rand int from 1896-2024 in mulitples of 4    \n",
    "olympic_year = random.randrange(1896,2024,4)\n",
    "# check if it's a war year and if so, say \"No olympics\" else print the year\n",
    "if olympic_year in war_years:\n",
    "    print(\"No Olympics held in \" + str(olympic_year))\n",
    "else:\n",
    "    print(olympic_year)"
   ]
  },
  {
   "cell_type": "markdown",
   "metadata": {
    "id": "8Xs6oepheIMO"
   },
   "source": [
    "- ### **range(min,max_excl)** returns all numbers in the min-max_excl range\n",
    "- ### **range(max_excl)** omit min to start at 0\n",
    "- ### **list(range(min,max_excl))** returns a list of numbers in the min-max_excl range\n",
    "- ### **random.sample(range(min,max_excl),count)**\n",
    "- returns multiple unique random ints in the min-max range"
   ]
  },
  {
   "cell_type": "code",
   "execution_count": 194,
   "metadata": {
    "colab": {
     "base_uri": "https://localhost:8080/"
    },
    "executionInfo": {
     "elapsed": 2,
     "status": "ok",
     "timestamp": 1741714009072,
     "user": {
      "displayName": "Brian McClain",
      "userId": "08063899147261234403"
     },
     "user_tz": 240
    },
    "id": "YTb60-g_ea0E",
    "outputId": "de38f901-f39b-409e-bd9d-90694e14f699"
   },
   "outputs": [
    {
     "name": "stdout",
     "output_type": "stream",
     "text": [
      "[1, 2, 3, 4, 5, 6, 7, 8, 9, 10]\n",
      "[0, 1, 2, 3, 4, 5, 6, 7, 8, 9, 10]\n"
     ]
    }
   ],
   "source": [
    "# make a list of consecutive ints using range(min,max_excl)\n",
    "nums = list(range(1,11))\n",
    "print(nums)\n",
    "nums = list(range(11))\n",
    "print(nums)\n"
   ]
  },
  {
   "cell_type": "code",
   "execution_count": 212,
   "metadata": {
    "colab": {
     "base_uri": "https://localhost:8080/"
    },
    "executionInfo": {
     "elapsed": 1,
     "status": "ok",
     "timestamp": 1741714009074,
     "user": {
      "displayName": "Brian McClain",
      "userId": "08063899147261234403"
     },
     "user_tz": 240
    },
    "id": "1mpx_tuSfHYn",
    "outputId": "4343de77-7015-429e-c0ee-a02fab6352b4"
   },
   "outputs": [
    {
     "name": "stdout",
     "output_type": "stream",
     "text": [
      "[1, 13, 15, 45, 68, 1]\n"
     ]
    }
   ],
   "source": [
    "# make a lottery ticket of 5 unique rand ints in the 1-69 range:\n",
    "lottery_numbers = random.sample(range(1,70),5)\n",
    "# CHALLENGE:\n",
    "# i.) Sort the numbers in ascending order\n",
    "lottery_numbers.sort()\n",
    "# ii.) Generate the Powerball number (1-26) \n",
    "powerball_num = random.randint(1,26)\n",
    "#   and add it to the Powerball number list of lottery numbers\n",
    "lottery_numbers.append(powerball_num)\n",
    "# iii.) print 6-number ticket: 5 unique nums (1-69) + powerball (1-26)\n",
    "print(lottery_numbers)"
   ]
  },
  {
   "cell_type": "markdown",
   "metadata": {
    "id": "VWfGSdRshagi"
   },
   "source": [
    "### **random.shuffle(list)**\n",
    "- randomizes (shuffles) the items in a list\n",
    "- shuffle operates in place -- no return value"
   ]
  },
  {
   "cell_type": "code",
   "execution_count": 213,
   "metadata": {
    "colab": {
     "base_uri": "https://localhost:8080/"
    },
    "executionInfo": {
     "elapsed": 0,
     "status": "ok",
     "timestamp": 1741714009074,
     "user": {
      "displayName": "Brian McClain",
      "userId": "08063899147261234403"
     },
     "user_tz": 240
    },
    "id": "I_QF5m9ahwCw",
    "outputId": "5c0f585b-38a6-425b-c95e-dc1f218922a1"
   },
   "outputs": [
    {
     "name": "stdout",
     "output_type": "stream",
     "text": [
      "[1, 2, 3, 4, 5, 6, 7, 8, 9, 10, 11, 12, 13, 14, 15, 16, 17, 18, 19, 20, 21, 22, 23, 24, 25, 26, 27, 28, 29, 30, 31, 32, 33, 34, 35, 36, 37, 38, 39, 40, 41, 42, 43, 44, 45, 46, 47, 48, 49, 50, 51, 52]\n"
     ]
    }
   ],
   "source": [
    "# make a list of consec ints from 1-52\n",
    "deck_of_cards = list(range(1,53))\n",
    "print(deck_of_cards)"
   ]
  },
  {
   "cell_type": "code",
   "execution_count": 214,
   "metadata": {
    "colab": {
     "base_uri": "https://localhost:8080/"
    },
    "executionInfo": {
     "elapsed": 0,
     "status": "ok",
     "timestamp": 1741714009075,
     "user": {
      "displayName": "Brian McClain",
      "userId": "08063899147261234403"
     },
     "user_tz": 240
    },
    "id": "bOFF_6aF6L3G",
    "outputId": "9ac7f32f-9cc1-430c-bbbd-790d0828932b"
   },
   "outputs": [
    {
     "name": "stdout",
     "output_type": "stream",
     "text": [
      "[28, 39, 24, 19, 3, 49, 7, 18, 13, 26, 37, 12, 44, 46, 47, 16, 17, 23, 6, 1, 41, 33, 48, 14, 31, 40, 11, 10, 43, 51, 52, 29, 50, 2, 4, 38, 9, 21, 35, 20, 32, 27, 45, 42, 15, 36, 22, 30, 5, 34, 25, 8]\n"
     ]
    }
   ],
   "source": [
    "# shuffle the deck of cards:\n",
    "random.shuffle(deck_of_cards)\n",
    "print(deck_of_cards)"
   ]
  },
  {
   "cell_type": "code",
   "execution_count": 215,
   "metadata": {},
   "outputs": [
    {
     "name": "stdout",
     "output_type": "stream",
     "text": [
      "[1, 2, 3, 4, 5, 6, 7, 8, 9, 10, 11, 12, 13, 14, 15, 16, 17, 18, 19, 20, 21, 22, 23, 24, 25, 26, 27, 28, 29, 30, 31, 32, 33, 34, 35, 36, 37, 38, 39, 40, 41, 42, 43, 44, 45, 46, 47, 48, 49, 50, 51, 52]\n"
     ]
    }
   ],
   "source": [
    "# sort the shuffled deck (put back to original state)\n",
    "deck_of_cards.sort()\n",
    "print(deck_of_cards)\n"
   ]
  },
  {
   "cell_type": "markdown",
   "metadata": {},
   "source": [
    "- **mutable vs immutable**\n",
    "- **mutable** can be changed (lists are mutable)\n",
    "    - proof of this is we can do stuff to a list (call methods on it)\n",
    "    - the list method call is not always set equal to a variable\n",
    "    - this proves that the change to the list occurred \"in place\" \n",
    "    - hence the term mutable"
   ]
  },
  {
   "cell_type": "code",
   "execution_count": 43,
   "metadata": {},
   "outputs": [],
   "source": [
    "# lists, being mutable, can be changed \"in place\" (no assignment =)\n",
    "\n",
    "# randomize nums in place (do not set move equal to var)\n",
    "# in other words, do not do this:\n",
    "# nums = random.shuffle(nums)\n",
    "\n",
    "# sort nums in place (do not set move equal to var)\n",
    "# in other words, do not do this:\n",
    "# nums = nums.sort()\n"
   ]
  },
  {
   "cell_type": "markdown",
   "metadata": {},
   "source": [
    "- **immutable** cannot be changed (strings and nums are mutable)\n",
    "    - proof of this is we string and int methods don't change anything\n",
    "    - if you call a method on a str or int w/o setting it equal to var\n",
    "    - the change may print or appear on the fly but does not persist\n",
    "    - the change can only \"stick\" by assignment to var"
   ]
  },
  {
   "cell_type": "code",
   "execution_count": 220,
   "metadata": {},
   "outputs": [
    {
     "name": "stdout",
     "output_type": "stream",
     "text": [
      "good-evening\n",
      "Good Evening\n",
      "good-evening\n"
     ]
    }
   ],
   "source": [
    "# strings are immutable, string methods only seem to operate upon the origina--they do NOT\n",
    "greeting = \"Good Evening\"\n",
    "print(greeting.replace(\" \",\"-\").lower())\n",
    "print(greeting) # original greeting intact\n",
    "file_name = greeting.replace(\" \",\"-\").lower()\n",
    "print(file_name) # file name has the change\n"
   ]
  },
  {
   "cell_type": "code",
   "execution_count": 223,
   "metadata": {},
   "outputs": [
    {
     "name": "stdout",
     "output_type": "stream",
     "text": [
      "Cat\n",
      "cat\n",
      "Cat\n"
     ]
    }
   ],
   "source": [
    "# capitalize cat\n",
    "pet = \"cat\"\n",
    "print(pet.capitalize())\n",
    "print(pet)\n",
    "pet = pet.capitalize()\n",
    "print(pet)\n",
    "# cat (change did not \"stick\" cuz strings are immutable)"
   ]
  },
  {
   "cell_type": "markdown",
   "metadata": {
    "id": "utAfV0hcimYI"
   },
   "source": [
    "### **random.choice(list)** returns an item at random from the list"
   ]
  },
  {
   "cell_type": "code",
   "execution_count": 233,
   "metadata": {
    "colab": {
     "base_uri": "https://localhost:8080/"
    },
    "executionInfo": {
     "elapsed": 1,
     "status": "ok",
     "timestamp": 1741714009077,
     "user": {
      "displayName": "Brian McClain",
      "userId": "08063899147261234403"
     },
     "user_tz": 240
    },
    "id": "ywYv9hjXiu9o",
    "outputId": "32aa9893-5ad9-44d7-b52d-e13a3672644a"
   },
   "outputs": [
    {
     "name": "stdout",
     "output_type": "stream",
     "text": [
      "28\n"
     ]
    }
   ],
   "source": [
    "# pick a random card from the deck\n",
    "random_card = random.choice(deck_of_cards)\n",
    "print(random_card)\n"
   ]
  },
  {
   "cell_type": "code",
   "execution_count": 235,
   "metadata": {},
   "outputs": [
    {
     "name": "stdout",
     "output_type": "stream",
     "text": [
      "[34, 40, 43, 38, 6, 2, 12, 27, 32, 24, 49, 8, 46, 4, 45, 15, 31, 47, 11, 1, 50, 16, 48, 7, 5, 9, 13, 35, 23, 22, 30, 17, 52, 26, 36, 28, 42, 10, 18, 14, 41, 25, 20, 21, 29, 19, 51, 44, 37, 33, 39, 3]\n"
     ]
    }
   ],
   "source": [
    "# deal a poker hand of 5 cards by\n",
    "# just slicing 5 cards from the random deck\n",
    "# 2 players get alternating cards\n",
    "random.shuffle(deck_of_cards)\n",
    "print(deck_of_cards)"
   ]
  },
  {
   "cell_type": "code",
   "execution_count": 237,
   "metadata": {},
   "outputs": [
    {
     "name": "stdout",
     "output_type": "stream",
     "text": [
      "Player's Hand: [34, 43, 6, 12, 32]\n",
      "Dealer's Hand: [40, 38, 2, 27, 24]\n"
     ]
    }
   ],
   "source": [
    "# give each player 5 cards, alternating\n",
    "# starting with the player, so give out\n",
    "# the first 10 cards, but alternate\n",
    "player_hand = deck_of_cards[:10:2]\n",
    "print(\"Player's Hand:\", player_hand)\n",
    "dealer_hand = deck_of_cards[1:10:2]\n",
    "print(\"Dealer's Hand:\", dealer_hand)\n"
   ]
  },
  {
   "cell_type": "code",
   "execution_count": 242,
   "metadata": {},
   "outputs": [
    {
     "name": "stdout",
     "output_type": "stream",
     "text": [
      "[3, 39, 33, 37, 44, 51, 19, 29, 21, 20]\n",
      "Player's Hand: [3, 33, 44, 19, 21]\n",
      "Dealer's Hand: [39, 37, 51, 29, 20]\n"
     ]
    }
   ],
   "source": [
    "# same as above but from the end of the deck\n",
    "last_10 = [20, 21, 29, 19, 51, 44, 37, 33, 39, 3]\n",
    "last_10.reverse()\n",
    "print(last_10)\n",
    "player_hand = deck_of_cards[:-10:-2]\n",
    "print(\"Player's Hand:\", player_hand)\n",
    "dealer_hand = deck_of_cards[-2:-11:-2]\n",
    "print(\"Dealer's Hand:\", dealer_hand)"
   ]
  }
 ],
 "metadata": {
  "colab": {
   "authorship_tag": "ABX9TyP267GhDDoTtWNsIXpwA00y",
   "provenance": []
  },
  "kernelspec": {
   "display_name": "base",
   "language": "python",
   "name": "python3"
  },
  "language_info": {
   "codemirror_mode": {
    "name": "ipython",
    "version": 3
   },
   "file_extension": ".py",
   "mimetype": "text/x-python",
   "name": "python",
   "nbconvert_exporter": "python",
   "pygments_lexer": "ipython3",
   "version": "3.10.9"
  }
 },
 "nbformat": 4,
 "nbformat_minor": 0
}
