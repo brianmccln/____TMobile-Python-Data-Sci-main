{
 "cells": [
  {
   "cell_type": "markdown",
   "metadata": {
    "id": "erS3Jar6QUgq"
   },
   "source": [
    "## **Module**\n",
    "- a module is a library of code that you import\n",
    "- modules have their own methods and properties\n",
    "- modules go beyond core python in capabilities"
   ]
  },
  {
   "cell_type": "code",
   "execution_count": 101,
   "metadata": {},
   "outputs": [],
   "source": [
    "#  %pip magic command ensures the install happens in the same environment your notebook kernel is using.\n",
    "# %pip install pytz# "
   ]
  },
  {
   "cell_type": "code",
   "execution_count": null,
   "metadata": {
    "executionInfo": {
     "elapsed": 2,
     "status": "ok",
     "timestamp": 1741714008686,
     "user": {
      "displayName": "Brian McClain",
      "userId": "08063899147261234403"
     },
     "user_tz": 240
    },
    "id": "GF9MiZlRQLHN"
   },
   "outputs": [],
   "source": [
    "# Import datetime and random modules\n"
   ]
  },
  {
   "cell_type": "code",
   "execution_count": null,
   "metadata": {
    "colab": {
     "base_uri": "https://localhost:8080/"
    },
    "executionInfo": {
     "elapsed": 18,
     "status": "ok",
     "timestamp": 1741714008754,
     "user": {
      "displayName": "Brian McClain",
      "userId": "08063899147261234403"
     },
     "user_tz": 240
    },
    "id": "uM64LExyQza9",
    "outputId": "dd9a4309-49ed-4eac-e861-1c80dfb7349c"
   },
   "outputs": [
    {
     "name": "stdout",
     "output_type": "stream",
     "text": [
      "2025-04-15 13:35:21.294647\n"
     ]
    }
   ],
   "source": [
    "# instantiate the current datetime and local timezone\n",
    "# 'US/Eastern'\n",
    "\n",
    "print() # 2025-04-15 10:41:13.253794"
   ]
  },
  {
   "cell_type": "code",
   "execution_count": null,
   "metadata": {},
   "outputs": [
    {
     "name": "stdout",
     "output_type": "stream",
     "text": [
      "\n",
      "2025-04-16 02:35:21.345130+09:00\n"
     ]
    }
   ],
   "source": [
    "# 'US/Eastern'\n",
    "\n",
    "# tz = pytz.timezone('US/Pacific')\n",
    "# tz = pytz.timezone('GB')\n",
    "# tz = pytz.timezone('US/Arizona')\n",
    "# tz = pytz.timezone('Asia/Shanghai')\n",
    "# 2024-12-09 21:12:06.499933\n",
    "\n",
    "# adjust our dt to Japan time\n",
    "\n",
    "print()\n",
    "print()"
   ]
  },
  {
   "cell_type": "code",
   "execution_count": null,
   "metadata": {
    "colab": {
     "base_uri": "https://localhost:8080/"
    },
    "executionInfo": {
     "elapsed": 17,
     "status": "ok",
     "timestamp": 1741714008755,
     "user": {
      "displayName": "Brian McClain",
      "userId": "08063899147261234403"
     },
     "user_tz": 240
    },
    "id": "gmKoHSJXgOAY",
    "outputId": "0ea57750-1a36-4838-bc3f-e08280cf1484"
   },
   "outputs": [
    {
     "name": "stdout",
     "output_type": "stream",
     "text": [
      "596 <class 'list'>\n",
      "['Iceland', 'Indian/Antananarivo', 'Indian/Chagos', 'Indian/Christmas', 'Indian/Cocos', 'Indian/Comoro', 'Indian/Kerguelen', 'Indian/Mahe', 'Indian/Maldives', 'Indian/Mauritius', 'Indian/Mayotte', 'Indian/Reunion', 'Iran', 'Israel', 'Jamaica', 'Japan', 'Kwajalein', 'Libya', 'MET', 'MST', 'MST7MDT', 'Mexico/BajaNorte', 'Mexico/BajaSur', 'Mexico/General', 'NZ', 'NZ-CHAT']\n",
      "514\n",
      "Japan\n"
     ]
    }
   ],
   "source": [
    "# print out selection of timezone codes:\n",
    "\n",
    "print()\n",
    "# challenge: print out timezones 500 to 525 only\n",
    "print()\n",
    "# where's Japan -- look up its index:\n",
    "\n",
    "print()\n",
    "print()\n"
   ]
  },
  {
   "cell_type": "code",
   "execution_count": null,
   "metadata": {
    "colab": {
     "base_uri": "https://localhost:8080/"
    },
    "executionInfo": {
     "elapsed": 34,
     "status": "ok",
     "timestamp": 1741714008787,
     "user": {
      "displayName": "Brian McClain",
      "userId": "08063899147261234403"
     },
     "user_tz": 240
    },
    "id": "aKK6J-58VAB4",
    "outputId": "7dc9515d-80cf-4f43-f91b-6b50da482ece"
   },
   "outputs": [
    {
     "name": "stdout",
     "output_type": "stream",
     "text": [
      "2025\n"
     ]
    }
   ],
   "source": [
    "# get some indivual date / time values; get the year\n",
    "\n",
    "print()"
   ]
  },
  {
   "cell_type": "code",
   "execution_count": null,
   "metadata": {
    "colab": {
     "base_uri": "https://localhost:8080/"
    },
    "executionInfo": {
     "elapsed": 19,
     "status": "ok",
     "timestamp": 1741714008788,
     "user": {
      "displayName": "Brian McClain",
      "userId": "08063899147261234403"
     },
     "user_tz": 240
    },
    "id": "pCEZc8BQVSAX",
    "outputId": "24541c44-70bf-47c7-f9db-800579883c12"
   },
   "outputs": [
    {
     "name": "stdout",
     "output_type": "stream",
     "text": [
      "4\n"
     ]
    }
   ],
   "source": [
    "# get month as int\n",
    "\n",
    "print()"
   ]
  },
  {
   "cell_type": "markdown",
   "metadata": {
    "id": "zuIBHrbWheO4"
   },
   "source": [
    "### **datetime.strftime(symbol)** returns dates (Month, Day of Week, Date Int)\n",
    "- **'%B'** for long month (January)\n",
    "- **'%b'** for short month (Jan)\n",
    "- **'%A'** for long day (Tuesday)\n",
    "- **'%a'** for short day (Tue)\n",
    "- **'%D'** for today's date as mo/date/yr\n",
    "- **'%d'** for date number as string\n",
    "- **'%H'** for hour (0-23) as string\n",
    "- **'%M'** for minute (0-59) as string"
   ]
  },
  {
   "cell_type": "code",
   "execution_count": null,
   "metadata": {
    "colab": {
     "base_uri": "https://localhost:8080/"
    },
    "executionInfo": {
     "elapsed": 17,
     "status": "ok",
     "timestamp": 1741714008788,
     "user": {
      "displayName": "Brian McClain",
      "userId": "08063899147261234403"
     },
     "user_tz": 240
    },
    "id": "qzXoNCb_VSZ1",
    "outputId": "9d2c2117-f985-4d2b-a271-be3e1000db43"
   },
   "outputs": [
    {
     "name": "stdout",
     "output_type": "stream",
     "text": [
      "April\n",
      "2025-04-15 13:35:21.294647\n"
     ]
    }
   ],
   "source": [
    "# get full month string\n",
    "# '%B'\n",
    "print()\n",
    "print()"
   ]
  },
  {
   "cell_type": "code",
   "execution_count": null,
   "metadata": {
    "colab": {
     "base_uri": "https://localhost:8080/"
    },
    "executionInfo": {
     "elapsed": 10,
     "status": "ok",
     "timestamp": 1741714008790,
     "user": {
      "displayName": "Brian McClain",
      "userId": "08063899147261234403"
     },
     "user_tz": 240
    },
    "id": "TMbRrCQxVSkV",
    "outputId": "99c191c3-65da-4a7e-9826-70c7789303ad"
   },
   "outputs": [
    {
     "name": "stdout",
     "output_type": "stream",
     "text": [
      "Apr\n"
     ]
    }
   ],
   "source": [
    "# get abbrev month string\n",
    "# '%b'\n",
    "print()"
   ]
  },
  {
   "cell_type": "code",
   "execution_count": null,
   "metadata": {
    "colab": {
     "base_uri": "https://localhost:8080/"
    },
    "executionInfo": {
     "elapsed": 9,
     "status": "ok",
     "timestamp": 1741714008799,
     "user": {
      "displayName": "Brian McClain",
      "userId": "08063899147261234403"
     },
     "user_tz": 240
    },
    "id": "HAaFd12SiOrk",
    "outputId": "15de796e-3650-4d0d-d33e-413c7544404f"
   },
   "outputs": [
    {
     "name": "stdout",
     "output_type": "stream",
     "text": [
      "Tuesday\n"
     ]
    }
   ],
   "source": [
    "# get full day string\n",
    "# '%A'\n",
    "print()"
   ]
  },
  {
   "cell_type": "code",
   "execution_count": null,
   "metadata": {
    "colab": {
     "base_uri": "https://localhost:8080/"
    },
    "executionInfo": {
     "elapsed": 30,
     "status": "ok",
     "timestamp": 1741714008830,
     "user": {
      "displayName": "Brian McClain",
      "userId": "08063899147261234403"
     },
     "user_tz": 240
    },
    "id": "9soJ5HrDiYgM",
    "outputId": "71603a8f-036f-4927-8f6e-025bf047d778"
   },
   "outputs": [
    {
     "name": "stdout",
     "output_type": "stream",
     "text": [
      "Tue\n"
     ]
    }
   ],
   "source": [
    "# get abbrev day string\n",
    "# '%a'\n",
    "print()"
   ]
  },
  {
   "cell_type": "code",
   "execution_count": null,
   "metadata": {
    "colab": {
     "base_uri": "https://localhost:8080/"
    },
    "executionInfo": {
     "elapsed": 20,
     "status": "ok",
     "timestamp": 1741714008831,
     "user": {
      "displayName": "Brian McClain",
      "userId": "08063899147261234403"
     },
     "user_tz": 240
    },
    "id": "otcTxqXEilS6",
    "outputId": "eed015cd-300f-4981-87b8-cc0143e5fdbb"
   },
   "outputs": [
    {
     "name": "stdout",
     "output_type": "stream",
     "text": [
      "04/15/25\n"
     ]
    }
   ],
   "source": [
    "# get today's date as month / date / year\n",
    "# '%D'\n",
    "print()"
   ]
  },
  {
   "cell_type": "code",
   "execution_count": null,
   "metadata": {
    "colab": {
     "base_uri": "https://localhost:8080/"
    },
    "executionInfo": {
     "elapsed": 18,
     "status": "ok",
     "timestamp": 1741714008831,
     "user": {
      "displayName": "Brian McClain",
      "userId": "08063899147261234403"
     },
     "user_tz": 240
    },
    "id": "bBFXzybNjJ_0",
    "outputId": "1348c550-c701-4600-cef9-b34c75086546"
   },
   "outputs": [
    {
     "name": "stdout",
     "output_type": "stream",
     "text": [
      "15 <class 'int'>\n"
     ]
    }
   ],
   "source": [
    "# get just the date as int (28) -- strftime returns strings only, \n",
    "# so pass result to int()\n",
    "# '%d'\n",
    "print()"
   ]
  },
  {
   "cell_type": "code",
   "execution_count": null,
   "metadata": {
    "colab": {
     "base_uri": "https://localhost:8080/"
    },
    "executionInfo": {
     "elapsed": 18,
     "status": "ok",
     "timestamp": 1741714008841,
     "user": {
      "displayName": "Brian McClain",
      "userId": "08063899147261234403"
     },
     "user_tz": 240
    },
    "id": "bLVQ8cBfVSsW",
    "outputId": "01a1fd22-0182-4331-f25c-53311e704362"
   },
   "outputs": [
    {
     "name": "stdout",
     "output_type": "stream",
     "text": [
      "13\n"
     ]
    }
   ],
   "source": [
    "# get current hour\n",
    "\n",
    "print() # 0-23"
   ]
  },
  {
   "cell_type": "code",
   "execution_count": null,
   "metadata": {
    "colab": {
     "base_uri": "https://localhost:8080/"
    },
    "executionInfo": {
     "elapsed": 6,
     "status": "ok",
     "timestamp": 1741714008847,
     "user": {
      "displayName": "Brian McClain",
      "userId": "08063899147261234403"
     },
     "user_tz": 240
    },
    "id": "A5xxajQaVS0_",
    "outputId": "930bd230-d214-4d3f-ae17-e0dfb1a8ace1"
   },
   "outputs": [
    {
     "name": "stdout",
     "output_type": "stream",
     "text": [
      "35\n"
     ]
    }
   ],
   "source": [
    "# get current minute\n",
    "\n",
    "print()"
   ]
  },
  {
   "cell_type": "code",
   "execution_count": null,
   "metadata": {
    "colab": {
     "base_uri": "https://localhost:8080/"
    },
    "executionInfo": {
     "elapsed": 14,
     "status": "ok",
     "timestamp": 1741714008864,
     "user": {
      "displayName": "Brian McClain",
      "userId": "08063899147261234403"
     },
     "user_tz": 240
    },
    "id": "_tyEDMlrkXZd",
    "outputId": "62c02bdd-191b-4375-fd77-19c8222cf707"
   },
   "outputs": [
    {
     "name": "stdout",
     "output_type": "stream",
     "text": [
      "21\n"
     ]
    }
   ],
   "source": [
    "# get current second\n",
    "\n",
    "print()"
   ]
  },
  {
   "cell_type": "code",
   "execution_count": null,
   "metadata": {
    "colab": {
     "base_uri": "https://localhost:8080/"
    },
    "executionInfo": {
     "elapsed": 18,
     "status": "ok",
     "timestamp": 1741714008883,
     "user": {
      "displayName": "Brian McClain",
      "userId": "08063899147261234403"
     },
     "user_tz": 240
    },
    "id": "_eCcvu0xWHH-",
    "outputId": "86def1c8-528e-445c-aff2-676a0f58e031"
   },
   "outputs": [
    {
     "name": "stdout",
     "output_type": "stream",
     "text": [
      "13:35\n",
      "13:35\n"
     ]
    }
   ],
   "source": [
    "# get full time in mil format\n",
    "# '%H:%M'\n",
    "print()\n",
    "# easier than concatenating the time:\n",
    "print()"
   ]
  },
  {
   "cell_type": "code",
   "execution_count": null,
   "metadata": {},
   "outputs": [
    {
     "name": "stdout",
     "output_type": "stream",
     "text": [
      "02:35\n"
     ]
    }
   ],
   "source": [
    "# '%H:%M'\n",
    "print()"
   ]
  },
  {
   "cell_type": "code",
   "execution_count": null,
   "metadata": {
    "colab": {
     "base_uri": "https://localhost:8080/"
    },
    "executionInfo": {
     "elapsed": 1,
     "status": "ok",
     "timestamp": 1741714008899,
     "user": {
      "displayName": "Brian McClain",
      "userId": "08063899147261234403"
     },
     "user_tz": 240
    },
    "id": "fBMk8OJQWHim",
    "outputId": "dfdbfb21-1218-4b3d-df33-57654230531e"
   },
   "outputs": [
    {
     "name": "stdout",
     "output_type": "stream",
     "text": [
      "02:35 AM\n"
     ]
    }
   ],
   "source": [
    "# get AM-PM time\n",
    "# '%I:%M %p'\n",
    "print() # 11:59 PM"
   ]
  },
  {
   "cell_type": "code",
   "execution_count": null,
   "metadata": {
    "colab": {
     "base_uri": "https://localhost:8080/"
    },
    "executionInfo": {
     "elapsed": 50,
     "status": "ok",
     "timestamp": 1741714008963,
     "user": {
      "displayName": "Brian McClain",
      "userId": "08063899147261234403"
     },
     "user_tz": 240
    },
    "id": "XcsmqdXeW0GB",
    "outputId": "4f0984c9-41ed-4663-f921-f36deaa1f546"
   },
   "outputs": [
    {
     "name": "stdout",
     "output_type": "stream",
     "text": [
      "Tuesday, April 15, 2025\n"
     ]
    }
   ],
   "source": [
    "# get todays full date\n",
    "# '%A, %B %d, %Y'\n",
    "print()"
   ]
  },
  {
   "cell_type": "code",
   "execution_count": null,
   "metadata": {
    "colab": {
     "base_uri": "https://localhost:8080/"
    },
    "executionInfo": {
     "elapsed": 3,
     "status": "ok",
     "timestamp": 1741714008966,
     "user": {
      "displayName": "Brian McClain",
      "userId": "08063899147261234403"
     },
     "user_tz": 240
    },
    "id": "nUWbSXWeXOA_",
    "outputId": "37c3f4d6-188a-4573-84d1-0f3e32dafb3c"
   },
   "outputs": [
    {
     "name": "stdout",
     "output_type": "stream",
     "text": [
      "Tue, Apr 15, '25\n"
     ]
    }
   ],
   "source": [
    "# get todays abbrev date\n",
    "# \"%a, %b %d, '%y\"\n",
    "print()"
   ]
  },
  {
   "cell_type": "code",
   "execution_count": null,
   "metadata": {
    "colab": {
     "base_uri": "https://localhost:8080/"
    },
    "executionInfo": {
     "elapsed": 48,
     "status": "ok",
     "timestamp": 1741714009015,
     "user": {
      "displayName": "Brian McClain",
      "userId": "08063899147261234403"
     },
     "user_tz": 240
    },
    "id": "W738xJVnYFgj",
    "outputId": "7d9fde03-843a-46e8-9f94-29a6779910f9"
   },
   "outputs": [
    {
     "name": "stdout",
     "output_type": "stream",
     "text": [
      "Good Afternoon\n"
     ]
    }
   ],
   "source": [
    "# CHALLENGE: \n",
    "# # if-elif-else with datetime module\n",
    "# make a \"Timely Greeting\" based on current hour\n",
    "# don't just print the greeting -- save it to a variable\n",
    "# then print the greeting variable\n",
    "# hard code hr for testing\n",
    "# start w empty string\n",
    "# \"Good Morning\"\n",
    "# check 12-18 range\n",
    "# \"Good Afternoon\"\n",
    "# hr is 18-23\n",
    "# \"Good Evening\"\n",
    "# 0-23\n",
    "\n",
    "# greeting\n",
    "\n",
    "# check if hr is less than 12\n",
    "# \"Good Morning\"\n",
    "# check if hr is 12-17\n",
    "# \"Good Afternoon\"\n",
    "# hr is 18+\n",
    "# \"Good Evening\"\n",
    "    \n",
    "print()"
   ]
  },
  {
   "cell_type": "code",
   "execution_count": null,
   "metadata": {},
   "outputs": [
    {
     "name": "stdout",
     "output_type": "stream",
     "text": [
      "Score: 88 - Grade: B\n"
     ]
    }
   ],
   "source": [
    "# CHALLENGE:\n",
    "# validate number range in if-elif-else\n",
    "# scenario: user enters a test score from 0-100\n",
    "# code prints letter grade from A-F\n",
    "# assume digit input BUT do not assume 0-100\n",
    "# reject neg nums and nums greater than 100:\n",
    "# \"Invalid Input! Score must be 0-100\"\n",
    "# any float should be rounded off to nearest int\n",
    "# sample output:\n",
    "# Score: 97 - Grade: A\n",
    "# Score: 87 - Grade: B\n",
    "# Score: 77 - Grade: C\n",
    "# Score: 67 - Grade: D\n",
    "# Score: 57 - Grade: F\n",
    " \n",
    "\n",
    "print(\"Improper Grade Value\")\n",
    "\n",
    "# grade must be at least 90 if you made it this far\n",
    "\n",
    "    \n",
    "# \"Score: - Grade: \"\n",
    "print()\n"
   ]
  },
  {
   "cell_type": "code",
   "execution_count": null,
   "metadata": {
    "colab": {
     "base_uri": "https://localhost:8080/"
    },
    "executionInfo": {
     "elapsed": 33,
     "status": "ok",
     "timestamp": 1741714009049,
     "user": {
      "displayName": "Brian McClain",
      "userId": "08063899147261234403"
     },
     "user_tz": 240
    },
    "id": "cBtaH_hWZY1V",
    "outputId": "aebcffe0-f05c-4973-b014-68f195341ff3"
   },
   "outputs": [
    {
     "name": "stdout",
     "output_type": "stream",
     "text": [
      "0.5155081602546917\n",
      "516\n"
     ]
    }
   ],
   "source": [
    "# generate a random number\n",
    "\n",
    "print() # 0.5789948590199665\n",
    "\n",
    "# multiply r by 1000 and round it off\n",
    "\n",
    "print()"
   ]
  },
  {
   "cell_type": "markdown",
   "metadata": {
    "id": "wIwh1fxnaSo2"
   },
   "source": [
    "### **random.randint(min,max_incl)**\n",
    "- returns a random integer in the min-max range\n",
    "- max value is inclusive"
   ]
  },
  {
   "cell_type": "code",
   "execution_count": null,
   "metadata": {
    "colab": {
     "base_uri": "https://localhost:8080/"
    },
    "executionInfo": {
     "elapsed": 2,
     "status": "ok",
     "timestamp": 1741714009051,
     "user": {
      "displayName": "Brian McClain",
      "userId": "08063899147261234403"
     },
     "user_tz": 240
    },
    "id": "9j57hauCZpkz",
    "outputId": "4ec46013-b7ec-4648-f153-9199cf85d779"
   },
   "outputs": [
    {
     "name": "stdout",
     "output_type": "stream",
     "text": [
      "5\n"
     ]
    }
   ],
   "source": [
    "\n",
    "print() # getting a 5 proves that the end value is INCLUSIVE"
   ]
  },
  {
   "cell_type": "code",
   "execution_count": null,
   "metadata": {
    "colab": {
     "base_uri": "https://localhost:8080/"
    },
    "executionInfo": {
     "elapsed": 2,
     "status": "ok",
     "timestamp": 1741714009053,
     "user": {
      "displayName": "Brian McClain",
      "userId": "08063899147261234403"
     },
     "user_tz": 240
    },
    "id": "wv3gGLBNaI_u",
    "outputId": "6647021e-dd62-4cb4-f076-bb590f2ea267"
   },
   "outputs": [
    {
     "name": "stdout",
     "output_type": "stream",
     "text": [
      "Your SAT Score Report: Math: 750 | Eng: 720\n"
     ]
    }
   ],
   "source": [
    "# challenge: generate 2 random SAT scores, one Math, one Eng\n",
    "# SAT scores are in 200-800 range (make the minimum 400)\n",
    "# and print a message\n",
    "# BONUS: Make the scores end in ZERO\n",
    "# HINT: a number in the 40-80 range is a good start..\n",
    "\n",
    " \n",
    "# \"Your SAT Score Report: Math: | Eng: \"\n",
    "# \"Your SAT Score Report: Math:  | Eng: \"\n",
    "print()"
   ]
  },
  {
   "cell_type": "markdown",
   "metadata": {
    "id": "KVyGHlHnc1N6"
   },
   "source": [
    "### **random.randrange(min,max,step)**\n",
    "- returns a random integer in the min-max range, with values in the step increment"
   ]
  },
  {
   "cell_type": "code",
   "execution_count": null,
   "metadata": {
    "colab": {
     "base_uri": "https://localhost:8080/"
    },
    "executionInfo": {
     "elapsed": 6,
     "status": "ok",
     "timestamp": 1741714009059,
     "user": {
      "displayName": "Brian McClain",
      "userId": "08063899147261234403"
     },
     "user_tz": 240
    },
    "id": "sONtbHP2ca2u",
    "outputId": "87bbf376-f3e0-436e-8619-5e8df69fed30"
   },
   "outputs": [
    {
     "name": "stdout",
     "output_type": "stream",
     "text": [
      "Your SAT Score Report: Math: 790 | Eng: 470\n"
     ]
    }
   ],
   "source": [
    "# OR: have score end in 10 by adding STEP of 10\n",
    "\n",
    "\n",
    "# \"Your SAT Score Report: Math:| Eng: \" \n",
    "print()"
   ]
  },
  {
   "cell_type": "markdown",
   "metadata": {},
   "source": [
    "### - **in** and **not in** check if value and returns a boolean\n",
    "### - **if item in list** or **if item not in list**\n",
    "### - **if score.isdigit()** or **if not score.isdigit()**"
   ]
  },
  {
   "cell_type": "markdown",
   "metadata": {},
   "source": [
    "### **input() validation** reject non-digits\n",
    "- **score.isdigit()** returns True if score is digits (which can be converted to actual number)\n",
    "- **not score.isdigit()** returns True if score is NOT digits (which CANNOT be converted to actual number)\n",
    "\n",
    "```python\n",
    "score = input(\"Score: \")\n",
    "if not score.isdigit() or int(score) < 0 or int(score) > 100:\n",
    "    print(\"Invalid input! Please enter a Score from 0-100\")\n",
    "```"
   ]
  },
  {
   "cell_type": "code",
   "execution_count": null,
   "metadata": {},
   "outputs": [
    {
     "name": "stdout",
     "output_type": "stream",
     "text": [
      "\"cat\" is invalid input! Score must be number from 0-100\n"
     ]
    }
   ],
   "source": [
    "\n",
    "# reject inputted score if it is NOT digit (\"banana\") or not in 0-100 range (-50, 150)\n",
    "print('is invalid input! Score must be number from 0-100')\n",
    "# else input is valid, so make int from digit and set letter grade based on score\n",
    "# make int from stringy number\n",
    "    # eval grade based on score ranges\n",
    "\n"
   ]
  },
  {
   "cell_type": "markdown",
   "metadata": {},
   "source": [
    "- ### **input() validation** reject empty strings, digits, or even presence of digits\n",
    "```python\n",
    "if not new_pet or new_pet.isdigit() or any(char.isdigit() for char in new_pet):\n",
    "```\n",
    "- **if new_pet** returns True if new_pet exists (empty strings return False)\n",
    "- **if not new_pet** returns True if new_pet is empty string\n",
    "- **new_pet.isdigit()** returns True if new_pet consists of all stringy digits, such as **\"893\"**\n",
    "- **any(char.isdigit() for char in new_pet)** returns True if any chars in new_pet is a digit, such as **\"cat99\"**"
   ]
  },
  {
   "cell_type": "code",
   "execution_count": null,
   "metadata": {},
   "outputs": [],
   "source": [
    "eligible_pets = [\"dog\", \"cat\", \"bunny\", \"hamster\", \"guinea pig\", \"goldfish\", \"parakeet\", \"canary\", \"cockatiel\", \"parrot\", \"ferret\", \"turtle\", \"lizard\", \"snake\", \"gecko\", \"chinchilla\", \"hedgehog\", \"mouse\", \"rat\", \"frog\", \"zebra fish\", \"newt\", \"salamander\", \"tarantula\", \"hermit crab\", \"bearded dragon\", \"tortoise\", \"mini pig\", \"gerbil\", \"alpaca\", \"goat\", \"chicken\", \"duck\", \"turkey\", \"sheep\", \"horse\", \"pony\", \"macaw\", \"chameleon\", \"iguana\"]\n",
    "\n",
    "pet_shop = [] # new empty list to hold new pets"
   ]
  },
  {
   "cell_type": "code",
   "execution_count": null,
   "metadata": {},
   "outputs": [
    {
     "name": "stdout",
     "output_type": "stream",
     "text": [
      "\"cat5\" is not an eligible pet.\n",
      "['cat', 'dog']\n"
     ]
    }
   ],
   "source": [
    "\n",
    "# validation: reject if any of these 4 things are True:\n",
    "# new_pet is an empty string, new_pet is a digit or has a digit in it\n",
    "# or pet is not in the pet shop\n",
    "# add cat\n"
   ]
  },
  {
   "cell_type": "code",
   "execution_count": null,
   "metadata": {},
   "outputs": [],
   "source": [
    "# CHALLENGE: Given this list of eligible vegetables\n",
    "eligible_vegetables = [\"carrot\", \"broccoli\", \"cauliflower\", \"spinach\", \"kale\", \"lettuce\", \"cabbage\", \"celery\", \"cucumber\", \"zucchini\", \"eggplant\", \"bell pepper\", \"chili pepper\", \"tomato\", \"potato\", \"sweet potato\", \"onion\", \"garlic\", \"leek\", \"shallot\", \"radish\", \"turnip\", \"beet\", \"parsnip\", \"artichoke\", \"asparagus\", \"brussels sprouts\", \"bok choy\", \"collard greens\", \"mustard greens\", \"swiss chard\", \"green bean\", \"snap pea\", \"snow pea\", \"okra\", \"butternut squash\", \"acorn squash\", \"pumpkin\", \"yam\"]\n",
    "\n",
    "# plant vegetables here\n",
    "\n",
    "# make an input\n",
    "# save result as veg\n",
    "# reject invalid input: empty string, digits\n",
    "# if input is valid, next check if veg is eligible\n",
    "# if eligible and not already in garden, plant it in garden\n",
    "# do not plant same veg twice\n",
    "# run until you have several unique veg\n",
    "# BONUS: when you get to 10 veggies, print \"Garden is FULL\"\n",
    "# and do not accept any more veggies OR prompt user to first \n",
    "# REMOVE or REPLACE veg to make room for a new one\n",
    "# SUPER-BONUS: let the user enter \"random\" to get a random veg added to garden\n",
    "# random might result in \"sorry! This veg is already in the garden! Try again\"\n",
    "# SUPER-UBER-BONUS: remove each item from eligible list so that it can never be chosen again\n"
   ]
  },
  {
   "cell_type": "code",
   "execution_count": null,
   "metadata": {},
   "outputs": [
    {
     "name": "stdout",
     "output_type": "stream",
     "text": [
      "Garden is Full!\n",
      "['carrot', 'tomato', 'kale']\n"
     ]
    }
   ],
   "source": [
    "\n",
    " "
   ]
  },
  {
   "cell_type": "code",
   "execution_count": null,
   "metadata": {
    "colab": {
     "base_uri": "https://localhost:8080/"
    },
    "executionInfo": {
     "elapsed": 12,
     "status": "ok",
     "timestamp": 1741714009071,
     "user": {
      "displayName": "Brian McClain",
      "userId": "08063899147261234403"
     },
     "user_tz": 240
    },
    "id": "4bNaXSbac8u1",
    "outputId": "4e703950-c678-47db-e7c8-49f44a0654f8"
   },
   "outputs": [
    {
     "name": "stdout",
     "output_type": "stream",
     "text": [
      "1984\n"
     ]
    }
   ],
   "source": [
    "# challenge: generate and print ONE Olympic year (Summer Olympics)\n",
    "# min: 1896, max: 2024 (1896, 1900, 1904, 1908, 1912, 1929, 1924 ... 2012, 2016, 2020, 2024)\n",
    "# bonus: handle no-Olympics war years with conditional logic (1916,1940,1944)\n",
    "# if you get a war year, add or subtract some value to get a valid year\n",
    "\n",
    "# yr = 1916 # test case\n",
    "off_yrs = [1916, 1940, 1944]\n",
    " \n",
    "if yr in off_yrs:\n",
    "    yr += random.randrange(8,20,4)\n",
    "    \n",
    "print(yr)"
   ]
  },
  {
   "cell_type": "markdown",
   "metadata": {
    "id": "8Xs6oepheIMO"
   },
   "source": [
    "- ### **range(min,max_excl)** returns all numbers in the min-max_excl range\n",
    "- ### **range(max_excl)** omit min to start at 0\n",
    "- ### **list(range(min,max_excl))** returns a list of numbers in the min-max_excl range\n",
    "- ### **random.sample(range(min,max_excl),count)**\n",
    "- returns multiple unique random ints in the min-max range"
   ]
  },
  {
   "cell_type": "code",
   "execution_count": null,
   "metadata": {
    "colab": {
     "base_uri": "https://localhost:8080/"
    },
    "executionInfo": {
     "elapsed": 2,
     "status": "ok",
     "timestamp": 1741714009072,
     "user": {
      "displayName": "Brian McClain",
      "userId": "08063899147261234403"
     },
     "user_tz": 240
    },
    "id": "YTb60-g_ea0E",
    "outputId": "de38f901-f39b-409e-bd9d-90694e14f699"
   },
   "outputs": [
    {
     "name": "stdout",
     "output_type": "stream",
     "text": [
      "[1, 2, 3, 4, 5, 6, 7, 8, 9, 10]\n"
     ]
    }
   ],
   "source": [
    "# make a list of consecutive ints using range(min,max_excl)\n"
   ]
  },
  {
   "cell_type": "code",
   "execution_count": null,
   "metadata": {
    "colab": {
     "base_uri": "https://localhost:8080/"
    },
    "executionInfo": {
     "elapsed": 1,
     "status": "ok",
     "timestamp": 1741714009074,
     "user": {
      "displayName": "Brian McClain",
      "userId": "08063899147261234403"
     },
     "user_tz": 240
    },
    "id": "1mpx_tuSfHYn",
    "outputId": "4343de77-7015-429e-c0ee-a02fab6352b4"
   },
   "outputs": [
    {
     "name": "stdout",
     "output_type": "stream",
     "text": [
      "[6, 10, 13, 44, 50]\n",
      "[6, 10, 13, 44, 50, 11]\n"
     ]
    }
   ],
   "source": [
    "# make a lottery ticket of 5 unique rand ints in the 1-69 range:\n",
    "\n",
    "# CHALLENGE:\n",
    "# i.) Sort the numbers in ascending order\n",
    "# ii.) Generate the Powerball number (1-26) and add it to the list\n",
    "# iii.) print 6-number ticket: 5 unique nums (1-69) + powerball (1-26)\n"
   ]
  },
  {
   "cell_type": "markdown",
   "metadata": {
    "id": "VWfGSdRshagi"
   },
   "source": [
    "### **random.shuffle(list)**\n",
    "- randomizes (shuffles) the items in a list\n",
    "- shuffle operates in place -- no return value"
   ]
  },
  {
   "cell_type": "code",
   "execution_count": null,
   "metadata": {
    "colab": {
     "base_uri": "https://localhost:8080/"
    },
    "executionInfo": {
     "elapsed": 0,
     "status": "ok",
     "timestamp": 1741714009074,
     "user": {
      "displayName": "Brian McClain",
      "userId": "08063899147261234403"
     },
     "user_tz": 240
    },
    "id": "I_QF5m9ahwCw",
    "outputId": "5c0f585b-38a6-425b-c95e-dc1f218922a1"
   },
   "outputs": [
    {
     "name": "stdout",
     "output_type": "stream",
     "text": [
      "[1, 2, 3, 4, 5, 6, 7, 8, 9, 10, 11, 12, 13, 14, 15, 16, 17, 18, 19, 20, 21, 22, 23, 24, 25, 26, 27, 28, 29, 30, 31, 32, 33, 34, 35, 36, 37, 38, 39, 40, 41, 42, 43, 44, 45, 46, 47, 48, 49, 50, 51, 52] <class 'list'>\n"
     ]
    }
   ],
   "source": [
    "# make a list of consec ints from 1-52\n"
   ]
  },
  {
   "cell_type": "code",
   "execution_count": null,
   "metadata": {
    "colab": {
     "base_uri": "https://localhost:8080/"
    },
    "executionInfo": {
     "elapsed": 0,
     "status": "ok",
     "timestamp": 1741714009075,
     "user": {
      "displayName": "Brian McClain",
      "userId": "08063899147261234403"
     },
     "user_tz": 240
    },
    "id": "bOFF_6aF6L3G",
    "outputId": "9ac7f32f-9cc1-430c-bbbd-790d0828932b"
   },
   "outputs": [
    {
     "name": "stdout",
     "output_type": "stream",
     "text": [
      "[32, 45, 26, 4, 11, 27, 10, 16, 40, 9, 47, 43, 42, 33, 8, 18, 5, 2, 7, 36, 35, 44, 37, 19, 29, 49, 20, 1, 48, 3, 12, 30, 41, 39, 31, 50, 52, 22, 23, 6, 28, 17, 38, 51, 21, 24, 25, 34, 14, 13, 15, 46]\n"
     ]
    }
   ],
   "source": [
    "# shuffle the deck of cards:\n"
   ]
  },
  {
   "cell_type": "code",
   "execution_count": null,
   "metadata": {},
   "outputs": [
    {
     "name": "stdout",
     "output_type": "stream",
     "text": [
      "None\n"
     ]
    }
   ],
   "source": [
    "# sort the shuffled deck (put back to original state)\n"
   ]
  },
  {
   "cell_type": "markdown",
   "metadata": {},
   "source": [
    "- **mutable vs immutable**\n",
    "- **mutable** can be changed (lists are mutable)\n",
    "    - proof of this is we can do stuff to a list (call methods on it)\n",
    "    - the list method call is not always set equal to a variable\n",
    "    - this proves that the change to the list occurred \"in place\" \n",
    "    - hence the term mutable"
   ]
  },
  {
   "cell_type": "code",
   "execution_count": null,
   "metadata": {},
   "outputs": [
    {
     "name": "stdout",
     "output_type": "stream",
     "text": [
      "20 3 18 14 16 13 17 9 12 10 7 5 11 4 19 6 2 1 8 15\n",
      "1 2 3 4 5 6 7 8 9 10 11 12 13 14 15 16 17 18 19 20\n"
     ]
    }
   ],
   "source": [
    "# lists, being mutable, can be changed \"in place\" (no assignment =)\n",
    "\n",
    "# randomize nums in place (do not set move equal to var)\n",
    "# in other words, do not do this:\n",
    "# nums = random.shuffle(nums)\n",
    "\n",
    "# sort nums in place (do not set move equal to var)\n",
    "# in other words, do not do this:\n",
    "# nums = nums.sort()\n"
   ]
  },
  {
   "cell_type": "markdown",
   "metadata": {},
   "source": [
    "- **immutable** cannot be changed (strings and nums are mutable)\n",
    "    - proof of this is we string and int methods don't change anything\n",
    "    - if you call a method on a str or int w/o setting it equal to var\n",
    "    - the change may print or appear on the fly but does not persist\n",
    "    - the change can only \"stick\" by assignment to var"
   ]
  },
  {
   "cell_type": "code",
   "execution_count": null,
   "metadata": {},
   "outputs": [
    {
     "name": "stdout",
     "output_type": "stream",
     "text": [
      "Cat\n",
      "cat\n",
      "Cat\n"
     ]
    }
   ],
   "source": [
    "\n",
    "# capitalize cat\n",
    "# cat (change did not \"stick\" cuz strings are immutable)\n"
   ]
  },
  {
   "cell_type": "markdown",
   "metadata": {
    "id": "utAfV0hcimYI"
   },
   "source": [
    "### **random.choice(list)** returns an item at random from the list"
   ]
  },
  {
   "cell_type": "code",
   "execution_count": null,
   "metadata": {
    "colab": {
     "base_uri": "https://localhost:8080/"
    },
    "executionInfo": {
     "elapsed": 1,
     "status": "ok",
     "timestamp": 1741714009077,
     "user": {
      "displayName": "Brian McClain",
      "userId": "08063899147261234403"
     },
     "user_tz": 240
    },
    "id": "ywYv9hjXiu9o",
    "outputId": "32aa9893-5ad9-44d7-b52d-e13a3672644a"
   },
   "outputs": [
    {
     "name": "stdout",
     "output_type": "stream",
     "text": [
      "39\n"
     ]
    }
   ],
   "source": [
    "# pick a random card from the deck_of_cards\n"
   ]
  }
 ],
 "metadata": {
  "colab": {
   "authorship_tag": "ABX9TyP267GhDDoTtWNsIXpwA00y",
   "provenance": []
  },
  "kernelspec": {
   "display_name": "base",
   "language": "python",
   "name": "python3"
  },
  "language_info": {
   "codemirror_mode": {
    "name": "ipython",
    "version": 3
   },
   "file_extension": ".py",
   "mimetype": "text/x-python",
   "name": "python",
   "nbconvert_exporter": "python",
   "pygments_lexer": "ipython3",
   "version": "3.10.9"
  }
 },
 "nbformat": 4,
 "nbformat_minor": 0
}
