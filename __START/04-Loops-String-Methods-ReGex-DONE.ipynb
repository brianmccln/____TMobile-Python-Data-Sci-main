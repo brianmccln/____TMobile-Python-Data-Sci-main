{
 "cells": [
  {
   "cell_type": "markdown",
   "metadata": {
    "id": "003PcebtGEPy"
   },
   "source": [
    "## **Loops**\n",
    "code that repeats as long as a *condition* is *True*\n",
    "- **range(start,stop,step)** generates consec ints in the start-stop range\n",
    "  - stop value is exclusive (not included in result)\n",
    "  - step is incrementer (step=2 means every-other number)"
   ]
  },
  {
   "cell_type": "markdown",
   "metadata": {
    "id": "5wuXZN4fH88J"
   },
   "source": [
    "### **for loop** for iterating a list of items\n",
    "- for item in list:\n",
    "--    print(item)\n",
    "\n",
    "### **iterable**\n",
    "- a list, range or other data that contains multiple values can be looped\n",
    "- anything that can be looped is called an **iterable**\n",
    "- to loop is to **iterate (over)**"
   ]
  },
  {
   "cell_type": "code",
   "execution_count": 132,
   "metadata": {
    "executionInfo": {
     "elapsed": 44,
     "status": "ok",
     "timestamp": 1741713968897,
     "user": {
      "displayName": "Brian McClain",
      "userId": "08063899147261234403"
     },
     "user_tz": 240
    },
    "id": "GyV3KNfoW2Kj"
   },
   "outputs": [],
   "source": [
    "# 0. Import modules:\n",
    "import random\n",
    "import pprint as pp\n",
    "# import ReGex for string matching\n",
    "import re"
   ]
  },
  {
   "cell_type": "code",
   "execution_count": 56,
   "metadata": {
    "colab": {
     "base_uri": "https://localhost:8080/"
    },
    "executionInfo": {
     "elapsed": 10,
     "status": "ok",
     "timestamp": 1741713968909,
     "user": {
      "displayName": "Brian McClain",
      "userId": "08063899147261234403"
     },
     "user_tz": 240
    },
    "id": "hgsW0zziGAOs",
    "outputId": "baa897c6-5f44-4bd9-c828-d10efe2d93de"
   },
   "outputs": [
    {
     "name": "stdout",
     "output_type": "stream",
     "text": [
      "[1, 2, 3, 4, 5, 6, 7, 8, 9, 10]\n"
     ]
    }
   ],
   "source": [
    "# 1. Define a range(start,stop_excl):\n",
    "nums = list(range(1,11))\n",
    "print(nums)"
   ]
  },
  {
   "cell_type": "code",
   "execution_count": 57,
   "metadata": {},
   "outputs": [
    {
     "name": "stdout",
     "output_type": "stream",
     "text": [
      "[2, 4, 6, 8, 10, 12, 14, 16, 18, 20]\n"
     ]
    }
   ],
   "source": [
    "# range accepts a 3rd arg: STEP\n",
    "# make list from 2-20, even nums only:\n",
    "even_nums = list(range(2,21,2))\n",
    "print(even_nums)"
   ]
  },
  {
   "cell_type": "code",
   "execution_count": 58,
   "metadata": {
    "colab": {
     "base_uri": "https://localhost:8080/"
    },
    "executionInfo": {
     "elapsed": 28,
     "status": "ok",
     "timestamp": 1741713968975,
     "user": {
      "displayName": "Brian McClain",
      "userId": "08063899147261234403"
     },
     "user_tz": 240
    },
    "id": "R4CTK0hZJ0IB",
    "outputId": "da8a66b6-63f6-4b86-9125-32e72c9fd944"
   },
   "outputs": [
    {
     "name": "stdout",
     "output_type": "stream",
     "text": [
      "1\n",
      "4\n",
      "9\n",
      "16\n",
      "25\n",
      "36\n",
      "49\n",
      "64\n",
      "81\n",
      "100\n"
     ]
    }
   ],
   "source": [
    "# 2. Loop the range of consec ints from 1 to 11 (exclusive):\n",
    "# n (or some other variable name) represents the current item\n",
    "# print n squared each time the loop runs\n",
    "# when it reaches the end of the range, the loop stops\n",
    "for n in nums:\n",
    "    print(n**2)"
   ]
  },
  {
   "cell_type": "code",
   "execution_count": 59,
   "metadata": {},
   "outputs": [
    {
     "name": "stdout",
     "output_type": "stream",
     "text": [
      "[1, 2, 3, 4, 5, 6, 7, 8, 9, 10]\n",
      "[1, 4, 9, 16, 25, 36, 49, 64, 81, 100]\n"
     ]
    }
   ],
   "source": [
    "# Same as above, but save each square to a new list as you loop:\n",
    "squared_nums = [] # new empty list\n",
    "for n in nums:\n",
    "    squared_nums.append(n**2)\n",
    "    \n",
    "print(nums)\n",
    "print(squared_nums)"
   ]
  },
  {
   "cell_type": "markdown",
   "metadata": {},
   "source": [
    "#### **list comprehension** one-liner: loops a list AND makes a new list\n",
    "- declare a list variable to hold the result\n",
    "    - nums_sq =\n",
    "- set that var equal to square brackets (a list) \n",
    "    - nums_sq = [ ]\n",
    "- inside the [] put your for-loop opening part: **for n in nums**\n",
    "    - nums_sq = [ for n in nums ]\n",
    "- BEFORE the loop part, put the **return value** (the \"answer\")\n",
    "    - nums_sq = [ n**2 for n in nums ]"
   ]
  },
  {
   "cell_type": "code",
   "execution_count": 60,
   "metadata": {},
   "outputs": [
    {
     "name": "stdout",
     "output_type": "stream",
     "text": [
      "[1, 4, 9, 16, 25, 36, 49, 64, 81, 100]\n"
     ]
    }
   ],
   "source": [
    "# one liner version of the above\n",
    "# square nums using list comprehension\n",
    "# no append necessary -- the process returns the answer each time loop runs\n",
    "# the new list accumulates the result\n",
    "nums_sq_list = [ n**2 for n in nums ]\n",
    "print(nums_sq_list)"
   ]
  },
  {
   "cell_type": "code",
   "execution_count": 61,
   "metadata": {
    "colab": {
     "base_uri": "https://localhost:8080/"
    },
    "executionInfo": {
     "elapsed": 57,
     "status": "ok",
     "timestamp": 1741713969033,
     "user": {
      "displayName": "Brian McClain",
      "userId": "08063899147261234403"
     },
     "user_tz": 240
    },
    "id": "PbyF0VLrH73P",
    "outputId": "19962e4c-167d-472f-87a2-6711fd2b2a60"
   },
   "outputs": [
    {
     "name": "stdout",
     "output_type": "stream",
     "text": [
      "1\n",
      "4\n",
      "27\n",
      "16\n",
      "125\n",
      "36\n",
      "343\n",
      "64\n",
      "729\n",
      "100\n"
     ]
    }
   ],
   "source": [
    "# 3. Loop the nums list (which was made from a range):\n",
    "# if n is even, square it (n ** 2)\n",
    "# else, n is odd, so cube it (n ** 3)\n",
    "# print the result each time from 1-10\n",
    "# expected result: 1 4 9 16 125 36 ... 100\n",
    "# HINT: %\n",
    "# 18 % 2 = 0\n",
    "# 19 % 2 = 1\n",
    "for n in nums:\n",
    "    if n % 2 == 0: # if n is even\n",
    "        print(n**2)\n",
    "    else:\n",
    "        print(n**3)\n",
    "    \n",
    "# [1, 4, 27, 16, 125, 36, 343, 64, 729, 100]"
   ]
  },
  {
   "cell_type": "code",
   "execution_count": 62,
   "metadata": {},
   "outputs": [
    {
     "name": "stdout",
     "output_type": "stream",
     "text": [
      "[1, 4, 27, 16, 125, 36, 343, 64, 729, 100]\n"
     ]
    }
   ],
   "source": [
    "# BONUS: make a new list of results and then print that at the end\n",
    "squares_or_cubes = []\n",
    " \n",
    "for n in nums:\n",
    "    if n % 2 == 0: # if n is even\n",
    "        squares_or_cubes.append(n**2)\n",
    "    else:\n",
    "        squares_or_cubes.append(n**3)\n",
    "        \n",
    "print(squares_or_cubes)\n"
   ]
  },
  {
   "cell_type": "code",
   "execution_count": 63,
   "metadata": {},
   "outputs": [
    {
     "name": "stdout",
     "output_type": "stream",
     "text": [
      "[4, 16, 36, 64, 100]\n",
      "[1, 27, 125, 343, 729]\n"
     ]
    }
   ],
   "source": [
    "# SUPER-BONUS: save to TWO different lists: \n",
    "# odd_nums_sq and even_nums_sq\n",
    "squares = []\n",
    "cubes = []\n",
    "for n in nums:\n",
    "    if n % 2 == 0: # if n is even\n",
    "        squares.append(n**2)\n",
    "    else:\n",
    "        cubes.append(n**3)\n",
    "    \n",
    "print(squares)    \n",
    "print(cubes)"
   ]
  },
  {
   "cell_type": "code",
   "execution_count": 64,
   "metadata": {},
   "outputs": [
    {
     "name": "stdout",
     "output_type": "stream",
     "text": [
      "[1, 4, 27, 16, 125, 36, 343, 64, 729, 100]\n"
     ]
    }
   ],
   "source": [
    "# SUPER-UBER-BONUS: List comprehension version of the above if-else modulus math:\n",
    "# new_list = [ do_this if condition_true else do_that for item in list]\n",
    "kubes_or_skwares = [ n**2 if n%2==0 else n**3 for n in nums ]\n",
    "\n",
    "print(kubes_or_skwares)"
   ]
  },
  {
   "cell_type": "code",
   "execution_count": 65,
   "metadata": {
    "colab": {
     "base_uri": "https://localhost:8080/"
    },
    "executionInfo": {
     "elapsed": 2,
     "status": "ok",
     "timestamp": 1741713969036,
     "user": {
      "displayName": "Brian McClain",
      "userId": "08063899147261234403"
     },
     "user_tz": 240
    },
    "id": "kzqNn_YpKWwf",
    "outputId": "eba02454-07a3-4cb2-aaa5-30f48eac96a2"
   },
   "outputs": [
    {
     "name": "stdout",
     "output_type": "stream",
     "text": [
      "['apple jellybean',\n",
      " 'banana jellybean',\n",
      " 'blueberry jellybean',\n",
      " 'cherry jellybean',\n",
      " 'grape jellybean',\n",
      " 'kiwi jellybean',\n",
      " 'lemon jellybean',\n",
      " 'lime jellybean',\n",
      " 'mango jellybean',\n",
      " 'orange jellybean',\n",
      " 'peach jellybean',\n",
      " 'pineapple jellybean',\n",
      " 'raspberry jellybean',\n",
      " 'strawberry jellybean',\n",
      " 'tangerine jellybean',\n",
      " 'watermelon jellybean']\n"
     ]
    }
   ],
   "source": [
    "# 4. Given this list of fruits:\n",
    "fruits = ['apple','banana','blueberry','cherry','grape','kiwi','lemon','lime','mango', 'orange','peach','pineapple','raspberry','strawberry','tangerine','watermelon']\n",
    "\n",
    "# Do a fruit loop and make jellybeans: \"apple jellybean\" etc.\n",
    "# save each to a new list called jellybeans\n",
    "jellybeans = []\n",
    "# do a fruit loop\n",
    "for fru in fruits:\n",
    "    jellybeans.append(fru + \" jellybean\")\n",
    "    \n",
    "pp.pprint(jellybeans)"
   ]
  },
  {
   "cell_type": "markdown",
   "metadata": {
    "id": "l_BAWaH4NagM"
   },
   "source": [
    "**list methods**\n",
    "- **append(item)** adds single item to end of list\n",
    "- **pop()** removes last item from end of list\n",
    "- **pop(index)** removes item at index from list\n",
    "- **extend([item1,item2])** adds list of items to end of list, keeping it flat\n",
    "- **remove(item)** removes item by name from list\n",
    "- **insert(index,item1,item2)** add item(s) at specified index\n",
    "- **index(item)** gets first index of specified item\n",
    "- **sort()** alphabetizes list of strings; puts nums in ascending order\n",
    "- **reverse()** reverses the order of list items"
   ]
  },
  {
   "cell_type": "code",
   "execution_count": 66,
   "metadata": {
    "executionInfo": {
     "elapsed": 9,
     "status": "ok",
     "timestamp": 1741713969046,
     "user": {
      "displayName": "Brian McClain",
      "userId": "08063899147261234403"
     },
     "user_tz": 240
    },
    "id": "8b3sn15MK7L2"
   },
   "outputs": [
    {
     "name": "stdout",
     "output_type": "stream",
     "text": [
      "['apple', 'banana', 'blueberry', 'cherry', 'grape', 'kiwi', 'lemon', 'lime', 'mango', 'orange', 'peach', 'pineapple', 'raspberry', 'strawberry', 'tangerine', 'watermelon', 'cranberry', 'blackberry', 'boysenberry']\n"
     ]
    }
   ],
   "source": [
    "# list method REVIEW CHALLENGE:\n",
    "\n",
    "# a.) extend() add 3 berries TWICE to end of list while keeping list flat\n",
    "# 'cranberry', 'blackberry', 'boysenberry'\n",
    "# 'cranberry', 'blackberry', 'boysenberry'\n",
    "fruits.extend(['cranberry', 'blackberry', 'boysenberry'])\n",
    "print(fruits)"
   ]
  },
  {
   "cell_type": "code",
   "execution_count": 67,
   "metadata": {},
   "outputs": [],
   "source": [
    "fruits = ['apple','banana','blueberry','cherry','grape','kiwi','lemon','lime','mango', 'orange','peach','pineapple','raspberry','strawberry','tangerine','watermelon']"
   ]
  },
  {
   "cell_type": "markdown",
   "metadata": {},
   "source": [
    "#### **Vector Operations:** Doing Math on a List\n",
    "- python supports vector operations, which is math on a list\n",
    "- math ops are limited: we're mostly talking addition and *"
   ]
  },
  {
   "cell_type": "code",
   "execution_count": 68,
   "metadata": {},
   "outputs": [
    {
     "name": "stdout",
     "output_type": "stream",
     "text": [
      "['apple',\n",
      " 'banana',\n",
      " 'blueberry',\n",
      " 'cherry',\n",
      " 'grape',\n",
      " 'kiwi',\n",
      " 'lemon',\n",
      " 'lime',\n",
      " 'mango',\n",
      " 'orange',\n",
      " 'peach',\n",
      " 'pineapple',\n",
      " 'raspberry',\n",
      " 'strawberry',\n",
      " 'tangerine',\n",
      " 'watermelon',\n",
      " 'cranberry',\n",
      " 'blackberry',\n",
      " 'boysenberry',\n",
      " 'cranberry',\n",
      " 'blackberry',\n",
      " 'boysenberry']\n"
     ]
    }
   ],
   "source": [
    "# python supports vector operations, which is math on a list:\n",
    "fruits = fruits + ['cranberry', 'blackberry', 'boysenberry'] * 2\n",
    "\n",
    "pp.pprint(fruits)"
   ]
  },
  {
   "cell_type": "code",
   "execution_count": 69,
   "metadata": {},
   "outputs": [
    {
     "name": "stdout",
     "output_type": "stream",
     "text": [
      "['apple',\n",
      " 'banana',\n",
      " 'blueberry',\n",
      " 'cherry',\n",
      " 'grape',\n",
      " 'lemon',\n",
      " 'lime',\n",
      " 'mango',\n",
      " 'orange',\n",
      " 'peach',\n",
      " 'pineapple',\n",
      " 'raspberry',\n",
      " 'strawberry',\n",
      " 'tangerine',\n",
      " 'watermelon',\n",
      " 'cranberry',\n",
      " 'blackberry',\n",
      " 'boysenberry',\n",
      " 'cranberry',\n",
      " 'blackberry',\n",
      " 'boysenberry']\n"
     ]
    }
   ],
   "source": [
    "# b.) remove(name): remove the kiwi by name\n",
    "fruits.remove('kiwi')\n",
    "pp.pprint(fruits)"
   ]
  },
  {
   "cell_type": "code",
   "execution_count": 70,
   "metadata": {},
   "outputs": [
    {
     "name": "stdout",
     "output_type": "stream",
     "text": [
      "['cranberry', 'blackberry', 'boysenberry', 'grapefruit', 'coconut']\n"
     ]
    }
   ],
   "source": [
    "# c.) append() two final fruits, one by one: 'grapefruit' and 'coconut'\n",
    "fruits.append('grapefruit')\n",
    "fruits.append('coconut')\n",
    "pp.pprint(fruits[-5:])"
   ]
  },
  {
   "cell_type": "code",
   "execution_count": 71,
   "metadata": {},
   "outputs": [
    {
     "name": "stdout",
     "output_type": "stream",
     "text": [
      "['papaya', 'apple', 'banana', 'blueberry', 'cherry']\n"
     ]
    }
   ],
   "source": [
    "# d.) insert(index,item) 'papaya' at the beginning of the list\n",
    "fruits.insert(0,'papaya')\n",
    "pp.pprint(fruits[:5])"
   ]
  },
  {
   "cell_type": "code",
   "execution_count": 72,
   "metadata": {},
   "outputs": [
    {
     "name": "stdout",
     "output_type": "stream",
     "text": [
      "grape\n"
     ]
    }
   ],
   "source": [
    "# e.) pop(index) the item at index 5, whatever it is\n",
    "# popped_item = list.pop()\n",
    "popped_fruit = fruits.pop(5)\n",
    "print(popped_fruit)"
   ]
  },
  {
   "cell_type": "code",
   "execution_count": 73,
   "metadata": {},
   "outputs": [
    {
     "name": "stdout",
     "output_type": "stream",
     "text": [
      "['mango',\n",
      " 'orange',\n",
      " 'peach',\n",
      " 'pineapple',\n",
      " 'raspberry',\n",
      " 'strawberry',\n",
      " 'tangerine',\n",
      " 'watermelon',\n",
      " 'blueberry',\n",
      " 'cranberry',\n",
      " 'raspberry',\n",
      " 'strawberry',\n",
      " 'blueberry',\n",
      " 'cranberry',\n",
      " 'raspberry',\n",
      " 'strawberry',\n",
      " 'blueberry',\n",
      " 'cranberry',\n",
      " 'raspberry',\n",
      " 'strawberry']\n"
     ]
    }
   ],
   "source": [
    "# f.) remove duplicates (set) -- berries are in there TWICE\n",
    "#     but end up w list -- not set\n",
    "fruits = ['apple','banana','blueberry','cherry','grape','kiwi','lemon','lime','mango', 'orange','peach','pineapple','raspberry','strawberry','tangerine','watermelon']\n",
    "\n",
    "fruits = fruits + ['blueberry','cranberry','raspberry','strawberry']*3\n",
    "pp.pprint(fruits[-20:])"
   ]
  },
  {
   "cell_type": "code",
   "execution_count": 74,
   "metadata": {},
   "outputs": [
    {
     "name": "stdout",
     "output_type": "stream",
     "text": [
      "['apple',\n",
      " 'banana',\n",
      " 'blueberry',\n",
      " 'cherry',\n",
      " 'cranberry',\n",
      " 'grape',\n",
      " 'kiwi',\n",
      " 'lemon',\n",
      " 'lime',\n",
      " 'mango',\n",
      " 'orange',\n",
      " 'peach',\n",
      " 'pineapple',\n",
      " 'raspberry',\n",
      " 'strawberry',\n",
      " 'tangerine',\n",
      " 'watermelon']\n"
     ]
    }
   ],
   "source": [
    "# g.) sort() alphabetize the list\n",
    "# lists are mutable so just do the operation in place\n",
    "fruits = list(set(fruits))\n",
    "fruits.sort()\n",
    "pp.pprint(fruits[-20:])"
   ]
  },
  {
   "cell_type": "code",
   "execution_count": null,
   "metadata": {},
   "outputs": [],
   "source": [
    "# i.) loop the fruits list, making jellybeans of everything EXCEPT\n",
    "#     fruits that start with \"p\" -- make popsicles out of those instead\n",
    "#     save results to new list called treats\n",
    "treats = []\n",
    "for fru in fruits:\n",
    "    if fru.startswith('p'):\n",
    "    # if fru[0]=='p':\n",
    "        treats.append(fru + ' popsicle')\n",
    "    else:\n",
    "        treats.append(fru + ' jellybeans')\n",
    "        \n",
    "pp.pprint(treats)"
   ]
  },
  {
   "cell_type": "code",
   "execution_count": 95,
   "metadata": {},
   "outputs": [
    {
     "name": "stdout",
     "output_type": "stream",
     "text": [
      "['apple jellybean',\n",
      " 'banana jellybean',\n",
      " 'blueberry jellybean',\n",
      " 'cherry jellybean',\n",
      " 'cranberry jellybean',\n",
      " 'grape jellybean',\n",
      " 'kiwi jellybean',\n",
      " 'lemon jellybean',\n",
      " 'lime jellybean',\n",
      " 'mango jellybean',\n",
      " 'orange jellybean',\n",
      " 'peach popsicle',\n",
      " 'pineapple popsicle',\n",
      " 'raspberry jellybean',\n",
      " 'strawberry jellybean',\n",
      " 'tangerine jellybean',\n",
      " 'watermelon jellybean']\n"
     ]
    }
   ],
   "source": [
    "# UBER-BONUS: List Comprehension version of the above treat-maker loop\n",
    "treats = [f+\" popsicle\" if f[0]=='p' else f+\" jellybean\" for f in fruits]\n",
    "\n",
    "pp.pprint(treats)"
   ]
  },
  {
   "cell_type": "code",
   "execution_count": 98,
   "metadata": {
    "colab": {
     "base_uri": "https://localhost:8080/"
    },
    "executionInfo": {
     "elapsed": 20,
     "status": "ok",
     "timestamp": 1741713969143,
     "user": {
      "displayName": "Brian McClain",
      "userId": "08063899147261234403"
     },
     "user_tz": 240
    },
    "id": "W-HOZ1KhVn21",
    "outputId": "da4aa93d-f94c-49cb-8e89-5a55162209ad"
   },
   "outputs": [
    {
     "name": "stdout",
     "output_type": "stream",
     "text": [
      "['apple jellybean', 'blueberry jellybean', 'cranberry jellybean', 'kiwi jellybean', 'lime jellybean', 'orange jellybean', 'pineapple popsicle', 'strawberry jellybean', 'watermelon jellybean']\n",
      "['banana jellybean', 'cherry jellybean', 'grape jellybean', 'lemon jellybean', 'mango jellybean', 'peach popsicle', 'raspberry jellybean', 'tangerine jellybean']\n",
      "['watermelon jellybean', 'strawberry jellybean', 'pineapple popsicle', 'orange jellybean', 'lime jellybean', 'kiwi jellybean', 'cranberry jellybean', 'blueberry jellybean', 'apple jellybean']\n"
     ]
    }
   ],
   "source": [
    "# print every other treat from the beginning:\n",
    "print(treats[::2])\n",
    "\n",
    "# print every other treat from index 1 (starting w 2nd item):\n",
    "print(treats[1::2])\n",
    "\n",
    "# print every other treat BACKWARDS (without list.reverse()):\n",
    "print(treats[::-2])"
   ]
  },
  {
   "cell_type": "code",
   "execution_count": 77,
   "metadata": {},
   "outputs": [],
   "source": [
    "# jel"
   ]
  },
  {
   "cell_type": "code",
   "execution_count": 99,
   "metadata": {
    "colab": {
     "base_uri": "https://localhost:8080/"
    },
    "executionInfo": {
     "elapsed": 4,
     "status": "ok",
     "timestamp": 1741713969148,
     "user": {
      "displayName": "Brian McClain",
      "userId": "08063899147261234403"
     },
     "user_tz": 240
    },
    "id": "CeQRyfeQqhEH",
    "outputId": "105a45e6-e1a9-434a-cb57-f00ce54265dc"
   },
   "outputs": [
    {
     "name": "stdout",
     "output_type": "stream",
     "text": [
      "apple jellybean\n",
      "watermelon jellybean\n",
      "['apple jellybean', 'banana jellybean', 'blueberry jellybean', 'cherry jellybean', 'cranberry jellybean']\n",
      "['raspberry jellybean', 'strawberry jellybean', 'tangerine jellybean', 'watermelon jellybean']\n",
      "['banana jellybean', 'blueberry jellybean', 'cherry jellybean', 'cranberry jellybean', 'grape jellybean', 'kiwi jellybean', 'lemon jellybean', 'lime jellybean', 'mango jellybean', 'orange jellybean', 'peach popsicle', 'pineapple popsicle', 'raspberry jellybean', 'strawberry jellybean', 'tangerine jellybean']\n"
     ]
    }
   ],
   "source": [
    "# challenge: review of accessing list items with [start:end:step]\n",
    "\n",
    "# a.) print the first treat\n",
    "print(treats[0])\n",
    "\n",
    "# b.) print the last treat\n",
    "print(treats[-1])\n",
    "\n",
    "# c.) print the first 5 treat\n",
    "print(treats[:5])\n",
    "\n",
    "# d.) print the last 4 treat\n",
    "print(treats[-4:])\n",
    "\n",
    "# f.) print all but the first and last treat\n",
    "print(treats[1:-1])\n"
   ]
  },
  {
   "cell_type": "code",
   "execution_count": 100,
   "metadata": {
    "executionInfo": {
     "elapsed": 47,
     "status": "ok",
     "timestamp": 1741713969224,
     "user": {
      "displayName": "Brian McClain",
      "userId": "08063899147261234403"
     },
     "user_tz": 240
    },
    "id": "tZWIuCH1YYCL"
   },
   "outputs": [
    {
     "name": "stdout",
     "output_type": "stream",
     "text": [
      "['apple jelly',\n",
      " 'banana lollipop',\n",
      " 'blueberry jam',\n",
      " 'cherry jam',\n",
      " 'cranberry jam',\n",
      " 'grape jelly',\n",
      " 'kiwi jellybean',\n",
      " 'lemon jelly',\n",
      " 'lime jellybean',\n",
      " 'mango jelly',\n",
      " 'orange lollipop',\n",
      " 'peach jelly',\n",
      " 'pineapple popsicle',\n",
      " 'raspberry jam',\n",
      " 'strawberry jam',\n",
      " 'tangerine lollipop',\n",
      " 'watermelon lollipop']\n"
     ]
    }
   ],
   "source": [
    "# FRUIT LOOP CHALLENGE: \n",
    "treats = []\n",
    "for fru in fruits:\n",
    "    #. √ if the fruit is less than 5 letters\n",
    "    if len(fru) < 5:\n",
    "        # \" jellybean\" # make jellybean\n",
    "        treats.append(fru + \" jellybean\")\n",
    "    #. √ else if the fruit has exactly 5 letters, make jelly\n",
    "    elif len(fru) == 5:\n",
    "        # \" jelly\" # make jelly\n",
    "        treats.append(fru + \" jelly\")\n",
    "    #. √ else if the fruit starts with a \"p\", make popsicle:\n",
    "    elif fru[0] == 'p': # or: fru.startswith('p')\n",
    "        # \" popsicle\" # make popsicle\n",
    "        treats.append(fru + \" popsicle\")\n",
    "    #. √ else if the fruit ends with a \"y\", make jam:\n",
    "    elif fru[-1] == 'y': # or: fru.endswith('y')\n",
    "        treats.append(fru + \" jam\")\n",
    "    #. √ else -- if ALL of the above are false -- make lollipop\n",
    "    else:\n",
    "        treats.append(fru + \" lollipop\")\n",
    "\n",
    "#  save all to new list called treats\n",
    "pp.pprint(treats)"
   ]
  },
  {
   "cell_type": "markdown",
   "metadata": {
    "id": "Iu_r-WFQcooj"
   },
   "source": [
    "**in** and **not in** operators check for existence\n",
    "- check for existence of item in list\n",
    "- check for existence of char(s) in string\n",
    "- returns a boolean"
   ]
  },
  {
   "cell_type": "code",
   "execution_count": null,
   "metadata": {
    "colab": {
     "base_uri": "https://localhost:8080/"
    },
    "executionInfo": {
     "elapsed": 63,
     "status": "ok",
     "timestamp": 1741713969288,
     "user": {
      "displayName": "Brian McClain",
      "userId": "08063899147261234403"
     },
     "user_tz": 240
    },
    "id": "PAuzxcZfc0NX",
    "outputId": "94cdaf7c-56ff-4a2f-aa2e-7febab3be985"
   },
   "outputs": [
    {
     "name": "stdout",
     "output_type": "stream",
     "text": [
      "True\n",
      "False\n",
      "False\n",
      "True\n",
      "False\n",
      "True\n",
      "\n",
      "\n",
      "\n",
      "\n"
     ]
    }
   ],
   "source": [
    "print('a' in 'banana') # True\n",
    "print('cat' in fruits) # False\n",
    "VOWELS = 'aeiou'\n",
    "word1 = 'giraffe' # does not start w vowel\n",
    "word2 = 'ostrich' # does start w vowel\n",
    "# checks if word starts with a vowel:\n",
    "print(word1[0] in VOWELS) # 'g' not in vowels\n",
    "print(word2[0] in VOWELS) # 'o' is in vowels\n",
    "vowel_list = ['a','e','i','o','u']\n",
    "print(word1[0] in vowel_list) # False\n",
    "print(word2[0] in vowel_list) # True"
   ]
  },
  {
   "cell_type": "code",
   "execution_count": 106,
   "metadata": {
    "executionInfo": {
     "elapsed": 0,
     "status": "ok",
     "timestamp": 1741713969290,
     "user": {
      "displayName": "Brian McClain",
      "userId": "08063899147261234403"
     },
     "user_tz": 240
    },
    "id": "fvUJk8Xmeuzp"
   },
   "outputs": [
    {
     "name": "stdout",
     "output_type": "stream",
     "text": [
      "['apple tart',\n",
      " 'banana rollup',\n",
      " 'blueberry jellybean',\n",
      " 'cherry jellybean',\n",
      " 'cranberry jellybean',\n",
      " 'grape rollup',\n",
      " 'kiwi rollup',\n",
      " 'lemon jellybean',\n",
      " 'lime rollup',\n",
      " 'mango rollup',\n",
      " 'orange tart',\n",
      " 'peach jellybean',\n",
      " 'pineapple rollup',\n",
      " 'raspberry jellybean',\n",
      " 'strawberry jellybean',\n",
      " 'tangerine rollup',\n",
      " 'watermelon jellybean']\n"
     ]
    }
   ],
   "source": [
    "# Challenge: using in to check for existence of letter in string\n",
    "VOWELS = 'aeiou'\n",
    "# save all to a new treats list\n",
    "treats = []\n",
    "# do the fruit loop:\n",
    "for fru in fruits:\n",
    "    \n",
    "    # if fruit STARTS and ENDS with a VOWEL\n",
    "    # make \"tart\"\n",
    "    if fru[0] in VOWELS and fru[-1] in VOWELS:\n",
    "        treats.append(fru + \" tart\")\n",
    "    \n",
    "    # elif the fruit STARTS with a vowel\n",
    "    # make \"nectar\"\n",
    "    elif fru[0] in VOWELS:\n",
    "        treats.append(fru + \" nectar\")\n",
    "    \n",
    "    # elif the fruit ENDS with a vowel, make a \"rollup\"\n",
    "    elif fru[-1] in VOWELS:\n",
    "        treats.append(fru + \" rollup\")\n",
    "   \n",
    "    # else the fruit neither starts nor ends with a vowel, so make a jellybean\n",
    "    else:\n",
    "        treats.append(fru + \" jellybean\")\n",
    "\n",
    "pp.pprint(treats)"
   ]
  },
  {
   "cell_type": "markdown",
   "metadata": {
    "id": "YOZUaJY6nWwd"
   },
   "source": [
    "### **String Methods**\n",
    "- strings are immutable (cannot be changed), so:\n",
    "  - string methods are always saved to a variable (which can be same name)\n",
    "- methods include:\n",
    "  - **str = str.lower()** lowercases the string\n",
    "  - **str = str.upper()** uppercases the string\n",
    "  - **str = str.capitalize()** capitalizes the string\n",
    "  - **str = str.title()** capitalizes each word of the string\n",
    "  - **str = str.replace(find,repl)** finds char(s) and replaces w other char(s)\n",
    "  - **str = str.split()** splits a string into a list of words\n",
    "  - **str = list(str)** splits a string into a list of chars"
   ]
  },
  {
   "cell_type": "code",
   "execution_count": null,
   "metadata": {
    "colab": {
     "base_uri": "https://localhost:8080/"
    },
    "executionInfo": {
     "elapsed": 2,
     "status": "ok",
     "timestamp": 1741713969293,
     "user": {
      "displayName": "Brian McClain",
      "userId": "08063899147261234403"
     },
     "user_tz": 240
    },
    "id": "jzap73Kzqr5d",
    "outputId": "211f2ed0-3192-48a6-9790-c422161341ba"
   },
   "outputs": [
    {
     "name": "stdout",
     "output_type": "stream",
     "text": [
      "bunny\n",
      "BuNny\n",
      "bunny\n",
      "BuNny\n",
      "BUNNY\n",
      "BuNny\n",
      "BUNNY\n"
     ]
    }
   ],
   "source": [
    "# str = str.lower() lowercases the string\n",
    "pet = \"BuNny\"\n",
    "print(pet.lower())\n",
    "print(pet) # BuNny (change didn't \"stick\")\n",
    "pet2 = pet.lower()\n",
    "print(pet2)\n",
    "print(pet)\n",
    "# strings are immutable, so save return valu to new var\n",
    "# bunny\n",
    "\n",
    "# by contrast, lists are mutable, meaning they can \"stamp\" changes \"in place\"\n",
    "fruits.reverse()\n",
    "# print(fruits)\n",
    "\n",
    "fruits.sort()\n",
    "# print(fruits)\n",
    "\n",
    "# str methods do NOT operate on / change / mutate\n",
    "# the original -- they just make a copy to spec\n",
    "print(pet.upper())\n",
    "print(pet)\n",
    "\n",
    "# to \"change\" the original, redeclare the var\n",
    "# setting its value equal to the orig w the method\n",
    "# called on it:\n",
    "pet = pet.upper()\n",
    "print(pet)\n"
   ]
  },
  {
   "cell_type": "code",
   "execution_count": 83,
   "metadata": {
    "colab": {
     "base_uri": "https://localhost:8080/"
    },
    "executionInfo": {
     "elapsed": 5,
     "status": "ok",
     "timestamp": 1741713969321,
     "user": {
      "displayName": "Brian McClain",
      "userId": "08063899147261234403"
     },
     "user_tz": 240
    },
    "id": "u8kDUwHNq7eh",
    "outputId": "f6f7cb79-e8c1-4b85-e8cd-2523497a04ec"
   },
   "outputs": [
    {
     "name": "stdout",
     "output_type": "stream",
     "text": [
      "\n",
      "\n",
      "\n"
     ]
    }
   ],
   "source": [
    "# str = str.upper() uppercases the string\n",
    "pet = 'Dog'\n",
    "print() # DOG (works--but only here and now)\n",
    "print() # Dog (change didn't \"stick\")\n",
    "# save the new version as new variable\n",
    "print() # DOG (get the result we want: UPPERCASE)"
   ]
  },
  {
   "cell_type": "code",
   "execution_count": 118,
   "metadata": {
    "colab": {
     "base_uri": "https://localhost:8080/"
    },
    "executionInfo": {
     "elapsed": 35,
     "status": "ok",
     "timestamp": 1741713969374,
     "user": {
      "displayName": "Brian McClain",
      "userId": "08063899147261234403"
     },
     "user_tz": 240
    },
    "id": "P-KyGungrInC",
    "outputId": "ad6b2b71-ce83-45ba-b213-c71f9373e94d"
   },
   "outputs": [
    {
     "name": "stdout",
     "output_type": "stream",
     "text": [
      "Where da bunny?\n"
     ]
    }
   ],
   "source": [
    "# str = str.capitalize() capitalizes the string\n",
    "question = 'wheRe dA BunNy?'\n",
    "question = question.capitalize()\n",
    "print(question) # Where da bunny?"
   ]
  },
  {
   "cell_type": "code",
   "execution_count": 122,
   "metadata": {
    "colab": {
     "base_uri": "https://localhost:8080/"
    },
    "executionInfo": {
     "elapsed": 45,
     "status": "ok",
     "timestamp": 1741713969420,
     "user": {
      "displayName": "Brian McClain",
      "userId": "08063899147261234403"
     },
     "user_tz": 240
    },
    "id": "tTXkaiggrXno",
    "outputId": "896ae33a-6159-447a-e76b-96f2fd09581c"
   },
   "outputs": [
    {
     "name": "stdout",
     "output_type": "stream",
     "text": [
      "Where Da Bunny?\n"
     ]
    }
   ],
   "source": [
    "# str = str.title() capitalizes each word of the string\n",
    "question = \"wherE dA BunNy?\"\n",
    "question = question.title()\n",
    "print(question) # Where Da Bunny?"
   ]
  },
  {
   "cell_type": "code",
   "execution_count": 127,
   "metadata": {
    "colab": {
     "base_uri": "https://localhost:8080/"
    },
    "executionInfo": {
     "elapsed": 54,
     "status": "ok",
     "timestamp": 1741713969478,
     "user": {
      "displayName": "Brian McClain",
      "userId": "08063899147261234403"
     },
     "user_tz": 240
    },
    "id": "GgNEtumvr-ID",
    "outputId": "d2493d94-eb3d-436b-d2bb-539d5809029d"
   },
   "outputs": [
    {
     "name": "stdout",
     "output_type": "stream",
     "text": [
      "Dogs are the best! Dogs are superior to all other pets!\n",
      "And my dog is the best dog of all!\n"
     ]
    }
   ],
   "source": [
    "# str = str.replace(find,repl) finds char(s) and replaces w other char(s)\n",
    "claim = 'Cats are the best! Cats are superior to all other pets!\\nAnd my cat is the best cat of all!'\n",
    "# Dog begs to differ:\n",
    "# \"Cat\", \"Dog\"\n",
    "claim = claim.replace(\"Cat\",\"Dog\").replace(\"cat\",\"dog\")\n",
    "print(claim)"
   ]
  },
  {
   "cell_type": "code",
   "execution_count": 131,
   "metadata": {},
   "outputs": [
    {
     "name": "stdout",
     "output_type": "stream",
     "text": [
      "Dog Steals Cat's $50 Floppy Fish!\n",
      "dog-steals-cats-$50-floppy-fish.jpg\n",
      "['cat-refuses-to-play-with-floppy-fish.jpg',\n",
      " 'cat-steals-dogs-bed,-refuses-to-leave.jpg',\n",
      " 'dog-locks-cat-out-of-his-own-home.jpg']\n"
     ]
    }
   ],
   "source": [
    "# str.replace() in a loop to batch process news headlines into JPG file names\n",
    "# list of strings to file names:\n",
    "headlines = ['Cat Refuses to Play with Floppy Fish',\n",
    "             'Cat Steals Dog\\'s Bed, Refuses to Leave',\n",
    "             'Dog Locks Cat Out of his own home!']\n",
    "# make file names from headlines: \n",
    "# cat-refuses-to-play-with-floppy-fish.jpg\n",
    "file_names = []\n",
    "# if you have a process to perform on a list of items,\n",
    "# get it to work on ONE item first -- NO LOOP -- before\n",
    "# rolling out the process to all items via loop\n",
    "text = 'Dog Steals Cat\\'s $50 Floppy Fish!'\n",
    "file = text.replace(\" \",\"-\").lower().replace(\"\\'\",\"\").replace(\"!\",\"\") + \".jpg\"\n",
    "print(text)\n",
    "print(file)\n",
    "\n",
    "for h in headlines:\n",
    "    file = h.replace(\" \",\"-\").lower().replace(\"\\'\",\"\").replace(\"!\",\"\") + \".jpg\"\n",
    "    file_names.append(file)\n",
    "    \n",
    "pp.pprint(file_names)"
   ]
  },
  {
   "cell_type": "markdown",
   "metadata": {},
   "source": [
    "### What the regex means\n",
    "\n",
    "re.sub(pattern, repl, s) – replace all matches of pattern in s with repl.\n",
    "\n",
    "r'...' – raw string so backslashes mean regex escapes, not Python escapes.\n",
    "\n",
    "[ ... ] – character class: “one character from this set.”\n",
    "\n",
    "^ (inside []) – negates the class: “anything not in this set.”\n",
    "\n",
    "A-Za-z – all ASCII letters.\n",
    "\n",
    "\\s – any whitespace (space, tab, newline, etc.).\n",
    "\n",
    "[^A-Za-z\\s]+ – “one or more (+) characters that are not letters or whitespace” → i.e., punctuation, digits, and special chars.\n",
    "\n",
    "Second pass \\s+ → ' ' – collapse runs of whitespace to a single space.\n",
    "\n",
    ".strip() – remove leading/trailing spaces."
   ]
  },
  {
   "cell_type": "code",
   "execution_count": 135,
   "metadata": {},
   "outputs": [
    {
     "name": "stdout",
     "output_type": "stream",
     "text": [
      "Cat s Favorite Food We Asked\n"
     ]
    }
   ],
   "source": [
    "# str.replace() in a loop to batch process news headlines into JPG file names\n",
    "# list of strings to file names:\n",
    "headlines = ['Cat Refuses to Play with $50 Floppy Fish',\n",
    "             'Cat Steals Dog\\'s Bed, Refuses to Leave',\n",
    "             'Dog Locks Cat Out of his own home..',\n",
    "             'Cats\\'s #1 Favorite Food--We Asked!']\n",
    "# make file names from headlines: \n",
    "# use ReGex to strip out ALL punc, digits and special chars:\n",
    "# cat-refuses-to-play-with-50-floppy-fish.jpg\n",
    "text = 'Cat\\'s #1 Favorite Food--We Asked!'\n",
    "# [^A-Za-z\\s]+ – “one or more (+) characters that are not letters or whitespace” → i.e., punctuation, digits, and special chars.\n",
    "\n",
    "# replace non-letters with spaces\n",
    "no_punc = re.sub(r'[^A-Za-z\\s]+', ' ', text) \n",
    "\n",
    "# collapse extra spaces          \n",
    "no_punc = re.sub(r'\\s+', ' ', no_punc).strip()\n",
    " \n",
    "print(no_punc)  # -> Catss Favorite Food We Asked\n"
   ]
  },
  {
   "cell_type": "code",
   "execution_count": null,
   "metadata": {},
   "outputs": [
    {
     "name": "stdout",
     "output_type": "stream",
     "text": [
      "['cat-refuses-to-play-with-floppy-fish.jpg',\n",
      " 'cat-steals-dog-s-bed-refuses-to-leave.jpg',\n",
      " 'dog-locks-cat-out-of-his-own-home.jpg',\n",
      " 'cats-favorite-food-we-asked.jpg']\n"
     ]
    }
   ],
   "source": [
    "# str.replace() in a loop to batch process news \n",
    "# headlines into JPG file names::\n",
    "headlines = ['Cat Refuses to Play with $50 Floppy Fish',\n",
    "             'Cat Steals Dog\\'s Bed, Refuses to Leave',\n",
    "             'Dog Locks Cat Out of his own home..',\n",
    "             'Cats\\' #1 Favorite Food--We Asked!']\n",
    "file_names = [] # for holding result\n",
    "\n",
    "# loop headlines, run ReGex on each item:\n",
    "for item in headlines:\n",
    "    # strip out all punc, digits and special chars\n",
    "    item = re.sub(r'[^A-Za-z\\s]+', ' ', item)    \n",
    "    # strip out any extra spaces  \n",
    "    item = re.sub(r'\\s+', ' ', item).strip()\n",
    "    # replace spaces w dashes\n",
    "    item = item.replace(\" \",\"-\")\n",
    "    # lowercase all and add jpg file ext:\n",
    "    item = item.lower() + \".jpg\"\n",
    "    # append final file name result to list\n",
    "    file_names.append(item)\n",
    "    \n",
    "pp.pprint(file_names)"
   ]
  },
  {
   "cell_type": "markdown",
   "metadata": {
    "id": "F5did-CnGeJ6"
   },
   "source": [
    "**f\"Hello! My name is {name}. I am {age} years old!\"** instead of regular concatenation\n",
    "- officially called an **f-string**, short for **formatted string literal**.\n",
    "    - put f in front of everything\n",
    "    - delete all plus signs\n",
    "    - delete all but outer wrapper quotes\n",
    "    - no need to convert nums to str()\n",
    "    - wrap variables in curly braces {}\n"
   ]
  },
  {
   "cell_type": "code",
   "execution_count": null,
   "metadata": {},
   "outputs": [],
   "source": [
    "# declare vars for concatenation vs. f-string-formatting example:\n",
    "pet = \"cat\"\n",
    "name = \"Fluffy\"\n",
    "age = 3\n",
    "toy = \"Floppy Fish\"\n",
    "sound = \"Meow\""
   ]
  },
  {
   "cell_type": "code",
   "execution_count": 147,
   "metadata": {},
   "outputs": [
    {
     "name": "stdout",
     "output_type": "stream",
     "text": [
      "Meow! My name is Fluffy!\n",
      "I am a 3-year-old pet!\n",
      "My favorite toy is my Floppy Fish!\n"
     ]
    }
   ],
   "source": [
    "cat_greeting = f\"{sound}! My name is {name}!\\nI am a {age}-year-old pet!\\nMy favorite toy is my {toy}!\"\n",
    "print(cat_greeting)"
   ]
  },
  {
   "cell_type": "code",
   "execution_count": 145,
   "metadata": {},
   "outputs": [
    {
     "name": "stdout",
     "output_type": "stream",
     "text": [
      "Meow! My name is Fluffy!\n",
      "I am a 3-year-old cat!\n",
      "My favorite toy is my Floppy Fish!\n"
     ]
    }
   ],
   "source": [
    "# Using concatenation make this string:\n",
    "# Meow! My name is Fluffy! I am a 3-year-old cat! My favorite toy is my Floppy Fish!\n",
    "con_cat_enated_greeting = sound + \"! My name is \" + name + \"!\\nI am a \" + str(age) + \"-year-old \" + pet + \"!\\nMy favorite toy is my \" +  toy + \"!\"\n",
    "\n",
    "print(con_cat_enated_greeting)"
   ]
  },
  {
   "cell_type": "markdown",
   "metadata": {
    "id": "pKIllJvtc75G"
   },
   "source": [
    "**nested loop** a loop inside a loop"
   ]
  },
  {
   "cell_type": "code",
   "execution_count": 180,
   "metadata": {
    "executionInfo": {
     "elapsed": 8,
     "status": "ok",
     "timestamp": 1741713969667,
     "user": {
      "displayName": "Brian McClain",
      "userId": "08063899147261234403"
     },
     "user_tz": 240
    },
    "id": "svUMQXveSVId"
   },
   "outputs": [],
   "source": [
    "# Given these two lists, make a deck of 52 playing cards as \"4 of Clubs\", \"Queen of Diamonds\", etc.\n",
    "# Save the 52 strings to a new list, called deck\n",
    "# Queen-of-Diamonds.png 5-of-Clubs.png\n",
    "\n",
    "kinds = [2,3,4,5,6,7,8,9,10,'Jack','Queen','King','Ace']\n",
    "suits = ['Clubs','Diamonds','Hearts','Spades']\n",
    "deck = []\n",
    "\n",
    "# HINT: Use a nested loop -- a loop inside a loop\n",
    "for k in kinds:\n",
    "    for s in suits:\n",
    "        deck.append(f\"{k} of {s}\")"
   ]
  },
  {
   "cell_type": "code",
   "execution_count": null,
   "metadata": {
    "executionInfo": {
     "elapsed": 1,
     "status": "ok",
     "timestamp": 1741713969739,
     "user": {
      "displayName": "Brian McClain",
      "userId": "08063899147261234403"
     },
     "user_tz": 240
    },
    "id": "sAmxXhw0UiFV"
   },
   "outputs": [],
   "source": [
    "# Deal a hand of to 2 players\n",
    "# first shuffle the deck\n",
    "random.shuffle(deck)"
   ]
  },
  {
   "cell_type": "code",
   "execution_count": 182,
   "metadata": {},
   "outputs": [],
   "source": [
    "# declare lists to hold the card hands\n",
    "player_hand = []\n",
    "dealer_hand = []"
   ]
  },
  {
   "cell_type": "code",
   "execution_count": 183,
   "metadata": {
    "colab": {
     "base_uri": "https://localhost:8080/"
    },
    "executionInfo": {
     "elapsed": 5,
     "status": "ok",
     "timestamp": 1741713969746,
     "user": {
      "displayName": "Brian McClain",
      "userId": "08063899147261234403"
     },
     "user_tz": 240
    },
    "id": "Hl4W4HOwVKao",
    "outputId": "8803bb26-1bf8-4e09-e340-5a8f8f575a0e"
   },
   "outputs": [
    {
     "name": "stdout",
     "output_type": "stream",
     "text": [
      "['7 of Spades', 'King of Clubs']\n",
      "['4 of Hearts', '7 of Clubs']\n"
     ]
    }
   ],
   "source": [
    "# loop the shuffled deck, popping cards one by one,\n",
    "# and deal 2 hands of alternating cards\n",
    "for n in range(11,15):\n",
    "    # pop card from shuffled deck\n",
    "    card = deck.pop()\n",
    "    \n",
    "    # if n is odd, player gets the card\n",
    "    if n % 2 == 1:\n",
    "        # append card to player_hand\n",
    "        player_hand.append(card)\n",
    "    else:\n",
    "        # append card to dealer_hand\n",
    "        dealer_hand.append(card)\n",
    "    \n",
    "pp.pprint(player_hand)\n",
    "pp.pprint(dealer_hand)\n"
   ]
  }
 ],
 "metadata": {
  "colab": {
   "authorship_tag": "ABX9TyNvAnyGS3BFS3JFuYDaZBWg",
   "provenance": []
  },
  "kernelspec": {
   "display_name": "base",
   "language": "python",
   "name": "python3"
  },
  "language_info": {
   "codemirror_mode": {
    "name": "ipython",
    "version": 3
   },
   "file_extension": ".py",
   "mimetype": "text/x-python",
   "name": "python",
   "nbconvert_exporter": "python",
   "pygments_lexer": "ipython3",
   "version": "3.10.9"
  }
 },
 "nbformat": 4,
 "nbformat_minor": 0
}
