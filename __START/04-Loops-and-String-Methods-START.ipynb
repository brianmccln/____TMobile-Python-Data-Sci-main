{
 "cells": [
  {
   "cell_type": "markdown",
   "metadata": {
    "id": "003PcebtGEPy"
   },
   "source": [
    "## **Loops**\n",
    "code that repeats as long as a *condition* is *True*\n",
    "- **range(start,stop,step)** generates consec ints in the start-stop range\n",
    "  - stop value is exclusive (not included in result)\n",
    "  - step is incrementer (step=2 means every-other number)"
   ]
  },
  {
   "cell_type": "markdown",
   "metadata": {
    "id": "5wuXZN4fH88J"
   },
   "source": [
    "### **for loop** for iterating a list of items\n",
    "- for item in list:\n",
    "--    print(item)\n",
    "\n",
    "### **iterable**\n",
    "- a list, range or other data that contains multiple values can be looped\n",
    "- anything that can be looped is called an **iterable**\n",
    "- to loop is to **iterate (over)**"
   ]
  },
  {
   "cell_type": "code",
   "execution_count": null,
   "metadata": {
    "executionInfo": {
     "elapsed": 44,
     "status": "ok",
     "timestamp": 1741713968897,
     "user": {
      "displayName": "Brian McClain",
      "userId": "08063899147261234403"
     },
     "user_tz": 240
    },
    "id": "GyV3KNfoW2Kj"
   },
   "outputs": [],
   "source": [
    "# 0. Import modules:\n"
   ]
  },
  {
   "cell_type": "code",
   "execution_count": null,
   "metadata": {
    "colab": {
     "base_uri": "https://localhost:8080/"
    },
    "executionInfo": {
     "elapsed": 10,
     "status": "ok",
     "timestamp": 1741713968909,
     "user": {
      "displayName": "Brian McClain",
      "userId": "08063899147261234403"
     },
     "user_tz": 240
    },
    "id": "hgsW0zziGAOs",
    "outputId": "baa897c6-5f44-4bd9-c828-d10efe2d93de"
   },
   "outputs": [
    {
     "name": "stdout",
     "output_type": "stream",
     "text": [
      "[1, 2, 3, 4, 5, 6, 7, 8, 9, 10]\n"
     ]
    }
   ],
   "source": [
    "# 1. Define a range(start,stop):\n",
    "\n",
    "print()"
   ]
  },
  {
   "cell_type": "code",
   "execution_count": null,
   "metadata": {
    "colab": {
     "base_uri": "https://localhost:8080/"
    },
    "executionInfo": {
     "elapsed": 28,
     "status": "ok",
     "timestamp": 1741713968975,
     "user": {
      "displayName": "Brian McClain",
      "userId": "08063899147261234403"
     },
     "user_tz": 240
    },
    "id": "R4CTK0hZJ0IB",
    "outputId": "da8a66b6-63f6-4b86-9125-32e72c9fd944"
   },
   "outputs": [
    {
     "name": "stdout",
     "output_type": "stream",
     "text": [
      "1\n",
      "2\n",
      "3\n",
      "4\n",
      "5\n",
      "6\n",
      "7\n",
      "8\n",
      "9\n",
      "10\n"
     ]
    }
   ],
   "source": [
    "# 2. Loop the range of consec ints from 1 to 11 (exclusive):\n",
    "# n (or some other variable name) represents the current item\n",
    "# print n squared each time the loop runs\n",
    "# when it reaches the end of the range, the loop stops\n",
    "\n",
    "print()"
   ]
  },
  {
   "cell_type": "code",
   "execution_count": null,
   "metadata": {
    "colab": {
     "base_uri": "https://localhost:8080/"
    },
    "executionInfo": {
     "elapsed": 57,
     "status": "ok",
     "timestamp": 1741713969033,
     "user": {
      "displayName": "Brian McClain",
      "userId": "08063899147261234403"
     },
     "user_tz": 240
    },
    "id": "PbyF0VLrH73P",
    "outputId": "19962e4c-167d-472f-87a2-6711fd2b2a60"
   },
   "outputs": [
    {
     "name": "stdout",
     "output_type": "stream",
     "text": [
      "[1, 4, 27, 16, 125, 36, 343, 64, 729, 100]\n"
     ]
    }
   ],
   "source": [
    "# 3. CHALLENGE: Loop the nums list (which was made from a range):\n",
    "# if n is even, square it (n ** 2)\n",
    "# else, n is odd, so cube it (n ** 3)\n",
    "# print the result each time from 1-10\n",
    "# expected result: 1 4 9 16 125 36 ... 100\n",
    "# HINT: %\n",
    "# BONUS: make a new list of results and then print that at the end\n",
    "\n",
    "        \n",
    "print()\n",
    "# [1, 4, 27, 16, 125, 36, 343, 64, 729, 100]\n",
    " "
   ]
  },
  {
   "cell_type": "code",
   "execution_count": null,
   "metadata": {},
   "outputs": [
    {
     "data": {
      "text/plain": [
       "[1, 4, 27, 16, 125, 36, 343, 64, 729, 100]"
      ]
     },
     "execution_count": 7,
     "metadata": {},
     "output_type": "execute_result"
    }
   ],
   "source": [
    "# ne"
   ]
  },
  {
   "cell_type": "code",
   "execution_count": null,
   "metadata": {
    "colab": {
     "base_uri": "https://localhost:8080/"
    },
    "executionInfo": {
     "elapsed": 2,
     "status": "ok",
     "timestamp": 1741713969036,
     "user": {
      "displayName": "Brian McClain",
      "userId": "08063899147261234403"
     },
     "user_tz": 240
    },
    "id": "kzqNn_YpKWwf",
    "outputId": "eba02454-07a3-4cb2-aaa5-30f48eac96a2"
   },
   "outputs": [
    {
     "name": "stdout",
     "output_type": "stream",
     "text": [
      "['apple jellybeans',\n",
      " 'banana jellybeans',\n",
      " 'blueberry jellybeans',\n",
      " 'cherry jellybeans',\n",
      " 'grape jellybeans',\n",
      " 'kiwi jellybeans',\n",
      " 'lemon jellybeans',\n",
      " 'lime jellybeans',\n",
      " 'mango jellybeans',\n",
      " 'orange jellybeans',\n",
      " 'peach jellybeans',\n",
      " 'pineapple jellybeans',\n",
      " 'raspberry jellybeans',\n",
      " 'strawberry jellybeans',\n",
      " 'tangerine jellybeans',\n",
      " 'watermelon jellybeans']\n"
     ]
    }
   ],
   "source": [
    "# 4. Challenge: given this list of fruits:\n",
    "fruits = ['apple','banana','blueberry','cherry','grape','kiwi','lemon','lime','mango', 'orange','peach','pineapple','raspberry','strawberry','tangerine','watermelon']\n",
    "\n",
    "# challenge: do a fruit loop and make jellybeans: \"apple jellybean\" etc.\n",
    "# save each to a new list called jellybeans\n",
    "\n",
    "# do a fruit loop\n",
    "\n",
    "\n",
    "# pp.pprint()\n",
    "# for bean in jellybeans:\n",
    "#     print(bean)\n",
    " "
   ]
  },
  {
   "cell_type": "markdown",
   "metadata": {
    "id": "l_BAWaH4NagM"
   },
   "source": [
    "**list methods**\n",
    "- **append(item)** adds single item to end of list\n",
    "- **pop()** removes last item from end of list\n",
    "- **pop(index)** removes item at index from list\n",
    "- **extend([item1,item2])** adds list of items to end of list, keeping it flat\n",
    "- **remove(item)** removes item by name from list\n",
    "- **insert(index,item1,item2)** add item(s) at specified index\n",
    "- **index(item)** gets first index of specified item\n",
    "- **sort()** alphabetizes list of strings; puts nums in ascending order\n",
    "- **reverse()** reverses the order of list items"
   ]
  },
  {
   "cell_type": "code",
   "execution_count": null,
   "metadata": {
    "executionInfo": {
     "elapsed": 9,
     "status": "ok",
     "timestamp": 1741713969046,
     "user": {
      "displayName": "Brian McClain",
      "userId": "08063899147261234403"
     },
     "user_tz": 240
    },
    "id": "8b3sn15MK7L2"
   },
   "outputs": [],
   "source": [
    "# list method REVIEW CHALLENGE:\n",
    "\n",
    "# a.) extend() add 3 berries TWICE end of list while keeping list flat\n",
    "# 'cranberry', 'blackberry', 'boysenberry'\n",
    "# 'cranberry', 'blackberry', 'boysenberry'\n"
   ]
  },
  {
   "cell_type": "code",
   "execution_count": null,
   "metadata": {},
   "outputs": [],
   "source": [
    "# b.) remove(name): remove the kiwi by name\n",
    "# 'kiwi'"
   ]
  },
  {
   "cell_type": "code",
   "execution_count": null,
   "metadata": {},
   "outputs": [],
   "source": [
    "# c.) append() two final fruits, one by one: 'grapefruit' and \n"
   ]
  },
  {
   "cell_type": "code",
   "execution_count": null,
   "metadata": {},
   "outputs": [],
   "source": [
    "# d.) insert(index,item) 'papaya' at the beginning of the list\n"
   ]
  },
  {
   "cell_type": "code",
   "execution_count": null,
   "metadata": {},
   "outputs": [
    {
     "name": "stdout",
     "output_type": "stream",
     "text": [
      "grape\n"
     ]
    }
   ],
   "source": [
    "# e.) pop(index) the item at index 5, whatever it is\n",
    "# popped_item = list.pop()\n",
    "\n",
    "print()"
   ]
  },
  {
   "cell_type": "code",
   "execution_count": null,
   "metadata": {},
   "outputs": [],
   "source": [
    "# f.) remove duplicates (set) -- berries are in there TWICE\n",
    "#     but end up w list -- not set\n"
   ]
  },
  {
   "cell_type": "code",
   "execution_count": null,
   "metadata": {},
   "outputs": [],
   "source": [
    "# g.) sort() alphabetize the list\n",
    "# lists are mutable so just do the operation in place\n"
   ]
  },
  {
   "cell_type": "code",
   "execution_count": null,
   "metadata": {},
   "outputs": [],
   "source": [
    "# h.) Put the grape back -- goes right before the grapefruit\n",
    "# without having to sort and without knowing where grapefruit is\n"
   ]
  },
  {
   "cell_type": "code",
   "execution_count": 24,
   "metadata": {},
   "outputs": [
    {
     "name": "stdout",
     "output_type": "stream",
     "text": [
      "['apple',\n",
      " 'banana',\n",
      " 'blueberry',\n",
      " 'cherry',\n",
      " 'grape',\n",
      " 'grapefruit',\n",
      " 'kiwi',\n",
      " 'lemon',\n",
      " 'lime',\n",
      " 'mango',\n",
      " 'orange',\n",
      " 'papaya',\n",
      " 'peach',\n",
      " 'pineapple',\n",
      " 'raspberry',\n",
      " 'strawberry',\n",
      " 'tangerine',\n",
      " 'watermelon']\n"
     ]
    }
   ],
   "source": [
    "pp.pprint(fruits)"
   ]
  },
  {
   "cell_type": "code",
   "execution_count": null,
   "metadata": {},
   "outputs": [
    {
     "name": "stdout",
     "output_type": "stream",
     "text": [
      "['apple jellybean',\n",
      " 'banana jellybean',\n",
      " 'blueberry jellybean',\n",
      " 'cherry jellybean',\n",
      " 'grape jellybean',\n",
      " 'grapefruit jellybean',\n",
      " 'kiwi jellybean',\n",
      " 'lemon jellybean',\n",
      " 'lime jellybean',\n",
      " 'mango jellybean',\n",
      " 'orange jellybean',\n",
      " 'papaya popsicle',\n",
      " 'peach popsicle',\n",
      " 'pineapple popsicle',\n",
      " 'raspberry jellybean',\n",
      " 'strawberry jellybean',\n",
      " 'tangerine jellybean',\n",
      " 'watermelon jellybean']\n"
     ]
    }
   ],
   "source": [
    "# i.) loop the fruits list, making jellybeans of everything EXCEPT\n",
    "#     fruits that start with \"p\" -- make popsicles out of those \n",
    "#     save results to new list called treats\n"
   ]
  },
  {
   "cell_type": "code",
   "execution_count": null,
   "metadata": {
    "colab": {
     "base_uri": "https://localhost:8080/"
    },
    "executionInfo": {
     "elapsed": 20,
     "status": "ok",
     "timestamp": 1741713969143,
     "user": {
      "displayName": "Brian McClain",
      "userId": "08063899147261234403"
     },
     "user_tz": 240
    },
    "id": "W-HOZ1KhVn21",
    "outputId": "da4aa93d-f94c-49cb-8e89-5a55162209ad"
   },
   "outputs": [
    {
     "name": "stdout",
     "output_type": "stream",
     "text": [
      "['apple jellybean',\n",
      " 'blueberry jellybean',\n",
      " 'grape jellybean',\n",
      " 'kiwi jellybean',\n",
      " 'lime jellybean',\n",
      " 'orange jellybean',\n",
      " 'peach popsicle',\n",
      " 'raspberry jellybean',\n",
      " 'tangerine jellybean']\n",
      "\n",
      "['banana jellybean',\n",
      " 'cherry jellybean',\n",
      " 'grapefruit jellybean',\n",
      " 'lemon jellybean',\n",
      " 'mango jellybean',\n",
      " 'papaya popsicle',\n",
      " 'pineapple popsicle',\n",
      " 'strawberry jellybean',\n",
      " 'watermelon jellybean']\n",
      "\n",
      "['watermelon jellybean',\n",
      " 'strawberry jellybean',\n",
      " 'pineapple popsicle',\n",
      " 'papaya popsicle',\n",
      " 'mango jellybean',\n",
      " 'lemon jellybean',\n",
      " 'grapefruit jellybean',\n",
      " 'cherry jellybean',\n",
      " 'banana jellybean']\n",
      "\n"
     ]
    }
   ],
   "source": [
    "# print every other treat from the beginning:\n",
    "\n",
    "print()\n",
    "# print every other treat from index 1 (starting w 2nd item):\n",
    "\n",
    "print()\n",
    "# print every other treat BACKWARDS (without list.reverse()):\n",
    "\n",
    "print()"
   ]
  },
  {
   "cell_type": "code",
   "execution_count": null,
   "metadata": {},
   "outputs": [
    {
     "data": {
      "text/plain": [
       "['apple jellybeans',\n",
       " 'banana jellybeans',\n",
       " 'blueberry jellybeans',\n",
       " 'cherry jellybeans',\n",
       " 'grape jellybeans',\n",
       " 'kiwi jellybeans',\n",
       " 'lemon jellybeans',\n",
       " 'lime jellybeans',\n",
       " 'mango jellybeans',\n",
       " 'orange jellybeans',\n",
       " 'peach jellybeans',\n",
       " 'pineapple jellybeans',\n",
       " 'raspberry jellybeans',\n",
       " 'strawberry jellybeans',\n",
       " 'tangerine jellybeans',\n",
       " 'watermelon jellybeans']"
      ]
     },
     "execution_count": 32,
     "metadata": {},
     "output_type": "execute_result"
    }
   ],
   "source": [
    "# jel"
   ]
  },
  {
   "cell_type": "code",
   "execution_count": null,
   "metadata": {
    "colab": {
     "base_uri": "https://localhost:8080/"
    },
    "executionInfo": {
     "elapsed": 4,
     "status": "ok",
     "timestamp": 1741713969148,
     "user": {
      "displayName": "Brian McClain",
      "userId": "08063899147261234403"
     },
     "user_tz": 240
    },
    "id": "CeQRyfeQqhEH",
    "outputId": "105a45e6-e1a9-434a-cb57-f00ce54265dc"
   },
   "outputs": [
    {
     "name": "stdout",
     "output_type": "stream",
     "text": [
      "apple jellybeans\n",
      "watermelon jellybeans\n",
      "['apple jellybeans', 'banana jellybeans', 'blueberry jellybeans', 'cherry jellybeans', 'grape jellybeans']\n",
      "['raspberry jellybeans', 'strawberry jellybeans', 'tangerine jellybeans', 'watermelon jellybeans']\n",
      "['kiwi jellybeans', 'lemon jellybeans', 'lime jellybeans', 'mango jellybeans', 'orange jellybeans', 'peach jellybeans']\n",
      "['banana jellybeans', 'blueberry jellybeans', 'cherry jellybeans', 'grape jellybeans', 'kiwi jellybeans', 'lemon jellybeans', 'lime jellybeans', 'mango jellybeans', 'orange jellybeans', 'peach jellybeans', 'pineapple jellybeans', 'raspberry jellybeans', 'strawberry jellybeans', 'tangerine jellybeans']\n",
      "['blueberry jellybeans', 'grape jellybeans', 'lemon jellybeans', 'mango jellybeans', 'peach jellybeans', 'raspberry jellybeans', 'tangerine jellybeans']\n"
     ]
    }
   ],
   "source": [
    "# challenge: review of accessing list items with [start:end:step]\n",
    "\n",
    "# a.) print the first jellybean\n",
    "print()\n",
    "\n",
    "# b.) print the last jellybean\n",
    "print()\n",
    "\n",
    "# c.) print the first 5 jellybeans\n",
    "print()\n",
    "\n",
    "# d.) print the last 4 jellybeans\n",
    "print()\n",
    "\n",
    "# e.) starting with kiwi jellybean, print it and the next 5 jellybeans\n",
    "\n",
    "\n",
    "# f.) print all but the first and last jellybeans\n",
    "print()\n",
    "\n",
    "# g.) print every other jellybean starting with the 3rd one at index 2\n",
    "print()"
   ]
  },
  {
   "cell_type": "code",
   "execution_count": null,
   "metadata": {
    "executionInfo": {
     "elapsed": 47,
     "status": "ok",
     "timestamp": 1741713969224,
     "user": {
      "displayName": "Brian McClain",
      "userId": "08063899147261234403"
     },
     "user_tz": 240
    },
    "id": "tZWIuCH1YYCL"
   },
   "outputs": [
    {
     "name": "stdout",
     "output_type": "stream",
     "text": [
      "['apple jelly',\n",
      " 'banana lollipop',\n",
      " 'blueberry jam',\n",
      " 'cherry jam',\n",
      " 'grape jelly',\n",
      " 'grapefruit lollipop',\n",
      " 'kiwi jellybean',\n",
      " 'lemon jelly',\n",
      " 'lime jellybean',\n",
      " 'mango jelly',\n",
      " 'orange lollipop',\n",
      " 'papaya popsicle',\n",
      " 'peach jelly',\n",
      " 'pineapple popsicle',\n",
      " 'raspberry jam',\n",
      " 'strawberry jam',\n",
      " 'tangerine lollipop',\n",
      " 'watermelon lollipop']\n"
     ]
    }
   ],
   "source": [
    "# FRUIT LOOP CHALLENGE: \n",
    "\n",
    "    #. √ if the fruit is less than 5 letters\n",
    "    # \" jellybean\" # make jellybean\n",
    "    #. √ else if the fruit has exactly 5 letters, make jelly\n",
    "    # \" jelly\" # make jelly\n",
    "    #. √ else if the fruit starts with a \"p\", make popsicle:\n",
    "    # \" popsicle\" # make popsicle\n",
    "    #. √ else if the fruit ends with a \"y\", make jam:\n",
    "    # \" jam\"\n",
    "    \n",
    "    #. √ else -- if ALL of the above are false -- make lollipop\n",
    "    # \" lollipop\"\n",
    "\n",
    "#  save all to new list called treats\n"
   ]
  },
  {
   "cell_type": "markdown",
   "metadata": {
    "id": "Iu_r-WFQcooj"
   },
   "source": [
    "**in** and **not in** operators check for existence\n",
    "- check for existence of item in list\n",
    "- check for existence of char(s) in string\n",
    "- returns a boolean"
   ]
  },
  {
   "cell_type": "code",
   "execution_count": null,
   "metadata": {
    "colab": {
     "base_uri": "https://localhost:8080/"
    },
    "executionInfo": {
     "elapsed": 63,
     "status": "ok",
     "timestamp": 1741713969288,
     "user": {
      "displayName": "Brian McClain",
      "userId": "08063899147261234403"
     },
     "user_tz": 240
    },
    "id": "PAuzxcZfc0NX",
    "outputId": "94cdaf7c-56ff-4a2f-aa2e-7febab3be985"
   },
   "outputs": [
    {
     "name": "stdout",
     "output_type": "stream",
     "text": [
      "True\n",
      "False\n",
      "True\n",
      "True\n",
      "False\n",
      "False\n",
      "True\n",
      "False\n",
      "a\n",
      "ax\n",
      "z\n"
     ]
    }
   ],
   "source": [
    "print() # True\n",
    "print() # False\n",
    "print() # True (checks if word starts with a vowel \"apple\")\n",
    "print() # True\n",
    "print() # False (banana)\n",
    "print() # False\n",
    "print() # True\n",
    "print() # False"
   ]
  },
  {
   "cell_type": "code",
   "execution_count": null,
   "metadata": {
    "executionInfo": {
     "elapsed": 0,
     "status": "ok",
     "timestamp": 1741713969290,
     "user": {
      "displayName": "Brian McClain",
      "userId": "08063899147261234403"
     },
     "user_tz": 240
    },
    "id": "fvUJk8Xmeuzp"
   },
   "outputs": [
    {
     "name": "stdout",
     "output_type": "stream",
     "text": [
      "['apple tart',\n",
      " 'banana rollup',\n",
      " 'blueberry jellybean',\n",
      " 'cherry jellybean',\n",
      " 'grape rollup',\n",
      " 'grapefruit jellybean',\n",
      " 'kiwi rollup',\n",
      " 'lemon jellybean',\n",
      " 'lime rollup',\n",
      " 'mango rollup',\n",
      " 'orange tart',\n",
      " 'papaya rollup',\n",
      " 'peach jellybean',\n",
      " 'pineapple rollup',\n",
      " 'raspberry jellybean',\n",
      " 'strawberry jellybean',\n",
      " 'tangerine rollup',\n",
      " 'watermelon jellybean']\n"
     ]
    }
   ],
   "source": [
    "# Challenge as HW: using in to check for existence of letter in string\n",
    "\n",
    "# save all to a new treats list\n",
    "\n",
    "    # if fruit STARTS and ENDS with a VOWEL\n",
    "    \n",
    "    # make \"tart\"\n",
    "    # elif the fruit STARTS with a vowel\n",
    "   \n",
    "   # make \"nectar\"\n",
    "   # elif the fruit ENDS with a vowel, make a \"rollup\"\n",
    "   # make \"rollup\"\n",
    "   # else the fruit neither starts nor ends with a vowel\n",
    "   # so make a jellybean\n",
    "\n"
   ]
  },
  {
   "cell_type": "markdown",
   "metadata": {},
   "source": []
  },
  {
   "cell_type": "markdown",
   "metadata": {
    "id": "YOZUaJY6nWwd"
   },
   "source": [
    "### **String Methods**\n",
    "- strings are immutable (cannot be changed), so:\n",
    "  - string methods are always saved to a variable (which can be same name)\n",
    "- methods include:\n",
    "  - **str = str.lower()** lowercases the string\n",
    "  - **str = str.upper()** uppercases the string\n",
    "  - **str = str.capitalize()** capitalizes the string\n",
    "  - **str = str.title()** capitalizes each word of the string\n",
    "  - **str = str.replace(find,repl)** finds char(s) and replaces w other char(s)\n",
    "  - **str = str.split()** splits a string into a list of words\n",
    "  - **str = list(str)** splits a string into a list of chars"
   ]
  },
  {
   "cell_type": "code",
   "execution_count": null,
   "metadata": {
    "colab": {
     "base_uri": "https://localhost:8080/"
    },
    "executionInfo": {
     "elapsed": 2,
     "status": "ok",
     "timestamp": 1741713969293,
     "user": {
      "displayName": "Brian McClain",
      "userId": "08063899147261234403"
     },
     "user_tz": 240
    },
    "id": "jzap73Kzqr5d",
    "outputId": "211f2ed0-3192-48a6-9790-c422161341ba"
   },
   "outputs": [
    {
     "name": "stdout",
     "output_type": "stream",
     "text": [
      "bunny\n",
      "BuNny\n",
      "bunny\n",
      "['lime', 'watermelon', 'tangerine', 'strawberry', 'raspberry']\n",
      "['lime',\n",
      " 'watermelon',\n",
      " 'tangerine',\n",
      " 'strawberry',\n",
      " 'raspberry',\n",
      " 'pineapple',\n",
      " 'peach',\n",
      " 'papaya',\n",
      " 'orange',\n",
      " 'mango',\n",
      " 'lime',\n",
      " 'lemon',\n",
      " 'kiwi',\n",
      " 'grapefruit',\n",
      " 'grape',\n",
      " 'cherry',\n",
      " 'blueberry',\n",
      " 'banana',\n",
      " 'apple',\n",
      " 'lime']\n",
      "popped_item: lime\n"
     ]
    }
   ],
   "source": [
    "# str = str.lower() lowercases the string\n",
    "pet = \"BuNny\"\n",
    "# bunny\n",
    "print() # BuNny (change didn't \"stick\")\n",
    "\n",
    "# strings are immutable, so save return valu to new var\n",
    "# bunny\n",
    "\n",
    "# by contrast, lists are mutable, meaning they can \"stamp\" changes \"in place\"\n",
    "\n",
    "print()\n",
    "# you can do stuff to lists and it 'sticks'\n",
    "# without having to set move equal to itself or new var\n",
    "# 'lime'\n",
    "\n",
    "# that said, some list methods DO return a value:\n",
    "\n",
    "print('popped_item:')"
   ]
  },
  {
   "cell_type": "code",
   "execution_count": null,
   "metadata": {
    "colab": {
     "base_uri": "https://localhost:8080/"
    },
    "executionInfo": {
     "elapsed": 5,
     "status": "ok",
     "timestamp": 1741713969321,
     "user": {
      "displayName": "Brian McClain",
      "userId": "08063899147261234403"
     },
     "user_tz": 240
    },
    "id": "u8kDUwHNq7eh",
    "outputId": "f6f7cb79-e8c1-4b85-e8cd-2523497a04ec"
   },
   "outputs": [
    {
     "name": "stdout",
     "output_type": "stream",
     "text": [
      "DOG\n",
      "Dog\n",
      "DOG\n"
     ]
    }
   ],
   "source": [
    "# str = str.upper() uppercases the string\n",
    "pet = 'Dog'\n",
    "print() # DOG (works--but only here and now)\n",
    "print() # Dog (change didn't \"stick\")\n",
    "# save the new version as new variable\n",
    "print() # DOG (get the result we want: UPPERCASE)"
   ]
  },
  {
   "cell_type": "code",
   "execution_count": null,
   "metadata": {
    "colab": {
     "base_uri": "https://localhost:8080/"
    },
    "executionInfo": {
     "elapsed": 35,
     "status": "ok",
     "timestamp": 1741713969374,
     "user": {
      "displayName": "Brian McClain",
      "userId": "08063899147261234403"
     },
     "user_tz": 240
    },
    "id": "P-KyGungrInC",
    "outputId": "ad6b2b71-ce83-45ba-b213-c71f9373e94d"
   },
   "outputs": [
    {
     "name": "stdout",
     "output_type": "stream",
     "text": [
      "Where da bunny?\n",
      "wheRe dA BunNy?\n",
      "Where da bunny?\n"
     ]
    }
   ],
   "source": [
    "# str = str.capitalize() capitalizes the string\n",
    "question = 'wheRe dA BunNy?'\n",
    "print() # Where da bunny?\n",
    "print() # wheRe dA BunNy?\n",
    "\n",
    "print() # Where da bunny?"
   ]
  },
  {
   "cell_type": "code",
   "execution_count": null,
   "metadata": {
    "colab": {
     "base_uri": "https://localhost:8080/"
    },
    "executionInfo": {
     "elapsed": 45,
     "status": "ok",
     "timestamp": 1741713969420,
     "user": {
      "displayName": "Brian McClain",
      "userId": "08063899147261234403"
     },
     "user_tz": 240
    },
    "id": "tTXkaiggrXno",
    "outputId": "896ae33a-6159-447a-e76b-96f2fd09581c"
   },
   "outputs": [
    {
     "name": "stdout",
     "output_type": "stream",
     "text": [
      "Where Da Bunny?\n",
      "wherE dA BunNy?\n",
      "Where Da Bunny?\n"
     ]
    }
   ],
   "source": [
    "# str = str.title() capitalizes each word of the string\n",
    "question = \"wherE dA BunNy?\"\n",
    "print() # Where Da Bunny?\n",
    "print() # wherE dA BunNy?\n",
    "\n",
    "print() # Where Da Bunny?"
   ]
  },
  {
   "cell_type": "code",
   "execution_count": null,
   "metadata": {
    "colab": {
     "base_uri": "https://localhost:8080/"
    },
    "executionInfo": {
     "elapsed": 54,
     "status": "ok",
     "timestamp": 1741713969478,
     "user": {
      "displayName": "Brian McClain",
      "userId": "08063899147261234403"
     },
     "user_tz": 240
    },
    "id": "GgNEtumvr-ID",
    "outputId": "d2493d94-eb3d-436b-d2bb-539d5809029d"
   },
   "outputs": [
    {
     "name": "stdout",
     "output_type": "stream",
     "text": [
      "Dogs are the best! Dogs are superior to all other pets! And my cat is the best cat of all!\n"
     ]
    }
   ],
   "source": [
    "# str = str.replace(find,repl) finds char(s) and replaces w other char(s)\n",
    "claim = 'Cats are the best! Cats are superior to all other pets! And my cat is the best cat of all!'\n",
    "# Dog begs to differ:\n",
    "# \"Cat\", \"Dog\"\n",
    "print()"
   ]
  },
  {
   "cell_type": "code",
   "execution_count": null,
   "metadata": {},
   "outputs": [
    {
     "name": "stdout",
     "output_type": "stream",
     "text": [
      "Dogs are the best! Dogs are superior to all other pets! And my Dog is the best Dog of all!\n"
     ]
    }
   ],
   "source": [
    "# cla\n",
    "print()"
   ]
  },
  {
   "cell_type": "markdown",
   "metadata": {
    "id": "F5did-CnGeJ6"
   },
   "source": [
    "**f\"Hello! My name is {name}. I am {age} years old!\"** instead of regular concatenation\n",
    "- officially called an **f-string**, short for **formatted string literal**.\n",
    "    - put f in front of everything\n",
    "    - delete all plus signs\n",
    "    - delete all but outer wrapper quotes\n",
    "    - no need to convert nums to str()\n",
    "    - wrap variables in curly braces {}\n"
   ]
  },
  {
   "cell_type": "code",
   "execution_count": null,
   "metadata": {
    "colab": {
     "base_uri": "https://localhost:8080/"
    },
    "executionInfo": {
     "elapsed": 1,
     "status": "ok",
     "timestamp": 1741713969480,
     "user": {
      "displayName": "Brian McClain",
      "userId": "08063899147261234403"
     },
     "user_tz": 240
    },
    "id": "WrvJ3nnJGwMW",
    "outputId": "7fee6e62-8b99-4b45-ff38-49f28b050a11"
   },
   "outputs": [
    {
     "name": "stdout",
     "output_type": "stream",
     "text": [
      "Meow!! My name is Fluffy! I am a 3-year-old cat! My favorite toy is my floppy fish!\n",
      "\n"
     ]
    }
   ],
   "source": [
    "# CHALLENGE: con-\"cat\"-enate these variables into this string:\n",
    "# \"Meow! My name is Fluffy! I am a 3-year-old cat! My favorite toy is my floppy fish!\"\n",
    "# BONUS: choose a toy at random from toys list\n",
    "\n",
    "# must be stringified as str(age) or it will throw ERROR\n",
    "\n",
    "# 'ball of yarn', 'floppy fish', 'catnip pouch', 'slipper', 'scratch post', 'bell', 'dog bed'\n",
    "\n",
    "# YOUR CODE:\n",
    "# \"! My name is ! I am a -year-old cat! My favorite toy is my !\"\n",
    "\n",
    "print()\n",
    "# using regular string concatenation and the variables to make this sentence\n",
    "# \"Meow! My name is ! I am a -year-old ! My favorite toy is my RANDOM TOY!\"\n",
    "# \"Meow! My name is Fluffy! I am a 3-year-old cat! My favorite toy is my floppy fish!\"\n"
   ]
  },
  {
   "cell_type": "code",
   "execution_count": null,
   "metadata": {
    "colab": {
     "base_uri": "https://localhost:8080/"
    },
    "executionInfo": {
     "elapsed": 10,
     "status": "ok",
     "timestamp": 1741713969491,
     "user": {
      "displayName": "Brian McClain",
      "userId": "08063899147261234403"
     },
     "user_tz": 240
    },
    "id": "RPfKTsE3I_4v",
    "outputId": "1eff3960-477f-4aa4-efa8-cc0a710dc3e9"
   },
   "outputs": [
    {
     "name": "stdout",
     "output_type": "stream",
     "text": [
      "Meow! My name is Fluffy! I am a 3-year-old cat! My favorite toy is my catnip pouch!\n"
     ]
    }
   ],
   "source": [
    "# Refactor the above cat_intro using f-formatting (string template literal)\n",
    "# challenge: output a random toy each time:\n",
    "\n",
    "# \"! My name is ! I am a -year-old ! My favorite toy is my RANDOM TOY!\"\n",
    "\n",
    "\n",
    "print()"
   ]
  },
  {
   "cell_type": "markdown",
   "metadata": {
    "id": "pKIllJvtc75G"
   },
   "source": [
    "**nested loop** a loop inside a loop"
   ]
  },
  {
   "cell_type": "code",
   "execution_count": 26,
   "metadata": {
    "executionInfo": {
     "elapsed": 8,
     "status": "ok",
     "timestamp": 1741713969667,
     "user": {
      "displayName": "Brian McClain",
      "userId": "08063899147261234403"
     },
     "user_tz": 240
    },
    "id": "svUMQXveSVId"
   },
   "outputs": [],
   "source": [
    "# Given these two lists, make a deck of 52 playing cards as \"4 of Clubs\", \"Queen of Diamonds\", etc.\n",
    "# Save the 52 strings to a new list, called deck\n",
    "# Queen-of-Diamonds.png 5-of-Clubs.png\n",
    "\n",
    "# 2,3,4,5,6,7,8,9,10,'Jack','Queen','King','Ace'\n",
    "# 'Clubs','Diamonds','Hearts','Spades'\n",
    "\n",
    "# HINT: Use a nested loop -- a loop inside a loop"
   ]
  },
  {
   "cell_type": "code",
   "execution_count": 28,
   "metadata": {
    "executionInfo": {
     "elapsed": 1,
     "status": "ok",
     "timestamp": 1741713969739,
     "user": {
      "displayName": "Brian McClain",
      "userId": "08063899147261234403"
     },
     "user_tz": 240
    },
    "id": "sAmxXhw0UiFV"
   },
   "outputs": [],
   "source": [
    "# Deal a hand of blackjack to 2 players\n",
    "# first shuffle the deck\n"
   ]
  },
  {
   "cell_type": "code",
   "execution_count": 29,
   "metadata": {
    "colab": {
     "base_uri": "https://localhost:8080/"
    },
    "executionInfo": {
     "elapsed": 5,
     "status": "ok",
     "timestamp": 1741713969746,
     "user": {
      "displayName": "Brian McClain",
      "userId": "08063899147261234403"
     },
     "user_tz": 240
    },
    "id": "Hl4W4HOwVKao",
    "outputId": "8803bb26-1bf8-4e09-e340-5a8f8f575a0e"
   },
   "outputs": [
    {
     "name": "stdout",
     "output_type": "stream",
     "text": [
      "player_hand:\n",
      "dealer_hand:\n"
     ]
    }
   ],
   "source": [
    "# loop the shuffled deck, popping cards one by one,\n",
    "# and deal 2 hands of alternating cards\n",
    "\n",
    "\n",
    "\n",
    "# if n is even dealer gets card\n",
    "\n",
    "# pop card from shuffled deck\n",
    "# if n is even (dealer gets card)\n",
    "# append card to dealer_hand\n",
    "# append card to player_hand\n",
    "\n",
    "print('player_hand:')\n",
    "print('dealer_hand:')\n"
   ]
  }
 ],
 "metadata": {
  "colab": {
   "authorship_tag": "ABX9TyNvAnyGS3BFS3JFuYDaZBWg",
   "provenance": []
  },
  "kernelspec": {
   "display_name": "base",
   "language": "python",
   "name": "python3"
  },
  "language_info": {
   "codemirror_mode": {
    "name": "ipython",
    "version": 3
   },
   "file_extension": ".py",
   "mimetype": "text/x-python",
   "name": "python",
   "nbconvert_exporter": "python",
   "pygments_lexer": "ipython3",
   "version": "3.10.9"
  }
 },
 "nbformat": 4,
 "nbformat_minor": 0
}
