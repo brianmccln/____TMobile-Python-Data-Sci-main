{
 "cells": [
  {
   "cell_type": "code",
   "execution_count": 83,
   "metadata": {
    "executionInfo": {
     "elapsed": 1,
     "status": "ok",
     "timestamp": 1741713816676,
     "user": {
      "displayName": "Brian McClain",
      "userId": "08063899147261234403"
     },
     "user_tz": 240
    },
    "id": "uLvzjadnYjQa"
   },
   "outputs": [],
   "source": [
    "# import\n",
    "import pprint as pp\n",
    "from IPython.display import Image"
   ]
  },
  {
   "cell_type": "markdown",
   "metadata": {
    "id": "RRsmiz5VYm9c"
   },
   "source": [
    "## **Dictionaries**\n",
    "- **collection** is an iterable data structure that includes:\n",
    "  - **lists** - multiple items in [] stored by index num position\n",
    "  - **sets** -  multiple items in {}, no index, no duplicates\n",
    "  - **dictionaries** -  multiple properties as key-value pairs in {}\n",
    "  - **tuples** - store multiple values in () and are immutable; have index"
   ]
  },
  {
   "cell_type": "code",
   "execution_count": null,
   "metadata": {
    "executionInfo": {
     "elapsed": 71,
     "status": "ok",
     "timestamp": 1741713816883,
     "user": {
      "displayName": "Brian McClain",
      "userId": "08063899147261234403"
     },
     "user_tz": 240
    },
    "id": "uxNLi1SZZxeK"
   },
   "outputs": [],
   "source": [
    "# Declare a dictionary and give it a bunch of properties as key:value pairs\n",
    "# Keys must go in quotes, values can be of any data type -- incl dictionary\n",
    "# must be stringified as str(age) or it will throw ERROR\n",
    "pet = {\n",
    "    \"type\": \"cat\",\n",
    "    \"name\": \"Fluffy\",\n",
    "    \"age\": 3,\n",
    "    \"toys\": ['ball of yarn', 'floppy fish', 'catnip pouch', 'slipper', 'scratch post', 'bell', 'dog bed'],\n",
    "    \"sound\": \"Meow\",\n",
    "    \"cute\": True,\n",
    "    \"owner\": {\n",
    "        \"first_name\": \"Joe\",\n",
    "        \"last_name\": \"Smith\",\n",
    "        \"age\": 42,\n",
    "        \"married\": False\n",
    "    }\n",
    "}"
   ]
  },
  {
   "cell_type": "code",
   "execution_count": 43,
   "metadata": {},
   "outputs": [
    {
     "name": "stdout",
     "output_type": "stream",
     "text": [
      "cat\n",
      "Fluffy\n",
      "3\n",
      "Meow\n",
      "ball of yarn\n",
      "42\n",
      "False\n",
      "True\n"
     ]
    }
   ],
   "source": [
    "# output individual property values: dict[\"key\"] returns value\n",
    "print(pet[\"type\"]) # cat\n",
    "print(pet[\"name\"])\n",
    "print(pet[\"age\"])\n",
    "print(pet[\"sound\"])\n",
    "print(pet[\"toys\"][0]) # get first toy of toys property list\n",
    "# access properties of inner dictionary with double square brackets:\n",
    "print(pet[\"owner\"][\"age\"])\n",
    "print(pet[\"owner\"][\"married\"])\n",
    "print(pet[\"cute\"])"
   ]
  },
  {
   "cell_type": "code",
   "execution_count": null,
   "metadata": {},
   "outputs": [],
   "source": [
    "# challenge:\n",
    "# make a car dictionary with the following keys: \n",
    "# \"make\", \"model\", \"options\", \"year\", \"color\", \"miles\"\n",
    "# BONUS: add city and hwy mpg as child dictionary\n",
    "\n",
    "# \"mag wheels\", \"sports package\", \"spoiler\", \"leather seats\"\n",
    "car = { \n",
    "    \"make\": \"Lexus\",\n",
    "    \"model\": \"ES350\",\n",
    "    \"options\": [\"mag wheels\", \"sports package\", \"spoiler\", \"leather seats\"],\n",
    "    \"year\": 2023,\n",
    "    \"color\": \"black\",\n",
    "    \"miles\": 30_000,\n",
    "    \"location\": { \"city\": \"Dallas\", \"state\": \"TX\" },\n",
    "    \"mpg\": { \"city\": 24, \"hwy\": 30 }\n",
    "}\n",
    " \n",
    "print(car[\"make\"])\n",
    "print(car[\"model\"])\n",
    "print(car[\"options\"][-1])\n",
    "print(car[\"miles\"])\n",
    "print(car[\"location\"][\"city\"]) # Dallas\n",
    "print(car[\"mpg\"][\"hwy\"]) # 30\n",
    "# keys can have spaces (so not exactly same as regular variables)\n",
    "# key values can be of any data type (including lists or child dicts)\n",
    "# 'mag wheels', 'sports package', 'spoiler', 'flame decals'"
   ]
  },
  {
   "cell_type": "code",
   "execution_count": 46,
   "metadata": {
    "executionInfo": {
     "elapsed": 46,
     "status": "ok",
     "timestamp": 1741713816941,
     "user": {
      "displayName": "Brian McClain",
      "userId": "08063899147261234403"
     },
     "user_tz": 240
    },
    "id": "ScpHOZs1bpdJ"
   },
   "outputs": [],
   "source": [
    "# Set (UPDATE) a property value is just like Getting (READING)\n",
    "# except you are setting it equal to some new value\n",
    "# add a new option, \"sun roof\" but do so dynamically \n",
    "car[\"options\"].append(\"sun roof\")\n",
    "car[\"miles\"] = 31234\n",
    "# add a new key: \"for sale\" set to True\n",
    "car[\"for sale\"] = True"
   ]
  },
  {
   "cell_type": "code",
   "execution_count": null,
   "metadata": {},
   "outputs": [],
   "source": [
    "pp.pprint(car)"
   ]
  },
  {
   "cell_type": "code",
   "execution_count": null,
   "metadata": {},
   "outputs": [],
   "source": [
    "# what happens if we get a key that doesn't exist\n",
    "print(car[\"VIN\"])"
   ]
  },
  {
   "cell_type": "markdown",
   "metadata": {},
   "source": [
    "#### to prevent error on reading non-existent key, use dict.get()\n",
    "- looking up a key that doesn't exist using [] throws error:\n",
    "    - car[\"VIN\"] # KeyError: 'VIN'\n",
    "- dict.get(\"key\", \"fallback\") gives the fallback if no such key\n",
    "    - car.get(\"VIN\", \"No VIN found\")"
   ]
  },
  {
   "cell_type": "code",
   "execution_count": 50,
   "metadata": {},
   "outputs": [
    {
     "name": "stdout",
     "output_type": "stream",
     "text": [
      "No VIN found\n"
     ]
    }
   ],
   "source": [
    "# to prevent error on reading non-existent key, use dict.get()\n",
    "print(car.get(\"VIN\", \"No VIN found\"))"
   ]
  },
  {
   "cell_type": "code",
   "execution_count": 54,
   "metadata": {},
   "outputs": [
    {
     "name": "stdout",
     "output_type": "stream",
     "text": [
      "<class 'dict'>\n",
      "9\n"
     ]
    }
   ],
   "source": [
    "# get the data type and length of the car dictionary:\n",
    "print(type(car))\n",
    "print(len(car))"
   ]
  },
  {
   "cell_type": "code",
   "execution_count": 56,
   "metadata": {
    "executionInfo": {
     "elapsed": 0,
     "status": "ok",
     "timestamp": 1741713816942,
     "user": {
      "displayName": "Brian McClain",
      "userId": "08063899147261234403"
     },
     "user_tz": 240
    },
    "id": "WEYgopw46hy4"
   },
   "outputs": [
    {
     "name": "stdout",
     "output_type": "stream",
     "text": [
      "True\n",
      "False\n"
     ]
    }
   ],
   "source": [
    "# # CHALLENGE B: \n",
    "# flip the \"for sale\" boolean to its opposite without having to know the current value: use the \"not\" operator\n",
    "# bool_value = not bool_value\n",
    "print(car[\"for sale\"])\n",
    "car[\"for sale\"] = not car[\"for sale\"]\n",
    "print(car[\"for sale\"])"
   ]
  },
  {
   "cell_type": "code",
   "execution_count": null,
   "metadata": {
    "executionInfo": {
     "elapsed": 0,
     "status": "ok",
     "timestamp": 1741713816943,
     "user": {
      "displayName": "Brian McClain",
      "userId": "08063899147261234403"
     },
     "user_tz": 240
    },
    "id": "NQ1QeC6pcEf_"
   },
   "outputs": [],
   "source": [
    "# DELETE a property using del keyword:\n",
    "# delete \"for sale\"\n",
    "del car[\"for sale\"]"
   ]
  },
  {
   "cell_type": "code",
   "execution_count": null,
   "metadata": {
    "executionInfo": {
     "elapsed": 0,
     "status": "ok",
     "timestamp": 1741713816944,
     "user": {
      "displayName": "Brian McClain",
      "userId": "08063899147261234403"
     },
     "user_tz": 240
    },
    "id": "Djq6YQLCcLna"
   },
   "outputs": [],
   "source": [
    "pp.pprint(car)"
   ]
  },
  {
   "cell_type": "code",
   "execution_count": 59,
   "metadata": {
    "executionInfo": {
     "elapsed": 1,
     "status": "ok",
     "timestamp": 1741713817010,
     "user": {
      "displayName": "Brian McClain",
      "userId": "08063899147261234403"
     },
     "user_tz": 240
    },
    "id": "a2h0RP3veinG"
   },
   "outputs": [],
   "source": [
    "# Challenge: Add 3 new options: \"sub woofers\" & \"CD player\" & \"flame decals\"\n",
    "# then alphabetize the options:\n",
    "car[\"options\"].extend([\"sub woofers\",\"CD player\",\"flame decals\"])"
   ]
  },
  {
   "cell_type": "code",
   "execution_count": 60,
   "metadata": {
    "executionInfo": {
     "elapsed": 0,
     "status": "ok",
     "timestamp": 1741713817010,
     "user": {
      "displayName": "Brian McClain",
      "userId": "08063899147261234403"
     },
     "user_tz": 240
    },
    "id": "17C560goo-JY"
   },
   "outputs": [
    {
     "name": "stdout",
     "output_type": "stream",
     "text": [
      "{'color': 'black',\n",
      " 'location': {'city': 'Dallas', 'state': 'TX'},\n",
      " 'make': 'Lexus',\n",
      " 'miles': 31234,\n",
      " 'model': 'ES350',\n",
      " 'mpg': {'city': 24, 'hwy': 30},\n",
      " 'options': ['mag wheels',\n",
      "             'sports package',\n",
      "             'spoiler',\n",
      "             'leather seats',\n",
      "             'sun roof',\n",
      "             'sub woofers',\n",
      "             'CD player',\n",
      "             'flame decals'],\n",
      " 'year': 2023}\n"
     ]
    }
   ],
   "source": [
    "pp.pprint(car)"
   ]
  },
  {
   "cell_type": "code",
   "execution_count": null,
   "metadata": {
    "executionInfo": {
     "elapsed": 0,
     "status": "ok",
     "timestamp": 1741713817011,
     "user": {
      "displayName": "Brian McClain",
      "userId": "08063899147261234403"
     },
     "user_tz": 240
    },
    "id": "Rfdjp4bAndeH"
   },
   "outputs": [],
   "source": [
    "# challenge: add \"engine\" as key, the value of which is dictionary\n",
    "# engine dict has 3 keys: \"hp\", \"ltr\", \"cyl\" (respective values: 260, 5.0, 8)\n",
    "# \"engine\"\n",
    "# get hp to make sure it worked\n",
    "# += 1 incrementor operator -= 1\n",
    "car[\"horsepower\"] = 260\n",
    "car[\"engine\"] = {\n",
    "    \"hp\": 260,\n",
    "    \"ltr\": 5.0,\n",
    "    \"cyl\": 8\n",
    "}\n",
    " \n",
    "print(car[\"horsepower\"])\n",
    "print(car[\"engine\"][\"hp\"])\n",
    "print(car[\"engine\"][\"ltr\"])\n",
    "print(car[\"engine\"][\"cyl\"])\n",
    " \n"
   ]
  },
  {
   "cell_type": "code",
   "execution_count": 63,
   "metadata": {
    "executionInfo": {
     "elapsed": 1,
     "status": "ok",
     "timestamp": 1741713817013,
     "user": {
      "displayName": "Brian McClain",
      "userId": "08063899147261234403"
     },
     "user_tz": 240
    },
    "id": "AYe7aohvpvnW"
   },
   "outputs": [
    {
     "name": "stdout",
     "output_type": "stream",
     "text": [
      "31234\n",
      "34357\n"
     ]
    }
   ],
   "source": [
    "# increase miles by 10%\n",
    "print(car[\"miles\"])\n",
    "car[\"miles\"] = round(car[\"miles\"] * 1.1)\n",
    "print(car[\"miles\"])"
   ]
  },
  {
   "cell_type": "code",
   "execution_count": null,
   "metadata": {
    "executionInfo": {
     "elapsed": 1,
     "status": "ok",
     "timestamp": 1741713817020,
     "user": {
      "displayName": "Brian McClain",
      "userId": "08063899147261234403"
     },
     "user_tz": 240
    },
    "id": "Arrydpk-fSPd"
   },
   "outputs": [],
   "source": [
    "# Changing Key Names cannot be done directly\n",
    "# Instead make a new key of the name you want\n",
    "# Set its value equal to the key you don't like\n",
    "# Then with the data successfully copied to new key\n",
    "# Delete the unwanted original\n",
    "\n",
    "# change \"miles\" key to \"odometer\"\n",
    "# first, make odometer property, the value being miles\n",
    "# \"odometer\"\n",
    "\n",
    "# now that miles value is copied over, delete original\n",
    "# \"miles\"\n",
    "car[\"odometer\"] = car[\"miles\"]\n",
    "del car[\"miles\"]\n",
    "pp.pprint(car)"
   ]
  },
  {
   "cell_type": "code",
   "execution_count": null,
   "metadata": {},
   "outputs": [],
   "source": [
    "# delete item in list by name: \n",
    "# get rid of 'spoiler' from options:\n",
    "car[\"options\"].remove('spoiler')\n",
    "pp.pprint(car)"
   ]
  },
  {
   "cell_type": "code",
   "execution_count": 68,
   "metadata": {
    "executionInfo": {
     "elapsed": 1,
     "status": "ok",
     "timestamp": 1741713817021,
     "user": {
      "displayName": "Brian McClain",
      "userId": "08063899147261234403"
     },
     "user_tz": 240
    },
    "id": "3iskry2CdggW"
   },
   "outputs": [
    {
     "name": "stdout",
     "output_type": "stream",
     "text": [
      "{'color': 'black',\n",
      " 'engine': {'cyl': 8, 'hp': 260, 'ltr': 5.0},\n",
      " 'extras': ['mag wheels',\n",
      "            'sports package',\n",
      "            'leather seats',\n",
      "            'sun roof',\n",
      "            'sub woofers',\n",
      "            'CD player',\n",
      "            'flame decals'],\n",
      " 'horsepower': 260,\n",
      " 'location': {'city': 'Dallas', 'state': 'TX'},\n",
      " 'make': 'Lexus',\n",
      " 'model': 'ES350',\n",
      " 'mpg': {'city': 24, 'hwy': 30},\n",
      " 'odometer': 34357,\n",
      " 'year': 2023}\n"
     ]
    }
   ],
   "source": [
    "# you can also pop the unwanted property and use\n",
    "# that as the value of the new key\n",
    "# this way only takes one line of code:\n",
    "# change \"options\" to \"extras\"\n",
    "car[\"extras\"] = car.pop(\"options\")\n",
    "pp.pprint(car)\n"
   ]
  },
  {
   "cell_type": "markdown",
   "metadata": {},
   "source": [
    "**combinging 2+ dictionaries into one**\n",
    "- **dict1.update(dict2)**\n",
    "- **car.update(owner)**\n",
    "    - does not nest owner under a key like \"owner\"\n",
    "    - instead, it adds each key-value pair from the owner dictionary directly to car's top level.\n",
    "- to add the owner dictionary as a nested dictionary under the key \"owner\", then do this instead:\n",
    "    - **car[\"owner\"] = owner**\n"
   ]
  },
  {
   "cell_type": "code",
   "execution_count": 71,
   "metadata": {},
   "outputs": [],
   "source": [
    "# dict1.update(dict2)\n",
    "more_car_data = {\n",
    "    \"doors\": 4,\n",
    "    \"Car Fax\": False,\n",
    "    \"VIN\": \"A53634324234J9\",\n",
    "    \"insurer\": \"Geiko\",\n",
    "    \"condition\": \"EX\",\n",
    "    \"color\": \"red\"\n",
    "}"
   ]
  },
  {
   "cell_type": "code",
   "execution_count": null,
   "metadata": {},
   "outputs": [],
   "source": [
    "car.update(more_car_data)\n",
    "pp.pprint(car)"
   ]
  },
  {
   "cell_type": "code",
   "execution_count": 74,
   "metadata": {
    "colab": {
     "base_uri": "https://localhost:8080/"
    },
    "executionInfo": {
     "elapsed": 2,
     "status": "ok",
     "timestamp": 1741713817046,
     "user": {
      "displayName": "Brian McClain",
      "userId": "08063899147261234403"
     },
     "user_tz": 240
    },
    "id": "otfONNIzg0QL",
    "outputId": "e6eb13e5-3e27-46c1-ee46-16039ba86e34"
   },
   "outputs": [
    {
     "name": "stdout",
     "output_type": "stream",
     "text": [
      "['make',\n",
      " 'model',\n",
      " 'year',\n",
      " 'color',\n",
      " 'location',\n",
      " 'mpg',\n",
      " 'engine',\n",
      " 'horsepower',\n",
      " 'odometer',\n",
      " 'extras',\n",
      " 'doors',\n",
      " 'Car Fax',\n",
      " 'VIN',\n",
      " 'insurer',\n",
      " 'condition']\n"
     ]
    }
   ],
   "source": [
    "# Make a list of the keys\n",
    "car_keys = list(car.keys())\n",
    "pp.pprint(car_keys)"
   ]
  },
  {
   "cell_type": "code",
   "execution_count": null,
   "metadata": {
    "colab": {
     "base_uri": "https://localhost:8080/"
    },
    "executionInfo": {
     "elapsed": 1,
     "status": "ok",
     "timestamp": 1741713817047,
     "user": {
      "displayName": "Brian McClain",
      "userId": "08063899147261234403"
     },
     "user_tz": 240
    },
    "id": "qCSc6VqHhHcs",
    "outputId": "d2a0b5b5-0e5f-40d0-bf4b-112018d86227"
   },
   "outputs": [],
   "source": [
    "# Loop the dict key by key:\n",
    "for key in car:\n",
    "  # print each key and its value\n",
    "  print(key, \":\", car[key])\n"
   ]
  },
  {
   "cell_type": "code",
   "execution_count": null,
   "metadata": {
    "colab": {
     "base_uri": "https://localhost:8080/"
    },
    "executionInfo": {
     "elapsed": 1,
     "status": "ok",
     "timestamp": 1741713817049,
     "user": {
      "displayName": "Brian McClain",
      "userId": "08063899147261234403"
     },
     "user_tz": 240
    },
    "id": "tAa2jtg4hb4h",
    "outputId": "9ccfc15f-d4c4-45d7-d954-c72079aa6003"
   },
   "outputs": [],
   "source": [
    "# Loop the dict by key and value:\n",
    "for key, val in car.items():\n",
    "  # print each key and its value\n",
    "    print(key, \":\", val)\n"
   ]
  },
  {
   "cell_type": "code",
   "execution_count": 82,
   "metadata": {
    "colab": {
     "base_uri": "https://localhost:8080/"
    },
    "executionInfo": {
     "elapsed": 2,
     "status": "ok",
     "timestamp": 1741713817052,
     "user": {
      "displayName": "Brian McClain",
      "userId": "08063899147261234403"
     },
     "user_tz": 240
    },
    "id": "v-O-jkAMvFbP",
    "outputId": "5d2ff552-b8b4-4baf-a857-fcf29b9a254d"
   },
   "outputs": [
    {
     "name": "stdout",
     "output_type": "stream",
     "text": [
      "e : VOWEL\n",
      "l\n",
      "e : VOWEL\n",
      "p\n",
      "h\n",
      "a : VOWEL\n",
      "n\n",
      "t\n"
     ]
    }
   ],
   "source": [
    "# a string can be looped -- so strings are iterables\n",
    "word = \"elephant\"\n",
    "vowels = 'aeiou'\n",
    "# loop word letter by letter\n",
    "for char in word:\n",
    "    # if letter is a vowel, add: \" is a VOWEL\" after letter\n",
    "    if char in vowels:\n",
    "        print(char + \" : VOWEL\")\n",
    "    else:\n",
    "        print(char)"
   ]
  },
  {
   "cell_type": "code",
   "execution_count": 86,
   "metadata": {},
   "outputs": [
    {
     "data": {
      "image/jpeg": "[encoded data removed]",
      "text/plain": [
       "<IPython.core.display.Image object>"
      ]
     },
     "execution_count": 86,
     "metadata": {
      "image/jpeg": {
       "width": 300
      }
     },
     "output_type": "execute_result"
    }
   ],
   "source": [
    "Image(\"../img/scrabble.jpg\",width=300)"
   ]
  },
  {
   "cell_type": "code",
   "execution_count": 31,
   "metadata": {
    "executionInfo": {
     "elapsed": 1,
     "status": "ok",
     "timestamp": 1741713817050,
     "user": {
      "displayName": "Brian McClain",
      "userId": "08063899147261234403"
     },
     "user_tz": 240
    },
    "id": "DEWrbOeDiqpQ"
   },
   "outputs": [],
   "source": [
    "# Scrabble word score checker challenge:\n",
    "scrabble_letter_values = {\n",
    "    \"A\": 1, \"B\": 3, \"C\": 3, \"D\": 2, \"E\": 1,\n",
    "    \"F\": 4, \"G\": 2, \"H\": 4, \"I\": 1, \"J\": 8,\n",
    "    \"K\": 5, \"L\": 1, \"M\": 3, \"N\": 1, \"O\": 1,\n",
    "    \"P\": 3, \"Q\": 10, \"R\": 1, \"S\": 1, \"T\": 1,\n",
    "    \"U\": 1, \"V\": 4, \"W\": 4, \"X\": 8, \"Y\": 4,\n",
    "    \"Z\": 10, \" \": 0, \"-\": 0\n",
    "}"
   ]
  },
  {
   "cell_type": "code",
   "execution_count": 90,
   "metadata": {
    "colab": {
     "base_uri": "https://localhost:8080/"
    },
    "executionInfo": {
     "elapsed": 2,
     "status": "ok",
     "timestamp": 1741713817060,
     "user": {
      "displayName": "Brian McClain",
      "userId": "08063899147261234403"
     },
     "user_tz": 240
    },
    "id": "QOsXW0C9jCAk",
    "outputId": "e966f2a5-c47d-402b-a92a-a4684e08f269"
   },
   "outputs": [
    {
     "name": "stdout",
     "output_type": "stream",
     "text": [
      "Word: xylophone, Scrabble Score: 24\n"
     ]
    }
   ],
   "source": [
    "# CHALLENGE LAB: continuing w the above, declare a var for keeping score\n",
    "# scrabble score\n",
    "score = 0\n",
    "# make an input where the player enters a word\n",
    "word = input(\"Enter word, get Scrabble score: \")\n",
    "\n",
    "# loop the word letter by letter\n",
    "for letter in word:\n",
    "    # look up each letter's scrabble letter value\n",
    "    letter_value = scrabble_letter_values[letter.upper()]\n",
    "    # add letter value to the score\n",
    "    score += letter_value\n",
    "    # all in one line\n",
    "    # score += scrabble_letter_values[letter.upper()]\n",
    "\n",
    "print(f\"Word: {word}, Scrabble Score: {score}\")"
   ]
  },
  {
   "cell_type": "markdown",
   "metadata": {},
   "source": [
    "- **dict.get(\"key\")** vs **dict[\"key\"]**\n",
    "- get will not throw error if key does not exist"
   ]
  },
  {
   "cell_type": "code",
   "execution_count": 93,
   "metadata": {},
   "outputs": [
    {
     "name": "stdout",
     "output_type": "stream",
     "text": [
      "Top Speed Unknown\n"
     ]
    }
   ],
   "source": [
    "# this works only where key exists\n",
    "# if no such key, we get error\n",
    "print(car.get(\"top speed\", \"Top Speed Unknown\"))"
   ]
  },
  {
   "cell_type": "markdown",
   "metadata": {},
   "source": [
    "- **str.split()** returns a list\n",
    "- **\" \".join(list)** returns a string"
   ]
  },
  {
   "cell_type": "code",
   "execution_count": 94,
   "metadata": {
    "colab": {
     "base_uri": "https://localhost:8080/"
    },
    "executionInfo": {
     "elapsed": 19,
     "status": "ok",
     "timestamp": 1741713817079,
     "user": {
      "displayName": "Brian McClain",
      "userId": "08063899147261234403"
     },
     "user_tz": 240
    },
    "id": "9v0W65Wz0w0m",
    "outputId": "6b8bbf8b-61b2-4d32-a926-9852658cb733"
   },
   "outputs": [
    {
     "name": "stdout",
     "output_type": "stream",
     "text": [
      "['When', 'in', 'the', 'course', 'of', 'human', 'events']\n"
     ]
    }
   ],
   "source": [
    "# split a string of words into a list of words\n",
    "# the space is the delimieter by default\n",
    "phrase = \"When in the course of human events\"\n",
    "words_list = phrase.split() # no arg means split on space\n",
    "print(words_list)"
   ]
  },
  {
   "cell_type": "code",
   "execution_count": 95,
   "metadata": {},
   "outputs": [
    {
     "name": "stdout",
     "output_type": "stream",
     "text": [
      "['when-in-the-course-of-human-events.jpg']\n"
     ]
    }
   ],
   "source": [
    "file_name = \"when-in-the-course-of-human-events.jpg\"\n",
    "words_list = file_name.split()\n",
    "print(words_list) # ['when-in-the-course-of-human-events.jpg']"
   ]
  },
  {
   "cell_type": "code",
   "execution_count": 96,
   "metadata": {},
   "outputs": [
    {
     "name": "stdout",
     "output_type": "stream",
     "text": [
      "['when', 'in', 'the', 'course', 'of', 'human', 'events.jpg']\n"
     ]
    }
   ],
   "source": [
    "file_name = \"when-in-the-course-of-human-events.jpg\"\n",
    "# if no spaces exist to split on, pass in a delimiter\n",
    "words_list = file_name.split(\"-\")\n",
    "print(words_list) # ['when', 'in', 'the', 'course', 'of', 'human', 'events.jpg']"
   ]
  },
  {
   "cell_type": "code",
   "execution_count": 97,
   "metadata": {},
   "outputs": [
    {
     "name": "stdout",
     "output_type": "stream",
     "text": [
      "['when', 'in', 'the', 'course', 'of', 'human', 'events']\n"
     ]
    }
   ],
   "source": [
    "# same as above but get rid of the \".jpg\" somehow:\n",
    "file_name = \"when-in-the-course-of-human-events.jpg\"\n",
    "no_file_ext = file_name.replace(\".jpg\",\"\")\n",
    "words_list = no_file_ext.split(\"-\")\n",
    "print(words_list) # ['when', 'in', 'the', 'course', 'of', 'human', 'events']"
   ]
  },
  {
   "cell_type": "code",
   "execution_count": 100,
   "metadata": {},
   "outputs": [
    {
     "name": "stdout",
     "output_type": "stream",
     "text": [
      "when-in-the-course-of-human-events\n",
      "['when', 'in', 'the', 'course', 'of', 'human', 'events']\n"
     ]
    }
   ],
   "source": [
    "# more flexible, handle ANY file extenstion\n",
    "file_name = \"when-in-the-course-of-human-events.ipynb\"\n",
    "no_file_ext = file_name[:file_name.index(\".\")]\n",
    "print(no_file_ext) \n",
    "words_list = no_file_ext.split(\"-\")\n",
    "print(words_list) # ['when', 'in', 'the', 'course', 'of', 'human', 'events']"
   ]
  },
  {
   "cell_type": "code",
   "execution_count": 104,
   "metadata": {},
   "outputs": [
    {
     "name": "stdout",
     "output_type": "stream",
     "text": [
      "when-in-the-course-of-human-events\n",
      "['when', 'in', 'the', 'course', 'of', 'human', 'events']\n"
     ]
    }
   ],
   "source": [
    "# str.rindex(char) gives index of LAST occurrence\n",
    "file_name = \"when-in-the-course-of-human-events.ipynb\"\n",
    "no_file_ext = file_name[:file_name.rindex(\".\")]\n",
    "print(no_file_ext) \n",
    "words_list = no_file_ext.split(\"-\")\n",
    "print(words_list) # ['when', 'in', 'the', 'course', 'of', 'human', 'events']"
   ]
  },
  {
   "cell_type": "code",
   "execution_count": 109,
   "metadata": {},
   "outputs": [
    {
     "name": "stdout",
     "output_type": "stream",
     "text": [
      "['when-in-the-course-of-human-events', 'ipynb']\n",
      "when-in-the-course-of-human-events\n",
      "['when', 'in', 'the', 'course', 'of', 'human', 'events']\n"
     ]
    }
   ],
   "source": [
    "# split on the dot, then get rid of that item\n",
    "# then split on the dashes\n",
    "file_name = \"when-in-the-course-of-human-events.ipynb\"\n",
    "file_name_list = file_name.split(\".\")\n",
    "print(file_name_list) \n",
    "file_name = file_name_list[0]\n",
    "print(file_name) \n",
    "words_list = file_name.split(\"-\")\n",
    "print(words_list)"
   ]
  },
  {
   "cell_type": "markdown",
   "metadata": {},
   "source": [
    "#### new_string = delimiter.join(list) \n",
    "- join is called on a delimiter\n",
    "- join takes a list as its arg\n",
    "- join returns a new string\n",
    "- text is connected by delimiter"
   ]
  },
  {
   "cell_type": "code",
   "execution_count": 113,
   "metadata": {},
   "outputs": [
    {
     "name": "stdout",
     "output_type": "stream",
     "text": [
      "apple banana cherry\n",
      "apple, banana, cherry\n",
      "apple * banana * cherry\n",
      "applebananacherry\n"
     ]
    }
   ],
   "source": [
    "# join is called on a delimiter\n",
    "# join takes a list as its arg\n",
    "# join returns a new string\n",
    "# text is connected by delimiter\n",
    "fruits = ['apple', 'banana', 'cherry']\n",
    "fruity_string = \" \".join(fruits)\n",
    "print(fruity_string)\n",
    "fru_string = \", \".join(fruits)\n",
    "print(fru_string)\n",
    "starry_string = \" * \".join(fruits)\n",
    "print(starry_string)\n",
    "onebigstring = \"\".join(fruits)\n",
    "print(onebigstring)"
   ]
  }
 ],
 "metadata": {
  "colab": {
   "authorship_tag": "ABX9TyNhePu0YyBBQzUri9yD7YbR",
   "provenance": []
  },
  "kernelspec": {
   "display_name": "base",
   "language": "python",
   "name": "python3"
  },
  "language_info": {
   "codemirror_mode": {
    "name": "ipython",
    "version": 3
   },
   "file_extension": ".py",
   "mimetype": "text/x-python",
   "name": "python",
   "nbconvert_exporter": "python",
   "pygments_lexer": "ipython3",
   "version": "3.10.9"
  }
 },
 "nbformat": 4,
 "nbformat_minor": 0
}
