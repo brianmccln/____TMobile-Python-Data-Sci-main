{
 "cells": [
  {
   "cell_type": "markdown",
   "metadata": {
    "id": "SrabtwkxRe1D"
   },
   "source": [
    "### **Numpy** (Numeric Python)\n",
    "- **numpy module** adds functionality to lists\n",
    "- enables a flat **1D vector** be *reshaped* into a **2D matrix**\n",
    "- for Data Science 2D matrices are important, because:\n",
    "    - **2D** is the structure of a spreadsheet (rows x columns)\n",
    "    - in Python a **Pandas DataFrame** is a \"spreadsheet variable\"\n"
   ]
  },
  {
   "cell_type": "code",
   "execution_count": 44,
   "metadata": {},
   "outputs": [],
   "source": [
    "# 1. If numpy import fails, install:\n",
    "# %pip install numpy"
   ]
  },
  {
   "cell_type": "code",
   "execution_count": 45,
   "metadata": {
    "executionInfo": {
     "elapsed": 2,
     "status": "ok",
     "timestamp": 1741713746635,
     "user": {
      "displayName": "Brian McClain",
      "userId": "08063899147261234403"
     },
     "user_tz": 240
    },
    "id": "1f_QWJ-zSQzC"
   },
   "outputs": [],
   "source": [
    "# 2. import the numpy module, plus a few others\n"
   ]
  },
  {
   "cell_type": "code",
   "execution_count": 46,
   "metadata": {
    "colab": {
     "base_uri": "https://localhost:8080/"
    },
    "executionInfo": {
     "elapsed": 3,
     "status": "ok",
     "timestamp": 1741713746642,
     "user": {
      "displayName": "Brian McClain",
      "userId": "08063899147261234403"
     },
     "user_tz": 240
    },
    "id": "o2c9Y3sqUBSL",
    "outputId": "13f5e1d1-2cfa-4e35-feec-34fd2acd93f6"
   },
   "outputs": [
    {
     "name": "stdout",
     "output_type": "stream",
     "text": [
      "\n"
     ]
    }
   ],
   "source": [
    "# 3. Make a list of 16 consectuive numbers from 1-16:\n",
    "\n",
    "print()"
   ]
  },
  {
   "cell_type": "code",
   "execution_count": 47,
   "metadata": {
    "colab": {
     "base_uri": "https://localhost:8080/"
    },
    "executionInfo": {
     "elapsed": 11,
     "status": "ok",
     "timestamp": 1741713746661,
     "user": {
      "displayName": "Brian McClain",
      "userId": "08063899147261234403"
     },
     "user_tz": 240
    },
    "id": "UxjLPJocVTjs",
    "outputId": "7bb4ca86-d5e2-45a9-bac6-a4a24e0a8b8d"
   },
   "outputs": [
    {
     "name": "stdout",
     "output_type": "stream",
     "text": [
      "\n",
      "\n",
      "\n",
      "\n",
      "\n",
      "\n"
     ]
    }
   ],
   "source": [
    "# 4. \"bundle\" the 16-item list into 4 child lists of 4 numbers each:\n",
    "\n",
    "print()\n",
    "\n",
    "# print the following selections:\n",
    "print() # [1,2,3,4]\n",
    "print() # [13,14,15,16]\n",
    "print() # [6,7]\n",
    "print() # [11,12]\n",
    "print() # 13"
   ]
  },
  {
   "cell_type": "markdown",
   "metadata": {
    "id": "aYUVaFLjW4s1"
   },
   "source": [
    "### **arr = np.array(list)** makes a numpy array from a list\n",
    "- **arr.ndim** returns the number of dimenstions the array\n",
    "- **arr.shape** returns the shape of the array as a **tuple**\n",
    "  - **(num_rows,num_cols)** is the tuple of a numpy array\n",
    "  -- **(num_rows,)** is a 1D **vector**\n",
    "  -- **(num_rows,num_cols)** is a 2D **matrix**"
   ]
  },
  {
   "cell_type": "code",
   "execution_count": 48,
   "metadata": {},
   "outputs": [],
   "source": [
    "# \"dimensions.png\""
   ]
  },
  {
   "cell_type": "code",
   "execution_count": 49,
   "metadata": {
    "colab": {
     "base_uri": "https://localhost:8080/"
    },
    "executionInfo": {
     "elapsed": 20,
     "status": "ok",
     "timestamp": 1741713746684,
     "user": {
      "displayName": "Brian McClain",
      "userId": "08063899147261234403"
     },
     "user_tz": 240
    },
    "id": "tCRk8G6MWlOz",
    "outputId": "0980d691-8f32-4c8d-ad5e-e99a0e908687"
   },
   "outputs": [
    {
     "name": "stdout",
     "output_type": "stream",
     "text": [
      "nums_list:\n",
      "nums_arr:\n",
      "\n"
     ]
    }
   ],
   "source": [
    "# 5. Make a list and then make a numpy array from the list\n",
    "nums_list = [35,37,40,45,51,24,12,39,20,8,67,49]\n",
    "print(\"nums_list:\")\n",
    "\n",
    "print(\"nums_arr:\")\n",
    "# get the ndim and shape properties:\n",
    "# shape is a tuple: (rows,cols)\n",
    "# shape is a tuple: \n",
    "#      (rows,) indicates 1D vector\n",
    "#      (rows,cols) indicates 2D matrix\n",
    "print() # (12,) 1\n",
    "\n",
    "# print(nums_list.shape, nums_list.ndim) \n",
    "# 'list' object has no attribute 'ndim'"
   ]
  },
  {
   "cell_type": "markdown",
   "metadata": {
    "id": "Ygc85tOKZG0V"
   },
   "source": [
    "### **arr.reshape(num_rows,num_cols)**\n",
    "- returns a new array or specified shape\n",
    "- reshape inputs must multiply out to exact number of items in array"
   ]
  },
  {
   "cell_type": "code",
   "execution_count": 50,
   "metadata": {
    "colab": {
     "base_uri": "https://localhost:8080/"
    },
    "executionInfo": {
     "elapsed": 41,
     "status": "ok",
     "timestamp": 1741713746725,
     "user": {
      "displayName": "Brian McClain",
      "userId": "08063899147261234403"
     },
     "user_tz": 240
    },
    "id": "pEEuXHJ9Y7LJ",
    "outputId": "b0d2abb7-5cce-4e16-8596-ff49e0af2fea"
   },
   "outputs": [
    {
     "name": "stdout",
     "output_type": "stream",
     "text": [
      "\n",
      "\n",
      "\n"
     ]
    }
   ],
   "source": [
    "# 6. Reshape the array into 3 rows of 4 cols:\n",
    "\n",
    "print()\n",
    "print()\n",
    "print()"
   ]
  },
  {
   "cell_type": "code",
   "execution_count": 51,
   "metadata": {
    "colab": {
     "base_uri": "https://localhost:8080/"
    },
    "executionInfo": {
     "elapsed": 2,
     "status": "ok",
     "timestamp": 1741713746728,
     "user": {
      "displayName": "Brian McClain",
      "userId": "08063899147261234403"
     },
     "user_tz": 240
    },
    "id": "-TPEdI5ihSwG",
    "outputId": "ce354c96-7e23-4d85-b017-d860b614da57"
   },
   "outputs": [
    {
     "name": "stdout",
     "output_type": "stream",
     "text": [
      "\n",
      "\n"
     ]
    }
   ],
   "source": [
    "# 7. Reshape the array into a flat vector (how it started)\n",
    "\n",
    "print()\n",
    "print()"
   ]
  },
  {
   "cell_type": "code",
   "execution_count": 52,
   "metadata": {
    "colab": {
     "base_uri": "https://localhost:8080/"
    },
    "executionInfo": {
     "elapsed": 2,
     "status": "ok",
     "timestamp": 1741713746730,
     "user": {
      "displayName": "Brian McClain",
      "userId": "08063899147261234403"
     },
     "user_tz": 240
    },
    "id": "KReoFui3aQsW",
    "outputId": "7886b381-cb84-40d6-ed84-3e1f04c29306"
   },
   "outputs": [
    {
     "name": "stdout",
     "output_type": "stream",
     "text": [
      "\n",
      "\n"
     ]
    }
   ],
   "source": [
    "# CHALLENGE A: Make an array called _6x2_arr (6 rows x 2 cols):\n",
    "\n",
    "print()\n",
    "print()\n"
   ]
  },
  {
   "cell_type": "code",
   "execution_count": 53,
   "metadata": {
    "colab": {
     "base_uri": "https://localhost:8080/"
    },
    "executionInfo": {
     "elapsed": 72,
     "status": "ok",
     "timestamp": 1741713746802,
     "user": {
      "displayName": "Brian McClain",
      "userId": "08063899147261234403"
     },
     "user_tz": 240
    },
    "id": "UTIx6bFqbeoj",
    "outputId": "b28e9aac-ceb9-411a-92f8-d9e30720e537"
   },
   "outputs": [
    {
     "name": "stdout",
     "output_type": "stream",
     "text": [
      "\n",
      "\n"
     ]
    }
   ],
   "source": [
    "# CHALLENGE B: Make an array called _2x6_arr (2 rows x 6 cols):\n",
    "\n",
    "print()\n",
    "print()\n",
    " "
   ]
  },
  {
   "cell_type": "markdown",
   "metadata": {
    "id": "QryeXlD3b5ZH"
   },
   "source": [
    "### **arr_transposed = arr.transpose()**\n",
    "- inverts the shape (6,2) original returns a (2,6) transposed version\n",
    "- but the row values have become the col values, and vice-versa"
   ]
  },
  {
   "cell_type": "code",
   "execution_count": 54,
   "metadata": {
    "colab": {
     "base_uri": "https://localhost:8080/"
    },
    "executionInfo": {
     "elapsed": 5,
     "status": "ok",
     "timestamp": 1741713746808,
     "user": {
      "displayName": "Brian McClain",
      "userId": "08063899147261234403"
     },
     "user_tz": 240
    },
    "id": "EFoUv0bmbAf5",
    "outputId": "63a3d99c-7a31-4134-a12d-249ad1016be1"
   },
   "outputs": [
    {
     "name": "stdout",
     "output_type": "stream",
     "text": [
      "\n",
      "\n"
     ]
    }
   ],
   "source": [
    "# 8. Transpose the _2x6 into a new array:\n",
    "\n",
    "print()\n",
    "print()"
   ]
  },
  {
   "cell_type": "markdown",
   "metadata": {
    "id": "TXXK7YzUlrh1"
   },
   "source": [
    "### **list and 1D array (vector) selections**\n",
    "- single item: **list[index]** or **arr[index]**\n",
    "- multiple list items: **list[start_index:end_index_excl]**\n",
    "- 1D arr items: **arr[start_index:end_index_index_excl]**\n",
    "\n",
    "### **numpy array 2D (matrix) selections**\n",
    "- numpy arrays allow 2D selections, which are not possible with a list:\n",
    "- **_2D_slice = _2D_arr[row_start:row_end_excl,col_start:col_end_excl]**"
   ]
  },
  {
   "cell_type": "code",
   "execution_count": 55,
   "metadata": {
    "colab": {
     "base_uri": "https://localhost:8080/"
    },
    "executionInfo": {
     "elapsed": 1,
     "status": "ok",
     "timestamp": 1741713746810,
     "user": {
      "displayName": "Brian McClain",
      "userId": "08063899147261234403"
     },
     "user_tz": 240
    },
    "id": "rXQMMIljd8O3",
    "outputId": "5b34a5f9-1f86-45e6-8987-a5504afaaa14"
   },
   "outputs": [
    {
     "name": "stdout",
     "output_type": "stream",
     "text": [
      "\n"
     ]
    }
   ],
   "source": [
    "# 9. Make tic-tac-toe shape:\n",
    "#     Make a list of 9 \"X\" and \"O\" values\n",
    "#.    Make a 3x3 array that looks like a tic-tac-toe board\n",
    "#.    where X wins along the upper left diagonal\n",
    "# \"X\", \"X\", \"O\", \"O\", \"X\", \"O\", \"X\", \"O\", \"X\"\n",
    "\n",
    "\n",
    "print()"
   ]
  },
  {
   "cell_type": "code",
   "execution_count": 56,
   "metadata": {
    "colab": {
     "base_uri": "https://localhost:8080/"
    },
    "executionInfo": {
     "elapsed": 32,
     "status": "ok",
     "timestamp": 1741713746842,
     "user": {
      "displayName": "Brian McClain",
      "userId": "08063899147261234403"
     },
     "user_tz": 240
    },
    "id": "tIjdCM93B8Qf",
    "outputId": "b19c7f1d-5f4f-4b63-c139-4aa510db3acf"
   },
   "outputs": [
    {
     "name": "stdout",
     "output_type": "stream",
     "text": [
      "\n"
     ]
    }
   ],
   "source": [
    "#  CHALLENGE. Make \"O\" the winner by changing an \"X\" to \"O\":\n",
    "#     in a numpy array instead of double square brackets [1][1]\n",
    "#     you can use a comma separator inside single square brackets: [1,1]\n",
    "\n",
    "print()"
   ]
  },
  {
   "cell_type": "code",
   "execution_count": 57,
   "metadata": {
    "colab": {
     "base_uri": "https://localhost:8080/"
    },
    "executionInfo": {
     "elapsed": 3,
     "status": "ok",
     "timestamp": 1741713746877,
     "user": {
      "displayName": "Brian McClain",
      "userId": "08063899147261234403"
     },
     "user_tz": 240
    },
    "id": "5XRJNobhDccL",
    "outputId": "db8d7174-549f-4c19-f06e-ce7f03ca637f"
   },
   "outputs": [
    {
     "name": "stdout",
     "output_type": "stream",
     "text": [
      "\n"
     ]
    }
   ],
   "source": [
    "# 10. Get the 2x2 in the upper left corner of the ttt board:\n",
    "# _2x2_UL = tic_tac_toe[row_start:row_end,col_start,col_end]\n",
    "\n",
    "print()"
   ]
  },
  {
   "cell_type": "code",
   "execution_count": 58,
   "metadata": {
    "colab": {
     "base_uri": "https://localhost:8080/"
    },
    "executionInfo": {
     "elapsed": 2,
     "status": "ok",
     "timestamp": 1741713746879,
     "user": {
      "displayName": "Brian McClain",
      "userId": "08063899147261234403"
     },
     "user_tz": 240
    },
    "id": "Fn4jdOfjD0kO",
    "outputId": "42d547ef-8ad8-4ed4-83ab-5b70256267fb"
   },
   "outputs": [
    {
     "name": "stdout",
     "output_type": "stream",
     "text": [
      "\n"
     ]
    }
   ],
   "source": [
    "# 11. Get the 2x2 in the lower right corner of the ttt board:\n",
    "\n",
    "print()"
   ]
  },
  {
   "cell_type": "code",
   "execution_count": 59,
   "metadata": {
    "colab": {
     "base_uri": "https://localhost:8080/"
    },
    "executionInfo": {
     "elapsed": 27,
     "status": "ok",
     "timestamp": 1741713746908,
     "user": {
      "displayName": "Brian McClain",
      "userId": "08063899147261234403"
     },
     "user_tz": 240
    },
    "id": "UsvFBi82jWZ2",
    "outputId": "08a2037a-9271-4df4-ad64-3dccc7e26e1a"
   },
   "outputs": [
    {
     "name": "stdout",
     "output_type": "stream",
     "text": [
      "\n"
     ]
    }
   ],
   "source": [
    "# 14. Make a chessboard CHALLENGE:\n",
    "#     Make a list of 64 consecutive 2-digit ints (21-84 range)\n",
    "#.    Make a numpy array with the 8x8 dimensions of a chessboard\n",
    "#.    just let the random nums fill all 64 squares\n",
    "\n",
    "print()"
   ]
  },
  {
   "cell_type": "code",
   "execution_count": 60,
   "metadata": {
    "colab": {
     "base_uri": "https://localhost:8080/"
    },
    "executionInfo": {
     "elapsed": 29,
     "status": "ok",
     "timestamp": 1741713747142,
     "user": {
      "displayName": "Brian McClain",
      "userId": "08063899147261234403"
     },
     "user_tz": 240
    },
    "id": "uvl9jG0y4yQ_",
    "outputId": "1edd7308-4e2f-494f-df2f-2f2a4b641d95"
   },
   "outputs": [
    {
     "name": "stdout",
     "output_type": "stream",
     "text": [
      "\n",
      "\n"
     ]
    }
   ],
   "source": [
    "# 12. Get the first number (21) in the chessboard,\n",
    "# that value at row 0, col 0\n",
    "print() # must do double [][] for 2D list selection\n",
    "print() # 2D array selection can use single [,]"
   ]
  },
  {
   "cell_type": "code",
   "execution_count": 61,
   "metadata": {
    "colab": {
     "base_uri": "https://localhost:8080/"
    },
    "executionInfo": {
     "elapsed": 9,
     "status": "ok",
     "timestamp": 1741713747054,
     "user": {
      "displayName": "Brian McClain",
      "userId": "08063899147261234403"
     },
     "user_tz": 240
    },
    "id": "YwNsluNu252A",
    "outputId": "6d2539f0-667a-479b-8c91-b8278bb49dbd"
   },
   "outputs": [
    {
     "name": "stdout",
     "output_type": "stream",
     "text": [
      "\n",
      "\n",
      "\n",
      "\n"
     ]
    }
   ],
   "source": [
    "# 13. Get the first col of the chessboard:\n",
    "print()\n",
    "print()\n",
    "\n",
    "# get the first 2 cols of the chessboard:\n",
    "print()\n",
    "print()"
   ]
  },
  {
   "cell_type": "code",
   "execution_count": 62,
   "metadata": {},
   "outputs": [
    {
     "name": "stdout",
     "output_type": "stream",
     "text": [
      "\n",
      "\n",
      "\n",
      "\n"
     ]
    }
   ],
   "source": [
    "# CHALLENGE: Get the last row of the chessboard:\n",
    "print()\n",
    "print()\n",
    "\n",
    "# get the last 2 rows of the chessboard:\n",
    "print()\n",
    "print()\n"
   ]
  },
  {
   "cell_type": "code",
   "execution_count": 63,
   "metadata": {
    "colab": {
     "base_uri": "https://localhost:8080/"
    },
    "executionInfo": {
     "elapsed": 30,
     "status": "ok",
     "timestamp": 1741713747087,
     "user": {
      "displayName": "Brian McClain",
      "userId": "08063899147261234403"
     },
     "user_tz": 240
    },
    "id": "R1EVQWv93Mbz",
    "outputId": "221b4ef5-0fcc-40e1-d02e-fbf0c08e71f0"
   },
   "outputs": [
    {
     "name": "stdout",
     "output_type": "stream",
     "text": [
      "\n",
      "\n"
     ]
    }
   ],
   "source": [
    "# 14. Get the first 2 rows and last 2 rows:\n",
    "print()\n",
    "print()"
   ]
  },
  {
   "cell_type": "code",
   "execution_count": 64,
   "metadata": {},
   "outputs": [
    {
     "name": "stdout",
     "output_type": "stream",
     "text": [
      "\n",
      "\n"
     ]
    }
   ],
   "source": [
    "# CHALLENGE: Get the last 2 rows and first 2 rows:\n",
    "print()\n",
    "print()"
   ]
  },
  {
   "cell_type": "code",
   "execution_count": 65,
   "metadata": {
    "colab": {
     "base_uri": "https://localhost:8080/"
    },
    "executionInfo": {
     "elapsed": 28,
     "status": "ok",
     "timestamp": 1741713746937,
     "user": {
      "displayName": "Brian McClain",
      "userId": "08063899147261234403"
     },
     "user_tz": 240
    },
    "id": "k52wykPyFpDn",
    "outputId": "ce588f72-64b8-4a17-e87a-6769e98d2c08"
   },
   "outputs": [
    {
     "name": "stdout",
     "output_type": "stream",
     "text": [
      "\n"
     ]
    }
   ],
   "source": [
    "# 15. Get the upper right corner 3x3 of the 8x8 chessboard\n",
    "# do not make a new ttt board of shape 3x3 from scratch -- slice the 3x3 out of the 8x8\n",
    "# print(chessboard[first_3_rows,last_3_cols])\n",
    "\n",
    "print()"
   ]
  },
  {
   "cell_type": "code",
   "execution_count": 66,
   "metadata": {},
   "outputs": [],
   "source": [
    "# 16. Get (3,3) tic-tac-toe board size array, starting in the upper left corner of the chessboard, but skipping every other row, so index 0,2,4 (NOT 0,1,2)"
   ]
  },
  {
   "cell_type": "code",
   "execution_count": 67,
   "metadata": {
    "colab": {
     "base_uri": "https://localhost:8080/"
    },
    "executionInfo": {
     "elapsed": 23,
     "status": "ok",
     "timestamp": 1741713746966,
     "user": {
      "displayName": "Brian McClain",
      "userId": "08063899147261234403"
     },
     "user_tz": 240
    },
    "id": "q7YQvf5EHKW6",
    "outputId": "4284278d-bc48-4d62-e11b-03f122bc7d0a"
   },
   "outputs": [
    {
     "name": "stdout",
     "output_type": "stream",
     "text": [
      "\n"
     ]
    }
   ],
   "source": [
    "# 17. Get the middle 4 rows (2-5), middle 4 cols (2-5)\n",
    "\n",
    "print()"
   ]
  },
  {
   "cell_type": "code",
   "execution_count": 68,
   "metadata": {
    "colab": {
     "base_uri": "https://localhost:8080/"
    },
    "executionInfo": {
     "elapsed": 2,
     "status": "ok",
     "timestamp": 1741713746943,
     "user": {
      "displayName": "Brian McClain",
      "userId": "08063899147261234403"
     },
     "user_tz": 240
    },
    "id": "FbU1rxCOGS8c",
    "outputId": "8f4a5021-8417-49bd-d41a-9597c3819cbf"
   },
   "outputs": [
    {
     "name": "stdout",
     "output_type": "stream",
     "text": [
      "\n"
     ]
    }
   ],
   "source": [
    "# CHALLENGE. Get the middle 4 rows (2-5), all cols:\n",
    "print()"
   ]
  },
  {
   "cell_type": "code",
   "execution_count": 69,
   "metadata": {},
   "outputs": [
    {
     "name": "stdout",
     "output_type": "stream",
     "text": [
      "\n"
     ]
    }
   ],
   "source": [
    "# 18. Get the middle 4 cols (2-5), all rows:\n",
    "print()"
   ]
  },
  {
   "cell_type": "markdown",
   "metadata": {},
   "source": [
    "#### Square bracket selections work on strings, too\n",
    "- **str[start_index,end_index_excl]**"
   ]
  },
  {
   "cell_type": "code",
   "execution_count": 70,
   "metadata": {
    "colab": {
     "base_uri": "https://localhost:8080/"
    },
    "executionInfo": {
     "elapsed": 6,
     "status": "ok",
     "timestamp": 1741713747031,
     "user": {
      "displayName": "Brian McClain",
      "userId": "08063899147261234403"
     },
     "user_tz": 240
    },
    "id": "Nxh6DWy-z-1g",
    "outputId": "d02696ae-9afb-4ff9-9b2d-a5713470ceff"
   },
   "outputs": [
    {
     "name": "stdout",
     "output_type": "stream",
     "text": [
      "\n",
      "\n",
      "\n",
      "\n"
     ]
    }
   ],
   "source": [
    "# 19. Selections work on just individual strings\n",
    "# \"elephant\"\n",
    "# Get the \"ant\":\n",
    "print()\n",
    "# Get the \"elep\":\n",
    "print()\n",
    "# Get every other letter starting from the first letter (\"e\")\n",
    "print() # eehn [::2]\n",
    "# Spell elephant backwards\n",
    "print() # tnahpele [::-1]"
   ]
  }
 ],
 "metadata": {
  "colab": {
   "authorship_tag": "ABX9TyOn+xTdmp7oj9NvuMUQkJYd",
   "provenance": []
  },
  "kernelspec": {
   "display_name": "base",
   "language": "python",
   "name": "python3"
  },
  "language_info": {
   "codemirror_mode": {
    "name": "ipython",
    "version": 3
   },
   "file_extension": ".py",
   "mimetype": "text/x-python",
   "name": "python",
   "nbconvert_exporter": "python",
   "pygments_lexer": "ipython3",
   "version": "3.10.9"
  }
 },
 "nbformat": 4,
 "nbformat_minor": 0
}
