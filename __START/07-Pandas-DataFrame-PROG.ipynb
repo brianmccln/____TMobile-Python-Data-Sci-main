{
 "cells": [
  {
   "cell_type": "markdown",
   "metadata": {
    "id": "HCdR3v0GIo-_"
   },
   "source": [
    "### **Pandas Dataframes**\n",
    "Pandas stands for \"Panel Data\", where \"panel\" basically means *table* or *spreadsheet*,  \n",
    "that is, data arranged in rows and columns.  \n",
    "- In Pandas, this spreadsheet-like data structure is called a **dataframe**.\n",
    "- Unlike a spreadsheet, such as an Excel worksheet, a Pandas dataframe exists as a *variable*.  \n",
    "- A dataframe is a two-dimensional **matrix** of rows and columns, having a **shape** property,  \n",
    " as a **tuple**. A 10-row x 4-column dataframe has a shape of (10, 4)\n",
    "- A single row or column of a dataframe exists as a one-dimensional vector, called a **Series**.\n",
    "- Numpy terms such as shape, dimensions, matrix, vector and tuple apply to dataframes, too,  \n",
    "because Pandas is built on top of Numpy.  \n",
    "- Like Numpy, Pandas must be imported.\n",
    "\n",
    "In this lesson, we will learn how to:\n",
    "- make a Pandas dataframe from multiple lists, one list per column\n",
    "- make a Pandas dataframe from a dictionary, where each key value is a list\n",
    "- select ranges of dataframe rows and/or columns by index number\n",
    "- select ranges of dataframe rows and/or columns by column name\n",
    "- use **loc** and **iloc** syntax to select data\n",
    "- filter data based on a condition\n",
    "- filter data based on multiple conditions\n",
    "- add rows of data to an existing dataframe\n",
    "- add columns to an existing dataframe\n",
    "- get / set individual values from a dataframe\n",
    "- make a Pandas Series (1D data structure) from a 2D Dataframe\n",
    "- use **list()** and **tolist()** methods to convert a Numpy array or Panda Series to a list\n",
    "\n",
    "**Pandas DataFrame**: two-dimensional data structure, consising of rows and columns.\n",
    "\n",
    "- Dataframes are often made from loaded data, such as from a **CSV** file,  \n",
    "but they can be made from lists, arrays or dictionaries, which is how we will start.\n",
    "- **DataFrame()** method returns a dataframe\n",
    "- if provided no arguments, DataFrame() returns a new, empty dataframe\n",
    "- DataFrame() can takes a 2D array or a dictionary as its argument,  \n",
    "in which case it returns a dataframe with data already in it"
   ]
  },
  {
   "cell_type": "code",
   "execution_count": null,
   "metadata": {},
   "outputs": [],
   "source": [
    "# if import pandas doesn't work:\n",
    "%pip install pandas\n",
    "# %pip install IPython.display\n",
    "# ON LOCAL MACHINE (e.g. VSCode NOT Google Colab)\n",
    "# You MAY need to INSTALL -- NOT just IMPORT numpy and/or pandas\n",
    "# Which MAY result in ERROR, which can be troubleshot as follows:\n",
    "# if installing pandas doesn't work\n",
    "# uninstall numpy and pandas and then\n",
    "# FORCE reinstall both, clearing all cache:\n",
    "# %pip uninstall -y numpy pandas\n",
    "# %pip install numpy pandas --no-cache-dir --force-reinstall"
   ]
  },
  {
   "cell_type": "code",
   "execution_count": 679,
   "metadata": {
    "executionInfo": {
     "elapsed": 16,
     "status": "ok",
     "timestamp": 1741713717581,
     "user": {
      "displayName": "Brian McClain",
      "userId": "08063899147261234403"
     },
     "user_tz": 240
    },
    "id": "jJxiE5dkL-ZZ"
   },
   "outputs": [],
   "source": [
    "# 0. import modules:\n",
    "import numpy as np\n",
    "import pandas as pd\n",
    "from IPython.display import Image\n",
    "import random\n",
    "import string # for auto-generating sequences of letters (a-z, A-Z)\n",
    "import pprint as pp\n",
    "import sys"
   ]
  },
  {
   "cell_type": "code",
   "execution_count": null,
   "metadata": {},
   "outputs": [
    {
     "name": "stdout",
     "output_type": "stream",
     "text": [
      "1.23.5 3.10.9 (main, Mar  1 2023, 12:33:47) [Clang 14.0.6 ]\n"
     ]
    }
   ],
   "source": [
    "# print the version of numpy:\n",
    "# versions 2+ prints 21 (and other numbers) like so: np.int64(21)\n",
    "# BUT we just want 21 to print as 21\n",
    "# so check version of Numpy:\n",
    "print(np.__version__, sys.version)"
   ]
  },
  {
   "cell_type": "code",
   "execution_count": 681,
   "metadata": {},
   "outputs": [
    {
     "name": "stderr",
     "output_type": "stream",
     "text": [
      "/var/folders/js/zv6c_nmx1vbdnr3f03zqdsc00000gn/T/ipykernel_45480/2970553453.py:2: UserWarning: legacy printing option can currently only be '1.13', '1.21', or `False`\n",
      "  np.set_printoptions(legacy='1.23.5')\n"
     ]
    }
   ],
   "source": [
    "# if numpy version is 2+, set it lower to fix annoying printing of numbers:\n",
    "np.set_printoptions(legacy='1.23.5')"
   ]
  },
  {
   "cell_type": "code",
   "execution_count": 653,
   "metadata": {
    "colab": {
     "base_uri": "https://localhost:8080/"
    },
    "executionInfo": {
     "elapsed": 19,
     "status": "ok",
     "timestamp": 1741713717610,
     "user": {
      "displayName": "Brian McClain",
      "userId": "08063899147261234403"
     },
     "user_tz": 240
    },
    "id": "o-FEqF2pId69",
    "outputId": "5cd5e4d7-e51b-4c7a-8a77-4bdc97b1c002"
   },
   "outputs": [
    {
     "name": "stdout",
     "output_type": "stream",
     "text": [
      "(8, 8)\n",
      "\n",
      "[[21 22 23 24 25 26 27 28]\n",
      " [29 30 31 32 33 34 35 36]\n",
      " [37 38 39 40 41 42 43 44]\n",
      " [45 46 47 48 49 50 51 52]\n",
      " [53 54 55 56 57 58 59 60]\n",
      " [61 62 63 64 65 66 67 68]\n",
      " [69 70 71 72 73 74 75 76]\n",
      " [77 78 79 80 81 82 83 84]]\n"
     ]
    }
   ],
   "source": [
    "# 1. make a numpy array of consecutive integers from 21-84; \n",
    "#    reshape (64,) vector into (8,8) matrix\n",
    "chessboard_arr = np.arange(21,85).reshape(8,8)\n",
    "print(chessboard_arr.shape)\n",
    "print()\n",
    "print(chessboard_arr)"
   ]
  },
  {
   "cell_type": "code",
   "execution_count": 654,
   "metadata": {
    "executionInfo": {
     "elapsed": 0,
     "status": "ok",
     "timestamp": 1741713717615,
     "user": {
      "displayName": "Brian McClain",
      "userId": "08063899147261234403"
     },
     "user_tz": 240
    },
    "id": "Lk0nVtL5M36o"
   },
   "outputs": [],
   "source": [
    "# 3. Make a Pandas DataFrame from the chessboard array:\n",
    "chessboard_df = pd.DataFrame(chessboard_arr)"
   ]
  },
  {
   "cell_type": "code",
   "execution_count": 655,
   "metadata": {
    "colab": {
     "base_uri": "https://localhost:8080/"
    },
    "executionInfo": {
     "elapsed": 13,
     "status": "ok",
     "timestamp": 1741713717628,
     "user": {
      "displayName": "Brian McClain",
      "userId": "08063899147261234403"
     },
     "user_tz": 240
    },
    "id": "OjqQ-v99NO9_",
    "outputId": "18c6e123-3a74-4d94-89bb-c37d93b7014a"
   },
   "outputs": [
    {
     "name": "stdout",
     "output_type": "stream",
     "text": [
      "(8, 8) 2\n"
     ]
    },
    {
     "data": {
      "text/html": [
       "<div>\n",
       "<style scoped>\n",
       "    .dataframe tbody tr th:only-of-type {\n",
       "        vertical-align: middle;\n",
       "    }\n",
       "\n",
       "    .dataframe tbody tr th {\n",
       "        vertical-align: top;\n",
       "    }\n",
       "\n",
       "    .dataframe thead th {\n",
       "        text-align: right;\n",
       "    }\n",
       "</style>\n",
       "<table border=\"1\" class=\"dataframe\">\n",
       "  <thead>\n",
       "    <tr style=\"text-align: right;\">\n",
       "      <th></th>\n",
       "      <th>0</th>\n",
       "      <th>1</th>\n",
       "      <th>2</th>\n",
       "      <th>3</th>\n",
       "      <th>4</th>\n",
       "      <th>5</th>\n",
       "      <th>6</th>\n",
       "      <th>7</th>\n",
       "    </tr>\n",
       "  </thead>\n",
       "  <tbody>\n",
       "    <tr>\n",
       "      <th>0</th>\n",
       "      <td>21</td>\n",
       "      <td>22</td>\n",
       "      <td>23</td>\n",
       "      <td>24</td>\n",
       "      <td>25</td>\n",
       "      <td>26</td>\n",
       "      <td>27</td>\n",
       "      <td>28</td>\n",
       "    </tr>\n",
       "    <tr>\n",
       "      <th>1</th>\n",
       "      <td>29</td>\n",
       "      <td>30</td>\n",
       "      <td>31</td>\n",
       "      <td>32</td>\n",
       "      <td>33</td>\n",
       "      <td>34</td>\n",
       "      <td>35</td>\n",
       "      <td>36</td>\n",
       "    </tr>\n",
       "    <tr>\n",
       "      <th>2</th>\n",
       "      <td>37</td>\n",
       "      <td>38</td>\n",
       "      <td>39</td>\n",
       "      <td>40</td>\n",
       "      <td>41</td>\n",
       "      <td>42</td>\n",
       "      <td>43</td>\n",
       "      <td>44</td>\n",
       "    </tr>\n",
       "    <tr>\n",
       "      <th>3</th>\n",
       "      <td>45</td>\n",
       "      <td>46</td>\n",
       "      <td>47</td>\n",
       "      <td>48</td>\n",
       "      <td>49</td>\n",
       "      <td>50</td>\n",
       "      <td>51</td>\n",
       "      <td>52</td>\n",
       "    </tr>\n",
       "    <tr>\n",
       "      <th>4</th>\n",
       "      <td>53</td>\n",
       "      <td>54</td>\n",
       "      <td>55</td>\n",
       "      <td>56</td>\n",
       "      <td>57</td>\n",
       "      <td>58</td>\n",
       "      <td>59</td>\n",
       "      <td>60</td>\n",
       "    </tr>\n",
       "    <tr>\n",
       "      <th>5</th>\n",
       "      <td>61</td>\n",
       "      <td>62</td>\n",
       "      <td>63</td>\n",
       "      <td>64</td>\n",
       "      <td>65</td>\n",
       "      <td>66</td>\n",
       "      <td>67</td>\n",
       "      <td>68</td>\n",
       "    </tr>\n",
       "    <tr>\n",
       "      <th>6</th>\n",
       "      <td>69</td>\n",
       "      <td>70</td>\n",
       "      <td>71</td>\n",
       "      <td>72</td>\n",
       "      <td>73</td>\n",
       "      <td>74</td>\n",
       "      <td>75</td>\n",
       "      <td>76</td>\n",
       "    </tr>\n",
       "    <tr>\n",
       "      <th>7</th>\n",
       "      <td>77</td>\n",
       "      <td>78</td>\n",
       "      <td>79</td>\n",
       "      <td>80</td>\n",
       "      <td>81</td>\n",
       "      <td>82</td>\n",
       "      <td>83</td>\n",
       "      <td>84</td>\n",
       "    </tr>\n",
       "  </tbody>\n",
       "</table>\n",
       "</div>"
      ],
      "text/plain": [
       "    0   1   2   3   4   5   6   7\n",
       "0  21  22  23  24  25  26  27  28\n",
       "1  29  30  31  32  33  34  35  36\n",
       "2  37  38  39  40  41  42  43  44\n",
       "3  45  46  47  48  49  50  51  52\n",
       "4  53  54  55  56  57  58  59  60\n",
       "5  61  62  63  64  65  66  67  68\n",
       "6  69  70  71  72  73  74  75  76\n",
       "7  77  78  79  80  81  82  83  84"
      ]
     },
     "execution_count": 655,
     "metadata": {},
     "output_type": "execute_result"
    }
   ],
   "source": [
    "# 4. Output -- don't print -- the df:\n",
    "print(chessboard_df.shape, chessboard_df.ndim) # (8, 8) 2\n",
    "chessboard_df"
   ]
  },
  {
   "cell_type": "code",
   "execution_count": 656,
   "metadata": {
    "executionInfo": {
     "elapsed": 11,
     "status": "ok",
     "timestamp": 1741713717668,
     "user": {
      "displayName": "Brian McClain",
      "userId": "08063899147261234403"
     },
     "user_tz": 240
    },
    "id": "Hb_698-wf70d"
   },
   "outputs": [
    {
     "data": {
      "image/png": "[encoded data removed]",
      "text/plain": [
       "<IPython.core.display.Image object>"
      ]
     },
     "execution_count": 656,
     "metadata": {},
     "output_type": "execute_result"
    }
   ],
   "source": [
    "Image(\"https://static.guides.co/a/uploads/1194%2F500px-Chess_board_blank.svg.png\")"
   ]
  },
  {
   "cell_type": "code",
   "execution_count": 660,
   "metadata": {
    "executionInfo": {
     "elapsed": 0,
     "status": "ok",
     "timestamp": 1741713717671,
     "user": {
      "displayName": "Brian McClain",
      "userId": "08063899147261234403"
     },
     "user_tz": 240
    },
    "id": "Vi9c2kDQOVKv"
   },
   "outputs": [
    {
     "data": {
      "text/html": [
       "<div>\n",
       "<style scoped>\n",
       "    .dataframe tbody tr th:only-of-type {\n",
       "        vertical-align: middle;\n",
       "    }\n",
       "\n",
       "    .dataframe tbody tr th {\n",
       "        vertical-align: top;\n",
       "    }\n",
       "\n",
       "    .dataframe thead th {\n",
       "        text-align: right;\n",
       "    }\n",
       "</style>\n",
       "<table border=\"1\" class=\"dataframe\">\n",
       "  <thead>\n",
       "    <tr style=\"text-align: right;\">\n",
       "      <th></th>\n",
       "      <th>a</th>\n",
       "      <th>b</th>\n",
       "      <th>c</th>\n",
       "      <th>d</th>\n",
       "      <th>e</th>\n",
       "      <th>f</th>\n",
       "      <th>g</th>\n",
       "      <th>h</th>\n",
       "    </tr>\n",
       "  </thead>\n",
       "  <tbody>\n",
       "    <tr>\n",
       "      <th>8</th>\n",
       "      <td>21</td>\n",
       "      <td>22</td>\n",
       "      <td>23</td>\n",
       "      <td>24</td>\n",
       "      <td>25</td>\n",
       "      <td>26</td>\n",
       "      <td>27</td>\n",
       "      <td>28</td>\n",
       "    </tr>\n",
       "    <tr>\n",
       "      <th>7</th>\n",
       "      <td>29</td>\n",
       "      <td>30</td>\n",
       "      <td>31</td>\n",
       "      <td>32</td>\n",
       "      <td>33</td>\n",
       "      <td>34</td>\n",
       "      <td>35</td>\n",
       "      <td>36</td>\n",
       "    </tr>\n",
       "    <tr>\n",
       "      <th>6</th>\n",
       "      <td>37</td>\n",
       "      <td>38</td>\n",
       "      <td>39</td>\n",
       "      <td>40</td>\n",
       "      <td>41</td>\n",
       "      <td>42</td>\n",
       "      <td>43</td>\n",
       "      <td>44</td>\n",
       "    </tr>\n",
       "    <tr>\n",
       "      <th>5</th>\n",
       "      <td>45</td>\n",
       "      <td>46</td>\n",
       "      <td>47</td>\n",
       "      <td>48</td>\n",
       "      <td>49</td>\n",
       "      <td>50</td>\n",
       "      <td>51</td>\n",
       "      <td>52</td>\n",
       "    </tr>\n",
       "    <tr>\n",
       "      <th>4</th>\n",
       "      <td>53</td>\n",
       "      <td>54</td>\n",
       "      <td>55</td>\n",
       "      <td>56</td>\n",
       "      <td>57</td>\n",
       "      <td>58</td>\n",
       "      <td>59</td>\n",
       "      <td>60</td>\n",
       "    </tr>\n",
       "    <tr>\n",
       "      <th>3</th>\n",
       "      <td>61</td>\n",
       "      <td>62</td>\n",
       "      <td>63</td>\n",
       "      <td>64</td>\n",
       "      <td>65</td>\n",
       "      <td>66</td>\n",
       "      <td>67</td>\n",
       "      <td>68</td>\n",
       "    </tr>\n",
       "    <tr>\n",
       "      <th>2</th>\n",
       "      <td>69</td>\n",
       "      <td>70</td>\n",
       "      <td>71</td>\n",
       "      <td>72</td>\n",
       "      <td>73</td>\n",
       "      <td>74</td>\n",
       "      <td>75</td>\n",
       "      <td>76</td>\n",
       "    </tr>\n",
       "    <tr>\n",
       "      <th>1</th>\n",
       "      <td>77</td>\n",
       "      <td>78</td>\n",
       "      <td>79</td>\n",
       "      <td>80</td>\n",
       "      <td>81</td>\n",
       "      <td>82</td>\n",
       "      <td>83</td>\n",
       "      <td>84</td>\n",
       "    </tr>\n",
       "  </tbody>\n",
       "</table>\n",
       "</div>"
      ],
      "text/plain": [
       "    a   b   c   d   e   f   g   h\n",
       "8  21  22  23  24  25  26  27  28\n",
       "7  29  30  31  32  33  34  35  36\n",
       "6  37  38  39  40  41  42  43  44\n",
       "5  45  46  47  48  49  50  51  52\n",
       "4  53  54  55  56  57  58  59  60\n",
       "3  61  62  63  64  65  66  67  68\n",
       "2  69  70  71  72  73  74  75  76\n",
       "1  77  78  79  80  81  82  83  84"
      ]
     },
     "execution_count": 660,
     "metadata": {},
     "output_type": "execute_result"
    }
   ],
   "source": [
    "# 5. Make the chessboard df again, but this time\n",
    "#.   supply column headers as letters from a-h\n",
    "#    also, number the rows from 1-8 in descending order\n",
    "col_names = ['a','b','c','d','e','f','g','h']\n",
    "row_names = [8,7,6,5,4,3,2,1]\n",
    "\n",
    "chessboard_df = pd.DataFrame(chessboard_arr,\n",
    "        columns=col_names, index=row_names)\n",
    "\n",
    "chessboard_df"
   ]
  },
  {
   "cell_type": "code",
   "execution_count": 671,
   "metadata": {
    "colab": {
     "base_uri": "https://localhost:8080/"
    },
    "executionInfo": {
     "elapsed": 3,
     "status": "ok",
     "timestamp": 1741713717671,
     "user": {
      "displayName": "Brian McClain",
      "userId": "08063899147261234403"
     },
     "user_tz": 240
    },
    "id": "PihIyE_3iGxK",
    "outputId": "fa526abe-779a-4fa7-a1df-bfb9281db479"
   },
   "outputs": [
    {
     "name": "stdout",
     "output_type": "stream",
     "text": [
      "[8, 7, 6, 5, 4, 3, 2, 1]\n"
     ]
    }
   ],
   "source": [
    "# challenge: make this list w code: [8,7,6,5,4,3,2,1]\n",
    "row_names_dynamic = list(range(8,0,-1))\n",
    "print(row_names_dynamic)"
   ]
  },
  {
   "cell_type": "markdown",
   "metadata": {},
   "source": [
    "#### **string module**.\n",
    "```python\n",
    "import string\n",
    "```\n",
    "The string module is for dynamically generating sequences of letters and digits:\n",
    "\n",
    "string.ascii_lowercase → 'abcdefghijklmnopqrstuvwxyz'\n",
    "\n",
    "string.ascii_uppercase → 'ABCDEFGHIJKLMNOPQRSTUVWXYZ'\n",
    "\n",
    "string.ascii_letters → lowercase + uppercase (ascii_lowercase + ascii_uppercase)\n",
    "\n",
    "string.digits → '0123456789'"
   ]
  },
  {
   "cell_type": "code",
   "execution_count": 672,
   "metadata": {},
   "outputs": [
    {
     "name": "stdout",
     "output_type": "stream",
     "text": [
      "['a', 'b', 'c', 'd', 'e', 'f', 'g', 'h']\n"
     ]
    }
   ],
   "source": [
    "# 7. Make the chessboard df again, but this time\n",
    "#.   supply column headers as letters from a-h dynamically\n",
    "# list('apple') => ['a','p','p','l','e']\n",
    "col_names_dynamic = list(string.ascii_lowercase[:8])\n",
    "print(col_names_dynamic)\n",
    "#.   using the string.lower_case (or string.letters)"
   ]
  },
  {
   "cell_type": "code",
   "execution_count": 673,
   "metadata": {},
   "outputs": [
    {
     "data": {
      "text/html": [
       "<div>\n",
       "<style scoped>\n",
       "    .dataframe tbody tr th:only-of-type {\n",
       "        vertical-align: middle;\n",
       "    }\n",
       "\n",
       "    .dataframe tbody tr th {\n",
       "        vertical-align: top;\n",
       "    }\n",
       "\n",
       "    .dataframe thead th {\n",
       "        text-align: right;\n",
       "    }\n",
       "</style>\n",
       "<table border=\"1\" class=\"dataframe\">\n",
       "  <thead>\n",
       "    <tr style=\"text-align: right;\">\n",
       "      <th></th>\n",
       "      <th>a</th>\n",
       "      <th>b</th>\n",
       "      <th>c</th>\n",
       "      <th>d</th>\n",
       "      <th>e</th>\n",
       "      <th>f</th>\n",
       "      <th>g</th>\n",
       "      <th>h</th>\n",
       "    </tr>\n",
       "  </thead>\n",
       "  <tbody>\n",
       "    <tr>\n",
       "      <th>8</th>\n",
       "      <td>21</td>\n",
       "      <td>22</td>\n",
       "      <td>23</td>\n",
       "      <td>24</td>\n",
       "      <td>25</td>\n",
       "      <td>26</td>\n",
       "      <td>27</td>\n",
       "      <td>28</td>\n",
       "    </tr>\n",
       "    <tr>\n",
       "      <th>7</th>\n",
       "      <td>29</td>\n",
       "      <td>30</td>\n",
       "      <td>31</td>\n",
       "      <td>32</td>\n",
       "      <td>33</td>\n",
       "      <td>34</td>\n",
       "      <td>35</td>\n",
       "      <td>36</td>\n",
       "    </tr>\n",
       "    <tr>\n",
       "      <th>6</th>\n",
       "      <td>37</td>\n",
       "      <td>38</td>\n",
       "      <td>39</td>\n",
       "      <td>40</td>\n",
       "      <td>41</td>\n",
       "      <td>42</td>\n",
       "      <td>43</td>\n",
       "      <td>44</td>\n",
       "    </tr>\n",
       "    <tr>\n",
       "      <th>5</th>\n",
       "      <td>45</td>\n",
       "      <td>46</td>\n",
       "      <td>47</td>\n",
       "      <td>48</td>\n",
       "      <td>49</td>\n",
       "      <td>50</td>\n",
       "      <td>51</td>\n",
       "      <td>52</td>\n",
       "    </tr>\n",
       "    <tr>\n",
       "      <th>4</th>\n",
       "      <td>53</td>\n",
       "      <td>54</td>\n",
       "      <td>55</td>\n",
       "      <td>56</td>\n",
       "      <td>57</td>\n",
       "      <td>58</td>\n",
       "      <td>59</td>\n",
       "      <td>60</td>\n",
       "    </tr>\n",
       "    <tr>\n",
       "      <th>3</th>\n",
       "      <td>61</td>\n",
       "      <td>62</td>\n",
       "      <td>63</td>\n",
       "      <td>64</td>\n",
       "      <td>65</td>\n",
       "      <td>66</td>\n",
       "      <td>67</td>\n",
       "      <td>68</td>\n",
       "    </tr>\n",
       "    <tr>\n",
       "      <th>2</th>\n",
       "      <td>69</td>\n",
       "      <td>70</td>\n",
       "      <td>71</td>\n",
       "      <td>72</td>\n",
       "      <td>73</td>\n",
       "      <td>74</td>\n",
       "      <td>75</td>\n",
       "      <td>76</td>\n",
       "    </tr>\n",
       "    <tr>\n",
       "      <th>1</th>\n",
       "      <td>77</td>\n",
       "      <td>78</td>\n",
       "      <td>79</td>\n",
       "      <td>80</td>\n",
       "      <td>81</td>\n",
       "      <td>82</td>\n",
       "      <td>83</td>\n",
       "      <td>84</td>\n",
       "    </tr>\n",
       "  </tbody>\n",
       "</table>\n",
       "</div>"
      ],
      "text/plain": [
       "    a   b   c   d   e   f   g   h\n",
       "8  21  22  23  24  25  26  27  28\n",
       "7  29  30  31  32  33  34  35  36\n",
       "6  37  38  39  40  41  42  43  44\n",
       "5  45  46  47  48  49  50  51  52\n",
       "4  53  54  55  56  57  58  59  60\n",
       "3  61  62  63  64  65  66  67  68\n",
       "2  69  70  71  72  73  74  75  76\n",
       "1  77  78  79  80  81  82  83  84"
      ]
     },
     "execution_count": 673,
     "metadata": {},
     "output_type": "execute_result"
    }
   ],
   "source": [
    "chessboard_df = pd.DataFrame(chessboard_arr,\n",
    "                columns=col_names_dynamic,\n",
    "                index=row_names_dynamic)\n",
    "\n",
    "chessboard_df"
   ]
  },
  {
   "cell_type": "markdown",
   "metadata": {
    "id": "oFAMfWW4RKjr"
   },
   "source": [
    "\n",
    "### **df.iloc[row_index,col_index]**  \n",
    "gets a dataframe row as **series**.  \n",
    "The single square brackets indicate a 1D selection\n",
    "**iloc** stands for *integer location*"
   ]
  },
  {
   "cell_type": "code",
   "execution_count": 678,
   "metadata": {
    "colab": {
     "base_uri": "https://localhost:8080/"
    },
    "executionInfo": {
     "elapsed": 2,
     "status": "ok",
     "timestamp": 1741713717674,
     "user": {
      "displayName": "Brian McClain",
      "userId": "08063899147261234403"
     },
     "user_tz": 240
    },
    "id": "qqHESVaKQ5qs",
    "outputId": "9fcf5ff5-183b-4e26-eb06-301307f6b28a"
   },
   "outputs": [
    {
     "name": "stdout",
     "output_type": "stream",
     "text": [
      "(8,)\n",
      "\n",
      "a    21\n",
      "b    22\n",
      "c    23\n",
      "d    24\n",
      "e    25\n",
      "f    26\n",
      "g    27\n",
      "h    28\n",
      "Name: 8, dtype: int64\n",
      "\n",
      "List: [21, 22, 23, 24, 25, 26, 27, 28]\n",
      "\n",
      "Dict: {'a': 21, 'b': 22, 'c': 23, 'd': 24, 'e': 25, 'f': 26, 'g': 27, 'h': 28}\n"
     ]
    }
   ],
   "source": [
    "# 8 Get the first row as a Series (1D vector)\n",
    "first_row_series = chessboard_df.iloc[0]\n",
    "print(first_row_series.shape) # (8,) 1\n",
    "print()\n",
    "print(first_row_series)\n",
    "print()\n",
    "print(\"List:\", list(first_row_series))\n",
    "print()\n",
    "print(\"Dict:\", dict(first_row_series))\n"
   ]
  },
  {
   "cell_type": "code",
   "execution_count": 537,
   "metadata": {
    "colab": {
     "base_uri": "https://localhost:8080/"
    },
    "executionInfo": {
     "elapsed": 15,
     "status": "ok",
     "timestamp": 1741713717689,
     "user": {
      "displayName": "Brian McClain",
      "userId": "08063899147261234403"
     },
     "user_tz": 240
    },
    "id": "YGQV6P3Aj9Q6",
    "outputId": "bf9c10b3-3a03-41d7-e9df-b3264e291e2f"
   },
   "outputs": [
    {
     "name": "stdout",
     "output_type": "stream",
     "text": [
      "\n"
     ]
    }
   ],
   "source": [
    "# 9. Get the first row as its own DataFrame (matrix 2D): df.iloc[row_index,col_index] \n",
    "\n",
    "print() # (1, 8) 2\n"
   ]
  },
  {
   "cell_type": "code",
   "execution_count": 538,
   "metadata": {
    "colab": {
     "base_uri": "https://localhost:8080/"
    },
    "executionInfo": {
     "elapsed": 6,
     "status": "ok",
     "timestamp": 1741713717713,
     "user": {
      "displayName": "Brian McClain",
      "userId": "08063899147261234403"
     },
     "user_tz": 240
    },
    "id": "F1XS_qwUSFLL",
    "outputId": "3c29f3f7-b301-4e99-b21b-2e8c5dfee02e"
   },
   "outputs": [
    {
     "name": "stdout",
     "output_type": "stream",
     "text": [
      "\n"
     ]
    }
   ],
   "source": [
    "# 10. Get the last row as its own df: df.iloc[row_index,col_index]\n",
    "\n",
    "print() # (1, 8)\n"
   ]
  },
  {
   "cell_type": "code",
   "execution_count": 539,
   "metadata": {
    "colab": {
     "base_uri": "https://localhost:8080/"
    },
    "executionInfo": {
     "elapsed": 1,
     "status": "ok",
     "timestamp": 1741713717715,
     "user": {
      "displayName": "Brian McClain",
      "userId": "08063899147261234403"
     },
     "user_tz": 240
    },
    "id": "mF-TijyhSPNx",
    "outputId": "ad895b9b-a91c-429a-cd1b-01c17c6aba7d"
   },
   "outputs": [
    {
     "name": "stdout",
     "output_type": "stream",
     "text": [
      "\n"
     ]
    }
   ],
   "source": [
    "# 11. Make new df of middle 4 rows (all cols)\n",
    "# so, all but first and last 2 rows:\n",
    "# df.iloc[row_start_index:row_end_index_excl,start_col_index:end_col_index_excl]\n",
    "# [row_range,:] means row range, all columns\n",
    "# [:,col_range] means all rows, col range\n",
    "\n",
    "print() # (4, 8)\n",
    "\n"
   ]
  },
  {
   "cell_type": "code",
   "execution_count": 540,
   "metadata": {
    "colab": {
     "base_uri": "https://localhost:8080/"
    },
    "executionInfo": {
     "elapsed": 5,
     "status": "ok",
     "timestamp": 1741713717720,
     "user": {
      "displayName": "Brian McClain",
      "userId": "08063899147261234403"
     },
     "user_tz": 240
    },
    "id": "j6mqwlswnUub",
    "outputId": "9f885929-5249-43ed-8a5b-ce6344acd585"
   },
   "outputs": [
    {
     "name": "stdout",
     "output_type": "stream",
     "text": [
      "\n"
     ]
    }
   ],
   "source": [
    "# 12. Challenge: Make new df of middle 4 rows middle 4 cols\n",
    "\n",
    "print() # (4,4) 2\n",
    "\n"
   ]
  },
  {
   "cell_type": "code",
   "execution_count": 541,
   "metadata": {
    "executionInfo": {
     "elapsed": 13,
     "status": "ok",
     "timestamp": 1741713717734,
     "user": {
      "displayName": "Brian McClain",
      "userId": "08063899147261234403"
     },
     "user_tz": 240
    },
    "id": "jA58A5UApMG2"
   },
   "outputs": [],
   "source": [
    "# 13. Challenge: make a new df called ttt_ur_df\n",
    "# as tic-tac-toe board using upper right 3x3 corner of the chessboard\n",
    "# chessboard_df.iloc[first_3_rows,last_3_cols]\n"
   ]
  },
  {
   "cell_type": "code",
   "execution_count": 542,
   "metadata": {
    "executionInfo": {
     "elapsed": 1,
     "status": "ok",
     "timestamp": 1741713717735,
     "user": {
      "displayName": "Brian McClain",
      "userId": "08063899147261234403"
     },
     "user_tz": 240
    },
    "id": "USlfb4RBoXm6"
   },
   "outputs": [],
   "source": [
    "# 14. Make a DF of every other row using step (2)\n"
   ]
  },
  {
   "cell_type": "code",
   "execution_count": 543,
   "metadata": {
    "executionInfo": {
     "elapsed": 0,
     "status": "ok",
     "timestamp": 1741713717735,
     "user": {
      "displayName": "Brian McClain",
      "userId": "08063899147261234403"
     },
     "user_tz": 240
    },
    "id": "ZpXHPjnRojn_"
   },
   "outputs": [],
   "source": [
    "# 15. Challenge: Make a DF of every other row AND every other col?\n",
    "# 4x4 : rows: 8,6,4,2 cols: a c e g\n",
    "# ever\n",
    " "
   ]
  },
  {
   "cell_type": "code",
   "execution_count": 544,
   "metadata": {
    "executionInfo": {
     "elapsed": 1,
     "status": "ok",
     "timestamp": 1741713717758,
     "user": {
      "displayName": "Brian McClain",
      "userId": "08063899147261234403"
     },
     "user_tz": 240
    },
    "id": "KCKuTRVsSnpp"
   },
   "outputs": [],
   "source": [
    "# 16. Set the middle 4 rows, all squares, to empty spaces\n",
    "# (like a chessboard at start of game)\n"
   ]
  },
  {
   "cell_type": "code",
   "execution_count": 545,
   "metadata": {
    "executionInfo": {
     "elapsed": 12,
     "status": "ok",
     "timestamp": 1741713717770,
     "user": {
      "displayName": "Brian McClain",
      "userId": "08063899147261234403"
     },
     "user_tz": 240
    },
    "id": "7_KV7CrhTAFP"
   },
   "outputs": [],
   "source": [
    "# che"
   ]
  },
  {
   "cell_type": "code",
   "execution_count": 546,
   "metadata": {
    "executionInfo": {
     "elapsed": 0,
     "status": "ok",
     "timestamp": 1741713717771,
     "user": {
      "displayName": "Brian McClain",
      "userId": "08063899147261234403"
     },
     "user_tz": 240
    },
    "id": "owqvdSZWTcSm"
   },
   "outputs": [],
   "source": [
    "# 17. Set the pawn rows to \"P\"\n",
    "# (like a chessboard at start of game)\n",
    "# for rows that are not contiguous (not consecutive)\n",
    "# specify rows as a list, in this case [1,6]\n",
    "# che"
   ]
  },
  {
   "cell_type": "code",
   "execution_count": 547,
   "metadata": {
    "executionInfo": {
     "elapsed": 0,
     "status": "ok",
     "timestamp": 1741713717772,
     "user": {
      "displayName": "Brian McClain",
      "userId": "08063899147261234403"
     },
     "user_tz": 240
    },
    "id": "h5AQVNI0qJL2"
   },
   "outputs": [],
   "source": [
    "# che"
   ]
  },
  {
   "cell_type": "code",
   "execution_count": 548,
   "metadata": {
    "executionInfo": {
     "elapsed": 20,
     "status": "ok",
     "timestamp": 1741713717792,
     "user": {
      "displayName": "Brian McClain",
      "userId": "08063899147261234403"
     },
     "user_tz": 240
    },
    "id": "kEyqSx3FT_vE"
   },
   "outputs": [],
   "source": [
    "# 18. Set the 4 corners to \"R\" (for rook)\n",
    "# (like a chessboard at start of game)\n",
    "# che"
   ]
  },
  {
   "cell_type": "code",
   "execution_count": 549,
   "metadata": {
    "executionInfo": {
     "elapsed": 1,
     "status": "ok",
     "timestamp": 1741713717805,
     "user": {
      "displayName": "Brian McClain",
      "userId": "08063899147261234403"
     },
     "user_tz": 240
    },
    "id": "CTFwNfqLUT6M"
   },
   "outputs": [],
   "source": [
    "# 19. Set the Knights, as \"Kn\", next to each rook\n",
    "# (like a chessboard at start of game)\n",
    "# che\n",
    " "
   ]
  },
  {
   "cell_type": "code",
   "execution_count": 550,
   "metadata": {
    "executionInfo": {
     "elapsed": 1,
     "status": "ok",
     "timestamp": 1741713717806,
     "user": {
      "displayName": "Brian McClain",
      "userId": "08063899147261234403"
     },
     "user_tz": 240
    },
    "id": "LULBPBmzU1D_"
   },
   "outputs": [],
   "source": [
    "# 20. Clallenge: set the Bishops, as \"B\", next to each Knight\n",
    "# (like a chessboard at start of game)\n",
    "# che"
   ]
  },
  {
   "cell_type": "code",
   "execution_count": 551,
   "metadata": {
    "executionInfo": {
     "elapsed": 0,
     "status": "ok",
     "timestamp": 1741713717806,
     "user": {
      "displayName": "Brian McClain",
      "userId": "08063899147261234403"
     },
     "user_tz": 240
    },
    "id": "Xgs9HMTvu2X3"
   },
   "outputs": [],
   "source": [
    "# 21. Clallenge: set the Kings and Queens to \"K\" and \"Q\":\n",
    "# che"
   ]
  },
  {
   "cell_type": "markdown",
   "metadata": {
    "id": "GV7_Xa3NYNZo"
   },
   "source": [
    "**Starting with a new, empty DataFrame**.  \n",
    "\n",
    "- You can make a new, empty dataframe, and then assign the data after the fact.\n",
    "- The data can be assigned as lists, one per column.\n",
    "- The list length results in that many rows in the dataframe.\n",
    "- To avoid ragged rows problem, make sure all lists are of equal length"
   ]
  },
  {
   "cell_type": "code",
   "execution_count": 552,
   "metadata": {
    "executionInfo": {
     "elapsed": 1,
     "status": "ok",
     "timestamp": 1741713717818,
     "user": {
      "displayName": "Brian McClain",
      "userId": "08063899147261234403"
     },
     "user_tz": 240
    },
    "id": "8FU1EvcsZmt5"
   },
   "outputs": [],
   "source": [
    "# 22. Using the provided raw data, declare 4 lists of 4 items each\n",
    "# \"T-Bone Steak\",\"Pizza\",\"Hamburger\",\"Garden Salad\"\n",
    "# 49.99, 19.99, 15.75, 12.99\n",
    "# 700, 500, 600, 350\n",
    "# False, False, False, True"
   ]
  },
  {
   "cell_type": "code",
   "execution_count": 553,
   "metadata": {
    "executionInfo": {
     "elapsed": 0,
     "status": "ok",
     "timestamp": 1741713717818,
     "user": {
      "displayName": "Brian McClain",
      "userId": "08063899147261234403"
     },
     "user_tz": 240
    },
    "id": "SADsAe-EYfzn"
   },
   "outputs": [],
   "source": [
    "# 23. Declare a new empty dataframe\n",
    "# fo"
   ]
  },
  {
   "cell_type": "code",
   "execution_count": 554,
   "metadata": {
    "executionInfo": {
     "elapsed": 0,
     "status": "ok",
     "timestamp": 1741713717819,
     "user": {
      "displayName": "Brian McClain",
      "userId": "08063899147261234403"
     },
     "user_tz": 240
    },
    "id": "5__Q2viubkvh"
   },
   "outputs": [],
   "source": [
    "# 24. Declare columns for the DF, to do so, put df[\"new col\"] and assign list; length of lists must all be equal and must equal number of rows\n",
    "# food_df"
   ]
  },
  {
   "cell_type": "code",
   "execution_count": 555,
   "metadata": {
    "colab": {
     "base_uri": "https://localhost:8080/"
    },
    "executionInfo": {
     "elapsed": 7,
     "status": "ok",
     "timestamp": 1741713717826,
     "user": {
      "displayName": "Brian McClain",
      "userId": "08063899147261234403"
     },
     "user_tz": 240
    },
    "id": "yMdKiKHNcJAz",
    "outputId": "d2e4baa2-bc78-44c7-cd15-02104c773fc3"
   },
   "outputs": [
    {
     "name": "stdout",
     "output_type": "stream",
     "text": [
      "\n"
     ]
    }
   ],
   "source": [
    "print()\n",
    "# foo"
   ]
  },
  {
   "cell_type": "code",
   "execution_count": 556,
   "metadata": {
    "colab": {
     "base_uri": "https://localhost:8080/"
    },
    "executionInfo": {
     "elapsed": 39,
     "status": "ok",
     "timestamp": 1741713717865,
     "user": {
      "displayName": "Brian McClain",
      "userId": "08063899147261234403"
     },
     "user_tz": 240
    },
    "id": "VNkYwOked2r3",
    "outputId": "0ff35cab-a5f6-4a02-f4c9-0ea6bf311680"
   },
   "outputs": [
    {
     "name": "stdout",
     "output_type": "stream",
     "text": [
      "\n",
      "\n",
      "\n",
      "\n"
     ]
    }
   ],
   "source": [
    "# 25. Challenge: get the pizza row -- the result is a 1D Series\n",
    "# piz\n",
    "\n",
    "print() # (4,) 1\n",
    "print()\n",
    "\n",
    "# make a list from the series -- this purges the col names, leaving just the values\n",
    "# piz\n",
    "print() # ['Pizza', 19.99, 500, False]\n",
    "\n",
    "# make a dict from the series -- this uses the col names as the keys\n",
    "# piz\n",
    "print() # {'Item': 'Pizza', 'Price': 19.99, 'Cals': 500, 'Vegan': False}"
   ]
  },
  {
   "cell_type": "markdown",
   "metadata": {
    "id": "AP7XIsKJhXuZ"
   },
   "source": [
    "### **df.iloc[[num]]**  \n",
    "- To get a dataframe slice as a 2D dataframe--not just as a 1D series--use iloc with double square brackets.  \n",
    "- The **[ [ num ] ]** indicate a 2D selection"
   ]
  },
  {
   "cell_type": "code",
   "execution_count": 557,
   "metadata": {
    "colab": {
     "base_uri": "https://localhost:8080/"
    },
    "executionInfo": {
     "elapsed": 2,
     "status": "ok",
     "timestamp": 1741713717867,
     "user": {
      "displayName": "Brian McClain",
      "userId": "08063899147261234403"
     },
     "user_tz": 240
    },
    "id": "j2z3MNz_g1Jo",
    "outputId": "13079ab7-a24a-4bab-ced6-97a5869d955f"
   },
   "outputs": [
    {
     "name": "stdout",
     "output_type": "stream",
     "text": [
      "\n"
     ]
    }
   ],
   "source": [
    "# 26. Get the pizza row using .iloc -- BUT as a 2D DataFrame (1,4)\n",
    "# the way to go from series to df is to use double [[]]\n",
    "# pizza_df = food_df.iloc[[1]]\n",
    "# this way also works\n",
    "print() # (1,4) 2\n",
    "# pi"
   ]
  },
  {
   "cell_type": "markdown",
   "metadata": {
    "id": "OZq29EBShnaK"
   },
   "source": [
    "### **df.iloc[row,col]**\n",
    "To get an individual piece of data, look it up by row and column as you would in a Numpy array"
   ]
  },
  {
   "cell_type": "code",
   "execution_count": 558,
   "metadata": {
    "executionInfo": {
     "elapsed": 0,
     "status": "ok",
     "timestamp": 1741713717867,
     "user": {
      "displayName": "Brian McClain",
      "userId": "08063899147261234403"
     },
     "user_tz": 240
    },
    "id": "2_pFfu5Who6i"
   },
   "outputs": [],
   "source": [
    "# 27. Get the pizza row using .loc\n",
    "# food"
   ]
  },
  {
   "cell_type": "markdown",
   "metadata": {
    "id": "RetvuU9eiAqe"
   },
   "source": [
    "### **df.loc[row_name,col_name]** for selecting by names, rather than index numbers\n",
    "- **loc** stands for *location*\n",
    "- if the row names are the same as row index, use index number for rows"
   ]
  },
  {
   "cell_type": "code",
   "execution_count": 559,
   "metadata": {
    "executionInfo": {
     "elapsed": 0,
     "status": "ok",
     "timestamp": 1741713717868,
     "user": {
      "displayName": "Brian McClain",
      "userId": "08063899147261234403"
     },
     "user_tz": 240
    },
    "id": "Dri4KrZOitvW"
   },
   "outputs": [],
   "source": [
    "# 28. Using iloc, get the first 3 rows and first 3 cols of food_df:\n",
    "# (all cols except vegan):\n",
    "# food_"
   ]
  },
  {
   "cell_type": "code",
   "execution_count": 560,
   "metadata": {
    "executionInfo": {
     "elapsed": 0,
     "status": "ok",
     "timestamp": 1741713717869,
     "user": {
      "displayName": "Brian McClain",
      "userId": "08063899147261234403"
     },
     "user_tz": 240
    },
    "id": "_Hk8RFsmjfQJ"
   },
   "outputs": [],
   "source": [
    "# 29. Except same thing as above BUT using loc:\n",
    "# get the first 3 rows, first 3 cols\n",
    "# iloc is exclusive, but loc is inclusive, so just go to row 2\n",
    "# fo"
   ]
  },
  {
   "cell_type": "code",
   "execution_count": 561,
   "metadata": {
    "executionInfo": {
     "elapsed": 53,
     "status": "ok",
     "timestamp": 1741713717922,
     "user": {
      "displayName": "Brian McClain",
      "userId": "08063899147261234403"
     },
     "user_tz": 240
    },
    "id": "09xwA8mKmWug"
   },
   "outputs": [],
   "source": [
    "# 30. Using .iloc on food_df, get first 2 rows, first 2 cols\n",
    "# fo"
   ]
  },
  {
   "cell_type": "code",
   "execution_count": 562,
   "metadata": {
    "executionInfo": {
     "elapsed": 1,
     "status": "ok",
     "timestamp": 1741713717924,
     "user": {
      "displayName": "Brian McClain",
      "userId": "08063899147261234403"
     },
     "user_tz": 240
    },
    "id": "gd0OwYr5mxqT"
   },
   "outputs": [],
   "source": [
    "# 31. Do the .loc version of the above (first 2 rows, first 2 cols)\n",
    "# fo"
   ]
  },
  {
   "cell_type": "markdown",
   "metadata": {
    "id": "Tf3qmUfKoEnU"
   },
   "source": [
    "**selecting non-contiguous rows and non-contiguous columns**  \n",
    "- **df.iloc[[row_index,row_index],[col_index,col_index]]**\n",
    "- **df.loc[[row_name,row_name],[col_name,col_name]]**\n",
    "- pass in lists of row and column indexes"
   ]
  },
  {
   "cell_type": "code",
   "execution_count": 563,
   "metadata": {
    "executionInfo": {
     "elapsed": 1,
     "status": "ok",
     "timestamp": 1741713717925,
     "user": {
      "displayName": "Brian McClain",
      "userId": "08063899147261234403"
     },
     "user_tz": 240
    },
    "id": "T7cSQW7ynJ4i"
   },
   "outputs": [],
   "source": [
    "# 32. Using loc get first 2 rows, but non-contiguous cols: \"Item\" and \"Cals\"\n",
    "# foo"
   ]
  },
  {
   "cell_type": "code",
   "execution_count": 564,
   "metadata": {},
   "outputs": [],
   "source": [
    "# 33. Using iloc get first 2 rows, but non-contiguous cols: \"Item\" and \"Cals\"\n",
    "# fo"
   ]
  },
  {
   "cell_type": "code",
   "execution_count": 565,
   "metadata": {
    "executionInfo": {
     "elapsed": 0,
     "status": "ok",
     "timestamp": 1741713717925,
     "user": {
      "displayName": "Brian McClain",
      "userId": "08063899147261234403"
     },
     "user_tz": 240
    },
    "id": "fcy8JUpZoIkO"
   },
   "outputs": [],
   "source": [
    "# 34. Using loc get non-contiguous first and last rows, \"Item\" and \"Cals\" cols\n",
    "# foo"
   ]
  },
  {
   "cell_type": "code",
   "execution_count": 566,
   "metadata": {},
   "outputs": [],
   "source": [
    "# 35. Using iloc get non-contiguous first and last rows, \"Item\" and \"Cals\" cols\n",
    "# fo"
   ]
  },
  {
   "cell_type": "markdown",
   "metadata": {
    "id": "WPP8X8UhorJI"
   },
   "source": [
    "### **Selecting DataFrame rows by column value condition**\n",
    "**new_df = df[ df['col_name'] boolean_condition ]**\n",
    "- to select only rows where a specific column values meets a condition,  \n",
    "put the column and condition inside square brackets\n",
    "- the condition is expressed as a **boolean comparison (==, <, >, <=, >=, !=)**\n",
    "- every row where the column boolean comparison is **True** is included in the result"
   ]
  },
  {
   "cell_type": "code",
   "execution_count": 567,
   "metadata": {
    "executionInfo": {
     "elapsed": 0,
     "status": "ok",
     "timestamp": 1741713717925,
     "user": {
      "displayName": "Brian McClain",
      "userId": "08063899147261234403"
     },
     "user_tz": 240
    },
    "id": "Dj-HvlqnpOUo"
   },
   "outputs": [],
   "source": [
    "# 36. Get all food_df rows of max 500 cals\n",
    "# foo   "
   ]
  },
  {
   "cell_type": "code",
   "execution_count": 568,
   "metadata": {
    "executionInfo": {
     "elapsed": 0,
     "status": "ok",
     "timestamp": 1741713717926,
     "user": {
      "displayName": "Brian McClain",
      "userId": "08063899147261234403"
     },
     "user_tz": 240
    },
    "id": "g9G2tj4FpeIq"
   },
   "outputs": [],
   "source": [
    "# 37. Get only non-vegan food items:\n",
    "# food"
   ]
  },
  {
   "cell_type": "code",
   "execution_count": 569,
   "metadata": {},
   "outputs": [],
   "source": [
    "# 38. Use ~ tilda in front of ~df[\"col_name\"] condition\n",
    "# to get all rows where the condtion is False\n",
    "# get all NON-Vegan rows:\n",
    "# food"
   ]
  },
  {
   "cell_type": "markdown",
   "metadata": {
    "id": "Th_5BwQfqG70"
   },
   "source": [
    "**adding a new row to a dataframe**\n",
    "- **df.loc[num]** for location indicates a row number\n",
    "- specify the new next row number and set it equal to a list of values, one per column"
   ]
  },
  {
   "cell_type": "code",
   "execution_count": 570,
   "metadata": {
    "executionInfo": {
     "elapsed": 6,
     "status": "ok",
     "timestamp": 1741713717940,
     "user": {
      "displayName": "Brian McClain",
      "userId": "08063899147261234403"
     },
     "user_tz": 240
    },
    "id": "9gCwtt8oqXAg"
   },
   "outputs": [],
   "source": [
    "# 39. Make a new_item list to add to the food_df\n",
    "# \"Fruit Salad\", 13.50, 320, True"
   ]
  },
  {
   "cell_type": "code",
   "execution_count": 571,
   "metadata": {},
   "outputs": [
    {
     "name": "stdout",
     "output_type": "stream",
     "text": [
      "\n"
     ]
    }
   ],
   "source": [
    "print()\n",
    "# new_"
   ]
  },
  {
   "cell_type": "code",
   "execution_count": 572,
   "metadata": {
    "executionInfo": {
     "elapsed": 0,
     "status": "ok",
     "timestamp": 1741713717941,
     "user": {
      "displayName": "Brian McClain",
      "userId": "08063899147261234403"
     },
     "user_tz": 240
    },
    "id": "lR49ZX1Jqjz-"
   },
   "outputs": [],
   "source": [
    "# 40. Add the new item to the end of the food_df\n",
    "# foo"
   ]
  },
  {
   "cell_type": "code",
   "execution_count": 573,
   "metadata": {
    "executionInfo": {
     "elapsed": 0,
     "status": "ok",
     "timestamp": 1741713717941,
     "user": {
      "displayName": "Brian McClain",
      "userId": "08063899147261234403"
     },
     "user_tz": 240
    },
    "id": "rHr-U04Oq9iM"
   },
   "outputs": [],
   "source": [
    "# 41. Add Bison Burger to the df at next available row position\n",
    "# \"Bison Burger\", 18.50, 820, False\n",
    " "
   ]
  },
  {
   "cell_type": "code",
   "execution_count": 574,
   "metadata": {
    "executionInfo": {
     "elapsed": 0,
     "status": "ok",
     "timestamp": 1741713717942,
     "user": {
      "displayName": "Brian McClain",
      "userId": "08063899147261234403"
     },
     "user_tz": 240
    },
    "id": "WeotKEx_rbgZ"
   },
   "outputs": [],
   "source": [
    "# 42. Increase the new item price by $1 with += operator:\n",
    "# fo"
   ]
  },
  {
   "cell_type": "code",
   "execution_count": 575,
   "metadata": {
    "executionInfo": {
     "elapsed": 0,
     "status": "ok",
     "timestamp": 1741713717942,
     "user": {
      "displayName": "Brian McClain",
      "userId": "08063899147261234403"
     },
     "user_tz": 240
    },
    "id": "OVa9fhJ8rvTh"
   },
   "outputs": [],
   "source": [
    "# 43. Increase the Pizza calories by 10% (from 500 to 550)\n",
    "# foo"
   ]
  },
  {
   "cell_type": "code",
   "execution_count": 576,
   "metadata": {},
   "outputs": [],
   "source": [
    "# 44. Change name of steak to \"Ribeye Steak\"\n",
    "# foo"
   ]
  },
  {
   "cell_type": "markdown",
   "metadata": {
    "id": "OQvVIailsf2s"
   },
   "source": [
    "**len(df)** returns the number of rows in a dataframe.  \n",
    "- **len(df)** is more dynamic than hard-coding the row number\n",
    "- row indexing starts at 0, so the length of the df equals the next row index"
   ]
  },
  {
   "cell_type": "code",
   "execution_count": 577,
   "metadata": {
    "colab": {
     "base_uri": "https://localhost:8080/"
    },
    "executionInfo": {
     "elapsed": 3,
     "status": "ok",
     "timestamp": 1741713717947,
     "user": {
      "displayName": "Brian McClain",
      "userId": "08063899147261234403"
     },
     "user_tz": 240
    },
    "id": "Km3_9Fl1sls2",
    "outputId": "0245b9f8-9c3c-4574-8e51-18e7a1db4adc"
   },
   "outputs": [
    {
     "name": "stdout",
     "output_type": "stream",
     "text": [
      "num rows:\n"
     ]
    }
   ],
   "source": [
    "# 45. Add a new row to the food_df by dynaically using len(food_df)\n",
    "print('num rows:')\n",
    "# \"Caesar Salad\", 14.75, 580, False"
   ]
  },
  {
   "cell_type": "code",
   "execution_count": 578,
   "metadata": {
    "executionInfo": {
     "elapsed": 0,
     "status": "ok",
     "timestamp": 1741713717947,
     "user": {
      "displayName": "Brian McClain",
      "userId": "08063899147261234403"
     },
     "user_tz": 240
    },
    "id": "V4r528JQ82UA"
   },
   "outputs": [],
   "source": [
    "# 46. Get rid of last row:\n",
    "# foo"
   ]
  },
  {
   "cell_type": "code",
   "execution_count": 579,
   "metadata": {
    "executionInfo": {
     "elapsed": 0,
     "status": "ok",
     "timestamp": 1741713717948,
     "user": {
      "displayName": "Brian McClain",
      "userId": "08063899147261234403"
     },
     "user_tz": 240
    },
    "id": "j6ZifI2gs7d3"
   },
   "outputs": [],
   "source": [
    "# fo"
   ]
  },
  {
   "cell_type": "markdown",
   "metadata": {
    "id": "EoPUok14tTLX"
   },
   "source": [
    "**using a loop to add multiple rows to a df**\n",
    "- row data exists as list of lists\n",
    "- each list is one row: [Food, Price, Cal, Vegan]\n",
    "- iterate the list with a for loop\n",
    "- each time through the loop, make a new row at index equal to current df len"
   ]
  },
  {
   "cell_type": "code",
   "execution_count": 580,
   "metadata": {
    "executionInfo": {
     "elapsed": 0,
     "status": "ok",
     "timestamp": 1741713717948,
     "user": {
      "displayName": "Brian McClain",
      "userId": "08063899147261234403"
     },
     "user_tz": 240
    },
    "id": "aUAMFcIytf5I"
   },
   "outputs": [],
   "source": [
    "# 47. Make a list of lists of 3 new items to add to the food_df:\n",
    "# \"Chicken Salad\", 12.95, 700, False\n",
    "# \"Chef Salad\", 14.95, 600, False\n",
    "# \"Big Kahuna Burger\", 17.95, 1200, False"
   ]
  },
  {
   "cell_type": "code",
   "execution_count": 581,
   "metadata": {
    "executionInfo": {
     "elapsed": 0,
     "status": "ok",
     "timestamp": 1741713717949,
     "user": {
      "displayName": "Brian McClain",
      "userId": "08063899147261234403"
     },
     "user_tz": 240
    },
    "id": "A2IRTu6v_uBV"
   },
   "outputs": [],
   "source": [
    "# 48. Loop the new items, adding the current item\n",
    "# to the food_df each time as a new row \n",
    "# for"
   ]
  },
  {
   "cell_type": "code",
   "execution_count": 582,
   "metadata": {
    "executionInfo": {
     "elapsed": 0,
     "status": "ok",
     "timestamp": 1741713717949,
     "user": {
      "displayName": "Brian McClain",
      "userId": "08063899147261234403"
     },
     "user_tz": 240
    },
    "id": "_h1oaPq-AHIQ"
   },
   "outputs": [],
   "source": [
    "# fo"
   ]
  },
  {
   "cell_type": "markdown",
   "metadata": {},
   "source": [
    "### **Dynamic Look Up of Row by Value Condition** scenario: \n",
    "- \"Chef Salad\" to \"\"House Salad\" \n",
    "- rather than hard-code row 8, find row 8 as value condition\n",
    "    - **food_df[\"Item\"]==\"Chef Salad\"** is **True** for row 8 (only)\n",
    "    - **food_df.loc[food_df[\"Item\"]==\"Chef Salad\",\"Item\"] = \"House Salad\"**"
   ]
  },
  {
   "cell_type": "code",
   "execution_count": 583,
   "metadata": {
    "executionInfo": {
     "elapsed": 1,
     "status": "ok",
     "timestamp": 1741713717950,
     "user": {
      "displayName": "Brian McClain",
      "userId": "08063899147261234403"
     },
     "user_tz": 240
    },
    "id": "0ZS-tcTUbKca"
   },
   "outputs": [],
   "source": [
    "# 49. Change \"Chef Salad\" to \"House Salad\"\n",
    "# rather than hard-code the row number (8), better would be to\n",
    "# dynamically look up the row w the \"Chef Salad\"\n",
    "# to to this, put a boolean for the row number:\n",
    "# foo"
   ]
  },
  {
   "cell_type": "code",
   "execution_count": 584,
   "metadata": {
    "executionInfo": {
     "elapsed": 0,
     "status": "ok",
     "timestamp": 1741713717960,
     "user": {
      "displayName": "Brian McClain",
      "userId": "08063899147261234403"
     },
     "user_tz": 240
    },
    "id": "kgzW-FBiAy0Z"
   },
   "outputs": [],
   "source": [
    "# foo"
   ]
  },
  {
   "cell_type": "code",
   "execution_count": 585,
   "metadata": {
    "executionInfo": {
     "elapsed": 0,
     "status": "ok",
     "timestamp": 1741713717969,
     "user": {
      "displayName": "Brian McClain",
      "userId": "08063899147261234403"
     },
     "user_tz": 240
    },
    "id": "aIV3AEKzuMa1"
   },
   "outputs": [],
   "source": [
    "# 50. Get just items with price of 15+:\n",
    "# foo"
   ]
  },
  {
   "cell_type": "code",
   "execution_count": 586,
   "metadata": {
    "executionInfo": {
     "elapsed": 1,
     "status": "ok",
     "timestamp": 1741713717971,
     "user": {
      "displayName": "Brian McClain",
      "userId": "08063899147261234403"
     },
     "user_tz": 240
    },
    "id": "VHrJiXDJdU8D"
   },
   "outputs": [],
   "source": [
    "# 52. Get stats on numeric columns\n",
    "# fo"
   ]
  },
  {
   "cell_type": "code",
   "execution_count": 587,
   "metadata": {},
   "outputs": [],
   "source": [
    "# food"
   ]
  },
  {
   "cell_type": "markdown",
   "metadata": {
    "id": "V6Zk8AFFdjky"
   },
   "source": [
    "### **df.at[row_name,col_name]** alternative to .loc\n",
    "### **df.iat[row_index,col_index]** alternative to .iloc"
   ]
  },
  {
   "cell_type": "code",
   "execution_count": 588,
   "metadata": {
    "executionInfo": {
     "elapsed": 0,
     "status": "ok",
     "timestamp": 1741713717971,
     "user": {
      "displayName": "Brian McClain",
      "userId": "08063899147261234403"
     },
     "user_tz": 240
    },
    "id": "XVbYXb58duaw"
   },
   "outputs": [],
   "source": [
    "# foo\n"
   ]
  },
  {
   "cell_type": "code",
   "execution_count": 589,
   "metadata": {
    "executionInfo": {
     "elapsed": 0,
     "status": "ok",
     "timestamp": 1741713717971,
     "user": {
      "displayName": "Brian McClain",
      "userId": "08063899147261234403"
     },
     "user_tz": 240
    },
    "id": "7Pu6DhE1D12l"
   },
   "outputs": [],
   "source": [
    "# fo"
   ]
  },
  {
   "cell_type": "code",
   "execution_count": 590,
   "metadata": {
    "executionInfo": {
     "elapsed": 7,
     "status": "ok",
     "timestamp": 1741713717979,
     "user": {
      "displayName": "Brian McClain",
      "userId": "08063899147261234403"
     },
     "user_tz": 240
    },
    "id": "4APwQU1AeAOf"
   },
   "outputs": [],
   "source": [
    "# foo"
   ]
  },
  {
   "cell_type": "code",
   "execution_count": 591,
   "metadata": {
    "executionInfo": {
     "elapsed": 9,
     "status": "ok",
     "timestamp": 1741713717981,
     "user": {
      "displayName": "Brian McClain",
      "userId": "08063899147261234403"
     },
     "user_tz": 240
    },
    "id": "VmbHGGnHeTPV"
   },
   "outputs": [],
   "source": [
    "# fo"
   ]
  },
  {
   "cell_type": "markdown",
   "metadata": {
    "id": "0AryA9rPe-tS"
   },
   "source": [
    "### **df[ df['col'] == 'salad' ]**\n",
    "- finds all *exact matches* of 'salad' in col\n",
    "### **df[ df['col'].str.contains('salad') ]**\n",
    "- finds all *partial matches* of substring 'salad' in col\n",
    "### **df[ df['col'].str.contains('salad', case=False) ]**\n",
    "- finds all case-insensitive *partial matches* of substring 'salad' in col"
   ]
  },
  {
   "cell_type": "code",
   "execution_count": 592,
   "metadata": {
    "executionInfo": {
     "elapsed": 0,
     "status": "ok",
     "timestamp": 1741713717982,
     "user": {
      "displayName": "Brian McClain",
      "userId": "08063899147261234403"
     },
     "user_tz": 240
    },
    "id": "tVZF4PLqfqzG"
   },
   "outputs": [],
   "source": [
    "# get all the 'salad' rows via exact match -- is case-sensitive\n",
    "# sal"
   ]
  },
  {
   "cell_type": "code",
   "execution_count": 593,
   "metadata": {
    "executionInfo": {
     "elapsed": 15,
     "status": "ok",
     "timestamp": 1741713717997,
     "user": {
      "displayName": "Brian McClain",
      "userId": "08063899147261234403"
     },
     "user_tz": 240
    },
    "id": "SdX7Brv3f3hk"
   },
   "outputs": [],
   "source": [
    "# sal"
   ]
  },
  {
   "cell_type": "code",
   "execution_count": 594,
   "metadata": {
    "executionInfo": {
     "elapsed": 9,
     "status": "ok",
     "timestamp": 1741713717998,
     "user": {
      "displayName": "Brian McClain",
      "userId": "08063899147261234403"
     },
     "user_tz": 240
    },
    "id": "2W65YdrBgrN4"
   },
   "outputs": [],
   "source": [
    "# to get ALL the salads, use str.contains(\"salad\", case=False)\n",
    "# sal"
   ]
  },
  {
   "cell_type": "code",
   "execution_count": 595,
   "metadata": {
    "executionInfo": {
     "elapsed": 9,
     "status": "ok",
     "timestamp": 1741713718008,
     "user": {
      "displayName": "Brian McClain",
      "userId": "08063899147261234403"
     },
     "user_tz": 240
    },
    "id": "OvARLo465SjV"
   },
   "outputs": [],
   "source": [
    "# Challenge: get all the burgers into a new df called burgers_df\n",
    "# burg\n",
    " "
   ]
  },
  {
   "cell_type": "markdown",
   "metadata": {
    "id": "hOp5KiPz6exs"
   },
   "source": [
    "### **df['col_name'] = df['col_name'].str.replace('salad', 'ensalada', case=False)**\n",
    "- replaces all occurences of 'salad' with 'ensalada'\n",
    "- then change back to 'salad'"
   ]
  },
  {
   "cell_type": "code",
   "execution_count": 596,
   "metadata": {
    "executionInfo": {
     "elapsed": 1,
     "status": "ok",
     "timestamp": 1741713718009,
     "user": {
      "displayName": "Brian McClain",
      "userId": "08063899147261234403"
     },
     "user_tz": 240
    },
    "id": "CQ1bwYFc8HqW"
   },
   "outputs": [],
   "source": [
    "# food"
   ]
  },
  {
   "cell_type": "code",
   "execution_count": 597,
   "metadata": {
    "executionInfo": {
     "elapsed": 0,
     "status": "ok",
     "timestamp": 1741713718009,
     "user": {
      "displayName": "Brian McClain",
      "userId": "08063899147261234403"
     },
     "user_tz": 240
    },
    "id": "SHxW3X9oxRFh"
   },
   "outputs": [],
   "source": [
    "# food_d"
   ]
  },
  {
   "cell_type": "code",
   "execution_count": 598,
   "metadata": {},
   "outputs": [],
   "source": [
    "# foo"
   ]
  },
  {
   "cell_type": "markdown",
   "metadata": {
    "id": "g5hLU8IxyD2U"
   },
   "source": [
    "### **making a DataFrame from a Dictionary**\n",
    "- keys are automatically used as the df's column headers"
   ]
  },
  {
   "cell_type": "code",
   "execution_count": 599,
   "metadata": {
    "executionInfo": {
     "elapsed": 1,
     "status": "ok",
     "timestamp": 1741713718019,
     "user": {
      "displayName": "Brian McClain",
      "userId": "08063899147261234403"
     },
     "user_tz": 240
    },
    "id": "F-ttJHWiiWKh"
   },
   "outputs": [],
   "source": [
    "# sandwiches dictionary from 5 lists of equal length\n",
    "# \"Turkey Sandwich\", \"Tuna Salad Sandwich\", \"BLT\", \"Reuben\", \"Hot Dog\", \"Falafel\"\n",
    "#  9.95, 8.95, 9.75, 12.95, 4.95, 11.95\n",
    "#  590, 620, 780, 900, 370, 500\n",
    "#  False, False, False, False, False, True\n",
    "#  \"Whole Wheat\", \"Rye\", \"White\", \"Rye\", \"Bun\", \"Pita\"\n"
   ]
  },
  {
   "cell_type": "code",
   "execution_count": 600,
   "metadata": {
    "executionInfo": {
     "elapsed": 1,
     "status": "ok",
     "timestamp": 1741713718028,
     "user": {
      "displayName": "Brian McClain",
      "userId": "08063899147261234403"
     },
     "user_tz": 240
    },
    "id": "jjXV1H2jjCee"
   },
   "outputs": [],
   "source": [
    "# pp"
   ]
  },
  {
   "cell_type": "code",
   "execution_count": 601,
   "metadata": {
    "executionInfo": {
     "elapsed": 6,
     "status": "ok",
     "timestamp": 1741713718046,
     "user": {
      "displayName": "Brian McClain",
      "userId": "08063899147261234403"
     },
     "user_tz": 240
    },
    "id": "maSbucpjj_xy"
   },
   "outputs": [],
   "source": [
    "# make a df from the dict; the keys will be used as the col names:\n",
    "# san"
   ]
  },
  {
   "cell_type": "code",
   "execution_count": 602,
   "metadata": {
    "colab": {
     "base_uri": "https://localhost:8080/"
    },
    "executionInfo": {
     "elapsed": 16,
     "status": "ok",
     "timestamp": 1741713718074,
     "user": {
      "displayName": "Brian McClain",
      "userId": "08063899147261234403"
     },
     "user_tz": 240
    },
    "id": "2iYrub1zkHEw",
    "outputId": "36f34c3b-9c24-4226-b43f-068ba8a4562c"
   },
   "outputs": [
    {
     "name": "stdout",
     "output_type": "stream",
     "text": [
      "\n"
     ]
    }
   ],
   "source": [
    "print() # (6, 5)\n",
    "# san"
   ]
  },
  {
   "cell_type": "markdown",
   "metadata": {
    "id": "F8PJrdk4lPsp"
   },
   "source": [
    "**main_df = pd.concat([main_df, df_to_add])**.\n",
    "\n",
    "**Concatenating two dataframes together**\n",
    "- add the new **sandwiches_df** dataframe to the original **food_df**\n",
    "- the result will be six new rows in the **food_df**\n",
    "- this will mess up the index numbering, which will start over from 0 with the sandwiches"
   ]
  },
  {
   "cell_type": "code",
   "execution_count": 603,
   "metadata": {
    "executionInfo": {
     "elapsed": 23,
     "status": "ok",
     "timestamp": 1741713718098,
     "user": {
      "displayName": "Brian McClain",
      "userId": "08063899147261234403"
     },
     "user_tz": 240
    },
    "id": "AMg9ApirlcjE"
   },
   "outputs": [],
   "source": [
    "# concat the sandwiches df onto the food df\n",
    "# main_df = pd.concat([main_df, df_to_add]).\n",
    "# foo"
   ]
  },
  {
   "cell_type": "code",
   "execution_count": 604,
   "metadata": {
    "executionInfo": {
     "elapsed": 18,
     "status": "ok",
     "timestamp": 1741713718117,
     "user": {
      "displayName": "Brian McClain",
      "userId": "08063899147261234403"
     },
     "user_tz": 240
    },
    "id": "xDHvK4StlsrO"
   },
   "outputs": [
    {
     "name": "stdout",
     "output_type": "stream",
     "text": [
      "\n"
     ]
    }
   ],
   "source": [
    "print()\n",
    "# fo"
   ]
  },
  {
   "cell_type": "markdown",
   "metadata": {
    "id": "IdBqkv5hmaU0"
   },
   "source": [
    "### Cleaning Data: missing (null / NaN) values can be dealt with in 1 of 3 ways:\n",
    "\n",
    "- 1. if the col is rife with bad values, perhaps just delete entire col\n",
    "- 2. in this case, we will keep the \"Bread\" col; there are two options for keeping a col:\n",
    "    - fill with some default number, such as 0 or the mean\n",
    "    - fill with some default name if it's a string\n",
    "    - locate the correct values and fill with those\n",
    "- 3. **fillna()** in case of string or val w no mean, fill w some arbitrary default val  : **df[\"col_name\"] = df[\"col_name\"].fillna(\"filler value\")**\n",
    "- **df.info()** gives report of cols with non-null count (not missing)\n",
    "- **df.isna().sum()**  gives report of cols with null count (missing)\n",
    "- **df.describe()**  gives stats report of numeric cols (min, max, std)"
   ]
  },
  {
   "cell_type": "code",
   "execution_count": 605,
   "metadata": {},
   "outputs": [],
   "source": [
    "# fo"
   ]
  },
  {
   "cell_type": "code",
   "execution_count": 606,
   "metadata": {},
   "outputs": [],
   "source": [
    "# fill all missing bread (NaN) with \"roll\"\n",
    "# food_df[\"Bread\"] = food_df[\"Bread\"].fillna(\"Roll\")"
   ]
  },
  {
   "cell_type": "code",
   "execution_count": 607,
   "metadata": {},
   "outputs": [],
   "source": [
    "# f"
   ]
  },
  {
   "cell_type": "code",
   "execution_count": 608,
   "metadata": {
    "executionInfo": {
     "elapsed": 0,
     "status": "ok",
     "timestamp": 1741713718118,
     "user": {
      "displayName": "Brian McClain",
      "userId": "08063899147261234403"
     },
     "user_tz": 240
    },
    "id": "QD3vmj_Bm6Qx"
   },
   "outputs": [],
   "source": [
    "# the following works, but is unconditional -- every NaN is filled w \"Roll\"\n",
    "# BUT what if we wanted to conditionally fill NaN, so 'burger' gets 'bun'\n",
    "# and everything else would get a roll\n",
    "# foo"
   ]
  },
  {
   "cell_type": "code",
   "execution_count": 609,
   "metadata": {
    "executionInfo": {
     "elapsed": 30,
     "status": "ok",
     "timestamp": 1741713718149,
     "user": {
      "displayName": "Brian McClain",
      "userId": "08063899147261234403"
     },
     "user_tz": 240
    },
    "id": "kxcLkyBsBW5r"
   },
   "outputs": [],
   "source": [
    "# food_"
   ]
  },
  {
   "cell_type": "markdown",
   "metadata": {
    "id": "BKR29eQdnfjB"
   },
   "source": [
    "**df.reset_index() method for resetting row index numbers**.\n",
    "- concatenating two dataframes into one messes up the consecutive row indexing\n",
    "- reset the indexing with **reset_index()** method\n",
    "- **reset_index(drop=True)** prevents the old wonky indexing from being saved to a new column"
   ]
  },
  {
   "cell_type": "code",
   "execution_count": 610,
   "metadata": {
    "executionInfo": {
     "elapsed": 2,
     "status": "ok",
     "timestamp": 1741713718152,
     "user": {
      "displayName": "Brian McClain",
      "userId": "08063899147261234403"
     },
     "user_tz": 240
    },
    "id": "gMNUMwE8n1XX"
   },
   "outputs": [],
   "source": [
    "# concat messed up the indexing (new df part starts over from 0), so reset:\n",
    "# specify drop=True to prevent the bad indexing from becoming a new column\n",
    "# foo"
   ]
  },
  {
   "cell_type": "code",
   "execution_count": 611,
   "metadata": {
    "executionInfo": {
     "elapsed": 0,
     "status": "ok",
     "timestamp": 1741713718152,
     "user": {
      "displayName": "Brian McClain",
      "userId": "08063899147261234403"
     },
     "user_tz": 240
    },
    "id": "c1OkJAWxoEY1"
   },
   "outputs": [],
   "source": [
    "# food_df"
   ]
  },
  {
   "cell_type": "code",
   "execution_count": 612,
   "metadata": {
    "executionInfo": {
     "elapsed": 1,
     "status": "ok",
     "timestamp": 1741713718167,
     "user": {
      "displayName": "Brian McClain",
      "userId": "08063899147261234403"
     },
     "user_tz": 240
    },
    "id": "UPYUtSi7FpZP"
   },
   "outputs": [],
   "source": [
    "# foo"
   ]
  },
  {
   "cell_type": "markdown",
   "metadata": {
    "id": "r3hGMCKDsky3"
   },
   "source": [
    "### **df = df.drop(columns=\"col_name\")**\n",
    "- drop/delete column by name\n",
    "### **df = df.drop(columns=[\"col_1\",\"col_2\",\"col_3\"])**\n",
    "- drops/deletes columns plural"
   ]
  },
  {
   "cell_type": "code",
   "execution_count": 613,
   "metadata": {
    "executionInfo": {
     "elapsed": 1,
     "status": "ok",
     "timestamp": 1741713718218,
     "user": {
      "displayName": "Brian McClain",
      "userId": "08063899147261234403"
     },
     "user_tz": 240
    },
    "id": "P-Sygc2ktDy7"
   },
   "outputs": [],
   "source": [
    "# add a new col just so we can drop/delete it\n",
    "# fo"
   ]
  },
  {
   "cell_type": "code",
   "execution_count": 614,
   "metadata": {
    "executionInfo": {
     "elapsed": 1,
     "status": "ok",
     "timestamp": 1741713718219,
     "user": {
      "displayName": "Brian McClain",
      "userId": "08063899147261234403"
     },
     "user_tz": 240
    },
    "id": "aCbdccQRtPRc"
   },
   "outputs": [],
   "source": [
    "# food_df"
   ]
  },
  {
   "cell_type": "code",
   "execution_count": 615,
   "metadata": {
    "executionInfo": {
     "elapsed": 1,
     "status": "ok",
     "timestamp": 1741713718229,
     "user": {
      "displayName": "Brian McClain",
      "userId": "08063899147261234403"
     },
     "user_tz": 240
    },
    "id": "E-Udn93ftZyj"
   },
   "outputs": [],
   "source": [
    "# drop the \"Foo\" and \"index\" columns:\n",
    "# food"
   ]
  },
  {
   "cell_type": "code",
   "execution_count": 616,
   "metadata": {
    "executionInfo": {
     "elapsed": 1,
     "status": "ok",
     "timestamp": 1741713718230,
     "user": {
      "displayName": "Brian McClain",
      "userId": "08063899147261234403"
     },
     "user_tz": 240
    },
    "id": "L7e3pJAytmG1"
   },
   "outputs": [],
   "source": [
    "# food_df"
   ]
  },
  {
   "cell_type": "code",
   "execution_count": 617,
   "metadata": {
    "executionInfo": {
     "elapsed": 0,
     "status": "ok",
     "timestamp": 1741713718230,
     "user": {
      "displayName": "Brian McClain",
      "userId": "08063899147261234403"
     },
     "user_tz": 240
    },
    "id": "7rdFEcXZ84AU"
   },
   "outputs": [],
   "source": [
    "# check for NaN values:\n",
    "# food_"
   ]
  },
  {
   "cell_type": "code",
   "execution_count": 618,
   "metadata": {
    "executionInfo": {
     "elapsed": 0,
     "status": "ok",
     "timestamp": 1741713718230,
     "user": {
      "displayName": "Brian McClain",
      "userId": "08063899147261234403"
     },
     "user_tz": 240
    },
    "id": "tNC6IYX49C36"
   },
   "outputs": [],
   "source": [
    "# check for NaN another way:\n",
    "# fo"
   ]
  },
  {
   "cell_type": "code",
   "execution_count": 619,
   "metadata": {
    "executionInfo": {
     "elapsed": 0,
     "status": "ok",
     "timestamp": 1741713718241,
     "user": {
      "displayName": "Brian McClain",
      "userId": "08063899147261234403"
     },
     "user_tz": 240
    },
    "id": "bwX-2AOGuJvL"
   },
   "outputs": [],
   "source": [
    "# drop a row by index: get rid of Reuben (index 12)\n",
    "# foo"
   ]
  },
  {
   "cell_type": "code",
   "execution_count": 620,
   "metadata": {
    "executionInfo": {
     "elapsed": 0,
     "status": "ok",
     "timestamp": 1741713718242,
     "user": {
      "displayName": "Brian McClain",
      "userId": "08063899147261234403"
     },
     "user_tz": 240
    },
    "id": "XIhySAit9abL"
   },
   "outputs": [],
   "source": [
    "# food_df"
   ]
  },
  {
   "cell_type": "code",
   "execution_count": 621,
   "metadata": {
    "executionInfo": {
     "elapsed": 1,
     "status": "ok",
     "timestamp": 1741713718243,
     "user": {
      "displayName": "Brian McClain",
      "userId": "08063899147261234403"
     },
     "user_tz": 240
    },
    "id": "oP6hPB689gww"
   },
   "outputs": [],
   "source": [
    "# drop a row by reference to item name NOT index\n",
    "# cuz what if you don't know the index\n",
    "# food_\n"
   ]
  },
  {
   "cell_type": "code",
   "execution_count": 622,
   "metadata": {
    "executionInfo": {
     "elapsed": 0,
     "status": "ok",
     "timestamp": 1741713718243,
     "user": {
      "displayName": "Brian McClain",
      "userId": "08063899147261234403"
     },
     "user_tz": 240
    },
    "id": "HPgsnhHw-cBm"
   },
   "outputs": [],
   "source": [
    "# food_df"
   ]
  },
  {
   "cell_type": "code",
   "execution_count": 623,
   "metadata": {
    "executionInfo": {
     "elapsed": 0,
     "status": "ok",
     "timestamp": 1741713718244,
     "user": {
      "displayName": "Brian McClain",
      "userId": "08063899147261234403"
     },
     "user_tz": 240
    },
    "id": "eV7eJLv0uYCn"
   },
   "outputs": [],
   "source": [
    "# before adding new items, reset index to remove gaps\n",
    "# so that new item at index==length goes in at the end\n",
    "# food_"
   ]
  },
  {
   "cell_type": "code",
   "execution_count": 624,
   "metadata": {
    "executionInfo": {
     "elapsed": 0,
     "status": "ok",
     "timestamp": 1741713718243,
     "user": {
      "displayName": "Brian McClain",
      "userId": "08063899147261234403"
     },
     "user_tz": 240
    },
    "id": "KeHUVmfwKEwk"
   },
   "outputs": [],
   "source": [
    "# challenge: put back the deleted items: \"Reuben and \"Hot Dog\"\n",
    "# \"Reuben\", 12.95, 900, False, \"Rye\"\n",
    "# \"Hot Dog\", 4.95, 370, False, \"Bun\""
   ]
  },
  {
   "cell_type": "code",
   "execution_count": 625,
   "metadata": {},
   "outputs": [],
   "source": [
    "# for i"
   ]
  },
  {
   "cell_type": "code",
   "execution_count": 626,
   "metadata": {},
   "outputs": [],
   "source": [
    "# food_df"
   ]
  },
  {
   "cell_type": "code",
   "execution_count": 627,
   "metadata": {
    "executionInfo": {
     "elapsed": 0,
     "status": "ok",
     "timestamp": 1741713718244,
     "user": {
      "displayName": "Brian McClain",
      "userId": "08063899147261234403"
     },
     "user_tz": 240
    },
    "id": "kTLp51W4u0WE"
   },
   "outputs": [],
   "source": [
    "# challenge: make a new df of just max-650 cal items\n",
    "# cals\n",
    " "
   ]
  },
  {
   "cell_type": "code",
   "execution_count": 628,
   "metadata": {},
   "outputs": [],
   "source": [
    "# cals"
   ]
  },
  {
   "cell_type": "code",
   "execution_count": 629,
   "metadata": {
    "executionInfo": {
     "elapsed": 1,
     "status": "ok",
     "timestamp": 1741713718245,
     "user": {
      "displayName": "Brian McClain",
      "userId": "08063899147261234403"
     },
     "user_tz": 240
    },
    "id": "rmL6wPmrwCcy"
   },
   "outputs": [],
   "source": [
    "# Challenge: Make a new df called multi_word_df\n",
    "# that contains only those items of 2+ words (no Falafel, Pizza, etc.)\n",
    "# HINT: salads_df, burgers_df\n",
    "# \"Item\""
   ]
  },
  {
   "cell_type": "code",
   "execution_count": 630,
   "metadata": {
    "executionInfo": {
     "elapsed": 15,
     "status": "ok",
     "timestamp": 1741713718294,
     "user": {
      "displayName": "Brian McClain",
      "userId": "08063899147261234403"
     },
     "user_tz": 240
    },
    "id": "E0Hs2DSux6Ti"
   },
   "outputs": [],
   "source": [
    "# Challenge: Make a new df called one_word_df\n",
    "# that contains only those items of 1 word (Falafel, Pizza, Reuban)\n",
    "# one_"
   ]
  },
  {
   "cell_type": "markdown",
   "metadata": {
    "id": "CRq1YXXiyV1L"
   },
   "source": [
    "**select / filter df by multiple conditions**.\n",
    "\n",
    "- **AND: new_df = df[ (condition 1) & (condition 2) ]**\n",
    "- **OR: new_df = df[ (condition 1) | (condition 2) ]**"
   ]
  },
  {
   "cell_type": "code",
   "execution_count": 631,
   "metadata": {
    "executionInfo": {
     "elapsed": 0,
     "status": "ok",
     "timestamp": 1741713718295,
     "user": {
      "displayName": "Brian McClain",
      "userId": "08063899147261234403"
     },
     "user_tz": 240
    },
    "id": "VNnOEEtdybkF"
   },
   "outputs": [],
   "source": [
    "# make df of just max 15 price AND min 600 cal\n",
    "# max_1"
   ]
  },
  {
   "cell_type": "code",
   "execution_count": 632,
   "metadata": {},
   "outputs": [],
   "source": [
    "# max_15_price_min_600_cal_df"
   ]
  },
  {
   "cell_type": "code",
   "execution_count": 633,
   "metadata": {},
   "outputs": [],
   "source": [
    "# and: &   or: |\n",
    "# get all items where price is at least 15 AND cals is at least 700\n",
    "# food_df[\n"
   ]
  },
  {
   "cell_type": "code",
   "execution_count": 634,
   "metadata": {
    "executionInfo": {
     "elapsed": 0,
     "status": "ok",
     "timestamp": 1741713718298,
     "user": {
      "displayName": "Brian McClain",
      "userId": "08063899147261234403"
     },
     "user_tz": 240
    },
    "id": "xKvTGJ4e0bJM"
   },
   "outputs": [],
   "source": [
    "# AND-OR COMBO:\n",
    "# get all items that include \"salad\" AND\n",
    "# price is at least 15 OR cals is at least 700\n",
    "# (C1) & ( (C2) | (C3) )\n",
    "# food_\n"
   ]
  },
  {
   "cell_type": "markdown",
   "metadata": {
    "id": "nHn6SPuVTBYX"
   },
   "source": [
    "**inplace=True**\n",
    "- makes the change to the existing df without returning a new df;  \n",
    "- so you do not set the operation equal to itself to make the change \"stick\""
   ]
  },
  {
   "cell_type": "code",
   "execution_count": 635,
   "metadata": {},
   "outputs": [],
   "source": [
    "# food_cals_df"
   ]
  },
  {
   "cell_type": "code",
   "execution_count": 636,
   "metadata": {},
   "outputs": [],
   "source": [
    "# foodf # is original ALSO sorted by \"Sales\" .. ????????"
   ]
  },
  {
   "cell_type": "markdown",
   "metadata": {},
   "source": [
    "**inplace=True**\n",
    "- makes the change to the existing df without returning a new df;  \n",
    "- so you do not set the operation equal to itself to make the change \"stick\"\n"
   ]
  },
  {
   "cell_type": "code",
   "execution_count": 637,
   "metadata": {},
   "outputs": [],
   "source": [
    "# sort by \"Qty\" ascending WITHOUT saving result -- \"stamp\" change IN PLACE\n",
    "# food_df.s"
   ]
  },
  {
   "cell_type": "code",
   "execution_count": 638,
   "metadata": {},
   "outputs": [],
   "source": [
    "# food_df"
   ]
  },
  {
   "cell_type": "markdown",
   "metadata": {
    "id": "zSZE6BDVS2op"
   },
   "source": [
    "**df.rename(columns={\"old_name\":\"new_name\"},inplace=True)**  \n",
    "\n",
    "In the above grouping example, the 'Item' column should be renamed."
   ]
  },
  {
   "cell_type": "code",
   "execution_count": 639,
   "metadata": {
    "executionInfo": {
     "elapsed": 0,
     "status": "ok",
     "timestamp": 1741713718422,
     "user": {
      "displayName": "Brian McClain",
      "userId": "08063899147261234403"
     },
     "user_tz": 240
    },
    "id": "e3jrK7PfSFt3"
   },
   "outputs": [],
   "source": [
    "# df.rename(columns={\"old_name\":\"new_name\"},inplace=True)\n",
    "# rename Sales as Revenue\n",
    "# food_df."
   ]
  },
  {
   "cell_type": "code",
   "execution_count": 640,
   "metadata": {
    "executionInfo": {
     "elapsed": 9,
     "status": "ok",
     "timestamp": 1741713718431,
     "user": {
      "displayName": "Brian McClain",
      "userId": "08063899147261234403"
     },
     "user_tz": 240
    },
    "id": "B_ecBd7GSqKP"
   },
   "outputs": [],
   "source": [
    "# food_df"
   ]
  },
  {
   "cell_type": "markdown",
   "metadata": {
    "id": "lx9ZRo6wU05y"
   },
   "source": [
    "**pop(), insert() for moving columns**\n",
    "- it would be better if the **Price**, **Qty** and **Revenue** columns were all consecutive, at the end\n",
    "- use **popped_col = df.pop('Col_Name')** to remove and save a column\n",
    "- be very careful NOT to re-run a cell that pops a column\n",
    "because the column won't be there next time and you will get an error\n",
    "- use **df.insert(index_of_new_col,'New Col Name', data_for_new_col)** to add the popped column back  \n",
    "into the df at the desired position"
   ]
  },
  {
   "cell_type": "code",
   "execution_count": 641,
   "metadata": {
    "executionInfo": {
     "elapsed": 0,
     "status": "ok",
     "timestamp": 1741713718432,
     "user": {
      "displayName": "Brian McClain",
      "userId": "08063899147261234403"
     },
     "user_tz": 240
    },
    "id": "RyKWnlleVI15"
   },
   "outputs": [],
   "source": [
    "# pop price col by name, save to var (Series)\n",
    "# price_"
   ]
  },
  {
   "cell_type": "code",
   "execution_count": 642,
   "metadata": {
    "executionInfo": {
     "elapsed": 0,
     "status": "ok",
     "timestamp": 1741713718436,
     "user": {
      "displayName": "Brian McClain",
      "userId": "08063899147261234403"
     },
     "user_tz": 240
    },
    "id": "JO6y2AkCVkJe"
   },
   "outputs": [],
   "source": [
    "# insert popped price col right before Qty col at index 4\n",
    "# food_df"
   ]
  },
  {
   "cell_type": "code",
   "execution_count": 643,
   "metadata": {
    "executionInfo": {
     "elapsed": 0,
     "status": "ok",
     "timestamp": 1741713718436,
     "user": {
      "displayName": "Brian McClain",
      "userId": "08063899147261234403"
     },
     "user_tz": 240
    },
    "id": "1FqDPatZWF7v"
   },
   "outputs": [],
   "source": [
    "# food_df"
   ]
  }
 ],
 "metadata": {
  "colab": {
   "authorship_tag": "ABX9TyPzoME/ipbQpvB1xswcBijA",
   "provenance": []
  },
  "kernelspec": {
   "display_name": "base",
   "language": "python",
   "name": "python3"
  },
  "language_info": {
   "codemirror_mode": {
    "name": "ipython",
    "version": 3
   },
   "file_extension": ".py",
   "mimetype": "text/x-python",
   "name": "python",
   "nbconvert_exporter": "python",
   "pygments_lexer": "ipython3",
   "version": "3.10.9"
  }
 },
 "nbformat": 4,
 "nbformat_minor": 0
}
